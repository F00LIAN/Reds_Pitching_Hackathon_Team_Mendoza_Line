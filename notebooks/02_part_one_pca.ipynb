{
 "cells": [
  {
   "cell_type": "code",
   "execution_count": 1,
   "metadata": {},
   "outputs": [],
   "source": [
    "import pandas as pd\n",
    "import numpy as np\n",
    "import matplotlib.pyplot as plt\n",
    "import seaborn as sns\n",
    "import json\n",
    "import os\n",
    "import sys\n",
    "\n",
    "# reference main directory in existing folder\n",
    "current_dir = os.getcwd()\n",
    "parent_dir = os.path.dirname(current_dir)\n",
    "sys.path.append(parent_dir)\n",
    "\n",
    "import pandas as pd \n",
    "import sys\n",
    "import numpy as np\n",
    "import matplotlib.pyplot as plt\n",
    "import plotly.express as px\n",
    "import plotly.graph_objects as go\n",
    "import plotly.io as pio\n",
    "from sklearn.decomposition import PCA\n",
    "from sklearn.preprocessing import StandardScaler\n",
    "import matplotlib.pyplot as plt\n",
    "from src.paths import RAW_DATA_DIR, CLEANED_DATA_DIR\n",
    "import plotly.express as px\n",
    "import plotly.graph_objects as go\n",
    "import plotly.io as pio\n",
    "from sklearn.decomposition import PCA\n",
    "from sklearn.preprocessing import StandardScaler\n",
    "\n",
    "# show all rows and columns\n",
    "pd.set_option('display.max_columns', None)\n",
    "pd.set_option('display.max_rows', None)\n",
    "pd.set_option('display.width', None)\n",
    "\n",
    "# import data\n",
    "#savant = pd.read_csv(RAW_DATA_DIR / 'savant_pitch_level.csv')\n",
    "#data_dictionary = pd.read_excel(RAW_DATA_DIR / 'data_dictionary.xlsx')\n",
    "#fangraph = pd.read_csv(RAW_DATA_DIR / 'fangraphs_season_level.csv')\n",
    "fangraph = pd.read_csv(CLEANED_DATA_DIR / 'fangraphs_engineered_merged.csv')"
   ]
  },
  {
   "cell_type": "code",
   "execution_count": 2,
   "metadata": {},
   "outputs": [],
   "source": [
    "# replace int and float columns nan with 0\n",
    "int_cols = fangraph.select_dtypes(include=['int']).columns\n",
    "float_cols = fangraph.select_dtypes(include=['float']).columns\n",
    "fangraph[int_cols] = fangraph[int_cols].fillna(0)\n",
    "fangraph[float_cols] = fangraph[float_cols].fillna(0)"
   ]
  },
  {
   "cell_type": "code",
   "execution_count": 3,
   "metadata": {},
   "outputs": [],
   "source": [
    "# drop columns rows with nan values\n",
    "fangraph = fangraph.dropna()"
   ]
  },
  {
   "cell_type": "code",
   "execution_count": 4,
   "metadata": {},
   "outputs": [],
   "source": [
    "df_clean = fangraph.copy()"
   ]
  },
  {
   "cell_type": "code",
   "execution_count": 5,
   "metadata": {},
   "outputs": [],
   "source": [
    "# Move all string columns next to each other\n",
    "string_columns = df_clean.select_dtypes(include=['object']).columns\n",
    "other_columns = [col for col in df_clean.columns if col not in string_columns]\n",
    "\n",
    "# Reorder the columns by first placing string columns and then other columns\n",
    "df_clean = df_clean[string_columns.tolist() + other_columns]"
   ]
  },
  {
   "cell_type": "code",
   "execution_count": 6,
   "metadata": {},
   "outputs": [],
   "source": [
    "from sklearn.decomposition import PCA\n",
    "from sklearn.preprocessing import StandardScaler\n",
    "import matplotlib.pyplot as plt\n",
    "\n",
    "features = df_clean.columns[10:]\n",
    "x = df_clean.loc[:, features].values\n",
    "\n",
    "# standardizing the features\n",
    "x = StandardScaler().fit_transform(x)"
   ]
  },
  {
   "cell_type": "code",
   "execution_count": 7,
   "metadata": {},
   "outputs": [
    {
     "data": {
      "image/png": "[encoded data removed]",
      "text/plain": [
       "<Figure size 800x400 with 1 Axes>"
      ]
     },
     "metadata": {},
     "output_type": "display_data"
    }
   ],
   "source": [
    "# determine the # of PCA we should use\n",
    "pca = PCA(n_components=len(features))\n",
    "principalComponents = pca.fit_transform(x)\n",
    "\n",
    "# Cumulative explained variance\n",
    "cumulative_explained_variance = pca.explained_variance_ratio_.cumsum()\n",
    "\n",
    "# Plotting\n",
    "plt.figure(figsize=(8, 4))\n",
    "plt.bar(range(1, len(features) + 1), pca.explained_variance_ratio_, alpha=0.5, align='center', label='Individual explained variance')\n",
    "plt.step(range(1, len(features) + 1), cumulative_explained_variance, where='mid', label='Cumulative explained variance')\n",
    "plt.ylabel('Explained variance ratio')\n",
    "plt.xlabel('Principal components')\n",
    "plt.legend(loc='best')\n",
    "plt.tight_layout()\n",
    "plt.show()\n"
   ]
  },
  {
   "cell_type": "markdown",
   "metadata": {},
   "source": [
    "##### PCA 50 can explain 80% of the variance\n",
    "##### Imagine we have a large box full of different colored crayons—so many that it's hard to decide which ones to use for our picture. Now, think of a chart that shows us which crayons are the best at helping us create a beautiful picture. Each bar on the chart is like a helper showing how much it can contribute to our artwork. Some helpers are superstars and tell us a lot, while others don't add much to our picture. The rising line on the chart is like a ladder, showing how our picture gets better and better as we add more superstar helpers. But, as we climb higher, we notice that adding more helpers doesn't really make our picture much better. This chart is a special tool that helps us pick just the right number of crayons to make our picture pretty without using every single color in the box. It tells us that if we choose about 40 to 50 of these special helpers, our picture will turn out just right, without any extra fuss!"
   ]
  },
  {
   "cell_type": "code",
   "execution_count": 8,
   "metadata": {},
   "outputs": [],
   "source": [
    "# Performing PCA\n",
    "pca = PCA(n_components=2) # You can change the number of components\n",
    "principalComponents = pca.fit_transform(x)"
   ]
  },
  {
   "cell_type": "code",
   "execution_count": 9,
   "metadata": {},
   "outputs": [],
   "source": [
    "# Creating a DataFrame with principal components\n",
    "\n",
    "principalDf = pd.DataFrame(data = principalComponents, columns = ['principal component 1', 'principal component 2'])"
   ]
  },
  {
   "cell_type": "code",
   "execution_count": 11,
   "metadata": {},
   "outputs": [],
   "source": [
    "df_clean = df_clean.reset_index(drop=True)\n",
    "principalDf['classified_role'] = df_clean['classified_role'] \n",
    "principalDf['Name'] = df_clean['Name'] "
   ]
  },
  {
   "cell_type": "code",
   "execution_count": 12,
   "metadata": {},
   "outputs": [
    {
     "data": {
      "text/plain": [
       "principal component 1    0\n",
       "principal component 2    0\n",
       "classified_role          0\n",
       "Name                     0\n",
       "dtype: int64"
      ]
     },
     "execution_count": 12,
     "metadata": {},
     "output_type": "execute_result"
    }
   ],
   "source": [
    "principalDf.isnull().sum()"
   ]
  },
  {
   "cell_type": "code",
   "execution_count": 13,
   "metadata": {},
   "outputs": [
    {
     "data": {
      "text/plain": [
       "array(['Setup Pitcher', 'Middle Reliever', 'Closer', 'Long Reliever',\n",
       "       'Starting Pitcher'], dtype=object)"
      ]
     },
     "execution_count": 13,
     "metadata": {},
     "output_type": "execute_result"
    }
   ],
   "source": [
    "principalDf['classified_role'].unique()"
   ]
  },
  {
   "cell_type": "code",
   "execution_count": 14,
   "metadata": {},
   "outputs": [
    {
     "data": {
      "image/png": "[encoded data removed]",
      "text/plain": [
       "<Figure size 640x480 with 1 Axes>"
      ]
     },
     "metadata": {},
     "output_type": "display_data"
    }
   ],
   "source": [
    "# Visualizing the PCA results\n",
    "# 'Middle Reliever', 'SP', 'Setup Man', 'Other Relief', 'Closer'\n",
    "plt.figure()\n",
    "for Role, color in [('Starting Pitcher', 'blue'), \n",
    "                    ('Middle Reliever', 'green'),\n",
    "                    ('Setup Pitcher', 'orange'),\n",
    "                    ('Long Reliever', 'purple'),\n",
    "                    ('Closer','red')]:  \n",
    "    indicesToKeep = principalDf['classified_role'] == Role\n",
    "    plt.scatter(principalDf.loc[indicesToKeep, 'principal component 1'],\n",
    "                principalDf.loc[indicesToKeep, 'principal component 2'],\n",
    "                c=color,\n",
    "                s=2,\n",
    "                alpha = 0.4,\n",
    "                label=Role)\n",
    "plt.xlabel('Principal Component 1')\n",
    "plt.ylabel('Principal Component 2')\n",
    "plt.title('2 component PCA by Pitcher Role')\n",
    "plt.legend()\n",
    "plt.show()"
   ]
  },
  {
   "cell_type": "markdown",
   "metadata": {},
   "source": [
    "### we can tell that there are 2 cluster, SP and RP are each belonging to different cluster # some SP fall into RP cluster and some RP fall into SP cluster could suggest role switching but further analysis should be conducted"
   ]
  },
  {
   "cell_type": "code",
   "execution_count": 15,
   "metadata": {},
   "outputs": [
    {
     "data": {
      "application/vnd.plotly.v1+json": {
       "config": {
        "linkText": "Export to plot.ly",
        "plotlyServerURL": "https://plot.ly",
        "showLink": false
       },
       "data": [
        {
         "marker": {
          "color": "blue",
          "opacity": 0.4,
          "size": 5
         },
         "mode": "markers",
         "name": "Starting Pitcher",
         "text": [
          "Gregory Santos",
          "Miles Mikolas",
          "Noah Syndergaard",
          "Zach Eflin",
          "Chris Flexen",
          "Chase De Jong",
          "Brad Keller",
          "Ryan Castellani",
          "Luke Weaver",
          "Elieser HernA¡ndez",
          "Mitch Keller",
          "JosA© Urquidy",
          "Cody Poteet",
          "Pedro Avila",
          "Vladimir Gutierrez",
          "Dean Kremer",
          "Zach Plesac",
          "Bryse Wilson",
          "Eli Morgan",
          "Riley O'Brien",
          "Kutter Crawford",
          "Tylor Megill",
          "Ryan Feltner",
          "Gregory Santos",
          "Max Kranick",
          "Roansy Contreras",
          "Janson Junk",
          "Brady Singer",
          "Kohei Arihara",
          "Corey Kluber",
          "Julio Teheran",
          "Jameson Taillon",
          "Anthony DeSclafani",
          "Marcus Stroman",
          "Chris Flexen",
          "Frankie Montas",
          "Thyago Vieira",
          "Paul Blackburn",
          "Chase De Jong",
          "Brad Keller",
          "Luke Weaver",
          "Peter Lambert",
          "JosA© Urquidy",
          "Kenta Maeda",
          "Pedro Avila",
          "Kyle Wright",
          "Connor Seabold",
          "Caleb Boushley",
          "Alex Faedo",
          "Bryse Wilson",
          "Eli Morgan",
          "Deivi GarcA­a",
          "Kutter Crawford",
          "AdriA¡n MartA­nez",
          "Glenn Otto",
          "Edward Cabrera",
          "Gregory Santos",
          "Jonathan Heasley",
          "Roansy Contreras",
          "Joan Adon",
          "Janson Junk",
          "JosA© Butto",
          "Ricky Karcher",
          "Simeon Woods Richardson",
          "Cooper Criswell",
          "Xzavion Curry",
          "Hunter Gaddis",
          "Beau Brieske",
          "Caleb Kilian",
          "Ryne Nelson",
          "Drey Jameson",
          "Luis L. Ortiz",
          "Louie Varland",
          "Chase Silseth",
          "Blaine Hardy",
          "Andrew Vasquez",
          "Wade Miley",
          "Tyler Anderson",
          "Steven Matz",
          "Steven Brault",
          "Matthew Boyd",
          "Sean Manaea",
          "Austin Gomber",
          "Josh Rogers",
          "Dillon Peters",
          "Andrew Vasquez",
          "Reiver Sanmartin",
          "Tucker Davidson",
          "Adrian Morejon",
          "David Peterson",
          "Yusei Kikuchi",
          "Angel Zerpa",
          "Tyler Anderson",
          "Steven Matz",
          "Alex Wood",
          "Sean Manaea",
          "Cole Irvin",
          "Andrew Vasquez",
          "Reiver Sanmartin",
          "Tucker Davidson",
          "Joey Wentz",
          "Adrian Morejon",
          "David Peterson",
          "Jake Latz",
          "Cole Ragans",
          "Angel Zerpa",
          "Tommy Henry",
          "Ethan Small",
          "Ken Waldichuk",
          "Adam Wainwright",
          "Corey Kluber",
          "Lance Lynn",
          "Max Scherzer",
          "Jake Arrieta",
          "Alex Cobb",
          "Robert Stock",
          "Carlos Carrasco",
          "Julio Teheran",
          "Mike Fiers",
          "Nathan Eovaldi",
          "Miles Mikolas",
          "Stephen Strasburg",
          "Zack Wheeler",
          "Asher Wojciechowski",
          "Jacob deGrom",
          "Merrill Kelly",
          "Jameson Taillon",
          "Carlos Martinez",
          "Matt Harvey",
          "Noah Syndergaard",
          "Kyle Hendricks",
          "Chris Bassitt",
          "Trevor Bauer",
          "Sonny Gray",
          "Anthony DeSclafani",
          "Yu Darvish",
          "Gerrit Cole",
          "Zach Davies",
          "Marcus Stroman",
          "Zach Eflin",
          "Chris Flexen",
          "Kevin Gausman",
          "Lance McCullers Jr.",
          "JosA© BerrA­os",
          "Frankie Montas",
          "Tyler Glasnow",
          "Paul Blackburn",
          "Jon Gray",
          "Chase De Jong",
          "GermA¡n MA¡rquez",
          "Lucas Giolito",
          "Antonio Senzatela",
          "Luis Castillo",
          "Brad Keller",
          "Aaron Nola",
          "Brandon Woodruff",
          "Spencer Turnbull",
          "Tyler Mahle",
          "Ryan Castellani",
          "Luke Weaver",
          "Elieser HernA¡ndez",
          "Pablo LA3pez",
          "JT Brubaker",
          "Mitch Keller",
          "Peter Lambert",
          "JosA© Urquidy",
          "Kenta Maeda",
          "Dylan Cease",
          "Sandy Alcantara",
          "Cody Poteet",
          "Pedro Avila",
          "Justin Dunn",
          "Vladimir Gutierrez",
          "Zac Gallen",
          "Dean Kremer",
          "Corbin Burnes",
          "Walker Buehler",
          "Shane Bieber",
          "Aaron Civale",
          "Jon Duplantier",
          "Kyle Wright",
          "Connor Seabold",
          "Dustin May",
          "Shohei Ohtani",
          "Ian Anderson",
          "Zach Plesac",
          "Bryse Wilson",
          "Eli Morgan",
          "Tyler Ivey",
          "Deivi GarcA­a",
          "Riley O'Brien",
          "Matt Manning",
          "Casey Mize",
          "Kutter Crawford",
          "Humberto MejA­a",
          "Luis Gil",
          "Bailey Ober",
          "Tylor Megill",
          "Glenn Otto",
          "Joe Ryan",
          "Ryan Feltner",
          "Edward Cabrera",
          "Max Kranick",
          "Hans Crouse",
          "Jonathan Heasley",
          "Logan Gilbert",
          "Shane Baz",
          "Roansy Contreras",
          "Joan Adon",
          "Janson Junk",
          "Cooper Criswell",
          "Brady Singer",
          "Alek Manoah",
          "Kohei Arihara",
          "Adam Wainwright",
          "Corey Kluber",
          "Lance Lynn",
          "Max Scherzer",
          "AnA­bal SA¡nchez",
          "Alex Cobb",
          "Carlos Carrasco",
          "Justin Verlander",
          "Nathan Eovaldi",
          "Miles Mikolas",
          "Stephen Strasburg",
          "Zack Wheeler",
          "Jacob deGrom",
          "Merrill Kelly",
          "Jameson Taillon",
          "Noah Syndergaard",
          "Kyle Hendricks",
          "Chris Bassitt",
          "Sonny Gray",
          "Anthony DeSclafani",
          "Yu Darvish",
          "Gerrit Cole",
          "Zach Davies",
          "Marcus Stroman",
          "Zach Eflin",
          "Chris Flexen",
          "Kevin Gausman",
          "Lance McCullers Jr.",
          "JosA© BerrA­os",
          "Frankie Montas",
          "Tyler Glasnow",
          "Paul Blackburn",
          "Jon Gray",
          "GermA¡n MA¡rquez",
          "Lucas Giolito",
          "Antonio Senzatela",
          "Luis Castillo",
          "Brad Keller",
          "Aaron Nola",
          "Brandon Woodruff",
          "Tyler Mahle",
          "Luke Weaver",
          "Elieser HernA¡ndez",
          "Pablo LA3pez",
          "JT Brubaker",
          "Mitch Keller",
          "JosA© Urquidy",
          "Dylan Cease",
          "Sandy Alcantara",
          "Cody Poteet",
          "Justin Dunn",
          "Vladimir Gutierrez",
          "Zac Gallen",
          "Dean Kremer",
          "Corbin Burnes",
          "Walker Buehler",
          "Shane Bieber",
          "Aaron Civale",
          "Kyle Wright",
          "Connor Seabold",
          "Dustin May",
          "Shohei Ohtani",
          "Alex Faedo",
          "Ian Anderson",
          "Zach Plesac",
          "Bryse Wilson",
          "Eli Morgan",
          "Matt Manning",
          "Casey Mize",
          "Kutter Crawford",
          "Jackson Tetreault",
          "AdriA¡n MartA­nez",
          "Luis Gil",
          "Bailey Ober",
          "Tylor Megill",
          "Glenn Otto",
          "Joe Ryan",
          "Ryan Feltner",
          "Edward Cabrera",
          "Hunter Greene",
          "Jonathan Heasley",
          "Logan Gilbert",
          "Shane Baz",
          "Roansy Contreras",
          "Joan Adon",
          "Janson Junk",
          "JosA© Butto",
          "Simeon Woods Richardson",
          "Kyle Bradish",
          "Cooper Criswell",
          "Brady Singer",
          "George Kirby",
          "Xzavion Curry",
          "Hunter Gaddis",
          "Beau Brieske",
          "Caleb Kilian",
          "Ryne Nelson",
          "Drey Jameson",
          "Alek Manoah",
          "Cade Cavalli",
          "Max Meyer",
          "Kohei Arihara",
          "Graham Ashcraft",
          "Luis L. Ortiz",
          "Louie Varland",
          "Chase Silseth",
          "Adam Wainwright",
          "Corey Kluber",
          "Lance Lynn",
          "Max Scherzer",
          "Alex Cobb",
          "Carlos Carrasco",
          "Julio Teheran",
          "Justin Verlander",
          "Nathan Eovaldi",
          "Miles Mikolas",
          "Zack Wheeler",
          "Jacob deGrom",
          "Merrill Kelly",
          "Jameson Taillon",
          "Noah Syndergaard",
          "Kyle Hendricks",
          "Chris Bassitt",
          "Drew Rucinski",
          "Sonny Gray",
          "Anthony DeSclafani",
          "Yu Darvish",
          "Gerrit Cole",
          "Zach Davies",
          "Marcus Stroman",
          "Zach Eflin",
          "Chris Flexen",
          "Kevin Gausman",
          "JosA© BerrA­os",
          "Tyler Glasnow",
          "Paul Blackburn",
          "Wes Parsons",
          "Jon Gray",
          "GermA¡n MA¡rquez",
          "Lucas Giolito",
          "Antonio Senzatela",
          "Luis Castillo",
          "Brad Keller",
          "Aaron Nola",
          "Brandon Woodruff",
          "Spencer Turnbull",
          "Tyler Mahle",
          "Luke Weaver",
          "Pablo LA3pez",
          "Mitch Keller",
          "Peter Lambert",
          "JosA© Urquidy",
          "Kenta Maeda",
          "Dylan Cease",
          "Sandy Alcantara",
          "Pedro Avila",
          "Zac Gallen",
          "Dean Kremer",
          "Corbin Burnes",
          "Shane Bieber",
          "Aaron Civale",
          "Kyle Wright",
          "Connor Seabold",
          "Dustin May",
          "Shohei Ohtani",
          "Alex Faedo",
          "Zach Plesac",
          "Matt Manning",
          "Kutter Crawford",
          "AdriA¡n MartA­nez",
          "Bailey Ober",
          "Allan Winans",
          "Tylor Megill",
          "Joe Ryan",
          "Ryan Feltner",
          "Jake Irvin",
          "Edward Cabrera",
          "Hunter Greene",
          "Logan Gilbert",
          "Roansy Contreras",
          "Joan Adon",
          "Janson Junk",
          "JosA© Butto",
          "Grayson Rodriguez",
          "Lyon Richardson",
          "Kyle Bradish",
          "Brady Singer",
          "George Kirby",
          "Xzavion Curry",
          "Hunter Gaddis",
          "Sawyer Gipson-Long",
          "Beau Brieske",
          "Caleb Kilian",
          "Jackson Rutledge",
          "Ryne Nelson",
          "Joey Estes",
          "Drey Jameson",
          "Alek Manoah",
          "Emerson Hancock",
          "Bobby Miller",
          "Graham Ashcraft",
          "Luis L. Ortiz",
          "Connor Phillips",
          "Louie Varland",
          "Eury PA©rez",
          "Joe Boyle",
          "Bryce Miller",
          "Chase Silseth",
          "Gavin Williams",
          "Tanner Bibee",
          "Bryan Woo",
          "Kodai Senga",
          "Clayton Kershaw",
          "Jon Lester",
          "Madison Bumgarner",
          "J.A. Happ",
          "Brett Anderson",
          "Wade Miley",
          "Patrick Corbin",
          "Mike Minor",
          "Chris Sale",
          "Robbie Ray",
          "James Paxton",
          "Tyler Anderson",
          "Steven Matz",
          "Blake Snell",
          "Max Fried",
          "Alex Wood",
          "Hyun Jin Ryu",
          "Julio UrA­as",
          "Steven Brault",
          "Matthew Boyd",
          "Marco Gonzales",
          "Sean Manaea",
          "Carlos RodA3n",
          "Kyle Freeland",
          "John Means",
          "Jordan Montgomery",
          "Austin Gomber",
          "Framber Valdez",
          "Josh Rogers",
          "Dillon Peters",
          "Cole Irvin",
          "Reiver Sanmartin",
          "Tucker Davidson",
          "Adrian Morejon",
          "David Peterson",
          "Yusei Kikuchi",
          "Jake Latz",
          "Shane McClanahan",
          "Daniel Lynch IV",
          "Trevor Rogers",
          "Angel Zerpa",
          "Reid Detmers",
          "Clayton Kershaw",
          "Madison Bumgarner",
          "Wade Miley",
          "Patrick Corbin",
          "Mike Minor",
          "Chris Sale",
          "Robbie Ray",
          "Tyler Anderson",
          "Steven Matz",
          "Blake Snell",
          "Max Fried",
          "Alex Wood",
          "Hyun Jin Ryu",
          "Julio UrA­as",
          "Marco Gonzales",
          "Sean Manaea",
          "Carlos RodA3n",
          "Kyle Freeland",
          "John Means",
          "Jordan Montgomery",
          "Austin Gomber",
          "Framber Valdez",
          "Josh Rogers",
          "Dillon Peters",
          "Cole Irvin",
          "Reiver Sanmartin",
          "Tucker Davidson",
          "Joey Wentz",
          "David Peterson",
          "Yusei Kikuchi",
          "Shane McClanahan",
          "Daniel Lynch IV",
          "Cole Ragans",
          "Trevor Rogers",
          "Angel Zerpa",
          "Tommy Henry",
          "Ethan Small",
          "Nick Lodolo",
          "Reid Detmers",
          "Ken Waldichuk",
          "Clayton Kershaw",
          "Madison Bumgarner",
          "Wade Miley",
          "Patrick Corbin",
          "Chris Sale",
          "Robbie Ray",
          "James Paxton",
          "Tyler Anderson",
          "Steven Matz",
          "Blake Snell",
          "Max Fried",
          "Alex Wood",
          "Hyun Jin Ryu",
          "Julio UrA­as",
          "Matthew Boyd",
          "Marco Gonzales",
          "Sean Manaea",
          "Carlos RodA3n",
          "Kyle Freeland",
          "John Means",
          "Jordan Montgomery",
          "Austin Gomber",
          "Framber Valdez",
          "Cole Irvin",
          "Tucker Davidson",
          "Joey Wentz",
          "Adrian Morejon",
          "David Peterson",
          "Yusei Kikuchi",
          "Shane McClanahan",
          "Daniel Lynch IV",
          "Cole Ragans",
          "Trevor Rogers",
          "Angel Zerpa",
          "Drew Rom",
          "Brandon Williamson",
          "Tommy Henry",
          "Nick Lodolo",
          "Reid Detmers",
          "Jared Shuster",
          "Logan Allen",
          "Ken Waldichuk",
          "Kyle Harrison",
          "Jackson Wolf",
          "Andrew Abbott",
          "Dylan Dodd",
          "Jordan Wicks"
         ],
         "type": "scattergl",
         "x": [
          9.750525639791448,
          1.083325720554801,
          -0.6208688751036572,
          -3.3290357933141994,
          0.73382481573037,
          -3.9915739381769146,
          2.4319985379333793,
          1.1738334331790894,
          -0.7445382568704616,
          2.3081667075488745,
          1.9681326038088298,
          5.529453363540352,
          0.7957578919657708,
          1.395263042596759,
          7.700021462696543,
          0.8470182146078649,
          1.336093326978377,
          0.23047616748088628,
          -5.697637984316964,
          5.709205696385252,
          -0.4886186480337321,
          3.053450857099701,
          2.2931571600568823,
          6.232479838827026,
          2.2192887194121815,
          0.6621268610360148,
          0.017002807500167718,
          2.6225886717556794,
          3.739433497439662,
          1.7272316887766188,
          0.7479469055075036,
          -1.0329772252770457,
          4.290745420369349,
          -0.5607926077150049,
          1.420223959928776,
          1.9800038336965649,
          2.3002772771824227,
          7.86151008427598,
          5.488346506007371,
          10.311212541848283,
          0.7594388980573981,
          1.8360680626918064,
          1.2697984690654016,
          -1.0944463467532188,
          -0.641864114462919,
          0.20570197530312428,
          0.8336500652781756,
          2.514218792052424,
          -0.48151922218978155,
          -5.271524335179104,
          -4.310827471341238,
          3.319395855711765,
          -2.3841445540616326,
          0.5084537290337897,
          3.3193821300980564,
          0.5682976231186971,
          -4.073576529604739,
          1.890346272525426,
          2.411648276944959,
          3.1296416567692713,
          -1.9558291903879272,
          2.3022398416209153,
          7.730333527302202,
          4.580843965382707,
          0.9011423054433402,
          -1.7505626540039234,
          2.4784280596313195,
          -1.2583990660617324,
          4.412713530635024,
          -2.2774230367585138,
          -1.464963259623433,
          2.5682723859457948,
          -4.690096043958837,
          3.074873065404273,
          6.458779563840995,
          0.2642644816964335,
          0.10287067393607752,
          -1.0836801948821044,
          -0.1672128578679404,
          2.6887948631615464,
          -0.12913441168998882,
          1.358233217265123,
          -0.4676299089223201,
          3.6374926894829014,
          0.08870306127189855,
          4.89313293654561,
          -2.848119532179365,
          5.589748217205685,
          -2.01012338386441,
          0.7559114961786764,
          -0.28568883200641515,
          1.7825621637148379,
          1.7001019668165551,
          0.843251649755978,
          -1.4207629532062678,
          -4.5979752218220025,
          -0.27441909303925627,
          -0.32636435408826836,
          2.3946680521076913,
          -1.1312974589728484,
          -0.45595445228361325,
          3.762385914045621,
          1.0486359717640306,
          1.3898624829042634,
          0.4621739418587236,
          -0.9337360212369193,
          1.518890571647938,
          5.005720949320377,
          -0.8555312475538862,
          -19.149808860074668,
          -6.882768613136884,
          -15.959102143434935,
          -19.13054744746391,
          -2.3282951147763145,
          -7.97300200503287,
          4.266726950410087,
          -2.2481280982889964,
          2.9121434024314055,
          4.231484670315734,
          -18.33490861638209,
          -2.147403970796273,
          1.5139845507432441,
          -22.894590738189,
          4.408672141043733,
          -13.824780200546146,
          -11.812420224122475,
          -11.4632318044657,
          -4.236497187132891,
          -7.826584070181244,
          3.174845611652741,
          -13.043204026992209,
          -15.30512326812575,
          -11.394722160955535,
          -11.475129503787455,
          -16.377767607424342,
          -16.61189154758725,
          -20.11528990241199,
          -7.418174609991378,
          -16.88861528750706,
          -8.468164343835026,
          -14.028830343564461,
          -19.085701690691877,
          -14.372397971728638,
          -16.70290907206253,
          -17.242247754105758,
          -9.141170665327678,
          -0.15894678491222167,
          -11.489574898888772,
          0.15605822426898253,
          -16.04320993278105,
          -16.842318345071583,
          -12.21650956518393,
          -15.832761444266293,
          -7.95605679383179,
          -17.24705007350818,
          -17.922626609626704,
          -5.9563922107217895,
          -15.911350416378426,
          8.08110372482997,
          -3.915171029613356,
          -2.4749811485768536,
          -9.645025644537503,
          -7.974936405369046,
          -4.317915137874402,
          4.3765053543871915,
          -9.381974479348921,
          -8.503873533305931,
          -17.02765605177846,
          -18.454148585442905,
          -0.30593201996850145,
          3.0650549353388126,
          -2.302990576811824,
          -8.456626393846273,
          -10.547896079842817,
          -0.6850987973293555,
          -19.279801164268388,
          -21.921853435629952,
          -9.653510893397545,
          -9.812390270471134,
          3.3996336271548038,
          5.943544773880468,
          5.626697386241597,
          -3.603867717501504,
          -13.65837200657451,
          -11.219263498327596,
          -9.685481207844115,
          -4.236837040838706,
          -5.4838387584521335,
          2.789911618570859,
          2.8279363946604077,
          9.667697896346047,
          -3.7024311953947877,
          -12.40760326118862,
          4.178014578575207,
          2.226816163700815,
          -0.6813749615101087,
          -6.385267213495085,
          -6.32814613514267,
          -0.025185230861760964,
          -2.08235241305373,
          4.878379097791756,
          2.035514246668126,
          -0.18172866282829392,
          5.739665497160375,
          1.907793125062531,
          -9.324612912422579,
          -2.6275132955859113,
          0.819504162849581,
          2.4977277217985074,
          0.7393494049956055,
          8.186721935041685,
          -8.088720695537033,
          -8.947303259078268,
          -0.514928708801662,
          -14.752445906234335,
          -14.000070683570028,
          -10.427968124579301,
          -15.945719418022756,
          -3.220846200953999,
          -12.814157486891533,
          -12.276980796211873,
          -18.31976878881838,
          -10.498233349654358,
          -16.228049789860183,
          3.2373141974320143,
          -14.38182976117476,
          -9.166426271175691,
          -17.28721711478003,
          -15.012610677038024,
          -10.271499309997765,
          -4.136901470755645,
          -16.022685405506383,
          -10.043523642147992,
          1.1709510276205812,
          -20.39984490083322,
          -17.837926972440542,
          -7.545572701674129,
          -11.145902703585003,
          -5.283249460673144,
          -7.965052026635638,
          -16.880355082135342,
          -3.201134369475411,
          -12.033174929080657,
          -12.110752613410991,
          -1.1067376449132176,
          -7.3787855904856094,
          -9.393542542279244,
          -12.665857595127282,
          -10.372758813623646,
          -4.861868764701106,
          -13.29458130388981,
          -5.867445931113158,
          -21.552015839197527,
          -14.703193640311454,
          -9.460834731901159,
          3.8575282702763767,
          -1.0367383078386225,
          -14.722667127427037,
          -9.261279540281913,
          -11.103958140641168,
          -13.483281581186294,
          -18.622725328392292,
          -23.350837721794807,
          1.4862247210160897,
          2.677976884141977,
          1.3836563362241312,
          -18.305960232037396,
          -9.728887954549185,
          -19.102537180919846,
          -6.030678510527821,
          -18.269222245451093,
          -6.981076627296952,
          -15.711198350580903,
          3.4253590190888406,
          -2.05473588814228,
          -17.909129178632956,
          -0.31068884208587655,
          -6.211605627801539,
          -8.123052735336595,
          -3.5051220860327117,
          2.7830817970112602,
          -3.4992574611336438,
          2.1202265306549464,
          -3.154407919900017,
          2.6974647620049605,
          -0.7482807114632192,
          1.9998869284926133,
          -3.984344834956479,
          -3.340978565338244,
          -8.640151544882864,
          -11.83996688567643,
          -4.577960146805969,
          -5.707946366963093,
          -10.65875670145042,
          -4.951543249474803,
          -15.623916650683228,
          -0.3558056024551891,
          -4.98690427004915,
          -1.6360125661861191,
          1.6878535480540788,
          4.552124302507438,
          2.5366886585939343,
          -7.24223341651834,
          -0.0030942832600601104,
          -11.887421287933709,
          -11.989726325326698,
          4.252970022803149,
          6.2026665450154574,
          -4.477330418348916,
          4.45091675802015,
          -0.596954593135929,
          -1.6579248863026088,
          -17.61280249316164,
          2.9171892812341818,
          2.5372261653975454,
          2.619521478192155,
          -6.096654980867078,
          0.8554336448976428,
          -0.29409819833829154,
          0.5104516414521453,
          -3.468104821971315,
          -0.6138446824334381,
          -14.114423322972554,
          -13.842414564036236,
          -13.16290629019052,
          -3.194839777219857,
          -3.3311473457009964,
          -14.379023220380004,
          -13.103363831110755,
          -15.104086812485226,
          -18.503809017027756,
          -5.745181087231294,
          -15.640095023389332,
          -11.450282496324602,
          -4.501961599815712,
          -9.762929370055279,
          -18.21442729541883,
          5.266066144106867,
          -17.766268160393523,
          -6.140285598962538,
          -13.024849933308968,
          -22.01842129633462,
          -3.0772654617636603,
          -10.672246763442217,
          -17.878169567555204,
          -3.2258244548175457,
          -16.537413119931042,
          -15.391438296238228,
          -10.86470787359299,
          -6.249030443111995,
          7.172242861305198,
          -11.922323982342796,
          -0.587145695275954,
          -13.105947131703898,
          2.399509491244869,
          -16.172274524753607,
          0.8423438112117785,
          -17.287426085336474,
          -8.181381408014703,
          0.2260945187433287,
          -1.850343663801244,
          -6.375329561367734,
          -18.653504632309758,
          -17.29314947025794,
          -1.8661022809076158,
          -2.071480163700903,
          -8.86058961560172,
          -14.0197283762617,
          -16.323988413314147,
          0.3006104490096671,
          -20.25317897286225,
          -12.92760383095136,
          -17.131650485718183,
          -10.753488630941888,
          -11.857522835506256,
          1.0680291987224948,
          -0.16874107070997715,
          -4.151127191046143,
          -13.370285707147916,
          -2.4879064189609705,
          1.7547373730998268,
          -4.654630294414583,
          -9.338571951723731,
          4.613404425818353,
          -11.973221181557971,
          -0.5977862358863143,
          -8.006265932343284,
          -13.469977656966304,
          -1.4675437659556427,
          -7.623626232899212,
          -6.056671706698146,
          -7.987362961458126,
          -17.56488370678009,
          -1.0652279857526508,
          -1.1632400311619011,
          3.4931321512912907,
          -0.7163944106201253,
          -9.843624248553805,
          2.849574532797349,
          -15.601997957836062,
          -8.925823241946603,
          -19.084868906585143,
          0.047464462131780946,
          0.08458643611691732,
          -1.467445398789408,
          0.21913497681622868,
          4.412556061459284,
          1.645354738851764,
          -8.93387941804238,
          1.9408752112926135,
          2.6662342548871,
          -3.4311016519752138,
          1.68520848789533,
          -12.129619386925038,
          -9.362947366406244,
          -1.9376065720538187,
          1.081344662589093,
          -2.6221773584083845,
          -8.075959832472664,
          -1.1449544151267974,
          -10.820679135626968,
          -2.935459299641677,
          -5.330171447364412,
          -12.24830670461348,
          -6.76569215862659,
          -16.172443611743514,
          -12.327004052746029,
          -8.165174344184242,
          -11.185829186402595,
          -9.199820170468914,
          -5.817004301838203,
          -14.825051327335768,
          -11.064217947780264,
          -12.305929040297444,
          -3.4358749126080186,
          -18.688394300574423,
          0.5630860438345392,
          -13.954230534608756,
          -12.232645642182069,
          -10.375291843534146,
          -16.868183283224642,
          -10.883646831159083,
          -14.892164827131081,
          -19.094088349235435,
          1.4277026202033263,
          -6.28906975278588,
          -10.762785959653907,
          -15.13235498827958,
          -15.444173800700884,
          -8.861260794114163,
          -13.6814801989234,
          -13.615577298698254,
          -8.786439876259001,
          -10.452300298861202,
          0.04071811957724148,
          -0.13416401618860482,
          -12.796268292807321,
          -0.2396399727016938,
          0.17836289646914377,
          1.504669143390117,
          -2.8710176548474453,
          -11.052507668836686,
          2.616061013796267,
          -11.335488393665596,
          -3.4462761803894377,
          -12.394090241275684,
          1.2420154275364195,
          1.8015792977716523,
          -12.806790967997559,
          -10.01766290219444,
          -2.412925300487639,
          -8.938037540047683,
          -5.458931328549546,
          0.7226991352497726,
          -14.26120962936975,
          -15.068082912780211,
          -2.3017533873903244,
          -11.21706973272109,
          -17.876689376321742,
          -8.468818078618957,
          0.277726302397124,
          -16.809711311669478,
          -11.420333890310877,
          -9.218155659110506,
          -17.744351502958207,
          -13.116764710992875,
          0.29938314805118965,
          -15.503615758403898,
          -5.005468039624836,
          -18.887072522129408,
          2.6038815669349518,
          1.8112599858040574,
          -13.178792162427085,
          5.802664594016151,
          -0.20372762609323622,
          -0.344372451010974,
          -5.78927954792763,
          -2.9332827620393425,
          -15.8689519458542,
          -8.920686301697248,
          -0.39160043046401044,
          -5.94194434524065,
          3.022295831492512,
          -0.8913273899665758,
          5.932957000351774,
          -8.523635212107036,
          -10.034337424741418,
          -0.9058429339120238,
          -12.750920368084769,
          5.471185211068147,
          -9.929480420337915,
          -11.55506793897141,
          -8.4930591999074,
          6.096891831647494,
          -7.341406175649184,
          -9.072513210196435,
          -5.557241504146367,
          -16.532162000239463,
          -7.928640996290821,
          0.3742747676567974,
          -3.019925232446789,
          -9.495606258357313,
          -3.998418674661507,
          -1.9465326944763948,
          -2.3873557338863907,
          -2.780049662203065,
          -10.778003505759408,
          -0.9913221434202326,
          -16.235172891252017,
          -9.62879345876522,
          -17.07975416496062,
          -3.1642822943441806,
          7.131162772280154,
          -2.296128930055174,
          3.0021307156644874,
          -6.239090506930972,
          -13.59579410856619,
          -10.139276811880125,
          -2.3833339836696994,
          -7.677421613302794,
          -0.4459887950338067,
          2.0460919386058576,
          2.8554131237727423,
          -8.569037306439158,
          -4.940596738128739,
          -1.7465008507744733,
          -11.136940045670784,
          -0.3979401686525993,
          -8.682285671810996,
          -4.22891918099844,
          -0.3532795424419954,
          3.7215368192267584,
          -8.455884165071097,
          1.1850515573038496,
          -1.1505585562312786
         ],
         "y": [
          0.48407940275637834,
          1.2373263756491433,
          -2.70671930679509,
          -4.301639316949029,
          -0.08731968710159767,
          2.1043106476227074,
          0.420518219464013,
          -1.4976467350602687,
          4.614746454787024,
          0.3773052539960116,
          1.1128571931976885,
          3.891110879858938,
          0.5760038174109944,
          0.11888324706491864,
          6.587191372516453,
          4.33568971625531,
          -4.064547187069306,
          2.3514961951709203,
          -0.20791604731378574,
          2.7716101861784206,
          0.12281406774960146,
          2.028838586132738,
          1.294930943426041,
          -4.063307907781571,
          -2.280412628121199,
          -2.635625020891803,
          -5.926755793423429,
          -0.6948534257380925,
          2.7240183032219547,
          7.167386514032813,
          4.365264732362329,
          -1.4873523339481627,
          4.180083518485074,
          -2.742036006517653,
          5.9788459875646955,
          -1.948721002777115,
          -7.782973541559273,
          10.92688161384959,
          3.7380498632596235,
          7.3921421552628175,
          1.0091925179616366,
          3.264486205312902,
          2.7653463500301094,
          -6.449565400209668,
          0.5700772596110893,
          -0.7424327356780465,
          3.139704318894647,
          -7.357513576318385,
          -6.373270020694423,
          3.298894303213817,
          0.9608991011218084,
          4.204440854619031,
          -4.8336542510937806,
          3.5184797541552233,
          -0.22952970082565757,
          -1.5194070064174259,
          -5.7446905929708985,
          3.0434740077985905,
          0.8881127500222189,
          2.781738327659442,
          -4.851885217130505,
          -0.3957207634893878,
          -1.6418584067345994,
          2.4376720474138214,
          3.044649093656284,
          2.8900133199751386,
          2.793783712367972,
          -0.011591961673205364,
          5.187993230795796,
          -3.330744204174733,
          0.507650966941584,
          0.8025866219513628,
          -5.0641375658968535,
          0.33069437473308116,
          3.2127916646467494,
          -8.129612494513296,
          1.5319200974168612,
          -1.216765697780284,
          0.5297696532941346,
          -1.1032196603561368,
          -1.710912864663757,
          -2.3987114550220667,
          1.0794749456270203,
          2.2346903773942794,
          2.647548297824265,
          -1.8373830336332637,
          -1.1088220163394462,
          1.1874574119875225,
          -1.2690468167408955,
          -0.7907464524987975,
          -3.835936494222396,
          0.8186133192546295,
          1.5223806084249865,
          1.0265556749425584,
          2.1189364657961547,
          0.3127324060673594,
          2.9048302137402966,
          -2.022680940578544,
          1.91894829729479,
          -0.20155840328031158,
          2.1827301931955025,
          2.611818136421826,
          -0.07289787385356858,
          -1.91128374442638,
          3.2828809322253734,
          0.9067728568668197,
          0.3948212825446041,
          2.6802338554384106,
          1.0561177814434861,
          8.716078880112926,
          5.651357816772481,
          4.336033939150544,
          0.8719394855232546,
          11.35460840694196,
          0.20563797678486143,
          3.655556916346546,
          3.8994281119257916,
          1.105923532505248,
          6.335068540375216,
          2.279031445195071,
          3.191773635223679,
          3.5478069519410322,
          2.5688345077590724,
          0.33873226232803194,
          -7.656007394945422,
          9.635362576382509,
          5.011037346197388,
          6.673641705653175,
          9.847113047770126,
          2.024651022595153,
          11.367482099109647,
          4.708217745368239,
          0.5836358489364311,
          5.319892748163862,
          3.300990496400754,
          3.705138851426505,
          0.7211821004638638,
          13.586133625367196,
          3.8756696206662764,
          4.464915970017147,
          9.758176344835187,
          -1.2226097447682776,
          3.0982469060943187,
          6.686939499926717,
          0.11784076659056208,
          -2.5347736559326797,
          7.830879724453874,
          5.484643896048458,
          4.560689373711376,
          5.412647121559796,
          3.967072811661215,
          7.673996303190921,
          5.149255937689311,
          7.5494388898629685,
          6.467376475331847,
          1.693905954718378,
          1.375115176011756,
          0.040164127768702575,
          6.74566134157854,
          4.565875841215979,
          1.244443680272628,
          4.2332531382501095,
          6.443912809494881,
          7.900822248722814,
          4.848096491736033,
          2.2628269645897716,
          1.4705627372859367,
          2.67986052358341,
          4.543632879914822,
          1.9220891238646942,
          2.1469315496859784,
          1.6535615199947513,
          7.12826682098226,
          5.193764218199795,
          7.880907228805252,
          0.31797844102143596,
          2.357436509885476,
          -0.0968424936428243,
          3.975510554428338,
          4.430084816362114,
          4.595451100685842,
          6.131637945904278,
          -1.7390624129717454,
          -1.2958891131147225,
          6.705491790175576,
          6.478444547735382,
          6.562056874593887,
          5.684624023441456,
          3.054287797161599,
          1.980726817175477,
          8.12307314205135,
          6.784589373512004,
          1.3308918215970236,
          7.00134305924288,
          4.8027694353699015,
          -2.819495175461751,
          3.468062427514963,
          3.604957155838634,
          0.4073473977972585,
          -1.3347531698894353,
          4.462315397340673,
          3.020991402561311,
          3.328752915625924,
          3.053350555877873,
          6.012261760087532,
          2.218122377842436,
          -4.570447641825979,
          -2.467019919574369,
          0.25170634067306025,
          2.2027529244087822,
          8.073653107468354,
          5.511057189154415,
          0.0815270496941389,
          5.429110901962233,
          11.039751450931433,
          10.03988038624194,
          5.118881305783331,
          1.0060137028681486,
          6.658785446960887,
          2.784345292177634,
          5.808334297548538,
          0.09901700554257205,
          2.3155292298186803,
          6.549053628681842,
          6.167327657605495,
          2.104819444378108,
          -5.335022420372292,
          7.308212327606154,
          8.085573874168562,
          6.089990266266242,
          6.977063954906528,
          6.647397697394875,
          3.9730880086133604,
          3.1240002868962273,
          1.5054821491037484,
          1.9896476305963262,
          9.028890871875477,
          3.348045460412172,
          4.018760738163199,
          8.082657596512538,
          0.3566656374278079,
          0.20409768687816893,
          11.427695421196086,
          1.7720189333530907,
          -4.790955408859666,
          7.152033234306224,
          2.9184855145200803,
          8.034053085208667,
          7.4742608084811595,
          7.7241371919285795,
          1.3046654499868569,
          5.323873874837337,
          4.322910753023559,
          2.499366805576526,
          -0.12783341335540815,
          4.88395987866183,
          2.777249301586955,
          7.47762895450707,
          7.538413570994924,
          6.595390527542925,
          7.506823083755179,
          0.08909436920124757,
          4.1547988857943725,
          1.8881775805810779,
          5.487891192379682,
          5.121547197891036,
          1.82508755424998,
          7.450457592884895,
          4.378429939189884,
          3.1914719859089806,
          3.135191210312983,
          4.139655743831027,
          5.0261973755594616,
          4.660314291627601,
          2.8119157755637594,
          -2.624283176016921,
          3.3331596628704196,
          7.867424550906272,
          7.688850745474632,
          7.907070520496911,
          -1.5046624711201895,
          2.5819541708489444,
          -0.44289375366453343,
          4.285777055057769,
          6.433307776915929,
          4.475373920916568,
          -2.380847825960356,
          0.8314673866414988,
          1.2882499785053196,
          6.351785489644763,
          4.379097487141031,
          5.736740671038646,
          1.6618841908155293,
          1.044828610466199,
          8.873464504222593,
          4.940673174177089,
          -0.16318255158256947,
          2.8442148538749574,
          7.937985814267778,
          0.8018190613514763,
          5.065138983099956,
          2.4674343509119847,
          5.890936747047775,
          -5.235835201080894,
          2.773163727855224,
          5.730978243985151,
          3.50460997173659,
          9.423720421249119,
          5.123836311454939,
          4.7746282529037485,
          -1.2084175899725145,
          -0.6919165677340329,
          2.137336786033151,
          2.5416715748512044,
          -1.6361673273778232,
          6.0010969301852555,
          6.1252371431763555,
          -3.646980853176399,
          1.4367058142353053,
          0.23951915233081977,
          13.626287027248644,
          7.723509728862897,
          11.347939533081535,
          4.616304856074829,
          3.8522048345071394,
          9.169968736880884,
          5.6386309558049215,
          4.701808939559504,
          2.2914045170395303,
          10.070233037205355,
          3.3539718833582675,
          -6.014221833402957,
          6.418535989040936,
          8.562872196405342,
          8.348891267313121,
          7.457273989910725,
          7.763272117861775,
          7.386407675156907,
          4.374374539006953,
          4.1102917150092555,
          4.597746860377142,
          2.1433260590601013,
          8.565699728471703,
          4.127939224905915,
          5.568869064740847,
          9.126016727694537,
          -1.102905236864837,
          7.484071193892205,
          -0.08101480311642695,
          6.614637901777509,
          6.7689592904023685,
          5.137380635967092,
          0.4574803075961248,
          8.770882912531887,
          2.9424590486399858,
          3.4453098692966426,
          4.4291976093825545,
          7.62456843566081,
          -0.3144375630982569,
          4.300450693248411,
          -4.469753358108182,
          10.571244592635486,
          4.387490942103243,
          7.692031636317543,
          3.1745300361711366,
          3.569308780171788,
          0.7003746427049514,
          4.593462443695848,
          6.5330845941362705,
          4.294009573694181,
          5.438563449868316,
          8.225397788943194,
          6.041594920337611,
          4.552015461264917,
          3.3023908281429595,
          3.8783890027268946,
          6.1386757858437395,
          3.0414203612190325,
          -0.7937542359110628,
          1.1949881784211631,
          4.2527059340405335,
          2.8702101459773828,
          0.16898170044744326,
          2.435337931979398,
          3.54505580928142,
          0.9220195342594342,
          6.707011908573693,
          1.0238415716704394,
          2.9040934624488455,
          8.837864983768194,
          3.814610952161788,
          1.6204378958246262,
          1.1137020129965967,
          3.3199937811798517,
          5.714543470353348,
          5.960413313250248,
          1.363497705218444,
          4.5443544322257825,
          5.2400826141970445,
          2.3035652362327226,
          8.091423542276878,
          3.294144551488034,
          2.552057006813957,
          3.958189936252301,
          -2.7197135877565466,
          -2.6534827541839943,
          6.896901329441987,
          3.654102634627591,
          9.549375619970661,
          1.5047872630841275,
          2.1365288498333515,
          6.702010686048801,
          0.1576161694173747,
          2.959234621293184,
          5.414853895883535,
          5.546816530658928,
          0.3574981377088218,
          2.409042643116493,
          0.4523786120051218,
          -2.6315885746803507,
          4.426227701035342,
          -1.0962902784821786,
          1.6786165112551839,
          3.4563395597504614,
          2.829725140103251,
          3.796686891022353,
          0.8109440023881366,
          11.64798760620493,
          9.237860347733584,
          10.174381700117145,
          7.450594630838045,
          8.656657350420948,
          10.777247458059177,
          6.053723444312571,
          -0.94179834451451,
          1.2084991005440202,
          -5.617587762141218,
          9.868121980853694,
          7.37714809284897,
          2.5463129200887273,
          4.689665952025805,
          3.180622380643503,
          8.953178241248958,
          3.630443817640106,
          3.96009821949337,
          3.9768585445414817,
          9.019186454234855,
          8.445999872666944,
          -0.4106802830605392,
          6.72198249231568,
          4.495617685116863,
          7.930293681119012,
          2.9677171555130495,
          6.210030969634359,
          2.644455281675542,
          3.595445420662484,
          9.56861626136549,
          -1.7735194001755492,
          0.3668979678402975,
          -0.37117889582809804,
          4.266207869676439,
          4.938364107564846,
          1.7634816813073984,
          1.837069109072679,
          4.41951745796742,
          0.5476559882295666,
          -0.29048931622074176,
          3.353505121736521,
          0.023364784506463135,
          12.630166629881417,
          3.044968206283896,
          12.643909623061775,
          8.249037687582128,
          -1.3258246247054561,
          4.729131544837103,
          5.893553566938988,
          3.0978880912857982,
          0.8961620269813358,
          2.8987146940128645,
          4.768461228116799,
          5.9092216356944105,
          4.474346643847747,
          12.80927523615579,
          8.208967630932849,
          0.7697749465866629,
          10.361714369244932,
          0.17333394160738017,
          8.323646281844184,
          4.5822374066414495,
          8.210835251959717,
          2.1903568662063613,
          2.491166231894886,
          9.334722595659121,
          6.945966473520211,
          4.980560552943063,
          3.803934065588152,
          3.0929571253019263,
          4.377244295239302,
          -0.13828108967742636,
          7.559415813248922,
          6.187574173422578,
          4.914744142669702,
          2.468176056244983,
          4.885174556335428,
          2.8737802011175106,
          3.789112495980926,
          5.062779388357617,
          0.9528614243292086,
          1.5379822516006776,
          8.8073463273209,
          6.106369823008815,
          10.15691064100378,
          1.110354623233024,
          1.2200190587291317,
          4.598999771830802,
          10.372930000587312,
          5.18298789935436,
          1.3226932234215831,
          1.6682129208678282,
          4.5018939324285885,
          6.313147547110691,
          6.608164802614786,
          3.3040515110456954,
          6.452623837627336,
          2.859695287860586,
          4.027166294255289,
          9.526341833198494,
          1.1638967734883043,
          8.73671697892999,
          8.488273852747866,
          9.569819246784538,
          6.242406512868,
          0.9198952141078418,
          10.727287749952326,
          1.0158747320065697,
          6.194369776688575,
          4.637658162154751,
          1.0295357848319786,
          2.8439485560230304,
          -0.4347644657627132,
          -0.8675274082034334,
          1.5351776545886104,
          3.0842558763501065,
          6.714631663352586,
          5.25644224096714,
          3.574145709207161,
          5.630365222996355,
          3.8077164119582814,
          4.204261531098383,
          6.663142710682894,
          1.831641231633699,
          1.8476568788658165,
          3.890351833571649,
          5.367375009692522,
          4.2136899344811125
         ]
        },
        {
         "marker": {
          "color": "green",
          "opacity": 0.4,
          "size": 5
         },
         "mode": "markers",
         "name": "Middle Reliever",
         "text": [
          "Tommy Hunter",
          "Will Harris",
          "Pedro Strop",
          "Michael Pineda",
          "Jesse Chavez",
          "Dellin Betances",
          "Chris Archer",
          "Chase Anderson",
          "Craig Stammen",
          "Preston Guilmet",
          "Jay Jackson",
          "Nick Vincent",
          "Juan Minaya",
          "Vince Velasquez",
          "A.J. Cole",
          "JosA© UreA±a",
          "Taijuan Walker",
          "DJ Johnson",
          "Jerad Eickhoff",
          "Adrian Houser",
          "Joe Musgrove",
          "Colten Brewer",
          "Joe Biagini",
          "Jesse Hahn",
          "FA©lix PeA±a",
          "Brandon Brennan",
          "Clay Holmes",
          "Corey Oswalt",
          "Alec Mills",
          "Michael Wacha",
          "Chi Chi GonzA¡lez",
          "Duane Underwood Jr.",
          "Keone Kela",
          "Zack Godley",
          "Yacksel RA­os",
          "Luke Farrell",
          "Drew Anderson",
          "Ashton Goudeau",
          "Justin Topa",
          "Wander Suero",
          "Zach Thompson",
          "Jake Reed",
          "Reynaldo LA3pez",
          "Dan Altavilla",
          "Dusten Knight",
          "Trevor Hildenberger",
          "Jack Flaherty",
          "Marcos DiplA¡n",
          "Justin Lawrence",
          "Drew Smith",
          "Cody Ponce",
          "Trent Thornton",
          "Cody Stashak",
          "James Kaprielian",
          "Eric Hanhold",
          "Phil Bickford",
          "Freddy Peralta",
          "Miguel DA­az",
          "Beau Burrows",
          "Kyle Keller",
          "Zack Burdi",
          "Seranthony DomA­nguez",
          "Thomas Hatch",
          "Edgar GarcA­a",
          "Cal Quantrill",
          "Daulton Jefferies",
          "Dane Dunning",
          "Michael Rucker",
          "Jason Foley",
          "Jimmy Lambert",
          "JD Hammer",
          "Sean Poppen",
          "Jordan Hicks",
          "Will Vest",
          "Justin Garza",
          "Keegan Thompson",
          "Michael King",
          "Brandon Bielak",
          "Griffin Canning",
          "Gabe Klobosits",
          "Corbin Martin",
          "Tony Santillan",
          "Trevor Stephan",
          "Ronald BolaA±os",
          "Ty Tice",
          "Zach Pop",
          "Mike Baumann",
          "Griffin Jax",
          "Cory Abbott",
          "RamA3n Rosso",
          "AndrA©s MuA±oz",
          "Antonio Santos",
          "Nick Sandlin",
          "J.C. MejA­a",
          "Oliver Ortega",
          "Humberto Castellanos",
          "Andre Jackson",
          "Reiss Knehr",
          "Elvis Peguero",
          "Angel RondA3n",
          "Dylan Coleman",
          "Johan Oviedo",
          "Carlos HernA¡ndez",
          "Luis PatiA±o",
          "Spencer Howard",
          "Nick Snyder",
          "Randy Dobnak",
          "Josiah Gray",
          "Jonathan Stiever",
          "Andrew Wantz",
          "Drew Rasmussen",
          "Tommy Hunter",
          "Jesse Chavez",
          "Chase Anderson",
          "Fernando Cruz",
          "Craig Stammen",
          "Jay Jackson",
          "Juan Minaya",
          "Casey Lawrence",
          "Vince Velasquez",
          "JosA© UreA±a",
          "Adrian Houser",
          "Mike Clevinger",
          "Clay Holmes",
          "Tayler Scott",
          "Alec Mills",
          "Dereck RodrA­guez",
          "Chi Chi GonzA¡lez",
          "Duane Underwood Jr.",
          "Trevor Gott",
          "Luke Farrell",
          "Collin Wiles",
          "Ashton Goudeau",
          "Justin Topa",
          "Zach Thompson",
          "Jake Reed",
          "A.J. Ladwig",
          "Reynaldo LA3pez",
          "Dusten Knight",
          "Jack Flaherty",
          "Marcos DiplA¡n",
          "Justin Lawrence",
          "Jose Cuas",
          "Drew Smith",
          "Trent Thornton",
          "Cody Stashak",
          "Phil Bickford",
          "Anderson Espinoza",
          "Freddy Peralta",
          "Miguel DA­az",
          "Seranthony DomA­nguez",
          "Cody Sedlock",
          "Michael Rucker",
          "Jason Foley",
          "Jimmy Lambert",
          "Sean Poppen",
          "Jordan Hicks",
          "Jason Alexander",
          "Matt Swarmer",
          "Will Vest",
          "Jacob Lemoine",
          "Keegan Thompson",
          "David McKay",
          "Michael King",
          "Brandon Bielak",
          "Corbin Martin",
          "Tony Santillan",
          "Trevor Stephan",
          "Ronald BolaA±os",
          "Zach Pop",
          "Mike Baumann",
          "Griffin Jax",
          "Cory Abbott",
          "Erich Uelmen",
          "AndrA©s MuA±oz",
          "Nick Sandlin",
          "J.C. MejA­a",
          "Elvin Rodriguez",
          "Oliver Ortega",
          "Nick Duron",
          "Humberto Castellanos",
          "Andre Jackson",
          "Nicholas Padilla",
          "Reiss Knehr",
          "Elvis Peguero",
          "Javier Assad",
          "Max Castillo",
          "Angel RondA3n",
          "Easton McGee",
          "Dylan Coleman",
          "Johan Oviedo",
          "Carlos HernA¡ndez",
          "Spencer Howard",
          "Collin Snider",
          "Nick Snyder",
          "Ronny Henriquez",
          "Josh Winder",
          "Andrew Wantz",
          "Garrett Hill",
          "Cody Morris",
          "Nash Walters",
          "Yennier Cano",
          "Bryan Hoeing",
          "Tommy Hunter",
          "Zach McAllister",
          "Jesse Chavez",
          "Chase Anderson",
          "Fernando Cruz",
          "Jay Jackson",
          "Michael Tonkin",
          "Michael Mariot",
          "Casey Lawrence",
          "Adrian Houser",
          "Colten Brewer",
          "Matt Carasiti",
          "Clay Holmes",
          "Tayler Scott",
          "Alec Mills",
          "Dereck RodrA­guez",
          "Chi Chi GonzA¡lez",
          "Duane Underwood Jr.",
          "Ben Lively",
          "Yacksel RA­os",
          "Trevor Gott",
          "Justin Topa",
          "Wander Suero",
          "Jake Reed",
          "Reynaldo LA3pez",
          "Brock Stewart",
          "Jack Flaherty",
          "Justin Lawrence",
          "Jose Cuas",
          "Drew Smith",
          "JosA© RodrA­guez",
          "Trent Thornton",
          "James Kaprielian",
          "Michael Soroka",
          "Phil Bickford",
          "Hobie Harris",
          "Miguel DA­az",
          "Zack Burdi",
          "Seranthony DomA­nguez",
          "Thomas Hatch",
          "Nick Hernandez",
          "Dane Dunning",
          "Michael Rucker",
          "Jason Foley",
          "Jimmy Lambert",
          "Jordan Hicks",
          "Will Vest",
          "Justin Garza",
          "Keegan Thompson",
          "Michael King",
          "Brandon Bielak",
          "Griffin Canning",
          "Tony Santillan",
          "Trevor Stephan",
          "Zach Pop",
          "Mike Baumann",
          "Griffin Jax",
          "Cory Abbott",
          "Erich Uelmen",
          "AndrA©s MuA±oz",
          "Nick Sandlin",
          "J.C. MejA­a",
          "Elvin Rodriguez",
          "Oliver Ortega",
          "J.P. France",
          "Tommy Doyle",
          "Andre Jackson",
          "Nicholas Padilla",
          "Reiss Knehr",
          "Elvis Peguero",
          "Javier Assad",
          "George Soriano",
          "Max Castillo",
          "Dylan Coleman",
          "Carlos HernA¡ndez",
          "Luis PatiA±o",
          "Spencer Howard",
          "Collin Snider",
          "Hunter Stratton",
          "Josh Winder",
          "Randy VA¡squez",
          "Andrew Wantz",
          "Reese Olson",
          "Garrett Hill",
          "Jhony Brito",
          "Cody Morris",
          "Matt Waldron",
          "McKinley Moore",
          "Kevin Kelly",
          "Randy Wynne",
          "Yennier Cano",
          "Darius Vines",
          "Bryan Hoeing",
          "Alec Marsh",
          "Karl Kauffmann",
          "Garrett Acton",
          "Gavin Stone",
          "Emmet Sheehan",
          "AJ Smith-Shawver",
          "Mason Miller",
          "Orion Kerkering",
          "Ross Detwiler",
          "Luis AvilA¡n",
          "HA©ctor Santiago",
          "Derek Holland",
          "Scott Kazmir",
          "Fernando Abad",
          "MartA­n PA©rez",
          "Aaron Loup",
          "JosA© Quintana",
          "Jesse Biddle",
          "Alberto Baldonado",
          "Adam Morgan",
          "Brent Suter",
          "Adam Conley",
          "Anthony Banda",
          "Sam Moll",
          "Tyler Webb",
          "Stephen Tarpley",
          "Lewis Thorpe",
          "Sam Howard",
          "Gabe Speier",
          "Justus Sheffield",
          "Justin Steele",
          "Tyler Alexander",
          "Logan Allen",
          "Travis Bergen",
          "Kolby Allard",
          "Miguel Del Pozo",
          "Kirby Snead",
          "Conner Menez",
          "JosA© Quijada",
          "Eric Lauer",
          "Keegan Akin",
          "Devin Smeltzer",
          "JoJo Romero",
          "JosA© Suarez",
          "Sean Guenther",
          "Kyle Muller",
          "Anthony Kay",
          "Josh Fleming",
          "Jovani Moran",
          "Francisco PA©rez",
          "Thomas Szapucki",
          "Darien NAoA±ez",
          "Kris Bubic",
          "Tarik Skubal",
          "Packy Naughton",
          "Justin Bruihl",
          "Alex Vesia",
          "Sam Long",
          "Kwang Hyun Kim",
          "Ross Detwiler",
          "Aaron Loup",
          "Brent Suter",
          "Ty Blach",
          "Anthony Banda",
          "Sam Moll",
          "Sam Howard",
          "Gabe Speier",
          "Justus Sheffield",
          "Tyler Alexander",
          "Logan Allen",
          "Kolby Allard",
          "Kirby Snead",
          "Conner Menez",
          "JosA© Quijada",
          "Keegan Akin",
          "Devin Smeltzer",
          "JoJo Romero",
          "JosA© Suarez",
          "Zach Logue",
          "Anthony Kay",
          "Josh Fleming",
          "Jovani Moran",
          "Kirk McCarty",
          "Francisco PA©rez",
          "Thomas Szapucki",
          "Bennett Sousa",
          "Kris Bubic",
          "Brendon Little",
          "DL Hall",
          "Matthew Liberatore",
          "Packy Naughton",
          "JP Sears",
          "Justin Bruihl",
          "Evan Lee",
          "Alex Vesia",
          "Cam Alldred",
          "Sam Long",
          "Nate Fisher",
          "Andrew Nardi",
          "Fernando Abad",
          "MartA­n PA©rez",
          "Aaron Loup",
          "Brent Suter",
          "Ty Blach",
          "Anthony Banda",
          "Sam Moll",
          "Gabe Speier",
          "Tyler Alexander",
          "Kolby Allard",
          "Kirby Snead",
          "JosA© Quijada",
          "Matt Krook",
          "Eric Lauer",
          "Keegan Akin",
          "Devin Smeltzer",
          "JoJo Romero",
          "JosA© Suarez",
          "Kyle Muller",
          "Zach Logue",
          "Anthony Kay",
          "Josh Fleming",
          "Jovani Moran",
          "Francisco PA©rez",
          "Bennett Sousa",
          "Hogan Harris",
          "DL Hall",
          "Matthew Liberatore",
          "Packy Naughton",
          "Robert Garcia",
          "Justin Bruihl",
          "Kody Funderburk",
          "Alex Vesia",
          "Joe Jacques",
          "Sam Long",
          "Andrew Nardi",
          "Brandon Walter",
          "Andrew Saalfrank",
          "Chris Murphy",
          "Anthony Veneziano",
          "Evan Justice",
          "Tommy Hunter",
          "Michael Pineda",
          "Jesse Chavez",
          "Chris Archer",
          "Chase Anderson",
          "Craig Stammen",
          "Jay Jackson",
          "Vince Velasquez",
          "JosA© UreA±a",
          "Taijuan Walker",
          "Jerad Eickhoff",
          "Adrian Houser",
          "Joe Musgrove",
          "Corey Oswalt",
          "Alec Mills",
          "Michael Wacha",
          "Chi Chi GonzA¡lez",
          "Zack Godley",
          "Luke Farrell",
          "Drew Anderson",
          "Ashton Goudeau",
          "Zach Thompson",
          "Jake Reed",
          "Reynaldo LA3pez",
          "Jack Flaherty",
          "Drew Smith",
          "Cody Ponce",
          "Trent Thornton",
          "James Kaprielian",
          "Freddy Peralta",
          "Miguel DA­az",
          "Beau Burrows",
          "Thomas Hatch",
          "Cal Quantrill",
          "Daulton Jefferies",
          "Dane Dunning",
          "Jimmy Lambert",
          "Keegan Thompson",
          "Michael King",
          "Brandon Bielak",
          "Griffin Canning",
          "Corbin Martin",
          "Tony Santillan",
          "Griffin Jax",
          "Cory Abbott",
          "J.C. MejA­a",
          "Humberto Castellanos",
          "Reiss Knehr",
          "Johan Oviedo",
          "Carlos HernA¡ndez",
          "Luis PatiA±o",
          "Spencer Howard",
          "Randy Dobnak",
          "Josiah Gray",
          "Drew Rasmussen",
          "Michael Pineda",
          "Jesse Chavez",
          "Chris Archer",
          "Chase Anderson",
          "Fernando Cruz",
          "Craig Stammen",
          "Vince Velasquez",
          "JosA© UreA±a",
          "Taijuan Walker",
          "Jerad Eickhoff",
          "Adrian Houser",
          "Mike Clevinger",
          "Joe Musgrove",
          "Alec Mills",
          "Michael Wacha",
          "Chi Chi GonzA¡lez",
          "Duane Underwood Jr.",
          "Luke Farrell",
          "Zach Thompson",
          "Reynaldo LA3pez",
          "Jack Flaherty",
          "James Kaprielian",
          "Freddy Peralta",
          "Thomas Hatch",
          "Cal Quantrill",
          "Daulton Jefferies",
          "Dane Dunning",
          "Jimmy Lambert",
          "Jordan Hicks",
          "Jason Alexander",
          "Matt Swarmer",
          "Will Vest",
          "Keegan Thompson",
          "Corbin Martin",
          "Mike Baumann",
          "Cory Abbott",
          "Elvin Rodriguez",
          "Humberto Castellanos",
          "Reiss Knehr",
          "Javier Assad",
          "Max Castillo",
          "Johan Oviedo",
          "Carlos HernA¡ndez",
          "Luis PatiA±o",
          "Spencer Howard",
          "Josiah Gray",
          "Josh Winder",
          "Andrew Wantz",
          "Garrett Hill",
          "Drew Rasmussen",
          "Cody Morris",
          "Bryan Hoeing",
          "Jesse Chavez",
          "Chase Anderson",
          "Fernando Cruz",
          "Vince Velasquez",
          "JosA© UreA±a",
          "Taijuan Walker",
          "Adrian Houser",
          "Mike Clevinger",
          "Joe Musgrove",
          "Tayler Scott",
          "Michael Wacha",
          "Ben Lively",
          "Jack Flaherty",
          "Jose Cuas",
          "Trent Thornton",
          "James Kaprielian",
          "Michael Soroka",
          "Freddy Peralta",
          "Miguel DA­az",
          "Thomas Hatch",
          "Cal Quantrill",
          "Dane Dunning",
          "Jimmy Lambert",
          "Will Vest",
          "Justin Garza",
          "Michael King",
          "Brandon Bielak",
          "Griffin Canning",
          "J.P. France",
          "Andre Jackson",
          "Reiss Knehr",
          "Javier Assad",
          "George Soriano",
          "Easton McGee",
          "Dylan Coleman",
          "Johan Oviedo",
          "Carlos HernA¡ndez",
          "Luis PatiA±o",
          "Collin Snider",
          "Josiah Gray",
          "Randy VA¡squez",
          "Andrew Wantz",
          "Reese Olson",
          "Drew Rasmussen",
          "Jhony Brito",
          "Matt Waldron",
          "Darius Vines",
          "Bryan Hoeing",
          "Alec Marsh",
          "Karl Kauffmann",
          "Gavin Stone",
          "Emmet Sheehan",
          "AJ Smith-Shawver",
          "Mason Miller",
          "Ross Detwiler",
          "HA©ctor Santiago",
          "Derek Holland",
          "Scott Kazmir",
          "MartA­n PA©rez",
          "Aaron Loup",
          "JosA© Quintana",
          "Brent Suter",
          "Lewis Thorpe",
          "Sam Howard",
          "Justus Sheffield",
          "Justin Steele",
          "Tyler Alexander",
          "Logan Allen",
          "Travis Bergen",
          "Kolby Allard",
          "Conner Menez",
          "Eric Lauer",
          "Keegan Akin",
          "JosA© Suarez",
          "Kyle Muller",
          "Anthony Kay",
          "Josh Fleming",
          "Darien NAoA±ez",
          "Kris Bubic",
          "Tarik Skubal",
          "Packy Naughton",
          "Justin Bruihl",
          "Sam Long",
          "Kwang Hyun Kim",
          "MartA­n PA©rez",
          "JosA© Quintana",
          "Ty Blach",
          "Anthony Banda",
          "Gabe Speier",
          "Justus Sheffield",
          "Justin Steele",
          "Tyler Alexander",
          "Eric Lauer",
          "Keegan Akin",
          "Devin Smeltzer",
          "JosA© Suarez",
          "Kyle Muller",
          "Zach Logue",
          "Josh Fleming",
          "Kirk McCarty",
          "Thomas Szapucki",
          "Kris Bubic",
          "DL Hall",
          "Tarik Skubal",
          "Matthew Liberatore",
          "Packy Naughton",
          "JP Sears",
          "Evan Lee",
          "Sam Long",
          "MartA­n PA©rez",
          "JosA© Quintana",
          "Brent Suter",
          "Ty Blach",
          "Sam Moll",
          "Justin Steele",
          "Tyler Alexander",
          "Kolby Allard",
          "Eric Lauer",
          "Keegan Akin",
          "Devin Smeltzer",
          "JosA© Suarez",
          "Kyle Muller",
          "Josh Fleming",
          "Francisco PA©rez",
          "Kris Bubic",
          "Hogan Harris",
          "Tarik Skubal",
          "Matthew Liberatore",
          "JP Sears",
          "Alex Vesia",
          "Joe Jacques",
          "Sam Long"
         ],
         "type": "scattergl",
         "x": [
          2.5979725630517896,
          3.8798851481665135,
          3.2901132603493393,
          3.3028404438450396,
          -0.9652335668592622,
          8.803050997641058,
          5.183570182332069,
          1.6165107069340217,
          -6.7343597084513975,
          5.143080663197794,
          1.0427261538138894,
          1.1146654308736146,
          0.2849053522039927,
          2.6488407370436455,
          1.218251114480484,
          2.487678006032984,
          1.3213123899391321,
          0.9219931820583112,
          6.797962451626317,
          1.838909983291478,
          -1.2247308266118522,
          14.553049717387282,
          3.9222488361461734,
          9.667000243730516,
          11.042645713378493,
          5.739561711933193,
          -4.35244987335985,
          0.6196996997704033,
          3.026523680418344,
          1.8658087824588911,
          2.276038228373688,
          -1.783560398802147,
          1.563784580037109,
          18.128100530710338,
          1.7559557672117618,
          1.515173333753315,
          1.0544139987959409,
          1.6193950025823565,
          7.524604532563453,
          0.25578598701756067,
          1.7507947935383623,
          2.1088011779274156,
          -0.9216880534821632,
          2.2464028533371394,
          4.451816970111493,
          9.337128062182297,
          0.7061765591768805,
          2.062544069768083,
          6.085166693401214,
          -1.2436709602799496,
          0.41040896687862016,
          -1.639240176579072,
          3.099921746051438,
          1.433138556059927,
          4.365037297875477,
          -3.110296727730904,
          3.107369888575018,
          1.4541484328066623,
          6.556038597768159,
          3.1716084529161024,
          5.695357717426572,
          1.2036993738164683,
          9.050932059027359,
          6.177945024298479,
          0.16477324396645165,
          1.313104600485506,
          1.247815890844814,
          1.7378272012580505,
          5.116676222060888,
          11.248806436886415,
          3.732259521215252,
          3.482353690330877,
          2.939151650542125,
          2.3296633721401667,
          2.3415156555900603,
          -0.816625813383659,
          -2.559981972726448,
          -0.7934730238099362,
          2.721352350516453,
          3.8491235281915688,
          5.143397795089063,
          -0.2521996461107863,
          -1.6965727191362048,
          0.9889194923667058,
          5.433890923308715,
          -0.602299237533279,
          6.690174361179171,
          4.264635268447152,
          6.1121779306196915,
          3.6735629109774646,
          8.228753614471943,
          3.0385482291672625,
          -0.863514568858793,
          1.2931463411717465,
          4.938572840939482,
          2.7500927602852956,
          3.192872984102563,
          3.9018067762194315,
          12.175556773518798,
          5.0974484764209125,
          1.7708152594332365,
          2.1430792073583373,
          -1.3612923595432735,
          -0.3905160156872665,
          1.740353444608329,
          6.511030758111945,
          3.1847951326743926,
          1.516791066374371,
          9.82216855770911,
          0.7242928485927779,
          -0.5303461929231533,
          0.3412690556214802,
          -3.841918773567748,
          7.2114559156009035,
          1.1331137959745572,
          -0.7083692950815866,
          4.140333456028309,
          3.1187833390051565,
          3.23928678761633,
          -0.9250691295981207,
          4.877705480347114,
          2.272529256493895,
          3.84790559894177,
          -4.331617698232389,
          4.255168822403384,
          3.091746714746166,
          4.7254571236452865,
          4.074841966358122,
          -2.1519753643181008,
          -1.691114219290781,
          6.1276752394028025,
          2.2959809034629175,
          3.7188242789022534,
          5.531067505215978,
          1.4846249813528654,
          3.863778685010079,
          6.2557004400449285,
          -6.0518753320125525,
          3.122682427052461,
          0.45247973424278465,
          4.37637930604307,
          1.3905342671281236,
          1.5155340815696,
          -2.2424011756817177,
          -0.5524671782840972,
          1.0212464911110435,
          -2.0754634904150153,
          6.560369815142157,
          3.9438626535107173,
          1.8904059408765246,
          -3.631346693627909,
          5.401960159716222,
          -1.8123510072561209,
          -1.575386330879141,
          -1.1857266365552146,
          3.154243745189483,
          -0.6351592266549894,
          4.544482004788742,
          5.727470736106493,
          -2.512527424011871,
          5.394147150155315,
          -3.662746814990251,
          6.320004680988979,
          -5.540585075250886,
          2.722454156725889,
          2.713808064642996,
          2.3630464355467327,
          -5.359914932133396,
          4.760697514517332,
          -0.05214989728860082,
          2.5009645843804806,
          -6.2112220508655955,
          1.67886495071205,
          1.9275949476318592,
          -6.371576512333106,
          -2.051856868292202,
          9.498023354452846,
          4.310670641662435,
          1.3252801150302937,
          4.289705718353386,
          3.2657563699911463,
          1.2381202666719822,
          8.799708824323691,
          2.0975020709976153,
          4.999326874779744,
          0.9036647372579029,
          1.8895609702598806,
          4.280967305977505,
          3.5967159955625325,
          -3.584455241898598,
          0.03321353832139893,
          0.09323234652566446,
          3.5971302238322913,
          1.6300449203125258,
          13.413008885705768,
          3.740651979238594,
          4.198064438804954,
          -1.0030781653570264,
          1.9538852012927193,
          0.1519114219420853,
          11.97419339271003,
          5.2021308094651495,
          5.675007769365589,
          1.5927706820852405,
          4.982269324430332,
          -1.069070026911801,
          0.5721560879089208,
          -3.960029968882695,
          0.10268229791704608,
          -3.049638080011724,
          5.672457247744275,
          1.8574601582134365,
          3.739261297759794,
          6.12623988665979,
          4.077540498518922,
          -3.474789192535299,
          4.8651672434990285,
          8.719436959418214,
          9.302560219266574,
          3.6590479166973586,
          2.815061742974518,
          0.6990841900196514,
          13.602083822128295,
          -2.2820179797776414,
          -4.85114252906286,
          4.819774764798781,
          14.866243417450024,
          -5.734200062192404,
          -3.295450416910171,
          2.6049690160936856,
          -3.7187815854321804,
          -1.5933680007792452,
          -1.6233909792955274,
          4.469042136656331,
          -0.48422938267756577,
          4.841332113678698,
          0.05674132501848529,
          -2.3962908810530483,
          4.331167742647046,
          -0.7692050385352573,
          4.293830671809969,
          -2.303954752456872,
          1.1894707581482749,
          7.451049456458483,
          1.2772481761089975,
          0.8408986261866469,
          -3.7905603228561557,
          0.9326557934869035,
          -3.883039658301353,
          -2.2242661004639093,
          3.705004605378731,
          0.6940470457074682,
          -4.406013029369603,
          4.089850428171854,
          1.8243194558840983,
          7.354875653824548,
          -4.102646285026442,
          4.275045975367391,
          -2.961816023193512,
          -6.8516123104803315,
          1.2772525380054691,
          10.253882064183662,
          -3.8321138936358716,
          -2.945718708003732,
          3.224965994340907,
          -2.219329124434264,
          1.9013647551448745,
          1.8918313968042149,
          4.85429670712709,
          -0.17673405072290024,
          4.535644899402357,
          5.593485462426028,
          -1.4636124220958255,
          -2.2683077007164485,
          -0.3738426834018235,
          3.0991616954238776,
          5.033509054914647,
          -4.985247301334399,
          3.500350687718932,
          6.861076128200069,
          4.471241460716918,
          1.6913306335822749,
          0.9689171094372248,
          1.2721194167735066,
          0.0749872020120382,
          0.03103567736530713,
          5.160203033370447,
          -2.8190380270012967,
          4.675082574263732,
          1.804403256402373,
          9.003849587008494,
          -3.57176126638091,
          4.174946640274254,
          -6.332843213390794,
          4.213562893706771,
          0.6565807641713941,
          -0.3549829270825936,
          3.2596248505390175,
          6.611384611987656,
          0.8909811951466482,
          -0.8221549339860047,
          2.268839431481502,
          1.9912050664110803,
          1.689188311651657,
          -1.6632115014590727,
          8.223326209282943,
          0.824279881669386,
          -1.0700836032585441,
          8.47399229311271,
          3.0944010302247236,
          1.437497974380285,
          -4.682330037033434,
          0.508484310769415,
          5.1542067016604545,
          4.537521952669236,
          1.1887173277430512,
          -4.530591455397557,
          0.4700073237333858,
          0.9651123000567474,
          5.571642620537705,
          5.71253897537742,
          16.69767686047501,
          0.34429016105898413,
          -0.356160456686055,
          2.058593200920281,
          7.278506260011741,
          -0.3772793857250939,
          -1.0267210526424138,
          1.0632572369551487,
          4.5990161323232215,
          0.3269562310686028,
          4.99952803435581,
          2.8996426962361563,
          2.0496236331771813,
          0.8305439683118953,
          1.7254744500844816,
          0.4490877475246443,
          4.049852583738341,
          3.5495048446206314,
          -0.809584959022829,
          4.335520616380392,
          2.056195178915716,
          3.8005100501068703,
          -2.3340323357398485,
          4.744080385410324,
          5.255738131563565,
          9.041796894543717,
          3.1966068137195447,
          1.371844081820207,
          2.2322235940461264,
          3.57172866876341,
          2.0311078609448048,
          -1.5943213036582398,
          2.183599761513561,
          3.512777596562514,
          1.0089751714558524,
          -2.384349201861673,
          -2.692539628932823,
          0.5623477902077558,
          2.21644768311411,
          0.44872631034109556,
          10.781867331727431,
          2.719826784645726,
          3.534148277276886,
          0.02365818951051662,
          4.14034651068579,
          2.562431444371719,
          1.9530786474946527,
          6.0404812489543085,
          -1.3728543847342196,
          -4.478660650678804,
          3.36371002754014,
          2.7297075221957754,
          -1.071729959055061,
          6.295608747032602,
          5.6301538534995546,
          2.0177309287148777,
          -0.3815375449737213,
          -0.6302747589888489,
          7.100260223953715,
          2.659906102421882,
          4.528732707556625,
          2.814123075006312,
          15.30686329142804,
          -0.22169097223794318,
          2.3100954708089128,
          0.4276354884068838,
          1.6209505091094902,
          1.8571695775063475,
          6.068265753241035,
          -3.9799647657220056,
          3.1310344306403946,
          0.9026025580330195,
          4.347240308964037,
          4.6354664784697475,
          6.502453590708994,
          -1.419274689570821,
          -2.0965559958753586,
          -3.1651410277613787,
          4.813776408686102,
          3.7137252625171113,
          -3.26299636486198,
          -4.023392035745022,
          -2.129984748033618,
          8.811723810522409,
          3.5901098986720434,
          2.76972075321714,
          9.407735100473186,
          2.068795476044305,
          0.7182902515799874,
          3.9727889202008315,
          -2.369611028641254,
          2.9708057310676756,
          3.6597130456028597,
          1.9728729300857806,
          4.205087620218872,
          0.8257872538518958,
          0.4654121350627711,
          3.424428432084276,
          2.959482408767929,
          0.7182379939171631,
          -2.3212374207001463,
          1.6368768224343664,
          1.904487504510772,
          -0.43077528596408815,
          2.8267375031996154,
          0.5674337757492554,
          -2.2766725867942728,
          2.4553978553725133,
          -0.2294273897934457,
          -4.2508996099918335,
          3.125462763714136,
          3.6349756721976205,
          0.15694533387704493,
          6.409918252372648,
          7.348065282013827,
          2.422607151939432,
          -6.248078794191807,
          2.3001555315858893,
          2.131347488187725,
          0.9678424284065893,
          2.7876082935565587,
          20.035225367186584,
          -4.1091770343511635,
          -1.2915013246232347,
          -10.622207501959629,
          5.282906308136578,
          -9.363992668276547,
          -16.540871086520077,
          3.6234667915731413,
          -5.556562639576009,
          -7.326656883144985,
          -2.6661819094703483,
          5.1912250244723745,
          9.286230939382243,
          8.153481089935275,
          4.951015695654715,
          -3.7511211810757112,
          6.122841121252344,
          -0.416409850214419,
          -5.372304478206776,
          -1.3329773134870129,
          5.003796778459367,
          4.615040795505739,
          -7.058495874127009,
          -14.05409912635481,
          3.4326958631391014,
          11.778485240706436,
          3.6875104604671676,
          -8.176401883116016,
          4.055633859846095,
          -7.635365199850455,
          2.8979694707158616,
          3.498448131863249,
          0.905153826629126,
          1.5491853929439825,
          -1.3829924894686365,
          6.912618530932847,
          3.1405020065373312,
          -1.6026810956201742,
          3.868143891833599,
          1.7919328509850416,
          1.18134727703146,
          3.88969651423789,
          -0.05470582104749976,
          -2.2545627671077155,
          -3.6587252329662765,
          0.3440432897417715,
          2.686399584932274,
          -2.604808800681285,
          -3.018877732579494,
          1.4327220059386874,
          6.391142392048686,
          -3.8649875897099712,
          0.9003035241947464,
          -0.1545518297269924,
          5.723526723536955,
          -0.7089812330536087,
          -2.653521443487048,
          -12.716929632282021,
          6.508279048857678,
          -4.627892184410655,
          -7.707760724871399,
          -15.31276898410631,
          7.959174720882776,
          -9.861149438281464,
          2.1293331285866133,
          1.6931626736064993,
          3.429378861764178,
          -4.534045400814619,
          -3.6780662214122577,
          -0.24800800797275643,
          -7.110667349720499,
          -5.108926715971547,
          5.852713021701516,
          -13.323759950223177,
          -0.12454375156515313,
          -8.767524469716374,
          2.9279078693268867,
          3.342178390803412,
          -0.14825026283439086,
          3.6307330487537577,
          8.723499242865213,
          -3.3488366161522505,
          5.954120986651315,
          3.3250725861534316,
          1.474070413290095,
          3.553899084198254,
          0.4953747323166677,
          5.036456514989482,
          -0.35200928689887395,
          2.3492675828190315,
          -0.19384163319954575,
          2.7352067930764425,
          3.6800175880382002,
          2.185772908927331,
          -8.87522632678862,
          -1.1336272406136216,
          2.837769065911523,
          0.5021358783139751,
          -12.039010049958915,
          1.3945789558825519,
          7.62643346554227,
          1.3855743391315958,
          -3.4877479471714845,
          -1.4119726058700788,
          -1.8386513538348548,
          1.7768620682649379,
          -12.750738612515056,
          -6.200860153038678,
          -10.764298153153947,
          -8.75944276356575,
          3.0323149200483828,
          -10.442219218190198,
          -2.5520468278099795,
          -9.526867380133362,
          6.226070675195501,
          0.5428355857145624,
          -1.748107562395706,
          2.0051564141207456,
          -13.731472149866114,
          5.010714393354354,
          3.0238803457767607,
          -4.696563794436793,
          -11.057963274060446,
          5.996719143221912,
          1.88131846536296,
          8.400112919317873,
          -3.0708610031036563,
          -1.5066308894334592,
          -8.686096763537963,
          -8.375847885205818,
          2.603672856637044,
          10.18979812831287,
          -1.8445391440322074,
          5.419175594354783,
          0.9438636438045633,
          11.700116373161078,
          -12.962878000743373,
          -2.643960047029169,
          4.8416339324579845,
          4.272286068920558,
          -11.05526304136537,
          0.7440368537544245,
          3.6775561283132356,
          -5.606781363319833,
          -4.716087435518647,
          -0.29730556402906544,
          1.0391114287290366,
          1.618522940537921,
          2.8487238481898864,
          2.0749985272761697,
          5.924437483648117,
          4.009182854227262,
          -0.3700027676134184,
          2.907443381967774,
          0.12192120508327611,
          5.539445001388481,
          3.079079715264053,
          1.198937104546649,
          4.051278392992918,
          -5.623757952025763,
          1.0940786780752985,
          1.2826672005804454,
          4.791858839298243,
          3.6385507253088356,
          -2.093329586641874,
          -0.7425863228594898,
          -0.299554401809722,
          -3.7130275642213615,
          1.3477003338994733,
          2.8678314296316705,
          -4.148212145072672,
          4.082742781333942,
          -7.974158810295094,
          -2.533954482473175,
          -3.639052819826123,
          -0.7415828474501156,
          0.8573021623100648,
          -1.9304225589219568,
          6.049711724497208,
          -4.006455039687156,
          -11.37026923829953,
          3.4728574169671047,
          3.8511286617660625,
          0.5788278128197188,
          -5.419256650529537,
          -16.590871516531685,
          -11.917786548621406,
          6.553667041876879,
          16.232573388750875,
          2.222549124277248,
          6.140511346852807,
          -8.402920107159659,
          -2.1716363652720254,
          -10.848866639098581,
          1.1239895063186314,
          -1.312073423919052,
          -7.260818715234946,
          2.033947187006132,
          1.1261859669241538,
          2.211535644712303,
          3.9791404277430673,
          19.199106851237524,
          -5.253338501111736,
          3.0960121705719423,
          -8.755839001149045,
          2.095907221704017,
          3.0148577070965645,
          -0.5440636808843572,
          6.264039617040705,
          0.16608590281817698,
          -5.642702993198956,
          -3.3173234023540648,
          4.678344834250168,
          -0.9672031503836975,
          0.009069034748316662,
          -15.420608224216515,
          0.02835137317691627,
          1.6673018852231787,
          2.4503548861574918,
          1.43976054820282,
          2.9071800636290606,
          2.353353364695858,
          1.0691651098169737,
          4.215184511251296,
          8.080663153470326,
          -0.023351387005346457,
          1.9892417505683453,
          -8.856229238958475,
          0.7414965450660587,
          -11.019075846234792,
          0.32201698126353095,
          11.361336538956898,
          4.883472830721925
         ],
         "y": [
          0.957053932791078,
          0.8170926823081913,
          -4.993458301135074,
          -3.219089313971202,
          -2.2495336926937286,
          -0.4680889864735102,
          0.7952276319426035,
          3.3285499642285803,
          -0.3343891393601987,
          -3.377796715811379,
          -5.316016449429252,
          -1.8527163622263463,
          -3.169808984064066,
          -2.9162664439602497,
          -2.898349136052796,
          -0.26919091696343095,
          -3.6583490059418646,
          -3.5113822986882766,
          6.701418926391998,
          -0.7049194942344723,
          -2.5531192489434438,
          10.72206917872852,
          -1.773014667692805,
          4.874952581330131,
          5.964300142293524,
          -0.5331273658451897,
          -4.632574756716193,
          -3.8269659181991815,
          3.306507373288402,
          3.9024491537991652,
          3.5942007588152314,
          2.850927190577761,
          -0.7949539204348375,
          22.35721259293483,
          -4.53776343535964,
          -1.1343204717924742,
          -0.24700120716788607,
          2.6681775607438833,
          3.031896054454746,
          2.9083104659678036,
          2.4295278365175097,
          -6.1027537412736335,
          -3.554726901092904,
          -7.180720405198817,
          1.4591127393664922,
          1.4751324789196196,
          -6.61670672284634,
          0.56165363459675,
          -1.0149573205762923,
          0.08468005875460782,
          2.701160943528875,
          2.414473866309719,
          -4.159686396259831,
          -0.16210545065578028,
          -0.809867458374755,
          -6.747913590223442,
          -3.940719027877114,
          -0.3623709911753662,
          3.940741595193376,
          1.1272780533475737,
          -0.7626725384357168,
          -8.902707535522895,
          5.8133617020201696,
          0.748939315092065,
          0.8481197272937745,
          2.34367797038248,
          -1.165254543489144,
          0.4691012265356994,
          -0.3456055389547092,
          6.345808002298988,
          -3.386887788756015,
          -0.8498983280221385,
          -3.092896749989052,
          -0.6271715270595365,
          0.5846809929199032,
          1.221966252189203,
          -1.817313572189165,
          2.5693712618395197,
          -0.9258903078244414,
          -4.11024372383432,
          3.0791205477183463,
          -5.154455428979407,
          -4.641671702955441,
          -5.754693557105833,
          1.374722435928472,
          -2.8579512471969455,
          2.9515637122340994,
          2.8771207531365137,
          5.022278000422238,
          -1.9963996797361323,
          -3.926316596827855,
          0.013806676477358143,
          -8.605016925575493,
          -2.00579423178399,
          1.6662511055985898,
          0.5399159031923515,
          -0.6205707930649448,
          0.5846744809625216,
          6.374381761682561,
          1.0490890707300269,
          -7.133604924064017,
          -3.0289592145018718,
          -1.1822071677390382,
          -4.852839096826397,
          -0.11709463129181755,
          -3.153565379105882,
          2.2860886525844806,
          -3.1276974317244783,
          5.697347119044049,
          -2.777659285795041,
          -2.864866436826728,
          1.0110938663259998,
          2.686445008675634,
          9.47633107470384,
          -7.251962882779321,
          0.291826727042577,
          -5.730330659116267,
          -3.6043794392554487,
          2.486332609206665,
          -0.26012137399415797,
          0.8954666560139855,
          -0.5647877713932488,
          0.9171180670946388,
          -8.114243691968102,
          -2.086816948253771,
          3.889039986983494,
          2.064609034307107,
          -0.32722378525844237,
          1.3936682012122668,
          -0.2700360767665706,
          1.873999069677502,
          0.2976956172009025,
          4.184586447750345,
          -0.13195966516387642,
          3.3768726396439557,
          -1.23235429257382,
          5.846523135727233,
          -3.310900438191598,
          2.3879915833895016,
          -6.425628308421757,
          -0.930746361131283,
          -3.5445836178051477,
          -1.8387467709644134,
          -2.777316536830546,
          -1.2959826040703455,
          -4.988893595250507,
          -5.044007823054626,
          0.7719919119448869,
          1.3326272196804096,
          -4.746492427327969,
          -5.749582165038722,
          1.6786151475972892,
          0.7773184487645909,
          -1.2991018095520828,
          -2.604931113502097,
          -0.6874681889342475,
          -5.922018170956126,
          1.4270527858878088,
          -1.3867390313999084,
          -1.6718265060009652,
          0.22055577268053883,
          -2.4981982062357257,
          2.6973765936492486,
          -6.500724312902308,
          0.3195861690442504,
          0.13077342190305374,
          -3.376589101480101,
          -9.822595891552055,
          1.8269034590696307,
          -2.669007338398326,
          -0.2524455824958364,
          -3.3524467699301086,
          -4.5274894490750315,
          -2.4432106723132407,
          -12.441995838900086,
          -7.48963230212449,
          5.174045281275437,
          4.100312965170167,
          1.166497526205646,
          -4.60980381402665,
          2.212534013859567,
          -2.4475340801153864,
          1.920599335985165,
          1.8587833792830988,
          -1.6144913497644522,
          -4.137881093226193,
          -0.8887544485798982,
          -2.4547710782371346,
          0.7717031747901136,
          -5.920723736062764,
          -2.2413503578145946,
          -3.943625574694704,
          -0.5051261667768969,
          -1.4650619229049482,
          5.227533280218074,
          -2.228674805124249,
          2.369444410853515,
          -2.7201254215890907,
          -0.7510608116800339,
          -0.763441109543856,
          7.970454970964364,
          0.8201404379095466,
          4.463706606448866,
          4.304384451388544,
          1.9545044821249853,
          0.6427681509286445,
          -0.32851635214824415,
          -4.699731321280319,
          -5.160963832503864,
          -3.3041981050887883,
          1.213467132227214,
          1.6683971097113537,
          2.8763608071349407,
          3.103104732747341,
          1.1647893784800183,
          -6.864025826818132,
          -1.2563095594616351,
          8.812607608821734,
          6.471451889553873,
          3.487250186589083,
          3.512214151671815,
          2.798503409274167,
          3.1984546679370647,
          1.2428692747456727,
          -3.008222679441171,
          2.8376116751826417,
          12.732089088260016,
          -3.532226545487014,
          -7.719082316273153,
          -2.8605156339820335,
          -4.9882768629172265,
          -2.4520516671864305,
          -0.3081181687494588,
          -0.022976072330194327,
          -2.607087571258062,
          2.0964073202301687,
          -3.9835028375665194,
          -2.3629265847658267,
          -1.0553716826996309,
          -6.221930537809413,
          -4.477223851973708,
          -3.1493059411611615,
          0.925553361225651,
          0.23510227966798883,
          3.071650994247955,
          1.702130825004017,
          -3.6442386874008004,
          0.3107026031023722,
          -5.292478359959054,
          -5.182014020318403,
          0.9233522806833837,
          0.5004496106054311,
          -3.602939254728717,
          2.554507354887636,
          -2.0621735430480608,
          0.519218400460551,
          -7.526193031226319,
          -3.0085427253282684,
          -2.3096255729179114,
          -3.968828021083992,
          1.1271970160994957,
          3.4594504697255974,
          -9.040112972185856,
          -7.334761876970595,
          -2.4377713109743433,
          -7.3032691308437805,
          -2.6493206173427164,
          -0.9151913560044465,
          0.6162921303966551,
          -1.2929881100371985,
          0.7196202636132094,
          2.9632854030700724,
          -5.2322991680160875,
          2.071249455240662,
          -1.058100241882696,
          0.6476206363081023,
          -2.499931363052117,
          -2.9083921105624997,
          1.935341174618351,
          1.0688627117974223,
          0.4679157367552324,
          -4.654524907404534,
          2.206090835386012,
          1.574360475487367,
          -3.2430962524241056,
          -2.1877033534111026,
          2.928391008032485,
          -1.2799219072439867,
          3.6137370260285704,
          -0.5685612029156936,
          1.8318889124203885,
          -4.21823421206808,
          -0.31601337677714575,
          -6.0648684648397655,
          2.178563520310787,
          -0.6508993703316398,
          0.9069910503442888,
          3.9380787358028795,
          0.13921387626640794,
          0.8734747917223803,
          -8.628858602227353,
          -5.851723886006447,
          -3.6930702132232236,
          -10.121167293235793,
          0.3394432678694513,
          5.467444613891576,
          -0.24901914726519117,
          1.1748261328241432,
          6.814780593004611,
          2.767373740663586,
          3.410055198508993,
          -2.3073172401713298,
          1.0130347356616993,
          -0.1698002350985394,
          -2.721030705452804,
          -2.370892620839222,
          0.6467164982526088,
          -2.8493546325586894,
          1.5958210943508244,
          -2.294529217421205,
          4.789940153848802,
          9.77489598139112,
          -6.613678884448484,
          -3.477922615682447,
          -2.6333736130723038,
          3.9320086210423044,
          -4.87255540205556,
          1.4051099802937237,
          -2.638983443928029,
          -0.8744866913116917,
          3.6678489161391212,
          1.6241161425013073,
          -3.6992386892152753,
          -2.88305002148848,
          -5.051200610244239,
          0.13509265443118335,
          -1.1959410036690177,
          -2.2413159499489548,
          0.16841377509678168,
          0.5339504475499248,
          0.6179305391156656,
          -0.8431780307571438,
          2.9660356114261996,
          4.035760585191526,
          -1.8331593634137253,
          -1.9475598722180532,
          5.607897246364796,
          -0.9417209051822757,
          1.5154705263572312,
          -4.955668868968801,
          -0.38083796685486754,
          -2.196584767098891,
          -7.365956538940121,
          3.250134079960147,
          -0.041671729007617016,
          2.5172608821771747,
          1.5042443220857962,
          1.1847070346949875,
          4.279906064555193,
          1.1880095667177037,
          -5.418476818340699,
          2.0660204941895786,
          -2.33943505095346,
          -0.723638902347031,
          -0.3250948489091167,
          2.993491817190054,
          3.9213825194313765,
          -0.44339195484222305,
          0.6676141369658289,
          -6.211126145762839,
          -1.1058796345201298,
          1.014503510997309,
          -1.9048076504508105,
          -3.643145210294954,
          6.641044399179148,
          -1.0049634666520906,
          4.963028305155455,
          -5.414977341955346,
          2.062847273800566,
          2.8088238121547477,
          -2.6423339936649177,
          -2.3001387226645567,
          0.5480408162135127,
          9.902207001445568,
          -4.080784914969377,
          2.455489525661453,
          -0.6506426886948443,
          -2.7773315905260203,
          -1.0304959895197823,
          4.039607447493953,
          -7.437439919566311,
          -4.724143219355761,
          3.0870582078152426,
          -1.2705350622699858,
          -1.8111700387222145,
          4.78374059471279,
          0.9541672429891398,
          2.8612531440770934,
          -0.25079442298708576,
          6.877806513092311,
          0.2027209709951637,
          -4.5980398231177695,
          -5.623010789439124,
          0.5966510731413304,
          6.61094684529956,
          -2.0662809650015728,
          -3.831912727785842,
          4.769769766795598,
          0.2788938701550864,
          -0.22283616635526202,
          3.823468348948165,
          -4.289421940263935,
          1.4965410731356075,
          2.3474872836590985,
          3.389190555565598,
          0.48486407529863707,
          3.3639082320892824,
          -3.2357862157706427,
          -0.07567120620361106,
          -5.650595828546269,
          4.224342359306978,
          -3.125487744882934,
          -0.8467478654842808,
          -1.489010449333374,
          -4.508146000130575,
          -0.6239848196423027,
          -6.931376966550872,
          -4.223823547582593,
          -0.2097069902410157,
          1.2740118636962208,
          -7.333776083110263,
          1.3597836239002028,
          -1.5290947838015254,
          0.6903160393635448,
          -0.11829583481056048,
          0.6882263047350486,
          -1.136862994072837,
          2.813926587987813,
          -0.7526049378464096,
          -2.3240865216106865,
          6.652698448081484,
          2.67219242255023,
          11.175848923523152,
          4.053823334738937,
          5.5173662377534605,
          2.582016116453705,
          5.670490979104329,
          5.753743401596789,
          4.782526688313059,
          -0.03490858692159891,
          5.623460412284893,
          6.256928807018075,
          8.055755653055567,
          1.5603761711364534,
          9.087174461421935,
          6.8581931157689375,
          3.8429757315335515,
          4.263266705013462,
          -0.5941656125872936,
          -0.0288061156117205,
          -0.6931075618691709,
          -4.4723545679253105,
          6.592549650126805,
          4.838094877860306,
          3.8466600615504416,
          -0.7443766848901986,
          -1.758986381443417,
          7.526507512403543,
          2.860537707448139,
          3.324432440327446,
          3.1344240393841125,
          5.214391476147476,
          0.7667464932414431,
          4.61351804576253,
          2.024719037899425,
          -2.1915180046151788,
          2.419784306251124,
          5.710041316761337,
          -0.15921135598461073,
          4.2501990596522905,
          1.683361431029492,
          5.909979674558454,
          3.8838173968033414,
          2.0220090261863155,
          4.155805793773725,
          2.6417720244692124,
          1.8510876380999164,
          4.311445682277995,
          3.4881608120042786,
          2.5071941941226554,
          -2.6321762134966793,
          3.2594243480763665,
          4.867241690110824,
          3.7199838316996408,
          2.774035799020425,
          -10.599040635210505,
          1.4454475754750837,
          0.783716187715311,
          4.172560281916783,
          2.3926772649408683,
          4.993593640396758,
          6.682249473832171,
          5.285034246787784,
          4.772428661855644,
          8.888992628360082,
          6.66218163795878,
          2.4259471202268204,
          1.9582380509114137,
          0.3822244027102946,
          8.758899032624488,
          -9.841158788734504,
          1.4418335621944371,
          6.328959035908617,
          -1.0993877183698848,
          6.346180486249432,
          9.282141635218013,
          4.855344698480898,
          7.386642411796075,
          -0.6164651073818396,
          -1.7656914392872876,
          3.5616215162186524,
          0.7682178706226189,
          1.3992205965322175,
          5.873401322082204,
          3.397947335930624,
          1.8249275430082432,
          1.3381757909395164,
          5.559432893158579,
          3.762473127592555,
          6.053085619031533,
          2.714535500585378,
          2.705738746556021,
          0.098447778079637,
          1.973198298781774,
          2.422935269212677,
          6.1319337840040715,
          7.503761276979553,
          2.541737049698831,
          -7.784085754103706,
          2.7034290299483663,
          1.4628480680313412,
          2.175704963767814,
          6.420802969644554,
          -1.388474768063031,
          6.584241313533693,
          -11.07527423066528,
          -1.5382586004223469,
          3.750603515519509,
          5.4562769072858615,
          5.126680038318975,
          5.333879356088214,
          2.974891148692665,
          -3.767905673214804,
          5.762173141248558,
          4.708121811692598,
          5.816329615282319,
          0.24090537238818602,
          -5.816011980294163,
          3.849710666223267,
          1.726024538120062,
          1.7970784659223336,
          -0.6976845698370224,
          1.7425224854738421,
          7.2851235163532015,
          5.879611747367691,
          1.0864797702693836,
          -3.9620341654894276,
          7.617092012678683,
          -3.095204534421033,
          5.345833805131077,
          3.513857522088366,
          6.257461423381423,
          0.6435471313816328,
          9.312390590135927,
          2.9631181168159095,
          -1.3811043929726556,
          -1.6813345164573485,
          2.046715018063812,
          6.822108758108271,
          -9.730552169961248,
          -0.5023685275913939,
          -4.715554256777685,
          7.8002050791896975,
          2.4004077953178915,
          -1.5261575693400617,
          2.3958567698164392,
          -2.68490842904371,
          5.1472605456586,
          0.82182305057796,
          -0.35180015364958317,
          1.604115573254692,
          4.343925194148576,
          5.864707410751748,
          6.890010341108122,
          -0.2788682236412383,
          2.174331288787229,
          -1.8540392779782475,
          6.100360713996052,
          0.5019408104669597,
          -1.2551842788727616,
          0.36029036183510843,
          8.543432787837926,
          -2.213395282596991,
          4.354075739859129,
          3.1944998259279633,
          3.370035361543165,
          -19.65447358518602,
          6.119960761005422,
          2.6868830787776967,
          2.349099230526554,
          4.6785314955447594,
          -3.901891326594284,
          7.52895141655463,
          -2.3447145034750387,
          3.112484181472639,
          5.062137630660897,
          4.320518028705822,
          -0.20068398704943288,
          0.6571828055583068,
          5.705131156838961,
          1.1266953519044582,
          6.795342264240817,
          4.088036345844582,
          4.43198155353291,
          -2.1213164309402797,
          1.4294933542461932,
          3.1989615787304246,
          7.420613926239817,
          5.1407552919210024,
          7.769725027088578,
          13.402787456941244,
          -6.791727083350398,
          2.9623934074857057,
          2.594051491453177,
          5.839025572940658,
          5.669053722284088,
          -6.40209359260098,
          3.9531431974422486,
          3.2572015678051587,
          0.976408928470977,
          6.190961450713178,
          4.572611702530159,
          4.605888631385387,
          18.214189400695506,
          10.14591814713748,
          -0.13997908731004624,
          1.6488004611877456,
          3.986406797715158,
          0.6499080422753365,
          1.9411067304228125,
          3.978292026654742,
          1.736056400445695,
          8.307831746381572,
          4.097212923141022,
          -1.4224813524330089,
          7.471986712076569,
          -12.675012449241104,
          2.81500611704623,
          -2.183895070651194,
          2.7499524126453263,
          6.458114072696638,
          -2.243793105407586,
          -0.7196435824011568,
          5.971517117386845,
          6.811649505722532,
          6.381952639284652,
          4.285202383167238,
          -0.7514342450012395,
          5.939653421567797,
          -3.1687101258904526,
          5.378063829915299,
          5.360564627331013,
          -12.429498768901633,
          5.959838795411987,
          -0.6701775308078329
         ]
        },
        {
         "marker": {
          "color": "orange",
          "opacity": 0.4,
          "size": 5
         },
         "mode": "markers",
         "name": "Setup Pitcher",
         "text": [
          "NeftalA­ Feliz",
          "Matt Bush",
          "Adam Ottavino",
          "Zack Greinke",
          "Jhoulys ChacA­n",
          "Ervin Santana",
          "Joe Smith",
          "Darren O'Day",
          "Yusmeiro Petit",
          "Tyler Chatwood",
          "Jordan Zimmermann",
          "Nate Jones",
          "Jeurys Familia",
          "Blake Parker",
          "Brad Peacock",
          "Ryan Brasier",
          "Junior Guerra",
          "Trevor Cahill",
          "David Phelps",
          "Jake Odorizzi",
          "Trevor May",
          "JosA© Cisnero",
          "Steve Cishek",
          "Brad Brach",
          "Luis GarcA­a",
          "Daniel Hudson",
          "Greg Holland",
          "Javy Guerra",
          "Wade Davis",
          "Anthony Swarzak",
          "Collin McHugh",
          "Wily Peralta",
          "Hunter Strickland",
          "Josh Lindblom",
          "Anthony Bass",
          "Bryan Shaw",
          "David Robertson",
          "Paolo Espino",
          "AJ Ramos",
          "Deolis Guerra",
          "Justin Miller",
          "Josh Tomlin",
          "David Hale",
          "Joe Kelly",
          "Garrett Richards",
          "Sergio Romo",
          "Chaz Roe",
          "Brandon Kintzler",
          "Brad Boxberger",
          "Manny Barreda",
          "Shelby Miller",
          "Aaron Northcraft",
          "Ryan Tepera",
          "Erasmo RamA­rez",
          "Jake Petricka",
          "Jimmy Nelson",
          "Andrew Bellatti",
          "Drew Hutchison",
          "Shane Greene",
          "Mike Foltynewicz",
          "R.J. Alaniz",
          "Ben Rowen",
          "Mickey Jannis",
          "Casey Sadler",
          "Seth Frankoff",
          "Brandon Workman",
          "Bryan Mitchell",
          "Aaron Sanchez",
          "Luke Jackson",
          "Chris Martin",
          "Michael Feliz",
          "Matt Andriese",
          "Domingo Tapia",
          "Dan Winkler",
          "Evan Marshall",
          "Jacob Barnes",
          "Kevin Quackenbush",
          "Spencer Patton",
          "Nick Tropeano",
          "Seth Lugo",
          "Blake Treinen",
          "Mike Wright Jr.",
          "Ryne Harper",
          "Rafael Montero",
          "Chris Devenski",
          "John Brebbia",
          "Burch Smith",
          "NoA© Ramirez",
          "Matt Wisler",
          "Andrew Kittredge",
          "Shawn Armstrong",
          "Archie Bradley",
          "Derek Law",
          "Kyle Crick",
          "Michael Fulmer",
          "Luis Cessa",
          "Cam Bedrosian",
          "Dylan Floro",
          "Pierce Johnson",
          "Lucas Sims",
          "Robert Stephenson",
          "Carl Edwards Jr.",
          "Jakob Junis",
          "Jharel Cotton",
          "John Gant",
          "Sal Romano",
          "Jake Faria",
          "Joey Krehbiel",
          "Kyle Barraclough",
          "Tyler Duffey",
          "Chris Stratton",
          "Dominic Leone",
          "JT Chargois",
          "Austin Adams",
          "Paul Sewald",
          "Albert Almora Jr.",
          "Chris Mazza",
          "Kyle Zimmer",
          "Joel Payamps",
          "Jorge LA3pez",
          "Carlos EstA©vez",
          "JosA© Ruiz",
          "Konner Wade",
          "Dillon Maples",
          "AndrA©s Machado",
          "Emilio PagA¡n",
          "Buck Farmer",
          "Michael Lorenzen",
          "Reyes Moronta",
          "Chad Kuhl",
          "Giovanny Gallegos",
          "Corey Knebel",
          "Austin Voth",
          "Yency Almonte",
          "Kyle McGowin",
          "Hunter Wood",
          "Jake Newberry",
          "Aaron Slegers",
          "Cole Sulser",
          "Keynan Middleton",
          "Adam Cimber",
          "Austin Pruitt",
          "Mike Mayers",
          "JosA© De LeA3n",
          "Kohl Stewart",
          "Hunter Harvey",
          "Kendall Graveman",
          "Eric Yardley",
          "Tyler Rogers",
          "Chad Green",
          "Nick Wittgren",
          "Yefry RamA­rez",
          "Miguel Castro",
          "Joe JimA©nez",
          "Devin Williams",
          "Zack Littell",
          "Adam Plutko",
          "Luis Severino",
          "Ryne Stanek",
          "Chris Ellis",
          "John Curtiss",
          "David Hess",
          "Tejay Antone",
          "Alex McRae",
          "James Norwood",
          "Conner Greene",
          "Roel RamA­rez",
          "Erik Swanson",
          "Bryan Abreu",
          "J.P. Feyereisen",
          "Ryan Thompson",
          "Vinny Nittoli",
          "Jake Jewell",
          "Tyler Beede",
          "Jefry Rodriguez",
          "Domingo GermA¡n",
          "Yoan LA3pez",
          "Dinelson Lamet",
          "Sam Coonrod",
          "Michael Kopech",
          "Javy Guerra",
          "Edgar Santana",
          "Erick Fedde",
          "Jeff Hoffman",
          "Albert Abreu",
          "Jorge GuzmA¡n",
          "Ryan Burr",
          "Jimmy Herget",
          "Cristian Javier",
          "Tanner Rainey",
          "Taylor Clarke",
          "Trevor Megill",
          "Nabil Crismatt",
          "Evan Phillips",
          "Patrick Weigel",
          "Dillon Tate",
          "Adbert Alzolay",
          "Dennis Santana",
          "Logan Webb",
          "Tanner Anderson",
          "Phil Maton",
          "Ryan Meisinger",
          "Ryan Helsley",
          "Jay Flaa",
          "Art Warren",
          "Tyler Kinley",
          "Carson Fulmer",
          "Josh Sborz",
          "Josh Staumont",
          "Nick Anderson",
          "Julian FernA¡ndez",
          "Connor Overton",
          "Scott Effross",
          "Enyel De Los Santos",
          "Shea Spitzbarth",
          "Junior FernA¡ndez",
          "Travis Lakins Sr.",
          "Nick Neidert",
          "Tommy Nance",
          "Robert Dugger",
          "Brandyn Sittinger",
          "Mitch White",
          "Taylor Widener",
          "Trevor Richards",
          "Yohan Ramirez",
          "Shaun Anderson",
          "Kyle Funkhouser",
          "Bryan Garcia",
          "Jorge Alcala",
          "Raynel Espinal",
          "Geoff Hartlieb",
          "David Bednar",
          "Jordan Sheffield",
          "Kyle Cody",
          "Patrick Murphy",
          "Kodi Whitley",
          "Anthony Bender",
          "Jonathan LoA¡isiga",
          "Seth Elledge",
          "Anthony Castro",
          "Wil Crowe",
          "Bryan Baker",
          "Riley Smith",
          "Kevin Ginkel",
          "Tanner Houck",
          "Alex Lange",
          "Clarke Schmidt",
          "Adonis Medina",
          "Jhon Romero",
          "Ljay Newsome",
          "Wyatt Mills",
          "Kaleb Ort",
          "James Karinchak",
          "Nick Nelson",
          "Nate Pearson",
          "Garrett Whitlock",
          "Matt Peacock",
          "Brusdar Graterol",
          "Tyler Zuber",
          "LuA­s Madero",
          "Rony GarcA­a",
          "Enoli Paredes",
          "Huascar Ynoa",
          "Peter Solomon",
          "J.B. Bukauskas",
          "Edwin Uceta",
          "Manuel RodrA­guez",
          "Eduard Bazardo",
          "Seth Martinez",
          "Demarcus Evans",
          "Dauri Moreta",
          "Connor Brogdon",
          "Jake Cousins",
          "Kervin Castro",
          "Luis Oviedo",
          "Mason Thompson",
          "Camilo Doval",
          "Luis FrA­as",
          "Kyle Tyler",
          "Mac Sceroler",
          "Chris Rodriguez",
          "Stephen Ridings",
          "Nivaldo Rodriguez",
          "Codi Heuer",
          "Brett de Geus",
          "Luis Garcia",
          "Austin Warren",
          "Nick Mears",
          "Hirokazu Sawamura",
          "Matt Bush",
          "Adam Ottavino",
          "Jhoulys ChacA­n",
          "Joe Smith",
          "Darren O'Day",
          "Jeurys Familia",
          "Arodys VizcaA­no",
          "Ryan Brasier",
          "Huascar Brazoban",
          "David Phelps",
          "Trevor May",
          "JosA© Cisnero",
          "Steve Cishek",
          "Luis GarcA­a",
          "Daniel Hudson",
          "Greg Holland",
          "Collin McHugh",
          "Wily Peralta",
          "Hunter Strickland",
          "Anthony Bass",
          "Bryan Shaw",
          "David Robertson",
          "Paolo Espino",
          "Kirby Yates",
          "Joe Kelly",
          "Garrett Richards",
          "Sergio Romo",
          "Brad Boxberger",
          "Shelby Miller",
          "Ryan Tepera",
          "Erasmo RamA­rez",
          "Andrew Bellatti",
          "Tyler Thornburg",
          "Drew Hutchison",
          "Shane Greene",
          "Tommy Kahnle",
          "Aaron Sanchez",
          "Justin Grimm",
          "Chris Martin",
          "Michael Feliz",
          "Parker Markel",
          "Domingo Tapia",
          "Jacob Barnes",
          "Spencer Patton",
          "Seth Lugo",
          "Blake Treinen",
          "Nick Martinez",
          "Rafael Montero",
          "Chris Devenski",
          "John Brebbia",
          "Michael Kelly",
          "NoA© Ramirez",
          "Matt Wisler",
          "Andrew Kittredge",
          "Shawn Armstrong",
          "Ken Giles",
          "Archie Bradley",
          "Derek Law",
          "Kyle Crick",
          "Michael Fulmer",
          "Luis Cessa",
          "Dylan Floro",
          "Matt Koch",
          "Drew VerHagen",
          "Pierce Johnson",
          "Lucas Sims",
          "Robert Stephenson",
          "Carl Edwards Jr.",
          "Jakob Junis",
          "Jharel Cotton",
          "Joey Krehbiel",
          "Kyle Barraclough",
          "Tyler Duffey",
          "Chris Stratton",
          "Dominic Leone",
          "JT Chargois",
          "Austin Adams",
          "Paul Sewald",
          "Chris Mazza",
          "Luke Bard",
          "Joel Payamps",
          "Yunior Marte",
          "Jorge LA3pez",
          "Carlos EstA©vez",
          "JosA© Ruiz",
          "AndrA©s Machado",
          "Luis Perdomo",
          "Emilio PagA¡n",
          "Buck Farmer",
          "Reyes Moronta",
          "Giovanny Gallegos",
          "Corey Knebel",
          "Austin Voth",
          "Silvino Bracho",
          "Yency Almonte",
          "Tyler Danish",
          "Jimmy Yacabonis",
          "Cole Sulser",
          "Keynan Middleton",
          "Adam Cimber",
          "Austin Pruitt",
          "Kevin Herget",
          "Zack Weiss",
          "Mike Mayers",
          "Hunter Harvey",
          "Kendall Graveman",
          "Tyler Rogers",
          "Mark Leiter Jr.",
          "Chad Green",
          "Nick Wittgren",
          "Miguel Castro",
          "Joe JimA©nez",
          "Devin Williams",
          "Zack Littell",
          "VA­ctor Arano",
          "Ryne Stanek",
          "Gerardo Reyes",
          "James Norwood",
          "Erik Swanson",
          "Bryan Abreu",
          "J.P. Feyereisen",
          "Jeff Brigham",
          "Ryan Thompson",
          "Vinny Nittoli",
          "Reed Garrett",
          "Luis F. Ortiz",
          "Daniel Mengden",
          "Tyler Beede",
          "Domingo GermA¡n",
          "Bubby Rossman",
          "Yoan LA3pez",
          "Dinelson Lamet",
          "Sam Coonrod",
          "Javy Guerra",
          "Jeff Hoffman",
          "Albert Abreu",
          "Ryan Burr",
          "Jimmy Herget",
          "Cristian Javier",
          "Tanner Rainey",
          "Taylor Clarke",
          "Trevor Megill",
          "Nabil Crismatt",
          "Evan Phillips",
          "Dillon Tate",
          "Adbert Alzolay",
          "Dennis Santana",
          "Phil Maton",
          "Ryan Helsley",
          "James Naile",
          "Art Warren",
          "Tyler Kinley",
          "Josh Sborz",
          "Josh Staumont",
          "Connor Overton",
          "Scott Effross",
          "Enyel De Los Santos",
          "Tyler Cyr",
          "Trevor Kelley",
          "Junior FernA¡ndez",
          "Travis Lakins Sr.",
          "Tommy Nance",
          "Robert Dugger",
          "Mitch White",
          "Taylor Widener",
          "Kyle Dowdy",
          "Trevor Richards",
          "Ronel Blanco",
          "Yohan Ramirez",
          "Shaun Anderson",
          "Jorge Alcala",
          "Zach Jackson",
          "Raynel Espinal",
          "David Bednar",
          "Norge Ruiz",
          "Luke Barker",
          "Jordan Sheffield",
          "Patrick Murphy",
          "Kodi Whitley",
          "Anthony Bender",
          "Jonathan LoA¡isiga",
          "Anthony Castro",
          "Wil Crowe",
          "Bryan Baker",
          "Kevin Ginkel",
          "Tanner Houck",
          "Alex Lange",
          "Clarke Schmidt",
          "Adonis Medina",
          "Jhon Romero",
          "Joel Kuhnel",
          "Wyatt Mills",
          "Rico Garcia",
          "Kaleb Ort",
          "Calvin Faucher",
          "Adam Oller",
          "James Karinchak",
          "Nick Nelson",
          "Chad Smith",
          "Garrett Whitlock",
          "Matt Peacock",
          "Zack Kelly",
          "Steven Wilson",
          "Brusdar Graterol",
          "Greg Weissert",
          "Rony GarcA­a",
          "Enoli Paredes",
          "Denyi Reyes",
          "Edwin Uceta",
          "Manuel RodrA­guez",
          "Aneurys Zabala",
          "Eduard Bazardo",
          "Jhoan Duran",
          "Seth Martinez",
          "Dauri Moreta",
          "Connor Brogdon",
          "Jake Bird",
          "Bryce Montes de Oca",
          "Yerry De Los Santos",
          "Davis Martin",
          "Jake Cousins",
          "Kervin Castro",
          "Mason Thompson",
          "Yerry RodrA­guez",
          "Camilo Doval",
          "Luis FrA­as",
          "Kyle Tyler",
          "Angel De Jesus",
          "Colin Holderman",
          "Josh Winckowski",
          "Logan Gillaspie",
          "Francisco Morales",
          "Beau Sulser",
          "Ron Marinaccio",
          "Frank German",
          "Ethan Roberts",
          "Austin Warren",
          "William Woods",
          "Penn Murfee",
          "Nick Mears",
          "Gavin Hollowell",
          "Cole Waites",
          "Matt Brash",
          "Noah Davis",
          "Hunter Brown",
          "Andre Pallante",
          "Hirokazu Sawamura",
          "Bryce Elder",
          "Robert Suarez",
          "Matt Bush",
          "Adam Ottavino",
          "Zack Greinke",
          "Jeurys Familia",
          "Ryan Brasier",
          "Huascar Brazoban",
          "Trevor May",
          "JosA© Cisnero",
          "Luis GarcA­a",
          "Daniel Hudson",
          "Collin McHugh",
          "Anthony Bass",
          "Bryan Shaw",
          "David Robertson",
          "Paolo Espino",
          "Kirby Yates",
          "Joe Kelly",
          "Brad Boxberger",
          "Shelby Miller",
          "Ryan Tepera",
          "Erasmo RamA­rez",
          "Andrew Bellatti",
          "Shane Greene",
          "Zach Neal",
          "Tommy Kahnle",
          "Luke Jackson",
          "Chris Martin",
          "Scott McGough",
          "Domingo Tapia",
          "Jacob Barnes",
          "Spencer Patton",
          "Nick Martinez",
          "Rafael Montero",
          "Chris Devenski",
          "John Brebbia",
          "Michael Kelly",
          "Andrew Kittredge",
          "Shawn Armstrong",
          "Archie Bradley",
          "Derek Law",
          "Michael Fulmer",
          "Luis Cessa",
          "Dylan Floro",
          "Matt Koch",
          "Drew VerHagen",
          "Pierce Johnson",
          "Lucas Sims",
          "Matt Bowman",
          "Robert Stephenson",
          "Carl Edwards Jr.",
          "Jakob Junis",
          "Jake Faria",
          "Joey Krehbiel",
          "Kyle Barraclough",
          "Tyler Duffey",
          "Chris Stratton",
          "Dominic Leone",
          "JT Chargois",
          "Austin Adams",
          "Paul Sewald",
          "Joel Payamps",
          "Yunior Marte",
          "Jorge LA3pez",
          "Carlos EstA©vez",
          "JosA© Ruiz",
          "AndrA©s Machado",
          "Emilio PagA¡n",
          "Buck Farmer",
          "Michael Lorenzen",
          "Reyes Moronta",
          "Chad Kuhl",
          "Giovanny Gallegos",
          "Austin Voth",
          "Silvino Bracho",
          "Yency Almonte",
          "Ben Heller",
          "Jimmy Yacabonis",
          "Cole Sulser",
          "Keynan Middleton",
          "Adam Cimber",
          "Austin Pruitt",
          "Kevin Herget",
          "Zack Weiss",
          "Mike Mayers",
          "JosA© De LeA3n",
          "Hunter Harvey",
          "Kendall Graveman",
          "Tyler Rogers",
          "Mark Leiter Jr.",
          "Chad Green",
          "Nick Wittgren",
          "Miguel Castro",
          "Jimmy Cordero",
          "Joe JimA©nez",
          "Devin Williams",
          "Zack Littell",
          "Luis Severino",
          "Ryne Stanek",
          "Nick Burdi",
          "John Curtiss",
          "Tejay Antone",
          "Gerardo Reyes",
          "Erik Swanson",
          "Bryan Abreu",
          "Jeff Brigham",
          "Ryan Thompson",
          "Vinny Nittoli",
          "Reed Garrett",
          "Luis F. Ortiz",
          "Domingo GermA¡n",
          "Dinelson Lamet",
          "Sam Coonrod",
          "Michael Kopech",
          "Javy Guerra",
          "Jeff Hoffman",
          "Albert Abreu",
          "Jimmy Herget",
          "Tanner Rainey",
          "Taylor Clarke",
          "Trevor Megill",
          "Nabil Crismatt",
          "Evan Phillips",
          "Adbert Alzolay",
          "Brett Kennedy",
          "Dennis Santana",
          "Phil Maton",
          "Ryan Helsley",
          "James Naile",
          "Tyler Kinley",
          "Carson Fulmer",
          "Josh Sborz",
          "Josh Staumont",
          "Nick Anderson",
          "Enyel De Los Santos",
          "Tyler Cyr",
          "Trevor Kelley",
          "Hector Perez",
          "Jesse Scholtens",
          "Mitch White",
          "Trevor Richards",
          "Lucas Erceg",
          "Ronel Blanco",
          "Yohan Ramirez",
          "Jorge Alcala",
          "Zach Jackson",
          "Geoff Hartlieb",
          "David Bednar",
          "Jonathan LoA¡isiga",
          "Wil Crowe",
          "Bryan Baker",
          "Kevin Ginkel",
          "Alex Lange",
          "Ryder Ryan",
          "Clarke Schmidt",
          "Joel Kuhnel",
          "Rico Garcia",
          "Kaleb Ort",
          "Calvin Faucher",
          "Adam Oller",
          "James Karinchak",
          "Nick Nelson",
          "Nate Pearson",
          "Chad Smith",
          "Garrett Whitlock",
          "Daysbel HernA¡ndez",
          "Zack Kelly",
          "Steven Wilson",
          "Brusdar Graterol",
          "Greg Weissert",
          "Ryan Walker",
          "Peter Solomon",
          "J.B. Bukauskas",
          "Braden Bristo",
          "Denyi Reyes",
          "Edwin Uceta",
          "Grant Anderson",
          "Johan Quezada",
          "Eduard Bazardo",
          "Jhoan Duran",
          "Seth Martinez",
          "Dauri Moreta",
          "Angel Felipe",
          "Connor Brogdon",
          "Jake Bird",
          "Yerry De Los Santos",
          "Thaddeus Ward",
          "James McArthur",
          "Tristan Beck",
          "Jake Cousins",
          "Mason Thompson",
          "Alex Speas",
          "Jordan Balazovic",
          "Yerry RodrA­guez",
          "Camilo Doval",
          "Luis FrA­as",
          "JosA© Soriano",
          "Mason Englert",
          "Colin Holderman",
          "Josh Winckowski",
          "Logan Gillaspie",
          "Taj Bradley",
          "Juan Then",
          "Yoendrys GA3mez",
          "Prelander Berroa",
          "Jake Wong",
          "Cody Bolton",
          "Ron Marinaccio",
          "Keaton Winn",
          "Justin Martinez",
          "Victor Vodnik",
          "Gus Varland",
          "Kyle Leahy",
          "Chris Vallimont",
          "Austin Warren",
          "Colin Selby",
          "Lane Ramsey",
          "Penn Murfee",
          "Abner Uribe",
          "Nick Mears",
          "Blair Calvo",
          "Gavin Hollowell",
          "Isaiah Campbell",
          "Declan Cronin",
          "Ty Adcock",
          "Cole Waites",
          "Matt Brash",
          "Peyton Battenfield",
          "Noah Davis",
          "Hunter Brown",
          "Casey Legumina",
          "Brendan White",
          "Andre Pallante",
          "Amos Willingham",
          "Nick Robertson",
          "Bryce Jarvis",
          "Slade Cecconi",
          "Carmen Mlodzinski",
          "Carson Spiers",
          "Kyle Nicolas",
          "Daniel Palencia",
          "John McMillon",
          "Alek Jacob",
          "Sam Bachman",
          "Grant Hartwig",
          "Robert Suarez",
          "Ben Joyce",
          "Victor Mederos",
          "Shintaro Fujinami",
          "Oliver PA©rez",
          "Sean Doolittle",
          "Matt Moore",
          "Tony Watson",
          "David Price",
          "T.J. McFarland",
          "Zack Britton",
          "Danny Duffy",
          "Justin Wilson",
          "Jake Diekman",
          "Wade LeBlanc",
          "Jose Alvarez",
          "Andrew Miller",
          "Richard Bleier",
          "Andrew Albers",
          "Lucas Luetge",
          "Dallas Keuchel",
          "Ryan Buchter",
          "Rex Brothers",
          "Tyler Matzek",
          "Brooks Raley",
          "Ian Krol",
          "Caleb Thielbar",
          "Adam Kolarek",
          "Chasen Shreve",
          "Grant Dayton",
          "Sean Nolin",
          "Drew Pomeranz",
          "Joely RodrA­guez",
          "Josh Osich",
          "Mike Kickham",
          "Kyle Ryan",
          "Nick Ramirez",
          "Alex Claudio",
          "Andrew Chafin",
          "Eduardo Rodriguez",
          "Danny Coulombe",
          "Sam Selman",
          "Daniel Norris",
          "Steven Okert",
          "Shawn Morimando",
          "Matt Strahm",
          "Dietrich Enns",
          "Wandy Peralta",
          "Joe Mantiply",
          "Caleb Smith",
          "Tim Mayza",
          "Andrew Heaney",
          "Paul Fry",
          "Kent Emanuel",
          "Jace Fry",
          "Aaron Bummer",
          "Sam Clay",
          "Ryan Borucki",
          "Brad Wieck",
          "Victor GonzA¡lez",
          "Blake Taylor",
          "Tim Hill",
          "Sean Newcomb",
          "Austin Davis",
          "Josh Taylor",
          "Brett Martin",
          "GA©nesis Cabrera",
          "Tanner Scott",
          "Jeffrey Springs",
          "JosA© Alvarado",
          "Jake Brentz",
          "Daniel Zamora",
          "Nestor Cortes",
          "Tayler Saucedo",
          "Garrett Cleavinger",
          "Tyler Gilbert",
          "Anthony Misiewicz",
          "JarlA­n GarcA­a",
          "Taylor Hearn",
          "Alex Young",
          "Brandon Waddell",
          "Sam Hentges",
          "A.J. Minter",
          "Caleb Baragar",
          "Wes Benjamin",
          "Miguel Aguilar",
          "Richard Lovelady",
          "A.J. Puk",
          "Patrick Sandoval",
          "Bernardo Flores Jr.",
          "Cionel PA©rez",
          "Alex Wells",
          "Darwinzon HernA¡ndez",
          "Charlie Barnes",
          "JesAos Luzardo",
          "Dylan Lee",
          "Bailey Falter",
          "Ben Bowden",
          "Zac Lowther",
          "Kyle Dohy",
          "Kyle Nelson",
          "Lucas Gilbreath",
          "Braxton Garrett",
          "John King",
          "Aaron Fletcher",
          "Damon Jones",
          "Aaron Ashby",
          "Garrett Crochet",
          "Oliver PA©rez",
          "Sean Doolittle",
          "Matt Moore",
          "David Price",
          "T.J. McFarland",
          "Zack Britton",
          "Justin Wilson",
          "Jake Diekman",
          "Jose Alvarez",
          "Manny BaA±uelos",
          "Richard Bleier",
          "Lucas Luetge",
          "Tyler Matzek",
          "Brooks Raley",
          "Caleb Thielbar",
          "Adam Kolarek",
          "Chasen Shreve",
          "Joely RodrA­guez",
          "Alex Claudio",
          "Andrew Chafin",
          "Danny Coulombe",
          "Sam Selman",
          "Daniel Norris",
          "Steven Okert",
          "Matt Strahm",
          "Wandy Peralta",
          "Matt Dermody",
          "Joe Mantiply",
          "Caleb Smith",
          "Tim Mayza",
          "Rob Zastryzny",
          "Andrew Heaney",
          "Paul Fry",
          "Aaron Bummer",
          "Sam Clay",
          "Ryan Borucki",
          "Blake Taylor",
          "Foster Griffin",
          "Tim Hill",
          "Locke St. John",
          "Eric Stout",
          "Sean Newcomb",
          "Tanner Banks",
          "Austin Davis",
          "JosA© Castillo",
          "Jalen Beeks",
          "Brett Martin",
          "Matt Gage",
          "GA©nesis Cabrera",
          "Tanner Scott",
          "Jeffrey Springs",
          "JosA© Alvarado",
          "Jake Brentz",
          "Tayler Saucedo",
          "Garrett Cleavinger",
          "Tyler Gilbert",
          "Brock Burke",
          "Anthony Misiewicz",
          "JarlA­n GarcA­a",
          "Taylor Hearn",
          "Alex Young",
          "Danny Young",
          "Sam Hentges",
          "A.J. Minter",
          "A.J. Puk",
          "Caleb Ferguson",
          "Colin Poche",
          "Cam Vieaux",
          "Cionel PA©rez",
          "Alex Wells",
          "Darwinzon HernA¡ndez",
          "Dylan Lee",
          "Kenny Rosenberg",
          "Phillip Diehl",
          "Jake Fishman",
          "Bailey Falter",
          "Zac Lowther",
          "Kyle Nelson",
          "Anderson Severino",
          "Nick Vespi",
          "Lucas Gilbreath",
          "Parker Mushinski",
          "Konnor Pilkington",
          "John King",
          "Aaron Fletcher",
          "MacKenzie Gore",
          "Damon Jones",
          "Brandon Hughes",
          "Aaron Ashby",
          "Zack Thompson",
          "Jared Koenig",
          "Matt Moore",
          "T.J. McFarland",
          "Jake Diekman",
          "Richard Bleier",
          "Lucas Luetge",
          "Dallas Keuchel",
          "Brooks Raley",
          "Caleb Thielbar",
          "Adam Kolarek",
          "Chasen Shreve",
          "Sean Nolin",
          "Joely RodrA­guez",
          "Nick Ramirez",
          "Alex Claudio",
          "Andrew Chafin",
          "Danny Coulombe",
          "Daniel Norris",
          "Steven Okert",
          "Matt Strahm",
          "Wandy Peralta",
          "Joe Mantiply",
          "Tim Mayza",
          "Rob Zastryzny",
          "Andrew Heaney",
          "Aaron Bummer",
          "Ryan Borucki",
          "Victor GonzA¡lez",
          "Tim Hill",
          "Sean Newcomb",
          "Tanner Banks",
          "JosA© Castillo",
          "Jalen Beeks",
          "Thomas Pannone",
          "Josh Taylor",
          "Matt Gage",
          "GA©nesis Cabrera",
          "Tanner Scott",
          "JosA© Alvarado",
          "Tayler Saucedo",
          "Garrett Cleavinger",
          "Tyler Gilbert",
          "Brock Burke",
          "Anthony Misiewicz",
          "Andrew SuA¡rez",
          "Taylor Hearn",
          "Alex Young",
          "Danny Young",
          "Sam Hentges",
          "Enmanuel De Jesus",
          "A.J. Minter",
          "Richard Lovelady",
          "A.J. Puk",
          "Caleb Ferguson",
          "Colin Poche",
          "Cionel PA©rez",
          "Bryan Hudson",
          "Dylan Lee",
          "Kenny Rosenberg",
          "Bailey Falter",
          "Zach Muckenhirn",
          "Kyle Nelson",
          "Nick Vespi",
          "Parker Mushinski",
          "Konnor Pilkington",
          "Braxton Garrett",
          "John King",
          "Jose Hernandez",
          "JosA© Lopez",
          "Tom Cosgrove",
          "Brandon Hughes",
          "Josh Walker",
          "Clayton Andrews",
          "Jose A. Ferrer",
          "Austin Cox",
          "Jacob Lopez",
          "Tim Herrin",
          "Joe La Sorsa",
          "Sammy Peralta",
          "Zack Thompson",
          "Easton Lucas",
          "Kolton Ingram",
          "Garrett Crochet",
          "Cody Bradford",
          "Brent Headrick",
          "Zack Greinke",
          "Jhoulys ChacA­n",
          "Ervin Santana",
          "Brad Peacock",
          "Junior Guerra",
          "Trevor Cahill",
          "David Phelps",
          "Jake Odorizzi",
          "Collin McHugh",
          "Wily Peralta",
          "Anthony Bass",
          "David Robertson",
          "Paolo Espino",
          "David Hale",
          "Garrett Richards",
          "Brandon Kintzler",
          "Jimmy Nelson",
          "Drew Hutchison",
          "Mike Foltynewicz",
          "Seth Frankoff",
          "Aaron Sanchez",
          "Andrew Kittredge",
          "Michael Fulmer",
          "Cam Bedrosian",
          "Pierce Johnson",
          "Jakob Junis",
          "John Gant",
          "Jake Faria",
          "Dominic Leone",
          "Kyle Zimmer",
          "Joel Payamps",
          "Jorge LA3pez",
          "Chad Kuhl",
          "Corey Knebel",
          "Austin Voth",
          "Keynan Middleton",
          "Mike Mayers",
          "JosA© De LeA3n",
          "Kohl Stewart",
          "Nick Wittgren",
          "Miguel Castro",
          "Zack Littell",
          "Adam Plutko",
          "Chris Ellis",
          "John Curtiss",
          "David Hess",
          "Conner Greene",
          "Erik Swanson",
          "Jefry Rodriguez",
          "Domingo GermA¡n",
          "Dinelson Lamet",
          "Sam Coonrod",
          "Michael Kopech",
          "Erick Fedde",
          "Jeff Hoffman",
          "Ryan Burr",
          "Cristian Javier",
          "Adbert Alzolay",
          "Logan Webb",
          "Phil Maton",
          "Connor Overton",
          "Travis Lakins Sr.",
          "Nick Neidert",
          "Robert Dugger",
          "Mitch White",
          "Taylor Widener",
          "Kyle Funkhouser",
          "Anthony Bender",
          "Wil Crowe",
          "Riley Smith",
          "Tanner Houck",
          "Clarke Schmidt",
          "Adonis Medina",
          "Ljay Newsome",
          "Nick Nelson",
          "Nate Pearson",
          "Matt Peacock",
          "Brusdar Graterol",
          "Huascar Ynoa",
          "Edwin Uceta",
          "Connor Brogdon",
          "Luis Oviedo",
          "Chris Rodriguez",
          "Luis Garcia",
          "Matt Bush",
          "Zack Greinke",
          "David Phelps",
          "Jake Odorizzi",
          "Wily Peralta",
          "Bryan Shaw",
          "Paolo Espino",
          "Joe Kelly",
          "Garrett Richards",
          "Erasmo RamA­rez",
          "Andrew Bellatti",
          "Drew Hutchison",
          "Aaron Sanchez",
          "Nick Martinez",
          "John Brebbia",
          "Matt Wisler",
          "Shawn Armstrong",
          "Luis Cessa",
          "Jakob Junis",
          "Chris Stratton",
          "JT Chargois",
          "Michael Lorenzen",
          "Chad Kuhl",
          "Austin Voth",
          "Jimmy Yacabonis",
          "Austin Pruitt",
          "Mike Mayers",
          "Mark Leiter Jr.",
          "Luis Severino",
          "Chris Ellis",
          "Erik Swanson",
          "J.P. Feyereisen",
          "Daniel Mengden",
          "Tyler Beede",
          "Domingo GermA¡n",
          "Michael Kopech",
          "Erick Fedde",
          "Jeff Hoffman",
          "Jimmy Herget",
          "Cristian Javier",
          "Nabil Crismatt",
          "Dennis Santana",
          "Logan Webb",
          "Josh Sborz",
          "Connor Overton",
          "Scott Effross",
          "Nick Neidert",
          "Tommy Nance",
          "Robert Dugger",
          "Mitch White",
          "Trevor Richards",
          "Bryan Garcia",
          "Wil Crowe",
          "Bryan Baker",
          "Tanner Houck",
          "Clarke Schmidt",
          "Adam Oller",
          "Nick Nelson",
          "Garrett Whitlock",
          "Steven Wilson",
          "Brusdar Graterol",
          "Rony GarcA­a",
          "Huascar Ynoa",
          "Denyi Reyes",
          "Dauri Moreta",
          "Davis Martin",
          "Josh Winckowski",
          "Luis Garcia",
          "Penn Murfee",
          "Matt Brash",
          "Hunter Brown",
          "Andre Pallante",
          "Bryce Elder",
          "Zack Greinke",
          "Collin McHugh",
          "Shelby Miller",
          "Erasmo RamA­rez",
          "Zach Neal",
          "Scott McGough",
          "Seth Lugo",
          "Nick Martinez",
          "John Brebbia",
          "Shawn Armstrong",
          "Derek Law",
          "Michael Fulmer",
          "Luis Cessa",
          "Matt Koch",
          "Jakob Junis",
          "JT Chargois",
          "JosA© Ruiz",
          "Emilio PagA¡n",
          "Michael Lorenzen",
          "Chad Kuhl",
          "Austin Pruitt",
          "Mike Mayers",
          "JosA© De LeA3n",
          "Jimmy Cordero",
          "Zack Littell",
          "Luis Severino",
          "Tejay Antone",
          "Domingo GermA¡n",
          "Dinelson Lamet",
          "Michael Kopech",
          "Javy Guerra",
          "Jimmy Herget",
          "Cristian Javier",
          "Taylor Clarke",
          "Trevor Megill",
          "Brett Kennedy",
          "Logan Webb",
          "Carson Fulmer",
          "Josh Staumont",
          "Connor Overton",
          "Trevor Kelley",
          "Jesse Scholtens",
          "Trevor Richards",
          "Ronel Blanco",
          "Tanner Houck",
          "Clarke Schmidt",
          "Kaleb Ort",
          "Calvin Faucher",
          "Adam Oller",
          "Garrett Whitlock",
          "Brusdar Graterol",
          "Ryan Walker",
          "Denyi Reyes",
          "Connor Brogdon",
          "Jake Bird",
          "James McArthur",
          "Tristan Beck",
          "Yerry RodrA­guez",
          "Mason Englert",
          "Josh Winckowski",
          "Taj Bradley",
          "Keaton Winn",
          "Luis Garcia",
          "Colin Selby",
          "Peyton Battenfield",
          "Noah Davis",
          "Hunter Brown",
          "Brendan White",
          "Nick Robertson",
          "Bryce Jarvis",
          "Slade Cecconi",
          "Carmen Mlodzinski",
          "Carson Spiers",
          "Bryce Elder",
          "Shintaro Fujinami",
          "Matt Moore",
          "David Price",
          "Danny Duffy",
          "Wade LeBlanc",
          "Jose Alvarez",
          "Andrew Albers",
          "Lucas Luetge",
          "Dallas Keuchel",
          "Sean Nolin",
          "Eduardo Rodriguez",
          "Danny Coulombe",
          "Matt Strahm",
          "Wandy Peralta",
          "Caleb Smith",
          "Andrew Heaney",
          "Victor GonzA¡lez",
          "Nestor Cortes",
          "Garrett Cleavinger",
          "Tyler Gilbert",
          "Taylor Hearn",
          "Alex Young",
          "Sam Hentges",
          "Wes Benjamin",
          "Patrick Sandoval",
          "Alex Wells",
          "Charlie Barnes",
          "JesAos Luzardo",
          "Bailey Falter",
          "Zac Lowther",
          "Lucas Gilbreath",
          "Braxton Garrett",
          "Aaron Ashby",
          "Richard Bleier",
          "Dallas Keuchel",
          "Eduardo Rodriguez",
          "Daniel Norris",
          "Caleb Smith",
          "Andrew Heaney",
          "Sean Newcomb",
          "Austin Davis",
          "Jalen Beeks",
          "Brett Martin",
          "Jeffrey Springs",
          "Nestor Cortes",
          "Tyler Gilbert",
          "Taylor Hearn",
          "Alex Young",
          "Caleb Ferguson",
          "Patrick Sandoval",
          "JesAos Luzardo",
          "Kenny Rosenberg",
          "Bailey Falter",
          "Kyle Nelson",
          "Konnor Pilkington",
          "Braxton Garrett",
          "MacKenzie Gore",
          "Aaron Ashby",
          "Zack Thompson",
          "Jared Koenig",
          "Dallas Keuchel",
          "Eduardo Rodriguez",
          "Steven Okert",
          "Matt Strahm",
          "Matt Dermody",
          "Joe Mantiply",
          "Rob Zastryzny",
          "Andrew Heaney",
          "Ryan Borucki",
          "Victor GonzA¡lez",
          "Sean Newcomb",
          "Tanner Banks",
          "Jalen Beeks",
          "Josh Taylor",
          "Jeffrey Springs",
          "Nestor Cortes",
          "Caleb Ferguson",
          "Patrick Sandoval",
          "JesAos Luzardo",
          "Dylan Lee",
          "Kenny Rosenberg",
          "Bailey Falter",
          "Kyle Nelson",
          "Braxton Garrett",
          "MacKenzie Gore",
          "Austin Cox",
          "Jacob Lopez",
          "Zack Thompson",
          "Cody Bradford"
         ],
         "type": "scattergl",
         "x": [
          4.918272227762532,
          3.9722549126085944,
          -4.906413859077187,
          0.6632803035964926,
          -2.3339136391298507,
          -0.6300496170393288,
          -0.9987476634998278,
          2.600809216405579,
          -4.2884318591658745,
          1.0059498000512184,
          8.019775917438658,
          3.6277500060141015,
          -2.735463074574906,
          -0.5062987485212075,
          4.919630631457136,
          2.9589002866658975,
          -1.356599769585025,
          3.7319664889215876,
          -0.1937253234554051,
          0.052899899434272604,
          -4.183650704144232,
          -2.862945011153367,
          -2.649327561308057,
          1.8388096110409402,
          -1.2217966034489336,
          -3.8740070004157494,
          -1.1432112082237105,
          7.515529789146121,
          1.0423449579437756,
          4.117516831533154,
          -4.699392670630117,
          3.9273326165718583,
          -2.25291243409426,
          4.344956670691825,
          -2.4256796364139226,
          -4.230239387932966,
          1.5511885981080196,
          0.24977207179643923,
          2.3009870199202265,
          -2.724944889633225,
          3.511192661867663,
          -0.10852256345833174,
          2.957909930505212,
          -3.1161887827178774,
          -0.7236541331948246,
          -1.63928389155746,
          7.647572939859415,
          2.30224695908559,
          -4.167671656233929,
          7.299207838652112,
          6.244292521120809,
          6.285417247580064,
          -5.516494442550574,
          0.8426961918228236,
          6.975362895719022,
          -2.0038205371373303,
          5.479189419381918,
          2.3796899807723912,
          3.06374905047908,
          1.6690162029821383,
          6.62903407233278,
          5.128216937413289,
          14.968717244820697,
          -2.8859892497787643,
          8.565743301375129,
          3.318754518034289,
          4.088974280830931,
          5.640392344357871,
          -4.001279071701567,
          -1.8610399294884412,
          2.7860866684201975,
          -0.02581300799523179,
          -0.44996526173693835,
          1.281723372338449,
          1.1751252243576211,
          1.771329603539203,
          9.175532979837762,
          -0.4221123569903626,
          5.113285910301024,
          -2.391796971365921,
          -7.417266957845998,
          4.816152394128884,
          0.672952200022137,
          -0.9406617409619425,
          5.215416215091517,
          1.9592381564169277,
          1.0851671657512343,
          -0.14454609091529977,
          -1.9130734724739284,
          -7.316360354365278,
          1.7196347587627347,
          -1.951493270607132,
          3.5016057764746655,
          2.4397763962344676,
          -4.649402316329027,
          -2.8988436427708124,
          3.719155565446086,
          -4.300379816387073,
          -3.7637424746311927,
          -4.046093209289374,
          -1.4908426676725457,
          6.7031779170789525,
          3.045009771608243,
          0.05880613243462175,
          1.4585980815068085,
          4.0453391745123914,
          1.9286704877794518,
          3.05793821716685,
          3.577429962585783,
          -3.208687196500285,
          -4.867443865862515,
          -2.4531112462097004,
          -2.2667298174353125,
          -0.4089233391698326,
          -6.477025998064268,
          16.218863089733475,
          1.1719690475545712,
          -0.4690322749234082,
          -1.2581168957508202,
          -0.7653333088388994,
          -2.3594743009162378,
          -2.3571337431267514,
          5.4693967058394435,
          2.2496862326671847,
          0.7537594868268853,
          -2.189621631949073,
          2.7819871457614513,
          -0.3497193058606763,
          3.066643423627145,
          2.5777003556136235,
          -7.251024774335912,
          -0.6925071400939428,
          -1.083271692161816,
          1.8416609673841564,
          0.6995384576440493,
          3.5470686535163165,
          7.614420323435383,
          2.7715420146962746,
          -4.563003659414642,
          1.3497864989282926,
          -3.4297375101590504,
          2.695685885582765,
          -5.027361009939299,
          3.565172412375688,
          9.111315334986019,
          2.580288475609381,
          -4.143317131234465,
          7.3765723065706235,
          -5.69205139378537,
          -7.927994946953586,
          -2.18201618093548,
          1.9743742677053069,
          -2.354277410940572,
          0.3000407075998392,
          -5.4047331029229,
          -3.289999291283662,
          1.4345883266293,
          0.477611105964985,
          -4.198313448333407,
          -0.39634940720240547,
          -0.6705619350525418,
          4.4271189319944435,
          -1.7973433447002076,
          4.9578996401395505,
          3.543968568467579,
          0.6919401141684652,
          20.496090939873927,
          -0.6264690967053258,
          1.1788799726063246,
          -2.5086137080016084,
          -3.3654635953823027,
          11.504729746601122,
          4.889248667627768,
          7.427366279343938,
          3.973643736837178,
          1.0514131548262933,
          5.037765246511442,
          1.775191853936032,
          -1.6625547060874553,
          -4.961658006500164,
          6.077450465783992,
          0.2167836724391298,
          5.1882003646137305,
          0.7903878818320007,
          0.632316370211945,
          12.615785712842573,
          1.0903880887420219,
          1.0624133478824693,
          -2.1945134878642882,
          2.3001592354404097,
          -0.3690063152878176,
          2.18484162522961,
          -2.793407554651969,
          1.6479738125072259,
          4.705673108272158,
          -1.9602249013905595,
          -3.1760967815519767,
          -1.1424891876349847,
          -0.5288092155861351,
          3.5193533007430915,
          -3.3331940981179757,
          6.269722689741231,
          -1.228531173101706,
          8.574076042861408,
          -0.2704139189122245,
          -2.246094142265519,
          2.8705013672012716,
          -1.3224187080227006,
          -3.531592649899768,
          5.488131933302645,
          6.892678297129123,
          1.3380421816268266,
          -0.9859138823159957,
          1.2228658848636451,
          5.932601652184961,
          3.973796588850077,
          1.0097838891181317,
          2.9348839140476146,
          1.8633869886980192,
          3.059073006695738,
          7.567781274274639,
          -0.2397508609595924,
          3.808105090649136,
          -3.580324342629609,
          0.87073036641087,
          4.043430677382435,
          -3.241743656032603,
          3.4674887319445373,
          -3.929243348870955,
          8.247962996851802,
          7.7562560409989505,
          -4.685651054480359,
          1.7480613489820365,
          2.6641416127230086,
          1.7153925874266212,
          0.9575340668010485,
          -3.7729743870662533,
          -9.365454898306528,
          5.7431210105767,
          1.1111265967427004,
          7.873163571419177,
          3.4858833403217373,
          -0.3637768053652814,
          3.4484519361089814,
          0.13411371345662415,
          0.7148877734308207,
          3.147740407465645,
          4.869816932252421,
          3.516741519857786,
          -0.14265937771061427,
          5.1989113921687515,
          11.468041196712225,
          -2.2608831585834652,
          3.6869811777133266,
          2.272176282690594,
          -6.0761418406507355,
          0.10603559234162492,
          -1.1679609413979615,
          2.7967507056947616,
          7.364052438334918,
          5.58531807733502,
          7.000809150573498,
          5.534326710699493,
          3.601857575666526,
          4.3227889004761435,
          2.2388517720326333,
          3.9894341866057434,
          3.668902841456737,
          6.92833636471948,
          3.115571568194494,
          2.2328735529775705,
          -3.467423237843005,
          -0.19917477268674436,
          1.2703296572839087,
          4.073665265248356,
          2.918655437619658,
          -0.4213307103366676,
          6.643724909002221,
          4.750726326643064,
          7.474545370387218,
          1.1718358415357348,
          1.6869738568282757,
          6.588103560006441,
          -3.644515958625017,
          1.8649915392303498,
          -1.1044833685608189,
          0.7246704318066469,
          3.1848393887930975,
          -1.2286579619707791,
          -2.9705359123995216,
          -5.56971632449513,
          0.4848132861686529,
          2.88454831776539,
          1.3894317432178864,
          1.4085741790811013,
          7.938088215962874,
          -2.714417126856191,
          0.6924067046765754,
          -3.0878750983816903,
          0.9299851343381289,
          2.0075683680147485,
          -2.084017321148145,
          -4.511835676797007,
          -2.482645481557235,
          4.630472513957423,
          -5.801324653436544,
          0.9168429671462973,
          -0.7758950079093071,
          -5.820452360305269,
          -0.27198315691869307,
          -4.26308242526961,
          0.035334056158844926,
          4.3757425191915065,
          -1.052584945238033,
          -0.018142796877771622,
          4.072209692538841,
          -3.51053642017426,
          1.4680472553437027,
          -2.5318098103776068,
          -4.806585409192523,
          -2.1663573068352315,
          4.127982169980523,
          3.1167802347239335,
          5.229436768397627,
          0.6344064769707585,
          2.4107491340757874,
          4.306856246185239,
          -7.33881173288793,
          4.77352239858617,
          8.856906227323133,
          4.802371547288445,
          3.0731237521265182,
          4.738140826236626,
          -3.3543214995329573,
          0.16724430865590378,
          -3.80256152237712,
          -5.541560767627464,
          1.5688838471810909,
          -1.4517486501740806,
          3.4731960030675344,
          -0.13328320036811017,
          0.9096605599941361,
          -0.0013615071797121808,
          -1.8060417648998632,
          4.454612191027783,
          1.8565766954978453,
          1.3713253358400581,
          3.266111444474701,
          -3.401294360017243,
          0.7954558909496378,
          -2.430814084004741,
          5.0920525680398105,
          2.9849561016211785,
          1.6799224633309318,
          6.216373149220181,
          -2.4473344656837064,
          -2.283465286494106,
          -0.7790094511372367,
          0.7562772145201897,
          -0.9009087500763666,
          2.785913170092767,
          -0.16926305456904692,
          -3.082830966512291,
          -1.9707048347451106,
          1.6266546571129767,
          6.210250505242221,
          -4.604163404449739,
          8.237393104148587,
          1.7319756911774706,
          -1.6583815070295351,
          1.0054810740570639,
          -6.633250995409036,
          -1.3212071365144176,
          -0.09259478298811957,
          -0.46235948837926916,
          1.8212319800097105,
          -3.4874444202731554,
          -0.8639727596170358,
          0.2635806420612854,
          -4.262818512617767,
          -0.45953394526244723,
          2.153672953901983,
          4.4761981203593795,
          -1.6440195968874092,
          1.6883013863570842,
          5.459700755602749,
          0.7894762735204859,
          0.79494418844843,
          -4.422808690638102,
          -0.024754300807752528,
          3.968582324885465,
          1.55149730161656,
          1.2808132019387073,
          -2.1719674970353045,
          -3.232923827204822,
          -2.109701406056209,
          -3.643379722882772,
          -0.20692693985386276,
          1.9996247787447419,
          1.4925816280580735,
          -3.853656194409725,
          -6.624634214688832,
          -0.2718971197862104,
          -0.27277784412448275,
          -2.830314203634965,
          9.434046963249513,
          2.7111386490513025,
          -5.044372911774729,
          -3.798618217857708,
          -0.6838415508196243,
          1.545970781252153,
          -2.150842847042027,
          3.492257001461996,
          5.965790487921309,
          2.1917005863388317,
          -0.15628344136894856,
          0.3403424303700176,
          3.4461511194040293,
          8.732409309871375,
          4.603499615718969,
          1.0958298220267197,
          2.849433316491897,
          3.9475312931371622,
          1.2013443735989846,
          0.8948390023315776,
          3.971148202660464,
          -4.6448662916758225,
          -1.9078720608882047,
          -0.33975083341357076,
          -1.6785682746771928,
          -1.059420423503056,
          -3.0133129523857654,
          -7.344038862382672,
          -3.7048106145470596,
          -2.091378686482583,
          -1.5039870724360913,
          -3.607403888045978,
          -7.6761226183764775,
          3.078893844288505,
          2.982122362613235,
          -0.826177696796818,
          2.89526835379718,
          1.8872806840426737,
          3.2867582736150056,
          -4.411628071862006,
          -2.727541967152169,
          2.2234045260884425,
          3.654940556709444,
          3.3531634390928593,
          4.36514061455417,
          -0.4403511668990411,
          0.8411663215123358,
          1.57191159637495,
          2.0835017808517224,
          4.799252694920161,
          -0.10642954081232357,
          4.765242949366915,
          1.3221624172012603,
          7.170501147768826,
          5.372136161211766,
          -1.829184193316687,
          2.710432643265961,
          -4.628535236026245,
          4.468828199026821,
          5.15273927724453,
          7.32690969119119,
          6.790565012440697,
          4.409468888157391,
          1.0316134446964944,
          -2.0559112163090654,
          6.090006772540475,
          -4.137592285504401,
          -3.475432118483755,
          1.0323840951562513,
          -2.483349305341585,
          -3.7859478142752274,
          -2.5636084755719244,
          2.1192728668740473,
          3.2969734126305257,
          -1.2824680156444797,
          2.225914704095771,
          5.508110903585943,
          1.689649146172856,
          3.620680419570133,
          3.796471611392982,
          -0.9786303927273856,
          -1.80003775045796,
          5.5369133426838735,
          -3.1007827775164007,
          4.604296890980398,
          2.7973832972755956,
          -2.0471854335796063,
          -3.5878545481957436,
          2.789549348226746,
          1.5979715974169155,
          6.511476578344365,
          1.7377690022942935,
          2.4340601162375948,
          3.6077470987075837,
          4.757683191983698,
          2.6819005008609884,
          -7.627066020492743,
          -0.9563623181386102,
          1.172586275474574,
          -3.1767665932237286,
          1.045858463836027,
          5.101137322115107,
          2.221071498078923,
          0.9583029234861047,
          2.1006822707376656,
          5.321899754588864,
          1.8871421589399875,
          0.898606350172738,
          -3.7362656144391386,
          5.300768429935681,
          3.142293083093984,
          4.372307076647756,
          1.1654170851343342,
          3.6522893499571016,
          3.100861824716814,
          8.878891660991716,
          2.866830636678685,
          -1.0404041164120845,
          8.611750629061012,
          5.099421237473145,
          3.3216641471353103,
          5.688920836821731,
          -3.8216712686775884,
          2.3419498645089765,
          3.8265199621580406,
          5.971687198707331,
          -2.8969274448481173,
          6.888387829442355,
          -0.3088660203864536,
          -0.7927021771747624,
          -0.2297867291997769,
          3.7853906347997723,
          -3.989137163459417,
          4.637885900676263,
          -3.20720545837009,
          1.2391146459123796,
          5.877529742960962,
          -3.855266175817214,
          -2.809362211374024,
          -1.305922655889849,
          -1.9506919176998552,
          -1.8085601880131803,
          3.7916773884574746,
          -2.275667316881334,
          2.2523612819401917,
          -0.9895687412390701,
          -5.666453277581955,
          8.580315364879633,
          -2.61337197692011,
          -3.4589481800292807,
          3.7419460570542684,
          -1.1937136553421297,
          4.8311370432114655,
          -0.1949543130319465,
          2.793191538665614,
          4.120709916027796,
          3.025821993678513,
          -1.1907027918021489,
          0.30797436837123754,
          -6.841783618048397,
          -3.1114882263790826,
          3.0984073106224335,
          3.345728577710381,
          5.659015461122452,
          -5.237108180832459,
          -1.9095219171626598,
          -1.8464616610634814,
          0.43832065748277826,
          2.7678043320890113,
          0.6101281706856708,
          -2.5172916932762206,
          5.351887532171377,
          -2.2153067423781363,
          -2.791730002881708,
          6.977745050648533,
          -2.2988043452572255,
          0.8248279127145941,
          -1.7470234153763333,
          -2.959218454376953,
          -4.72815241568933,
          5.7828758286313136,
          -5.6534688142134595,
          1.0367292825222516,
          -2.980769031436724,
          9.013495589866722,
          3.6747364313634034,
          7.845270435002145,
          1.1830941216533548,
          -4.691597853130833,
          -0.48287320114105203,
          0.9536975665915858,
          2.8749571900600146,
          -3.9946213104286517,
          -6.596249789047457,
          1.2534313886999857,
          -2.6259972367283413,
          -3.5162643451477402,
          1.2399609800504385,
          -1.0190871548615483,
          -4.931288100118947,
          -3.5198298889304596,
          3.927483939169652,
          9.019365090932899,
          3.1865368243330447,
          -2.2254414809988314,
          0.9246166409524273,
          4.795353818892956,
          -1.1417115935877324,
          2.317029132879198,
          4.228700764684926,
          5.361531812503794,
          -1.8306264920046285,
          3.9725137977872604,
          -0.9130953507043971,
          2.91437180463492,
          2.701985314568717,
          2.444815247217706,
          0.9957565344000383,
          -6.041026079669959,
          -2.938383677177405,
          -3.9905232015722705,
          -4.080910228555099,
          0.5297031214745576,
          2.182153485062823,
          -2.795489852025021,
          -1.2500140054571651,
          -2.9803374732581345,
          -6.199464862968663,
          1.9998478550741587,
          6.598619231066668,
          -1.785442654592369,
          5.688550291175903,
          3.5367494635145675,
          3.6174773605604496,
          4.689116903229456,
          -5.3606361543039585,
          -5.265693374705693,
          1.181748811216679,
          -0.052207695412296584,
          3.943185884428395,
          1.8161809250526237,
          1.5706415041864568,
          1.7533587069416432,
          6.4207410810712515,
          5.6951606623294175,
          6.705676207919791,
          5.695840609274314,
          -5.277210893466949,
          0.20685249178254062,
          1.5258361238877085,
          6.716215042454569,
          -0.7168254351080015,
          -1.5274348015537889,
          3.9228790617798537,
          -5.12206368371402,
          -6.0696716167795985,
          6.413428702051942,
          3.6592505162240054,
          -4.4473142765014835,
          -3.3294367690953357,
          4.814841849331671,
          2.441419081404111,
          3.55919888667234,
          -2.5178149234185323,
          3.0896717513511125,
          -1.1314573048281706,
          -2.565412907182067,
          2.0838296317831793,
          6.331235229939615,
          16.010559204100634,
          1.2056254019809185,
          4.253049561263366,
          -2.1843618132667553,
          -1.6836628647353533,
          3.309370589870592,
          1.2378392751124143,
          4.403701493017844,
          3.0015556852586287,
          7.116227494419418,
          -6.44989116230002,
          0.6025011006037247,
          4.3892552427934515,
          -0.596834284046603,
          -3.780025491996175,
          -3.1923296493348166,
          5.917165797219278,
          -1.3097546784325145,
          4.674885119382676,
          5.637805729691957,
          3.072728943477094,
          3.280405701419702,
          5.733508106921042,
          0.9777216462796763,
          2.6532117508785396,
          0.06094606103715306,
          6.218233183697726,
          0.8382992479463464,
          5.805173501504932,
          5.5491092222168765,
          -2.1771087335957766,
          -5.706228939316798,
          1.787689777480865,
          0.09056444384922971,
          7.713799612918414,
          2.9126237293100417,
          3.560642296306578,
          1.2529816819189838,
          3.3795694692552916,
          0.972719843230339,
          21.251634678340455,
          1.7754440072232311,
          -6.015585352093552,
          0.06339711927018835,
          -2.3350796875508664,
          2.665494017023776,
          0.6746734256141217,
          -3.264336392482086,
          3.0711343696824445,
          3.283452436242173,
          -1.394561090442879,
          -2.993100049893809,
          7.253796745154881,
          -1.0528151390215412,
          8.55487404043887,
          3.7174642649369574,
          3.63143250123431,
          -5.609180038583219,
          2.244402953625288,
          -1.233253166225634,
          -0.14052759311036156,
          -1.7373787232306979,
          -5.91042707110893,
          4.871908084418308,
          5.105779500254669,
          4.690002319514497,
          -0.08486594398955315,
          5.49876159140072,
          9.41414090680556,
          4.96968434109168,
          -0.4849381767751812,
          0.6612610852593295,
          5.5853774463861345,
          3.787206892954078,
          4.234083792200734,
          12.935159082027955,
          6.36187824115212,
          5.255101289606591,
          3.971762978764143,
          4.224116868167616,
          1.3362176604667593,
          0.11789335202818003,
          3.3071514815496323,
          6.638225247916101,
          1.9702538092158468,
          1.1847520904516349,
          6.0035819428129535,
          2.350289494730192,
          7.87752166358205,
          -8.455837806651559,
          11.563527601421097,
          5.393795748780006,
          3.519346108406177,
          5.33566633718508,
          -0.46989878468749274,
          -1.2891506060979776,
          3.736876958379595,
          2.7335975878951078,
          2.583800499716024,
          2.5440859286019513,
          -0.9095361319210963,
          3.742329663857262,
          5.5326148850336505,
          -0.20192853562388224,
          0.529294842739858,
          -0.09597923300845959,
          3.9464448581389995,
          0.5425654088688389,
          -1.1025577606278796,
          4.467044592425416,
          7.1675364587341095,
          -2.664146392426233,
          2.8818886852264427,
          -1.3620452191133066,
          1.65317377156638,
          -3.7734436601814823,
          0.3786846567276166,
          0.9848291691879176,
          5.431453861997411,
          -0.31766138367581503,
          1.3716053650908246,
          -2.9600120030430808,
          1.8481226358707423,
          -4.058239003377633,
          2.494669061385471,
          -5.395391391803456,
          4.160291154678621,
          -3.68041595225555,
          3.2624922574979065,
          4.984346446194602,
          0.4704911333701296,
          -4.143697313487191,
          -3.639784335543145,
          2.3495085204348753,
          -4.410961015189328,
          6.669857503769926,
          -1.3616691846857905,
          3.4273503351632364,
          5.644470486365606,
          -0.31580024728904055,
          -1.4210343223391142,
          3.514866954049319,
          9.120965034321639,
          5.392988900077807,
          2.4530485664805117,
          2.9655747912482853,
          -5.009808285627775,
          0.5719978294024217,
          -0.011242507108715228,
          3.073475034259173,
          0.5770408839331626,
          -0.14203245272987938,
          4.786554661617853,
          2.73319186652763,
          0.07613432330675868,
          -1.93144531241799,
          -0.6397270110078521,
          -2.240483773536101,
          -2.706053817294954,
          2.23573769164078,
          -0.21736437272531092,
          3.4794792608946876,
          8.035938617505433,
          -3.040100426499942,
          1.9895336475307561,
          2.7649092169507576,
          1.2329709956442234,
          0.552513013356925,
          0.9108964308802037,
          -3.4396027557119715,
          0.5419401752955503,
          2.149188745674599,
          -2.425759259455621,
          -2.537491383014909,
          -4.39887257752509,
          -1.0954317217329077,
          -1.5431766656007049,
          -1.8438834102218085,
          -2.6332259547596104,
          4.9018653609364495,
          -0.4639319219814712,
          1.8775375092019406,
          3.0217322279107024,
          1.4348564639414574,
          -2.3511068484669244,
          -3.358357227800607,
          -1.883823195408693,
          0.5920384725072921,
          6.382093354258877,
          1.109655398278823,
          -3.47116263712297,
          2.240496045243043,
          3.447981971069891,
          4.216370076999665,
          0.5626631012732107,
          2.8023597302878316,
          4.202533385404393,
          17.57850604990794,
          4.5517548425332,
          6.122151766691617,
          0.014510669914950149,
          6.0991979685561235,
          4.05984597109218,
          2.5318061720573812,
          -0.7543769046075028,
          1.8093745787468456,
          3.558127121066303,
          7.52001835342584,
          5.600026593668719,
          -0.5954750124945247,
          4.05278777555365,
          -1.5068312819068679,
          6.928062992082318,
          17.766457539457985,
          -0.34192887803812816,
          -2.9941361034564213,
          7.6248074662501155,
          -0.7060786223361074,
          -6.359866656784245,
          -1.312390445521176,
          4.856754744230907,
          20.391178523854204,
          -0.6122034353967167,
          -1.1037829277084414,
          3.4099006515140604,
          -0.3945607315461053,
          -1.667600249903159,
          -1.142743898245723,
          0.5060490232466348,
          -3.764405175221212,
          -5.739348011658533,
          5.0086508612981016,
          2.1334345046421106,
          -1.0158040041400598,
          5.4611357615787055,
          -3.048825204188954,
          3.0896517177878935,
          3.4982494559064885,
          0.2912661472553505,
          -2.525273906366291,
          -3.1860953398367866,
          -4.014471388121044,
          9.635648060503396,
          -5.774092950204241,
          -2.042266502263596,
          -1.994495632246353,
          3.2408391461992476,
          -0.2518108658339984,
          4.739541315485247,
          1.3558542190974363,
          7.168729176690707,
          3.3376764152625977,
          5.064401336979269,
          6.551485065964374,
          -0.28963147491699637,
          4.42940096576732,
          3.4978261867522265,
          3.7502897325738886,
          -1.9036666485022724,
          0.4449715220975917,
          6.538548134890458,
          -2.0432435660180985,
          -0.798911161664041,
          2.600981755708219,
          -0.20173750339660051,
          -1.4740570654826675,
          -0.4788149480349996,
          -4.132571275490206,
          9.156415917585516,
          9.437398707983379,
          -0.35981658318801046,
          1.5431431303323764,
          -5.317400288880376,
          1.3963477107130973,
          -1.3215963275809566,
          -1.654459973350632,
          -0.134480621858346,
          4.806455138163087,
          -4.797303874826928,
          -7.104306826521184,
          -4.145394228753133,
          0.5517438953699834,
          -2.1151647336209747,
          4.822250842468949,
          -3.7408393241657825,
          1.6271709133974583,
          8.057425683834833,
          -3.7017301759726644,
          5.235559307641881,
          6.7342279980029005,
          4.073687187327865,
          4.3753943734833936,
          6.704761019580919,
          0.3379393203319488,
          4.642776825489786,
          1.4555067749845276,
          0.25569507843291256,
          1.8622412294329898,
          2.024578816052429,
          0.3992953653735201,
          6.106675723725614,
          4.959261320483156,
          7.809944178612638,
          -2.5384771638512995,
          -0.9581415925060538,
          -0.16057518188776365,
          2.940542934377529,
          -4.5844287051555455,
          6.732220457008433,
          -1.9302967577349532,
          0.8162850700144645,
          3.561074831551809,
          3.9126149386767772,
          -2.8788773263657563,
          -0.9247806009498152,
          1.7851685885838653,
          -0.7676433529426665,
          7.646687494625008,
          3.3725933970477224,
          -0.9765388313484944,
          8.49101871137325,
          -1.0076352722350164,
          -5.802946350674013,
          6.63614523035411,
          -2.1330611070923524,
          -4.6228738755407965,
          -2.3036273415461057,
          0.501425111696364,
          -2.2728278261577475,
          2.679414148534799,
          1.6029909856023323,
          -2.9948494565889536,
          -1.224570254413224,
          0.9718803030527996,
          1.1932590351497425,
          1.6771211218092625,
          -0.6078046864392086,
          24.4529258842103,
          2.2933538549723416,
          4.327103059579202,
          2.5702107007053026,
          3.114587471800571,
          -2.2733070747086224,
          -8.429669349765078,
          -1.846256575949122,
          -1.049274231754275,
          1.8211701584575593,
          0.9092885622258154,
          -3.1051433141224933,
          4.867514606047372,
          4.71560915203391,
          3.8168596815087303,
          -2.0207243392622725,
          3.995622513729576,
          -2.9916203519747677,
          6.011527868498999,
          -4.907776327077251,
          1.3957568963012186,
          -4.7905208055171,
          -3.6468136867277603,
          -3.7642839302991757,
          -1.1704538202929307,
          4.533578003881632,
          1.9939099507562077,
          2.910115112169482,
          0.9036733058023587,
          6.8309401749807375,
          -3.297336383585802,
          3.1909506202727003,
          2.7306216332838127,
          4.12562381983509,
          4.075384622736625,
          0.24649433132320964,
          -0.34750590222558614,
          7.005465665394815,
          -1.9234062222180235,
          3.630065307448246,
          4.384018789044651,
          8.811481079219055,
          2.242464121036337,
          -0.25932884464564604,
          2.7482193716673895,
          1.7074562902330963,
          2.219285859182253,
          3.4279546049441487,
          1.5291458861728773,
          5.440067910609905,
          6.314012361966911,
          5.052092975758535,
          -2.02058909175319,
          3.024725410939607,
          -13.3102887714498,
          3.3502975371544577,
          4.0610746164763585,
          8.424262297304674,
          7.564861828435203,
          -0.07950353155918931,
          1.0543673644430658,
          -5.843788010931514,
          -2.8376852354469597,
          -4.501867746978317,
          2.62696839200358,
          6.037818919379352,
          -5.035546467573092,
          2.5763255903046995,
          -5.555744776980779,
          6.3985228510969465,
          3.5504461780753025,
          6.238560646039879,
          -6.453281237569297,
          4.939848037136892,
          1.3311592631743747,
          2.228195783491991,
          1.8570952307234367,
          1.870112607419615,
          3.316455832955473,
          -0.685646229224054,
          -4.400652429277022,
          2.415933659827499,
          1.2600870227126624,
          1.799887765991769,
          1.550897103969763,
          -6.488073856192169,
          -2.200659468918668,
          1.0759244927347504,
          -0.15508142182759282,
          8.14251226918838,
          4.640701230118251,
          2.593009434319316,
          3.231205345832456,
          13.555367892063304,
          1.9131270186466873,
          13.635194055685018,
          14.161639173930572,
          1.5327317768246018,
          4.31616533757993,
          15.569076375350484,
          2.336441344881214,
          1.1611003865193075,
          4.938198748950061,
          -5.682712327739638,
          -0.5966262372315762,
          0.7940050226859595,
          -2.159803392674325,
          -8.14613725093323,
          0.2549837375796651,
          1.6378224186261947,
          -2.26660833261343,
          -7.529590961490807,
          -12.638549593054368,
          2.1706247492758903,
          3.116737251487286,
          8.062666521308357,
          2.765730669186999,
          4.057714900427465,
          0.27793663442264327,
          -0.9041087729033014,
          3.346456224977708,
          3.902364021668755,
          -5.0327903974580614,
          2.0438336545111024,
          -4.033962770636839,
          4.846277773551282,
          3.3327735528600178,
          10.964381115309555,
          9.790704590288202,
          11.08267246086405,
          2.5145880023058407,
          4.509799587316408,
          -5.96023265114225,
          6.034289016351607,
          5.405640593361236,
          14.707057179299186,
          1.9906471179035472,
          -12.163029699439914,
          2.8426790175104215,
          -8.669330217516913,
          6.601667632393266,
          -5.779679523611393,
          4.330201756038135,
          6.744915245165579,
          -2.8670490628661116,
          7.381473612014503,
          4.5251237520313925,
          4.718316733738842,
          6.281049495081277,
          -2.971318754175019,
          0.08829839497844595,
          -1.4658939672462592,
          1.4886717593811012,
          2.821501210361642,
          -0.755607040937101,
          0.8822510000041324,
          -4.571710153752812,
          3.777314358325759,
          4.213420346719315,
          -5.221681878326729,
          -7.501259659870379,
          -4.9532888358309615,
          8.589075341253785,
          0.2286581177392728,
          2.051617388020372,
          3.371951901096407,
          -7.203867536462245,
          7.070542860572791,
          -0.02756610522065213,
          -0.7344779014693376,
          5.1252011855182396,
          5.036118731020524,
          -3.878443395939865,
          -6.857711812248459,
          -6.078682595413975,
          2.0675585278311157,
          1.9773253845061838,
          -12.341203576956882,
          3.073453265268405,
          3.9536519878049003,
          -15.062410426782616,
          5.995425490613687,
          0.7579093513255494,
          4.6973020194993955,
          2.3024497754062643,
          3.668749011278689,
          7.95778053690601,
          -3.16312402108752,
          0.8664065892552136,
          3.8221324648975,
          3.2742851691783756,
          2.7798528223119914,
          2.0137951985697655,
          -0.8439781637093557,
          -0.2186306106483301,
          3.47254354419469,
          -0.32807851512827996,
          -3.159444067704607,
          3.1229743851311746,
          0.9251031530275515,
          6.5611557546875785,
          2.6213070483704444,
          12.750748981780836,
          -0.10667966778781766,
          -1.305514875381539,
          -11.884346561848252,
          1.2428970549311806,
          2.6407678370559644,
          -0.7513334807507542,
          -1.133171030163569,
          -2.4725894937305517,
          -8.202786081848098,
          7.634088171847055,
          4.757121344710519,
          3.671739423682954,
          3.39527958880481,
          2.6049051799967624,
          -10.177996946202684,
          -2.3133402895586648,
          2.7146956799015753,
          0.1680815458185969,
          3.4589031592599424,
          3.943859315571864,
          4.169718378018337,
          -0.40308432630835817,
          -0.8830136503333675,
          5.146183636488374,
          7.592747175233333,
          3.1421247953622284,
          -10.509819953415812,
          3.5940305752117814,
          2.9241659297554414,
          1.461785086458807,
          -0.6547105359555699,
          3.3072148955749814,
          -4.588610676361889,
          -2.642793849757743,
          -0.3559545162357765,
          -6.756908004368905,
          5.324995780676861,
          -5.930101400554948,
          9.509354841079448,
          -0.05979135256351784,
          -11.148896786936362,
          0.9085706359563155,
          4.454002051171172,
          3.529053055634896,
          -17.870900115273898,
          4.0570658919558475,
          -0.5767791154841317,
          5.731295384601226,
          2.7851234570704926,
          0.5691073709823132,
          1.420512816912059,
          1.7297773345982337,
          -6.268466407219118,
          -11.469323976188821,
          2.595017648761045,
          4.106997366480065,
          7.64525785851584,
          -1.0032193198306547,
          1.423248665339934,
          1.231680045587648,
          3.2696938207494317,
          4.583377742338151,
          3.429077163813055,
          3.3739513576160007,
          2.5090240860681883,
          3.8615543542607287,
          3.3488042452324605,
          3.0345749259792094,
          -6.205460812241676,
          -1.3098827923214802,
          -0.3034470085891896,
          2.982699086870652,
          1.0087212767523892,
          2.6298396408915665,
          -10.668067657142737,
          6.394743989534657,
          2.7807695785549402,
          6.729368759221534,
          2.315527730813856,
          6.0424706541049655,
          3.400479619775214,
          -11.466389826196611,
          4.327381093846975,
          -0.5102654012540481,
          -1.7993987465002763,
          -4.819778281943479,
          0.7288089519713646,
          8.265220874301425,
          5.412979196840263,
          4.440964051569753,
          -8.113968099128739,
          2.0039068245252554,
          -11.806531202802427,
          3.886542838293773,
          4.156032168377167,
          -0.9172594928007614,
          0.015281423897585831,
          -7.606040757665385,
          3.6963639081421378,
          -5.402655874308935,
          5.677485898925781,
          -1.6753399321607962,
          -0.7559114134857882,
          4.658465218221519,
          1.4898940082190677,
          6.348898784653149,
          -5.399922183776785,
          2.1999270684256684,
          3.133188400941483,
          -3.01587658045971,
          5.907979494339064,
          2.4523221047342636,
          11.630588090147702,
          1.4728268687824535,
          2.248873357554577,
          5.197674875401997,
          1.6403948900429537,
          -3.74914903910497,
          4.026312302454288,
          13.324674297070386,
          -4.47853053759417,
          5.65474333778375,
          0.6580232953797575,
          1.853294170881963,
          11.11488996781025,
          -9.283100981173863,
          -14.69354841961346,
          0.757145962775442,
          -0.8922859760789732,
          12.846193193534473,
          -2.2487510432560756,
          -11.987329415592914,
          -6.451534261373544,
          5.197652991673265,
          -4.180889777232878,
          9.127368322612725,
          0.6744955313590792,
          -5.45439521164365,
          -2.5096797306972682,
          -4.148830298542854,
          5.681207018190021,
          3.1480999024938106,
          3.327536672270103,
          -12.933348654238012,
          10.82632856862333,
          -2.2605957489785364,
          5.430695736173164,
          4.224162845872955,
          5.064281904367257,
          -8.451151169054953,
          -0.14960720124225688,
          6.712726925106049,
          4.0422213120705,
          3.1390080872993984,
          1.2765946331097642,
          2.8716514939486473,
          -2.0802496850624674,
          -3.760965433735385,
          4.067952466062827,
          -9.040025532754296,
          -14.233659352442796,
          -0.07436136664880058,
          1.8944516780009584,
          -1.2097081077965794,
          3.725242905648477,
          -12.209886348074324,
          -8.77202197395415,
          3.1268753819354034,
          5.746739723425823,
          -1.9362173217309129,
          1.254632272528939
         ],
         "y": [
          -0.9794278079121324,
          -3.8595096362856034,
          -3.9981254301387925,
          -1.4406074931089496,
          0.8976297965268341,
          0.5834365003198398,
          -1.6416262529884198,
          -5.934018592286835,
          1.818320335192103,
          0.8973222989381965,
          5.0703492082802795,
          -1.714403883689093,
          -5.652428443089842,
          -2.060892424797211,
          0.3275946811337379,
          -3.7284414991407244,
          -0.21501867230238897,
          -1.7429210334130638,
          -2.526401811701403,
          -6.538860470532319,
          -5.500848489238737,
          -3.400367561101835,
          -3.1789869174215033,
          -1.9124507130540511,
          -8.41039568912715,
          -6.934603578893403,
          -2.450136539114422,
          5.305386464394868,
          2.4703924358338383,
          -1.370487935671726,
          -4.8768890413280195,
          -5.115128752706257,
          -4.009963543980434,
          3.1535220364453926,
          -4.776129379542729,
          0.6161835407082296,
          -3.4947752818422404,
          0.18483863475171824,
          -4.915998662293628,
          0.0753432444000688,
          -2.4578357207828048,
          3.51175583332662,
          4.0509893248746875,
          -4.0582789092296165,
          -1.1215544163248392,
          -4.22337300960102,
          -2.2902053057016403,
          1.9469781049458939,
          -5.739912440180686,
          1.1185585806913123,
          -0.18872010283962548,
          -0.6502182389612188,
          -5.731516734553012,
          0.8018842854630275,
          -0.04689832421935329,
          -8.533747814424723,
          -1.8184918196802577,
          -1.347594409778632,
          0.41065005551907513,
          0.07857333006764211,
          -0.8346277929537752,
          -2.349582947350964,
          11.306143206270972,
          -3.0974306469541264,
          6.445461659617706,
          1.6673049646499452,
          -0.9219803512317074,
          4.660767112615661,
          -6.308252355150322,
          -2.3122537702211954,
          -2.232532330820298,
          3.1771937208171472,
          -2.9093996700266382,
          1.2778228137852499,
          0.7738800598458064,
          -1.1580835161265195,
          4.379430103859108,
          -6.440539719011,
          -0.1782183720997276,
          -2.5523160898897927,
          -7.524378841243596,
          0.6892174018576827,
          -2.028760746652529,
          -1.6750779896627297,
          -0.2537670474247787,
          -3.119180718318781,
          0.9491709453430102,
          -1.9249717896213718,
          -8.144965420778332,
          -7.512552099815038,
          -2.134524759290596,
          0.6237914093665948,
          -0.9429878530423893,
          -3.9399048870493725,
          -2.6112202792388377,
          -2.44108768564788,
          -2.971399441265411,
          -4.717175649737502,
          -2.249181853994387,
          -6.116061510185246,
          -4.711929888741374,
          2.506742441961668,
          -0.5918106043533284,
          -0.654778188935956,
          1.8860648415597772,
          -0.09022725409826046,
          0.24596209750846998,
          -2.71358997850637,
          -4.188117518830649,
          -3.4791627976471307,
          -1.7422093149186284,
          -4.631174497512125,
          -4.868172492902486,
          -6.449156187568165,
          -10.253000663344906,
          10.09284464304432,
          -2.29493055513438,
          0.5002639247864139,
          -1.620021083223194,
          -4.76763122798929,
          -2.6219521319433894,
          -0.915406308729013,
          5.521655820747542,
          -3.567352029328171,
          -2.190668855526273,
          -2.434375469831678,
          0.23912543573673786,
          -0.6992895576767253,
          -4.912560552115786,
          -0.9240420383125831,
          -8.626637149400983,
          -6.474837345051818,
          0.7004123714045317,
          -0.39161345186380453,
          -4.160746926717126,
          -2.1282210250824436,
          0.8334946256992382,
          -0.2391158175730754,
          -3.988309233072049,
          -2.9686312399499886,
          -5.131224163066304,
          -0.5619590201342166,
          -2.7519078897817426,
          -0.9401109487702716,
          4.836433306689234,
          -2.0830539239290764,
          -4.944027246229006,
          4.840026476453706,
          -6.697746219801729,
          -5.395692611271607,
          -0.7355073829094468,
          -4.720191017757324,
          -2.532823493470155,
          -2.536637677070582,
          -6.125035266350124,
          -6.441962747281482,
          2.7526397011657546,
          -7.153357484534935,
          -8.472500219017325,
          -6.191462698492881,
          -3.66456209307316,
          1.854319582557016,
          -6.5435059023944655,
          1.2444034857276232,
          -5.240208423959748,
          -0.045273654832955104,
          12.468969449997138,
          -7.382594636812002,
          -2.5494901278245727,
          -4.367838541167704,
          -6.606352866529844,
          2.9399039142102734,
          0.5245579685361296,
          1.7117681253339627,
          4.676040544296053,
          -0.405495378268155,
          -4.043902260406093,
          -3.0784175995336884,
          -3.752356308803528,
          -4.204277477161806,
          -1.8937235764257887,
          -3.8179462523795564,
          5.132962397645243,
          -1.5274620073140497,
          -1.403176697949475,
          5.1547469910972366,
          -1.72960378675954,
          -2.5124125041841463,
          -2.254034111504581,
          -5.558577400877758,
          -0.8265898657890751,
          -1.9990655245079862,
          2.755414153654686,
          -4.991709171705745,
          -4.792748558001585,
          -1.390773589691461,
          -3.8606826133441103,
          -1.5144394553568512,
          -7.119536195906352,
          0.39826847140745947,
          -1.9463286169185021,
          0.7837026591770485,
          -0.11293699349588456,
          2.6467526066021576,
          -10.001309412700628,
          -3.5191748564691863,
          2.6619364391813014,
          -3.88965550587951,
          -3.0145239723573747,
          1.578770471620828,
          1.3238772848141775,
          -1.9583264863061172,
          -6.564484844598666,
          -1.281505689577005,
          5.1757299895446,
          -0.395984313458884,
          2.9736596975808944,
          0.8773630240863589,
          -1.4514773027157575,
          1.7663992646915436,
          0.2529598059446937,
          -0.6929002544583397,
          -0.11993376367411764,
          -2.1062573953743478,
          -6.823108601042251,
          0.8670870520382193,
          -1.5092194893240676,
          2.443127897899339,
          -5.558378413025285,
          2.785532113976165,
          -0.6962596468982951,
          -7.639155580588927,
          -2.3293940062020644,
          -1.390305688636988,
          0.9114358174303494,
          -5.0639517343858005,
          -4.6305132466413195,
          -4.523533861964776,
          -0.18823028391509264,
          -4.6469555067237005,
          2.0439623402456846,
          -6.4652263997209145,
          4.064145824535526,
          -1.8457247259052356,
          -8.334780204255308,
          -1.5986022036676137,
          -1.1681055050337488,
          2.2664282812736736,
          -3.2956126209474443,
          -1.8678807595706601,
          -1.790525770104426,
          1.9530910082006383,
          -4.24467439229378,
          -0.5416060480038095,
          -6.887575266843326,
          -5.335434614724314,
          3.2813100862878,
          -4.08108890678374,
          -0.18912607003974105,
          2.054206730570927,
          0.0850983338725863,
          -1.9115800286268125,
          1.1082865015376484,
          0.16935309223499934,
          -1.156058209194823,
          1.5831005773182134,
          -2.827957066615074,
          -6.5351792410122425,
          2.5312371662615427,
          -2.5003966400246442,
          -4.7433706278143815,
          -0.8758089644975315,
          -6.893395914898582,
          -3.532649110140933,
          1.8306930434310154,
          -0.6181994828684259,
          -9.371545516642893,
          -1.0763573024459665,
          1.252433611917015,
          0.5739406893274495,
          0.03665519813627894,
          -8.231786077328152,
          3.0705292889698343,
          -3.5295531929233155,
          4.369703637512844,
          -3.3590724072784655,
          -5.194135717759104,
          -1.1437159041396894,
          -6.439623553633047,
          -4.233903416893322,
          -6.530524661945643,
          3.817142406802518,
          -2.2108600080108634,
          -6.196972589013443,
          -2.1847346771038203,
          1.4587549475265582,
          -3.3164222338980562,
          -2.172958335451244,
          1.2297773178997489,
          -5.277777502603874,
          -4.421388362004612,
          -2.247156579994697,
          -8.020554629968476,
          -7.161776668721038,
          -2.7276388580728095,
          -4.6105873062512135,
          -2.3508801441458886,
          -1.5939282944105233,
          -8.918901438859686,
          2.261709327455077,
          -5.3527300640366455,
          -0.7992735577620956,
          -6.090442785840348,
          -2.548383159266549,
          1.0312724421369304,
          -1.613505639172275,
          -4.60565696910871,
          -9.45590522906136,
          -3.2993918263454027,
          0.7063900121256826,
          -5.262908217901802,
          0.20407823593090427,
          -0.6397453052166463,
          0.774083824984568,
          -4.84364743531706,
          2.898413222082284,
          -1.4446746429732342,
          -6.469282917434582,
          -3.721564923495621,
          -2.487821080327852,
          1.0815520332136552,
          -1.8396557704572079,
          -4.682660597170821,
          -1.3505271234186993,
          -7.510653669413724,
          1.4703798709775842,
          -6.443082738857073,
          -1.9455217614673725,
          -5.030282061469103,
          -5.723220443121739,
          -0.12387675658490731,
          -5.342497231273757,
          -6.286715715834097,
          -1.6754353243437603,
          -7.422402548163263,
          -1.142913065692019,
          0.9367387042375644,
          -6.16319439322971,
          -1.8855182675364042,
          -1.369603753211864,
          -3.9382009613009106,
          -2.01145154528782,
          1.732469342518454,
          -2.281306838464354,
          -1.02554963684277,
          -3.301879461615642,
          -1.284067581087836,
          -2.160775133373089,
          -0.22777517905525732,
          -0.5285111733414146,
          -5.938654713634803,
          0.015078211396500308,
          -0.6334660403098311,
          -3.2949158518721933,
          -5.983456378316128,
          -6.229543132530047,
          -10.70246571537769,
          3.9003261533844595,
          -1.2431151033714172,
          0.21356286422600557,
          -2.2608088695903485,
          -3.784909277721589,
          -3.411296947971826,
          0.9002665000774622,
          -0.8318887481781789,
          -4.227744836641931,
          -6.910042668664362,
          -3.7320507965851357,
          -3.42980461516038,
          -7.644346176300354,
          -3.976870763274267,
          1.2939192562709543,
          -2.023031269956757,
          -7.440349030192381,
          2.265741415218667,
          -0.023149329254578643,
          -0.5217815185667244,
          -4.071339899893242,
          -4.696744800568803,
          0.22207733305627775,
          2.1220349424895444,
          -6.9637750803383796,
          2.653538114386373,
          -6.637173569256548,
          -2.592055570090458,
          -3.7787016931708366,
          -0.39037406013988063,
          -2.9377787631173433,
          1.9087722522000237,
          -2.5334888625260166,
          -6.7144854202194,
          -8.175926340574089,
          -4.414851490192912,
          -4.719500314724194,
          -10.135325321856557,
          0.01111369588983073,
          -4.661320350796332,
          -9.92504583982253,
          -5.9523328751883176,
          -7.581108569861595,
          -6.733946202171949,
          -3.6934500672727824,
          -6.093174136864229,
          0.16930673625417522,
          -2.6283598814976967,
          -1.1642125347541399,
          1.6553828141682931,
          0.7772593919360962,
          -0.4644654019970425,
          -2.3860112948982883,
          -2.9307945492578997,
          0.8717004642943303,
          -2.250786240311158,
          0.05740138741413395,
          -1.6431626852999202,
          -0.4325090874361048,
          -3.5816056292470035,
          -5.937437012594387,
          -6.576260594346679,
          -4.45104451447262,
          -3.617715476155397,
          -0.3949213236257895,
          -8.982451856381914,
          -3.7371975932363473,
          -5.075681157622831,
          -3.066689923128443,
          -1.6499806765001441,
          -9.21001250534877,
          2.485643457681411,
          -4.181576329391641,
          -5.908179655760388,
          -3.51233335855883,
          -0.05792691813386284,
          0.805436861460581,
          -6.673494104248225,
          -4.279333865272407,
          -1.558222772338738,
          0.8775680913327961,
          -2.5895811515142038,
          3.9538704138172047,
          -2.568927754029252,
          -1.5774851421460645,
          1.167062220110805,
          1.0705095231970527,
          1.0511730335208704,
          -0.2417930441580295,
          -1.0709713506090028,
          -3.3573607120691964,
          1.8609904867837048,
          -3.5473730784076416,
          -5.265945681364613,
          -4.000097179754012,
          -6.571170990979855,
          0.261373696390946,
          -1.3755933966969727,
          -0.5835981488362687,
          2.2703721324206194,
          -1.8021361289572477,
          -3.991197383330074,
          -1.6833483568669545,
          0.39148436375335965,
          0.22039767596489354,
          -2.0870203771793876,
          -5.058119347983903,
          -6.39459086968783,
          -1.9325686494392655,
          -3.5634755315221995,
          2.4247172147807956,
          -3.6597904371053946,
          -1.4593720046600498,
          -4.202673716685963,
          2.4982981436255076,
          -1.5568419470195451,
          -1.0000650317202213,
          2.6407556184892718,
          -5.984206067555873,
          0.2716977021449956,
          -1.2594588220029517,
          -6.774447836364631,
          0.3144490747549353,
          -2.2235286921426862,
          -4.346455612788485,
          -5.4584249600596415,
          -4.158890408382817,
          -2.333915271971997,
          -3.4179529132223054,
          -1.454165723026825,
          0.48009222510437816,
          -2.836341317031821,
          -0.23065611570077502,
          -3.0142287417684535,
          -10.095821543327116,
          -4.203454046995654,
          -1.8369415707601593,
          -1.7535571631641533,
          3.788736983281415,
          -2.143218144908172,
          -3.9751066876157677,
          -0.8629723127582779,
          -6.6465301143644675,
          1.5128581206568308,
          -2.941898555985094,
          -7.300690902943943,
          -6.243116368699474,
          0.7730321843502674,
          -0.7536119746245631,
          -0.7958760012682412,
          -1.032814848374667,
          1.3083324313646136,
          -1.4518075662246357,
          -2.030036022157846,
          3.132528892250221,
          -6.085021049090188,
          2.4810212381260883,
          0.9643096402819344,
          -0.3239375001124943,
          -5.750033084173285,
          -6.621263094953244,
          -6.5345459580196135,
          -2.05538705283705,
          -3.070870536957702,
          -6.994663575780345,
          3.2998581864720666,
          -6.40064225730037,
          -0.23081394024817076,
          -4.251114901634018,
          1.7320099180637734,
          -2.197534318287708,
          -0.48745855831881013,
          -2.960327992846624,
          2.2093871475866407,
          -2.4594253351000828,
          -4.73436867787245,
          -1.3803384052500034,
          -2.9592230742836416,
          -0.6344949836604393,
          -5.17867537298088,
          -6.271525833595238,
          1.0084376572788452,
          -5.075892573003567,
          0.2602821753936186,
          -2.848035588399037,
          7.53382726203142,
          -6.810238962430589,
          -5.8893958421096295,
          -2.193061524350154,
          -8.596031684296767,
          -0.5239316307999056,
          3.4132558499034995,
          -3.22327558761923,
          -2.877101697121459,
          5.01959169822781,
          -4.27041146991669,
          -5.381319396649233,
          -8.761086268444995,
          -5.511988563352041,
          -2.3464593211204656,
          -0.4027671359834049,
          -2.403999315604539,
          2.663271468872164,
          -1.3951496858704395,
          -3.7024198883844446,
          -5.443042035238318,
          -5.322226758440755,
          -5.400150141670188,
          -5.636456301629362,
          2.2580132622878306,
          0.9861340978580476,
          -2.197598149831779,
          3.878018886448091,
          -1.9282603808119114,
          -1.0600737748072149,
          -1.325473155475136,
          -2.8207600150380556,
          -6.96714598212731,
          -1.5585268204161729,
          -10.1016290133368,
          0.004799034219708231,
          -0.9662521865107283,
          1.5101840034839131,
          -1.9609472557806622,
          4.474017107949018,
          -6.204576452614166,
          -1.2081140670816575,
          -1.7358310170460833,
          -4.945693504310905,
          -6.255767660364952,
          -9.607166808520141,
          -5.15874452917522,
          -3.745439138342097,
          0.8139208816353344,
          -3.547798978861644,
          2.3891235363910988,
          -1.5220529573639319,
          -5.137280873112062,
          -3.280528789320705,
          1.11145626605481,
          1.9035262341478127,
          1.1603404248425044,
          -5.299550919486709,
          -0.26434290118510717,
          -3.322212307234626,
          -2.988302527176392,
          -1.4451875530988174,
          -0.3120909212948902,
          -1.7785352692369865,
          -3.935807183973155,
          -1.1331861126289788,
          -0.4174293993268839,
          3.598191084214105,
          -5.3774663670314045,
          3.546448534623534,
          -1.2692094031057028,
          -8.168241003211048,
          -1.97574879760696,
          -6.633065281531604,
          -1.8800448587319778,
          -3.3485115096561695,
          1.0679619229396908,
          -3.121299377144833,
          -4.598529668321219,
          -5.294080042388429,
          -7.682083067983747,
          -4.341711087656308,
          2.066079481569504,
          -6.1706493855304405,
          -5.220737260112395,
          -2.3059877074064907,
          -3.135653549150168,
          -3.4898044723688537,
          -8.663819794765143,
          -9.11747189758128,
          -4.224898315682172,
          -4.761155217913652,
          -4.081330313229125,
          -3.6220315951869155,
          -1.2794587539834723,
          -0.22617403841770764,
          0.46759620024796084,
          0.5467294500328391,
          0.5177840295285394,
          -1.1218061212778927,
          -8.8723878941588,
          -0.7415351261940832,
          -0.12045616312739017,
          -4.742079321256641,
          -0.9269543572773237,
          -7.161099120548645,
          1.9980801177945378,
          -7.947295066448035,
          -3.5565345806748185,
          3.966595696860727,
          -2.4179263572990872,
          -3.334446246584474,
          -8.90711011039566,
          5.9671904555124495,
          -2.2696842389295755,
          1.0306663256823236,
          -5.386662617554676,
          -2.744769744737147,
          -2.7213891850255583,
          -3.7402489890427755,
          -4.591638955501087,
          -0.46502888465274866,
          8.80656096260807,
          0.9663749209614846,
          1.348017673357024,
          -2.6457636053457203,
          -1.593824921135303,
          -2.2052873696348496,
          -1.763835567925684,
          -1.719333629384515,
          -4.47228132308291,
          -2.2157332416332793,
          -7.8095646901759155,
          -1.2167322324468148,
          -0.046109290410569916,
          -3.9496777008464554,
          -6.571920757184315,
          -1.4941445200037824,
          -5.271690189311946,
          -9.960129019663468,
          0.36231337011403963,
          3.143665114958192,
          -0.6262871362646077,
          0.5031473003263881,
          5.9269562513451275,
          -2.446662613851986,
          -2.789342823675166,
          -1.792899628627589,
          0.5847754025911902,
          -3.441569323200204,
          -4.547395029173493,
          -1.2994744102543914,
          -4.971029468963282,
          -4.709604293008678,
          -2.6861071101925407,
          -4.098122314914906,
          5.741230977122977,
          -4.347783546457036,
          -1.468368640161034,
          -1.236345244774928,
          -2.151339923819283,
          -3.0138064583222297,
          13.739879443447105,
          -6.535829351006089,
          -7.938662649843821,
          -2.11011974520799,
          -5.02503908887577,
          -5.199469724249347,
          0.18126732289762204,
          1.629154534079158,
          -1.4391012740875417,
          0.7099572213523082,
          -3.7192314667190924,
          -0.5151809807712266,
          -1.719546611364521,
          0.511294751856989,
          -2.7360184170477977,
          0.6752416751930354,
          -1.9529367927278531,
          -7.0578630292816,
          -0.24371678104160538,
          -3.5748873818300457,
          2.810574611480871,
          -3.9206218199768332,
          0.6900270036231057,
          1.6371017323148025,
          5.268793956068678,
          0.07749131969555331,
          -6.000690267840717,
          -9.14688464748392,
          5.37218913288098,
          0.19850242223479558,
          -3.1050478262877306,
          -5.0107602108255795,
          -4.733483295322334,
          -2.7948241665136493,
          -1.3996758806875826,
          4.916487217733865,
          -2.609627405914208,
          -0.9102170666269082,
          -0.3130234822867306,
          -3.3405020305547417,
          -6.827683371771704,
          -7.717510137401623,
          -2.5465236908109716,
          -1.5271187282995715,
          -2.169840863471232,
          -5.920114496184417,
          -1.8372868072180844,
          -5.579371595761654,
          -0.7325792160838007,
          -4.966443028087244,
          9.679367520399882,
          3.496270062012908,
          -3.079492774775982,
          -1.183665473163644,
          -4.780155794610425,
          1.3650461177548452,
          0.7202720507605587,
          -1.676560941955273,
          0.8122694616802517,
          -0.5657521583803258,
          -1.6906317113537963,
          0.719476494535532,
          -2.2385839638203096,
          -2.9041231948322435,
          -12.545362946719298,
          -10.16703156007583,
          -2.530772152118538,
          0.0320901837952435,
          -3.774367203702798,
          -5.048933349871888,
          0.29220321623697615,
          -3.3578950134183136,
          -5.9345700866410755,
          -1.9356442770443365,
          1.9529035081148853,
          -4.273731598106633,
          4.131969670677014,
          -0.8485167159242821,
          -2.1029029915130004,
          -6.675871379195013,
          -2.236713380571157,
          -5.101841994016522,
          3.6382977554725384,
          -1.1804705178805783,
          -3.2145484929543784,
          -4.3933225712396515,
          2.397578028366984,
          -0.809247820364263,
          1.600722271378011,
          2.161569660691949,
          -4.201909208627112,
          -6.480341979517849,
          -2.8671085941382857,
          1.4435353012110745,
          -3.4660626139264616,
          2.731217801689591,
          -5.724851296316255,
          -1.0701053570687624,
          4.628954125532683,
          -6.259557176407618,
          -2.179827406161689,
          0.6551779300838831,
          3.7361409258452474,
          3.2803918750426875,
          0.9976640118742441,
          -0.46667004829967207,
          -6.146076597104031,
          -4.168914433158934,
          -1.8033697028104203,
          -3.1118354393629177,
          -1.2816296538029166,
          -6.339473971691061,
          4.6346891801668955,
          0.7985844546025864,
          -1.8410204944055788,
          -1.4853496036216949,
          -0.2659187203277353,
          -0.9774483598631666,
          -5.916067361216813,
          1.3928741000485072,
          -4.07504125574314,
          -1.4398840389030432,
          5.420294031550928,
          -5.1437897602057685,
          0.16574748539747122,
          -1.9071379461130806,
          -7.033858916658785,
          -3.3923684501394984,
          -3.968876430572441,
          -3.766076583592271,
          0.8367006016877953,
          -2.2544655827641202,
          -5.617075788258348,
          -2.165561064210942,
          -1.0998947708273756,
          -5.604112237937475,
          -4.6743617892430445,
          -1.933059869760209,
          -3.7309292564841483,
          -4.309439053656231,
          -2.7701013949766398,
          -0.954185004639983,
          -2.56283152292701,
          -1.8024464899363515,
          -0.5487982355691682,
          -4.2103292383573026,
          -0.7884894915053977,
          5.261678655922793,
          0.4549037404629611,
          -0.4995685321801207,
          -4.099511983233285,
          -3.469600178437303,
          3.4239837774874418,
          0.06399333149397946,
          -7.196301209978279,
          -1.0763502175946233,
          1.5621562931454687,
          15.924000548861578,
          -1.468487377141661,
          4.216952895778203,
          -4.051308946812501,
          3.4520875034143566,
          2.8143102389112933,
          -1.2430171148418314,
          -0.8269909570868014,
          0.011245346115452198,
          0.6191562625621757,
          1.0225524741965017,
          -2.070256169169072,
          -6.281309660481996,
          0.9196417788395789,
          -0.8129783027346825,
          1.9925437973246347,
          8.287747099609003,
          -4.164563850871849,
          -5.527835414936554,
          1.662193379776942,
          -9.309701114246513,
          -2.721169397178802,
          1.1196863760707259,
          2.8294636516559617,
          9.216808836283475,
          -10.464194914791731,
          -3.0498110082667615,
          0.02220837073614682,
          -1.3566771027732554,
          -0.3981767945998999,
          0.0530305928596236,
          -2.7094609882112497,
          -4.288566056349819,
          -5.328192264606243,
          0.5678250169122079,
          -5.329485524033294,
          -3.1654612330077407,
          -1.8639282542484192,
          -4.648255222978195,
          -1.1169424833584816,
          -3.9719450341265423,
          -0.965385494714803,
          -7.266733761001476,
          -1.851502856283352,
          -4.084029444383272,
          4.0175582662824985,
          -3.1568412108605948,
          0.7798035689323282,
          -3.650755985851561,
          0.41877927464368137,
          -6.150855008581986,
          -3.17133188748357,
          -2.7264262789224665,
          0.7774039302394922,
          -0.554525523907613,
          -2.371854901667588,
          3.367674017391937,
          -2.2551443329956555,
          -2.669425429220864,
          -0.49971145167102127,
          3.7995758745306185,
          -1.0380608454477225,
          -0.28627856705433063,
          -3.126368577160217,
          -2.2882099033262975,
          -2.0508144843833533,
          -3.7722064087120897,
          0.17200947256460825,
          -7.0649714374215,
          -7.741368351022566,
          -5.512931071091525,
          2.3524146454342927,
          6.559047333095599,
          -5.216581785368677,
          -2.2663784051225573,
          -3.962567555628895,
          -1.2366441510754727,
          -1.8390532359887937,
          -2.3513548215201308,
          1.6498097032320962,
          -3.075678554905044,
          -3.258053114212584,
          -6.8149390500219935,
          -4.688834702759073,
          -2.778623791839923,
          -5.284696381699341,
          -0.8144998155271724,
          -6.868716150618641,
          -1.480274710222183,
          1.530872142502844,
          -7.2061853987997875,
          2.082669769327221,
          0.08003795347844164,
          -3.008639229729783,
          2.9481567223964262,
          3.909378088312245,
          -4.491801805360168,
          -1.05671471047121,
          -3.8184683951612843,
          -4.93896515594838,
          -3.4846382112591296,
          -1.3983475237129637,
          1.157196822249987,
          0.8213752872479144,
          0.8207505945006546,
          -2.165030843169895,
          -5.303463396316487,
          -2.322197185146034,
          0.7413706119880873,
          3.5785059629568874,
          -2.5819185098197077,
          -0.3685288676251202,
          -3.770305384983235,
          -1.0194473744392867,
          0.18724883816748755,
          2.1524836217620877,
          -4.423996528558684,
          -5.262393684371099,
          -8.075307555350824,
          -6.313400367233177,
          8.203042901115047,
          -1.989089591478054,
          -1.319445650127263,
          6.065280025520029,
          -3.6873404225765176,
          -4.2981188523381695,
          1.0186502842943128,
          -6.582141213335216,
          -5.466828510943239,
          -2.3831726545567498,
          0.16416444203507682,
          -6.276853614608533,
          1.2301633104782064,
          -3.8997821358927713,
          -2.7408569617282006,
          -4.409248865195765,
          -2.948340133942186,
          0.39705983292539393,
          -4.708853831116728,
          -0.27318511102556087,
          18.329620084651545,
          0.588200681988256,
          0.4064202283450729,
          -2.6179378652500866,
          -4.452851390965179,
          0.029327927548245314,
          -12.02809598247428,
          -5.986430536884489,
          -0.8313343728082074,
          -5.530532079294068,
          -0.47052841027762454,
          -2.373104821346437,
          1.6566457110858206,
          3.6722115335246492,
          1.0372247351978576,
          2.018441463626021,
          -5.920556053558643,
          -2.1269939886061695,
          1.9304530660463188,
          -4.523440794324123,
          -3.48545905474891,
          -6.888904490573632,
          -4.782937069077399,
          -7.025128202415138,
          -1.6161125949433646,
          -2.5081002203356344,
          -3.6678754046547786,
          2.4282239563164496,
          0.050565704420324466,
          1.2779071009894227,
          -3.41288806109971,
          -1.8591818644303895,
          -0.017835081340711868,
          -3.371934573618333,
          2.2445103010283387,
          -1.3912995020524352,
          -2.669656192312278,
          -0.5964394379754777,
          -5.058774422056291,
          -4.506811245918244,
          -0.8412957521103536,
          3.6474241403890955,
          -1.1317352991978797,
          -0.5438268166846847,
          -1.9352802386924421,
          -2.611206150392912,
          -1.5283581813625406,
          -2.1483824497666655,
          1.9557201371619548,
          0.12841888924787737,
          -0.29963565387944846,
          -2.0867628998435808,
          -2.5040546590745327,
          -1.6944847720999627,
          9.469182524532895,
          1.411467846245538,
          -0.7843405047681173,
          6.522124105052409,
          2.4414963188847687,
          3.45439365454484,
          -8.085411050692358,
          2.371441030206145,
          -7.18986885142143,
          0.4026036983850039,
          -5.735508469235505,
          -2.301508612079231,
          3.3045320835792187,
          -1.2817190757802286,
          7.406212339024441,
          2.6034236712729584,
          -6.657049964798327,
          2.9091796686312477,
          7.846634751234841,
          4.225092128372469,
          3.1889448233531366,
          -4.864145745099356,
          -0.3328792107191816,
          -11.033244540436856,
          -1.3214224333461198,
          0.5112743767878757,
          6.046413392550452,
          -1.2292750263011163,
          -5.814423357990485,
          -5.086590931822066,
          -4.425493933088342,
          6.272205097969204,
          1.6999491286285344,
          -3.9259599114195343,
          -6.44467945940581,
          3.9083180858470365,
          0.02897832724323611,
          -2.4149387985005193,
          2.4956060565479588,
          8.25186598385031,
          -6.172909678789394,
          6.076063490443598,
          12.609147920935651,
          0.8634649773153455,
          -4.663575820274997,
          15.244120511510234,
          -4.537450938821359,
          -7.216483943861011,
          2.2465867477525094,
          3.5672429771105314,
          -2.190022974769051,
          -6.895044821016668,
          -6.307945410098828,
          9.044068047069937,
          3.077358063384374,
          -7.3044231431122295,
          -2.2580159225790655,
          4.554301699766188,
          0.7985849648290286,
          -3.3876643773622823,
          3.0668791848058765,
          6.484701026535396,
          3.252226152113022,
          2.973014098412422,
          0.04263453383201829,
          1.170314045931482,
          -1.8698450136831481,
          -6.557286971569366,
          6.600992078013826,
          6.348477004583732,
          -5.4015382221557235,
          3.1631655562762084,
          0.04910728528174719,
          11.968929951640046,
          3.1116559749086496,
          7.485613883678189,
          2.4848083586175873,
          -1.9644209478058303,
          -0.3649381154234683,
          4.309494896516383,
          2.5438776394892333,
          10.859109317193708,
          -0.010061883853624057,
          3.6103278589313184,
          -2.723683683354488,
          8.039547333790392,
          5.303374269190827,
          2.6519995645080403,
          -5.978605708524003,
          3.538160944413777,
          5.968728306606888,
          -0.5412866180104607,
          0.833390754256708,
          2.487294639144702,
          -3.4213717091436227,
          4.546528712674183,
          6.006395110801604,
          4.970040450879337,
          -6.545506636310211,
          -6.691327283082661,
          -6.847038639095569,
          -0.29534876762671547,
          2.4794357353037815,
          1.6380004912727126,
          -4.1838128562118975,
          2.6402518548111735,
          7.324410581006468,
          1.610388850143639,
          2.381555091104971,
          -4.058480471062764,
          0.34675830206716074,
          3.981004635287071,
          -1.567592178865328,
          3.2720838942785875,
          -10.560076156607828,
          -10.941240257700766,
          6.124030124181687,
          2.865821329445236,
          3.9595610530211047,
          2.1279933037654213,
          10.61663860145546,
          -4.945022875374445,
          -5.376297192618733,
          -1.9081183994800253,
          -2.285033978514534,
          -7.2609502518319164,
          2.707136831322808,
          -4.010711211128994,
          0.21762466001981798,
          -2.4067292701433964,
          0.33585233063630193,
          -3.928275052083092,
          6.454517359699073,
          4.902965438785004,
          -4.957388895142808,
          -0.8509363929593469,
          -2.8868038371845244,
          -2.9709093354931615,
          -3.799267737418335,
          -4.17532207397906,
          7.670487478034856,
          -4.935202793437337,
          -2.040573442328542,
          -14.90136623848346,
          -1.0792840150983003,
          2.107803106619573,
          2.760920611285843,
          0.5121831921607483,
          8.836329582219097,
          2.0683399534146067,
          4.673223409120594,
          5.298875345356105,
          -8.012383284579379,
          0.056686260853487734,
          -5.375704405959446,
          2.2751861352681466,
          2.1594595650353376,
          7.584006977820974,
          2.5830991458633235,
          -5.079888899984092,
          2.067127377347946,
          4.587347385076874,
          -7.350080113116581,
          3.2640294981083877,
          1.7139022341677275,
          -6.31563435943416,
          -5.0127827841742905,
          -0.7719277330955406,
          -1.5357559956222044,
          3.638728867056041,
          -9.405148363879649,
          -5.437242386714102,
          -4.0522687699991815,
          7.057405617590476,
          -3.45953405149066,
          4.728222610897593,
          2.745337734609813,
          1.192823081699265,
          1.7717722596044228,
          -6.545605937562827,
          -2.9836777681447515,
          -3.5202140041358434,
          4.60272499759486,
          -10.66992961311285,
          4.598450867396024,
          2.914405018683988,
          5.983534895499759,
          0.7605035471576119,
          -9.856029217730331,
          4.483144506819638,
          -7.476276609044398,
          -3.447682484012146,
          0.7155593052741119,
          3.210997663472843,
          0.9678824696360129,
          -13.21811506036027,
          3.713296180188553,
          -3.2127302959268893,
          4.046555020332826,
          -6.0085458802265865,
          -0.5520037659219269,
          0.2467177924048549,
          6.872269623228434,
          -3.6608830763602263,
          -0.7830079291594932,
          9.178120061205187,
          -0.48969128801279393,
          -8.098439331166489,
          -5.035263966007956,
          2.980764417287666,
          0.5896632260253165,
          1.599672144282438,
          -2.3560822054212465,
          -1.0453304703697694,
          -4.163725991115525,
          0.7821635910787158,
          -6.088337082486003,
          6.248457978020714,
          -5.432733494142941,
          0.8039278258577939,
          -3.662476227681888,
          3.8310085756973398,
          3.534800233046681,
          2.938205642140491,
          -2.6195388824052244,
          -10.02710396894215,
          0.8478474306833526,
          0.8255429985529499,
          1.0350352616560756,
          0.9174207322347627,
          4.772862144174674,
          0.8451158275166128,
          5.6438892243216054,
          1.6043884574649139,
          -0.07536154501565985,
          5.38556221323295,
          5.656496584248413,
          5.730497802557781,
          -0.5422954836112434,
          9.320945736468614,
          4.3205415900640585,
          5.1789141540272805,
          -0.5720476084213155,
          1.976459360390078,
          -5.479317234585892,
          3.0666083223481344,
          4.473315595094811,
          -1.8981561171361634,
          0.2759011243375277,
          -5.755248471510164,
          1.1237051415278794,
          1.1128953646723527,
          5.455446140810361,
          4.6713199078031735,
          6.67532135347069,
          0.4756197215253854,
          4.428736409436337,
          4.992984260139089,
          6.382038539581337,
          2.8346977793805928,
          2.0807581116131106,
          2.5537360136133382,
          3.09022231121677,
          -0.016171005916348805,
          0.29213508011767153,
          7.713089878575857,
          4.464469503089826,
          0.7084440117845647,
          9.218073314355541,
          -2.6348136827056474,
          3.190864332928359,
          -7.865133907561975,
          -0.9253354239205334,
          4.493522825467382,
          -1.1137063361722765,
          1.6930391678653076,
          2.0030255783171165,
          4.536033083923709,
          11.476943034406156,
          -15.865058038185573,
          3.702348108820645,
          0.9900669733152276,
          1.6343763931705413,
          2.2366573038350355,
          -0.2527731399423957,
          2.9492742833666425,
          1.8078121760338408,
          2.1792565859535027,
          3.4591054621078716,
          6.097617073591133,
          6.304864435075252,
          3.774682704403331,
          3.6658492494587755,
          4.915560931675586,
          -2.3136658756177746,
          3.32847718129076,
          1.9403276231510176,
          1.718444317546027,
          3.6819714006140285,
          -9.208673947349048,
          -2.4148155437255685,
          2.630238229322354,
          -1.0036322403404567,
          -1.654510288381903,
          -6.170773550120416,
          -9.966800988823715,
          1.5024428277998598,
          -1.4447467260731663,
          6.4699427715265045,
          2.8767301874489526,
          -9.829881999048636,
          1.7321425577705103,
          5.166277907686383,
          -5.068270970139997,
          4.480909879081012,
          4.751645676011284,
          2.5318075766086,
          3.370453603964473,
          4.059238353603339,
          2.477385369422543
         ]
        },
        {
         "marker": {
          "color": "purple",
          "opacity": 0.4,
          "size": 5
         },
         "mode": "markers",
         "name": "Long Reliever",
         "text": [
          "Johnny Cueto",
          "Jordan Lyles",
          "Tanner Roark",
          "Kyle Gibson",
          "Colin Rea",
          "Dylan Bundy",
          "Joe Ross",
          "Ross Stripling",
          "Adrian Sampson",
          "Robert Gsellman",
          "James Hoyt",
          "Keury Mella",
          "Jesus Tinoco",
          "Brent Honeywell",
          "Trevor Williams",
          "Sean Reid-Foley",
          "Jordan Yamamoto",
          "Ian Gibaut",
          "Jaime Barria",
          "Thomas Eshelman",
          "Jake Woodford",
          "Dakota Hudson",
          "T.J. Zeuch",
          "Tony Gonsolin",
          "Stephen Nogosek",
          "Drew Carlton",
          "John Schreiber",
          "Darren McCaughan",
          "Chris Paddack",
          "Jordan Holloway",
          "Miguel Yajure",
          "Paul Campbell",
          "A.J. Alexy",
          "Spencer Strider",
          "Johnny Cueto",
          "Ross Stripling",
          "Adrian Sampson",
          "R.J. Alvarez",
          "Robert Gsellman",
          "Jesus Tinoco",
          "Yonny Chirinos",
          "Trevor Williams",
          "Sean Reid-Foley",
          "Ian Gibaut",
          "Jaime Barria",
          "Jake Woodford",
          "Dakota Hudson",
          "Ian Hamilton",
          "Stephen Nogosek",
          "Drew Carlton",
          "Tyson Miller",
          "John Schreiber",
          "Phoenix Sanders",
          "Jordan Holloway",
          "Miguel Yajure",
          "Sean Hjelle",
          "A.J. Alexy",
          "Brayan Bello",
          "Ryan Pepiot",
          "Spencer Strider",
          "Johnny Cueto",
          "Colin Rea",
          "Ross Stripling",
          "Yonny Chirinos",
          "Brent Honeywell",
          "Sean Reid-Foley",
          "Ian Gibaut",
          "Jaime Barria",
          "Jake Woodford",
          "Dakota Hudson",
          "Ian Hamilton",
          "Stephen Nogosek",
          "Drew Carlton",
          "Tyson Miller",
          "John Schreiber",
          "Darren McCaughan",
          "Chris Paddack",
          "Sean Hjelle",
          "Luis Medina",
          "Osvaldo Bido",
          "Levi Stoudt",
          "Jeff Lindgren",
          "Quinn Priester",
          "Ryan Pepiot",
          "Davis Daniel",
          "Brandon Pfaadt",
          "Rich Hill",
          "Tommy Milone",
          "Drew Smyly",
          "Daniel Camarena",
          "Stephen Gonsalves",
          "Ryan Yarbrough",
          "Joey Lucchesi",
          "Daniel Castano",
          "Jhonathan Diaz",
          "Bruce Zimmermann",
          "Nick Margevicius",
          "Cristopher SA¡nchez",
          "Ryan Weathers",
          "Hyeon-Jong Yang",
          "Tommy Milone",
          "Brian Moran",
          "Ryan Yarbrough",
          "Daniel Castano",
          "Jhonathan Diaz",
          "Bruce Zimmermann",
          "Cristopher SA¡nchez",
          "Michael Plassmeyer",
          "Rich Hill",
          "Drew Smyly",
          "Ryan Yarbrough",
          "Daniel Castano",
          "Jhonathan Diaz",
          "Bruce Zimmermann",
          "Cristopher SA¡nchez",
          "Ryan Weathers",
          "Johnny Cueto",
          "Jordan Lyles",
          "Tanner Roark",
          "Kyle Gibson",
          "Dylan Bundy",
          "Joe Ross",
          "Ross Stripling",
          "Adrian Sampson",
          "Robert Gsellman",
          "Brent Honeywell",
          "Trevor Williams",
          "Jordan Yamamoto",
          "Jaime Barria",
          "Thomas Eshelman",
          "Jake Woodford",
          "Dakota Hudson",
          "T.J. Zeuch",
          "Tony Gonsolin",
          "Darren McCaughan",
          "Chris Paddack",
          "Jordan Holloway",
          "Miguel Yajure",
          "Paul Campbell",
          "A.J. Alexy",
          "Johnny Cueto",
          "Jordan Lyles",
          "Kyle Gibson",
          "Dylan Bundy",
          "Ross Stripling",
          "Adrian Sampson",
          "Jesus Tinoco",
          "Yonny Chirinos",
          "Trevor Williams",
          "Jaime Barria",
          "Jake Woodford",
          "Dakota Hudson",
          "T.J. Zeuch",
          "Tony Gonsolin",
          "Tyson Miller",
          "Chris Paddack",
          "Miguel Yajure",
          "Brayan Bello",
          "Ryan Pepiot",
          "Spencer Strider",
          "Johnny Cueto",
          "Jordan Lyles",
          "Kyle Gibson",
          "Colin Rea",
          "Ross Stripling",
          "Yonny Chirinos",
          "Trevor Williams",
          "Jaime Barria",
          "Jake Woodford",
          "Dakota Hudson",
          "Ian Hamilton",
          "Tony Gonsolin",
          "John Schreiber",
          "Luis Medina",
          "Osvaldo Bido",
          "Brayan Bello",
          "Levi Stoudt",
          "Quinn Priester",
          "Ryan Pepiot",
          "Spencer Strider",
          "Brandon Pfaadt",
          "Rich Hill",
          "Tommy Milone",
          "Drew Smyly",
          "Ryan Yarbrough",
          "Joey Lucchesi",
          "Daniel Castano",
          "Jhonathan Diaz",
          "Bruce Zimmermann",
          "Nick Margevicius",
          "Cristopher SA¡nchez",
          "Ryan Weathers",
          "Hyeon-Jong Yang",
          "Rich Hill",
          "Drew Smyly",
          "Ryan Yarbrough",
          "Daniel Castano",
          "Jhonathan Diaz",
          "Bruce Zimmermann",
          "Cristopher SA¡nchez",
          "Ryan Weathers",
          "Rich Hill",
          "Tommy Milone",
          "Drew Smyly",
          "Ryan Yarbrough",
          "Joey Lucchesi",
          "Jhonathan Diaz",
          "Cristopher SA¡nchez",
          "Michael Plassmeyer",
          "Ryan Weathers"
         ],
         "type": "scattergl",
         "x": [
          1.237798077410067,
          1.6885554361191524,
          2.5117218285370577,
          5.4794713349881,
          3.8600305941231348,
          4.197402570627276,
          2.7151008886728354,
          2.247629652555578,
          1.912011975511328,
          1.1760831953783963,
          5.309275571864121,
          12.459494123661205,
          14.95013878814722,
          9.883448943390077,
          0.7143932497259342,
          2.4579217158325304,
          3.163335833851542,
          4.790077216796294,
          6.336924207322156,
          2.1353277038531044,
          1.6759424431257781,
          2.1401024468832586,
          8.127001560071795,
          4.538012060925886,
          1.3338645045024846,
          10.035431872415824,
          2.588556082358584,
          6.155671657288386,
          0.4017500264690542,
          -1.1147889449641823,
          5.418580408044897,
          1.157430145809374,
          6.974647227543528,
          6.058703702031119,
          3.0220346194447036,
          1.3790701633076772,
          0.5494679016710352,
          8.540101545128906,
          2.491790893175504,
          0.9371663931920798,
          1.7972827138045084,
          -2.453219306829886,
          3.439690386077393,
          -0.27048934448895107,
          -3.4898449470335207,
          -1.1099904712920006,
          4.917926862190238,
          8.57391254873925,
          1.0084686453490146,
          2.7273997243770642,
          1.9795594276790975,
          -5.71782707314166,
          1.9113466281094202,
          4.344882044162529,
          3.772124965455854,
          1.953664269745538,
          7.453915581114131,
          2.516385191682937,
          4.492776304833287,
          -1.0430286384734928,
          3.5298191787362536,
          2.334529178604522,
          -0.21724839181329456,
          0.5615492761570222,
          -0.429834322675499,
          1.4078513899726735,
          -5.783309497588717,
          0.8762728777208002,
          3.650084845404188,
          2.602483350215584,
          -2.001147356796662,
          2.8913711950673187,
          1.7428932116919127,
          2.7546442756202008,
          -1.3301740547024392,
          2.38100315199794,
          0.87728297054825,
          2.5502474612072548,
          1.021450703806008,
          1.46131084063031,
          4.848070874795813,
          7.1189708557370075,
          2.7357425152270562,
          0.07959403434767928,
          3.226043435085019,
          2.6649123182936685,
          5.351686280218039,
          2.7444375297167105,
          0.5652995778914457,
          4.229282600894349,
          2.899029796823786,
          -1.8241960823860814,
          2.3288488602313997,
          3.047818365949102,
          1.9170651654492352,
          -0.537861914779522,
          3.023903483114556,
          2.7942293320551634,
          0.08779655174724892,
          2.7914788220077456,
          3.3259610500751706,
          17.026376259083996,
          0.0244501692046627,
          2.3670920680880014,
          4.241565113425653,
          4.236369757701995,
          3.12985323076196,
          2.6299312913569426,
          2.2257777157912626,
          -1.1921860796174364,
          -1.2251770018220944,
          7.536987708371595,
          7.417776736377044,
          0.5520080432289735,
          0.5622919465863777,
          5.6533374097572855,
          -7.581888543299313,
          -11.192667166036099,
          6.390069393437181,
          -13.674453707905165,
          -3.3490110260401664,
          -6.55620106099668,
          -5.010315219250209,
          1.370808609800908,
          6.323218263536174,
          3.886159363122022,
          -3.5129769152240122,
          4.280453058986056,
          -0.5730665487309821,
          3.5508349098869405,
          0.13381554826617179,
          1.1129208567431976,
          4.020297650033218,
          -1.9146353764947137,
          7.7149193597517325,
          -6.587174352647989,
          5.730837129133316,
          3.1738964895908257,
          3.631107503625541,
          2.4821639695786546,
          -11.207427676975183,
          -12.243445982029973,
          -10.95449853238493,
          -8.899067931277777,
          -11.017543674098883,
          -5.141604204491651,
          3.414648761712552,
          0.6463148545599477,
          -0.6787049644175975,
          5.029643912626129,
          3.0700668004454097,
          -6.89601336945198,
          6.614005469653184,
          -11.664295690189666,
          7.7936314543277865,
          -1.9517216601670002,
          4.778569654816877,
          -1.6456415130205009,
          1.3668752537702782,
          -9.365340063208649,
          -0.9520227262735286,
          -11.744749881604433,
          -14.29262683009873,
          -7.0600712828979315,
          -2.65859334026553,
          1.123322763325044,
          -7.650948675397831,
          0.5418492438487572,
          2.0590190597715026,
          -1.118451697057434,
          2.803208874029629,
          -5.273214354863552,
          5.276262574217774,
          -3.2925533835163567,
          0.10179333569485562,
          -10.550800355943867,
          5.3381489598073015,
          1.2058964083446282,
          -0.9759806907770013,
          -16.586748985169365,
          -4.779570997847356,
          -11.958904800056919,
          0.9431522283134883,
          -6.921881954088232,
          -7.5211501277899755,
          0.6395336110893743,
          2.8899144505471734,
          5.376227134863091,
          -1.440018642366477,
          5.102828812765129,
          16.369905169478013,
          -0.48628655229545376,
          2.9217865478461618,
          -9.252744897369533,
          -7.605039899541395,
          -0.4965016246859013,
          0.6561407897806049,
          4.845211149129719,
          -1.4609122520896396,
          3.1471997970024224,
          6.623590419928061,
          -8.10170364884226,
          3.6657410984375507,
          -6.011072683780438,
          -1.583328160486802,
          -0.8503174140545674,
          6.647409211761821,
          -5.828128416363917,
          6.7265255047316455,
          0.758286093009494
         ],
         "y": [
          -1.1707816321965003,
          0.7669041250480881,
          1.1390057489460699,
          6.271603088902434,
          1.026553354892204,
          0.9052466314642198,
          0.17649493976022387,
          0.8485721790232226,
          -0.9497782294460404,
          0.4912735274367107,
          -2.187971691984434,
          8.40322684223823,
          13.00387576499868,
          7.950239505806378,
          0.6686625102826566,
          -2.762052557577179,
          4.363564848760092,
          -1.1623035905085333,
          2.826101240906459,
          0.42133878945912,
          1.7579808020677583,
          1.2947560645616487,
          7.124837748186669,
          -2.106958120099556,
          -4.499403054907339,
          5.527187000869834,
          -2.6558602113980707,
          1.5641004650014028,
          -0.8046629142482621,
          -3.7494538896407916,
          6.320729165552703,
          1.5461823225644524,
          4.383810219917494,
          -1.7662102384167573,
          1.0443858639920978,
          -0.6138274606801587,
          -3.3764999380263796,
          2.501714699706955,
          1.4681614234919718,
          -3.2970616346342316,
          -4.876155719837123,
          0.388771012848663,
          -3.096426397366611,
          -2.8120436328339666,
          0.00042830666944590506,
          0.8485837744793122,
          1.6767001363521612,
          2.341236141322194,
          -0.5382872724294113,
          -2.133641104382699,
          -1.5049954633971065,
          -6.739420295718799,
          -3.704773267595219,
          -1.4067435430211483,
          5.81061135482171,
          0.351365005360021,
          5.420951713735995,
          -3.2072200333477214,
          -1.93606700540896,
          -8.223081311422936,
          2.9314530125731877,
          -1.4217290797649336,
          2.2018816835094492,
          -1.3720713977732972,
          1.7469641584323208,
          -7.638793428185587,
          -3.6350966445266386,
          2.5846295938155324,
          2.9224439577950285,
          2.0256184430406883,
          -6.620785262120695,
          1.6067223073869046,
          -2.0413065754201822,
          0.722051050651058,
          -3.750010400389216,
          -4.286146973131092,
          -1.6778601565186944,
          0.8002537230809736,
          1.0695552981668175,
          0.12101136416158417,
          -1.7431647798283012,
          1.1256272554504905,
          1.6573632251344896,
          -3.0634597897010254,
          -0.9587632963828676,
          0.8869562572913712,
          1.3271305295377518,
          1.501098401740463,
          0.3969546554342247,
          2.2986280111749378,
          -3.3680131694281767,
          3.2709047413892276,
          2.345175580001564,
          -2.392221416954164,
          -1.8495747301117902,
          -3.2621622406839537,
          0.4353436158297953,
          -1.5596514363311316,
          -1.7885761404067764,
          3.6301918610843305,
          2.8795917784453744,
          15.767896468939957,
          5.443969951970266,
          1.237354137912479,
          0.18434720367755647,
          3.851333534523371,
          0.5472638187865342,
          -3.4857072414092083,
          0.8920035375173176,
          -1.3252017752167218,
          3.6281890673489525,
          5.784818477251265,
          5.525608753923561,
          -0.3328984554573731,
          -8.313364836085599,
          0.9158290277767468,
          6.11367078711639,
          10.60320762959482,
          6.431580457441527,
          5.777082663163677,
          5.07060378861765,
          1.6548938709097114,
          3.0069840074652583,
          1.4427980737269543,
          5.934476255704363,
          1.1642838310277328,
          3.57539378496942,
          4.471359822674227,
          2.782182165477894,
          5.844822390391915,
          3.1076133123267566,
          -0.7532727071886384,
          2.908113457624435,
          -2.880414886891772,
          5.472135456411444,
          5.501705449006171,
          3.2685882663331167,
          4.557609880303997,
          3.354413256251213,
          1.1394637507537846,
          7.134766779295289,
          9.914133047563658,
          8.922482333695237,
          7.555295425268118,
          1.237647186691077,
          2.9655944658421793,
          -2.9303437532890437,
          -6.06069441520357,
          2.3218316402045285,
          1.4516247647371874,
          2.227221286201286,
          7.791366022493832,
          6.724238269674504,
          -3.5292508919556536,
          6.507724816901161,
          -0.14387671797517987,
          5.089435167461157,
          2.714719980593749,
          -1.143927844175944,
          -5.868937562009841,
          3.6182791747378125,
          11.751057461715932,
          9.25584138876224,
          1.9952462311227674,
          0.7467709002738976,
          0.5985058583197864,
          10.154857911518384,
          0.13291842019179365,
          6.748153431675285,
          5.130142778268129,
          -4.976654346340431,
          1.672117456545422,
          -1.1882112246726593,
          5.09044530349238,
          1.62356011848544,
          6.424435752942309,
          3.6607499522400775,
          5.630957555885528,
          -3.9582799324495306,
          -2.6096243525602487,
          4.07278004535191,
          6.657360658798259,
          -2.7681474984355536,
          6.472633869849302,
          8.088046888673041,
          2.306600281180166,
          1.7371651282621892,
          2.288362458763045,
          4.784442367749744,
          1.077278451718202,
          13.397151576110454,
          4.618851350565029,
          2.134617870050499,
          6.958234007307122,
          5.527770979207701,
          5.191672228441525,
          3.4199275093787236,
          1.628274796081328,
          6.020191909658144,
          -0.5572846557853997,
          1.3640237979811498,
          10.474527093608348,
          0.4484530925539958,
          8.164151756618768,
          4.862579140859245,
          5.197147961471936,
          0.41221644531292845,
          0.5123021893869073,
          1.8998528365800718,
          2.8095579382628233
         ]
        },
        {
         "marker": {
          "color": "red",
          "opacity": 0.4,
          "size": 5
         },
         "mode": "markers",
         "name": "Closer",
         "text": [
          "Kenley Jansen",
          "Liam Hendriks",
          "Rafael Dolis",
          "Mark Melancon",
          "Matt Shoemaker",
          "Pedro BA¡ez",
          "Tyler Clippard",
          "Craig Kimbrel",
          "Alex ColomA©",
          "Joakim Soria",
          "Brandon Dickson",
          "Ian Kennedy",
          "Ryan Pressly",
          "Daniel Bard",
          "CA©sar Valdez",
          "John Axford",
          "Ryan Weber",
          "Mychal Givens",
          "Heath Hembree",
          "Hansel Robles",
          "Hector Neris",
          "Jason Adam",
          "Yimi GarcA­a",
          "Matt Barnes",
          "Jordan Weems",
          "Louis Head",
          "Richard RodrA­guez",
          "J.B. Wendelken",
          "Rowan Wick",
          "Jandel Gustave",
          "Brady Lail",
          "Edwin DA­az",
          "Taylor Williams",
          "Scott Barlow",
          "Kyle Finnegan",
          "Alex Reyes",
          "Lou Trivino",
          "Jimmie Sherfy",
          "Nick Pivetta",
          "Phillips Valdez",
          "Akeem Bostick",
          "Stefan Crichton",
          "Daniel Ponce de Leon",
          "Jordan Romano",
          "Scott Blewett",
          "Julian Merryweather",
          "Josh James",
          "Touki Toussaint",
          "Domingo Acevedo",
          "Raisel Iglesias",
          "Austin Brice",
          "David Paulino",
          "Spenser Watkins",
          "Ralph Garza Jr.",
          "Brody Koerner",
          "Pete Fairbanks",
          "Triston McKenzie",
          "Drew Steckenrider",
          "Jacob Webb",
          "Ryan Hendrix",
          "Matt Foster",
          "Tyler Wells",
          "Miguel SA¡nchez",
          "Mauricio Llovera",
          "Jeremy Beasley",
          "Yennsy DA­az",
          "Alec Bettinger",
          "Andre Scrubb",
          "Isaac Mattson",
          "Emmanuel Clase",
          "Brooks Kriske",
          "Jackson Kowar",
          "JosA© Marte",
          "Joe Barlow",
          "Kenley Jansen",
          "Liam Hendriks",
          "Mark Melancon",
          "Pedro BA¡ez",
          "Tyler Clippard",
          "Craig Kimbrel",
          "Alex ColomA©",
          "Ian Kennedy",
          "Ryan Pressly",
          "Daniel Bard",
          "CA©sar Valdez",
          "Ryan Weber",
          "Mychal Givens",
          "Heath Hembree",
          "Hansel Robles",
          "Hector Neris",
          "Jason Adam",
          "Yimi GarcA­a",
          "Aaron Brooks",
          "Matt Barnes",
          "Jordan Weems",
          "Louis Head",
          "Connor Sadzeck",
          "Jackson Stephens",
          "J.B. Wendelken",
          "JosA© Leclerc",
          "Rowan Wick",
          "Jandel Gustave",
          "Edwin DA­az",
          "Mark Appel",
          "Scott Barlow",
          "Kyle Finnegan",
          "Lou Trivino",
          "Phillips Valdez",
          "Jordan Romano",
          "Julian Merryweather",
          "Touki Toussaint",
          "Domingo Acevedo",
          "Raisel Iglesias",
          "Austin Brice",
          "Jonathan HernA¡ndez",
          "Daniel Duarte",
          "Spenser Watkins",
          "Ralph Garza Jr.",
          "Pete Fairbanks",
          "Triston McKenzie",
          "Drew Steckenrider",
          "Matt Festa",
          "Ryan Hendrix",
          "Matt Foster",
          "Jesus Cruz",
          "Miguel SA¡nchez",
          "Mauricio Llovera",
          "Michel Baez",
          "Jeremy Beasley",
          "Jake Walsh",
          "Bowden Francis",
          "Luis Castillo",
          "FA©lix Bautista",
          "Cristofer Ogando",
          "Emmanuel Clase",
          "Alexis DA­az",
          "Dany JimA©nez",
          "Peter Strzelecki",
          "Cole Sands",
          "Jackson Kowar",
          "JosA© Marte",
          "Jeremiah Estrada",
          "Joe Barlow",
          "Michael Grove",
          "Freddy Tarnok",
          "Jared Solomon",
          "Tommy Romero",
          "Hayden Wesneski",
          "Kenley Jansen",
          "Liam Hendriks",
          "Craig Kimbrel",
          "Alex ColomA©",
          "Ian Kennedy",
          "Ryan Pressly",
          "Daniel Bard",
          "Ryan Weber",
          "Mychal Givens",
          "Heath Hembree",
          "Hector Neris",
          "Jason Adam",
          "Yimi GarcA­a",
          "Matt Barnes",
          "Jordan Weems",
          "Jackson Stephens",
          "JosA© Leclerc",
          "Dylan Covey",
          "Scott Barlow",
          "Kyle Finnegan",
          "Alan Busenitz",
          "Nick Pivetta",
          "Jordan Romano",
          "Julian Merryweather",
          "Touki Toussaint",
          "Domingo Acevedo",
          "Raisel Iglesias",
          "Jonathan HernA¡ndez",
          "Daniel Duarte",
          "Trey Wingenter",
          "Pete Fairbanks",
          "Jacob Webb",
          "Matt Festa",
          "Guillermo ZuA±iga",
          "Tyler Wells",
          "Mauricio Llovera",
          "Bowden Francis",
          "FA©lix Bautista",
          "Emmanuel Clase",
          "Jose Espada",
          "Alexis DA­az",
          "Dany JimA©nez",
          "Brooks Kriske",
          "Peter Strzelecki",
          "Cole Sands",
          "Jackson Kowar",
          "JosA© Marte",
          "Riley Pint",
          "Hagen Danner",
          "Jeremiah Estrada",
          "Owen White",
          "Joe Barlow",
          "Brenan Hanifee",
          "Carlos Vargas",
          "Eduardo Salazar",
          "Steven Cruz",
          "Michael Grove",
          "Freddy Tarnok",
          "Edgar Navarro",
          "Jonathan Bowlan",
          "Kelvin Caceres",
          "Shawn Dubin",
          "Devin Sweet",
          "Kyle Hurt",
          "Hayden Wesneski",
          "Jake McGee",
          "Will Smith",
          "Brad Hand",
          "Kyle Lobstein",
          "Zac Rosscup",
          "Aroldis Chapman",
          "Scott Alexander",
          "Ryan Sherriff",
          "Reymin Guduan",
          "Hoby Milner",
          "Taylor Rogers",
          "Josh Hader",
          "Amir Garrett",
          "Cody Reed",
          "Ranger SuA¡rez",
          "Angel Perdomo",
          "Ryan Hartman",
          "Gregory Soto",
          "Nick Allgeyer",
          "Jake McGee",
          "Will Smith",
          "Brad Hand",
          "Aroldis Chapman",
          "Robbie Erlin",
          "Scott Alexander",
          "Roenis ElA­as",
          "Hoby Milner",
          "Taylor Rogers",
          "Josh Hader",
          "Amir Garrett",
          "Brennan Bernardino",
          "Tanner Tully",
          "Gregory Soto",
          "Ray Kerr",
          "Tyler Holton",
          "Will Smith",
          "Brad Hand",
          "Aroldis Chapman",
          "Scott Alexander",
          "Ryan Sherriff",
          "Hoby Milner",
          "Taylor Rogers",
          "Josh Hader",
          "Amir Garrett",
          "Brennan Bernardino",
          "Angel Perdomo",
          "Gregory Soto",
          "Ray Kerr",
          "Tyler Holton",
          "Luke Little",
          "Matt Shoemaker",
          "Louis Head",
          "Nick Pivetta",
          "Daniel Ponce de Leon",
          "Julian Merryweather",
          "Touki Toussaint",
          "Spenser Watkins",
          "Triston McKenzie",
          "Alec Bettinger",
          "Jackson Kowar",
          "Mychal Givens",
          "Jackson Stephens",
          "Nick Pivetta",
          "Julian Merryweather",
          "Touki Toussaint",
          "Spenser Watkins",
          "Triston McKenzie",
          "Tyler Wells",
          "Mauricio Llovera",
          "Cole Sands",
          "Michael Grove",
          "Tommy Romero",
          "Hayden Wesneski",
          "Matt Barnes",
          "Dylan Covey",
          "Nick Pivetta",
          "Touki Toussaint",
          "Spenser Watkins",
          "Triston McKenzie",
          "Tyler Wells",
          "Dany JimA©nez",
          "Steven Cruz",
          "Michael Grove",
          "Freddy Tarnok",
          "Jonathan Bowlan",
          "Shawn Dubin",
          "Hayden Wesneski",
          "Ranger SuA¡rez",
          "Scott Alexander",
          "Ranger SuA¡rez",
          "Scott Alexander",
          "Brennan Bernardino",
          "Ranger SuA¡rez",
          "Tyler Holton"
         ],
         "type": "scattergl",
         "x": [
          -5.84169113035898,
          -9.833752952418747,
          1.513690436660737,
          -4.374722735176928,
          4.564585343222941,
          3.3235765364465006,
          0.853857229624013,
          -6.066573861728239,
          -1.0179870779867333,
          -0.48721089518600785,
          6.573324407833079,
          -4.073792234751384,
          -7.034063449490236,
          -2.6968819983290775,
          0.2209240695187015,
          16.38014944646969,
          6.8261674602373485,
          -1.3635964867269021,
          -2.42189221008321,
          -3.5742656505836132,
          -5.76142626535488,
          2.9668544002699617,
          -3.881585658697257,
          -5.219748146587599,
          6.725137662054224,
          0.08634448199434615,
          -2.843435249555674,
          -0.3704077709710706,
          0.8200369331230595,
          3.0155530003438984,
          3.746835766061027,
          -5.021630684690113,
          5.568622880457182,
          -5.652391534733707,
          -2.4589855581466566,
          -4.336852420818542,
          -4.630395862254508,
          2.6781761609614816,
          0.17398327613485984,
          1.9472864788980717,
          6.656788610284947,
          4.218066051399897,
          2.317913783577877,
          -4.621073698210995,
          7.597613138609114,
          1.30663242286783,
          2.8312596748102234,
          8.297028943809549,
          3.6959996213893995,
          -8.171019388451016,
          4.93459745140078,
          8.077924946587146,
          5.861739077011659,
          1.0332283211287399,
          7.130942187268493,
          -1.4425148419252136,
          4.503465133442191,
          -4.314616600462363,
          -0.00873021747094152,
          1.2808199820117028,
          1.2238227910932864,
          -4.186947064816667,
          2.8460257721926605,
          6.22433050339963,
          5.21316878623524,
          3.7285241904394915,
          4.764659307382678,
          2.6818101585392937,
          7.15540606807987,
          -6.678434693632658,
          5.820622458932397,
          6.521207701308405,
          6.153886586941143,
          -0.05343902340056813,
          -4.591020573568931,
          -5.179344365676308,
          -2.4295716527272035,
          8.879294733034936,
          6.080720369086461,
          -3.7644596762282485,
          2.3207966700351568,
          -0.30993900666262714,
          -4.652292256127409,
          -5.419254975015478,
          5.7532334438631585,
          3.2286004328898743,
          -1.9955703590644798,
          4.8937460900320895,
          2.848272248425897,
          -5.938721167746486,
          -6.846575536285324,
          -4.3345121739178625,
          4.195514897638724,
          0.40220907436667974,
          0.1537561727522123,
          3.4467163055602517,
          7.698093133551151,
          -1.5388683610858112,
          2.0502656593361044,
          -1.5512556901834256,
          -3.275518798956288,
          1.6482536106367216,
          -8.030750829646266,
          5.834480117657111,
          -6.03721378911036,
          -3.2233244111689214,
          -2.4713430172011175,
          3.9352509126800177,
          -5.771183046603819,
          1.0238561612805073,
          3.0753675861388987,
          -3.7387304189665436,
          -5.108571022720226,
          4.517797531147642,
          1.4282317794015706,
          7.4029978342896365,
          4.293146855795575,
          1.1949906415323777,
          -3.9371540764955593,
          7.324634724210048,
          3.315361783726935,
          -1.670005265026419,
          5.251965928383475,
          -0.7780670753908675,
          5.7895806664863585,
          4.159423961254716,
          2.1350663533123724,
          3.493677728903143,
          2.389106053657136,
          5.831729757422462,
          2.7432756657046005,
          3.1280842699952434,
          -6.444155933383373,
          5.8654074515470915,
          -8.24193742793107,
          -4.9700620287093535,
          0.06098082661310757,
          -0.01887634737938183,
          1.8019911480286535,
          4.985006796155032,
          6.947469942213246,
          2.220919402309145,
          0.6629942920686134,
          8.70395167958182,
          -0.07278391158959989,
          5.904653498239151,
          -0.12134337730091951,
          -0.08149935024943342,
          -2.3658960592912925,
          3.1070736626879434,
          -5.951620357320183,
          6.88282086620171,
          3.024106640051327,
          -5.027603232006409,
          1.962664732917855,
          3.2919368543008325,
          8.595090433805007,
          2.1536857424840603,
          -6.008312202062722,
          -2.755908769134513,
          -5.072191550338695,
          2.2943754438362043,
          -1.2555706306283996,
          1.6918137272849787,
          -3.5657610484893567,
          1.183313051204656,
          -3.4317885911019963,
          -4.24471311445351,
          0.9139842490563727,
          -3.9585049477554075,
          -4.627904781673648,
          -4.7519852529734745,
          2.856474795205174,
          5.2571811127985795,
          -3.8091031039797296,
          1.9126558989187301,
          0.9448505812139325,
          3.5760809788462353,
          -3.660127840917049,
          -1.726174886561494,
          5.095717939421404,
          2.508986159161393,
          -1.6714065801858602,
          2.154359851145185,
          -0.6392817781809669,
          -8.086356187715431,
          -5.9139378311222135,
          6.644704269437544,
          -4.654895861541875,
          2.6338309311415258,
          3.9339141818896386,
          -0.3367569222136214,
          2.3715918981876083,
          3.360282609337583,
          6.80132365729449,
          24.654262804047125,
          5.336230342093662,
          4.942352817600323,
          4.728837295865715,
          3.599676083634218,
          4.831241668244857,
          5.7746132053575945,
          6.37142068929005,
          5.098443657045613,
          -0.3386815069214681,
          4.933985381970312,
          5.917908795761325,
          4.444372665362812,
          8.823527711260658,
          2.0992964007882184,
          6.585896664382289,
          -0.5332693761608307,
          -0.7261683610432003,
          -3.662728269279952,
          -3.7627137785891906,
          -1.5499055526070844,
          9.23036155217575,
          5.536323955601324,
          -5.54151142084996,
          3.29472232423302,
          4.040569407410146,
          5.1417337520059,
          2.2201546534752556,
          -2.67136139476526,
          -7.257446091415319,
          0.16490565590025824,
          5.298848380186383,
          -2.3666559992694483,
          3.3600639244531263,
          5.33043522764956,
          -3.5088942094918036,
          5.953975332724795,
          2.486153867220278,
          -2.066577556146423,
          0.6072072341688214,
          0.5486964363276136,
          8.050334882870624,
          1.432390248567157,
          3.25582637506123,
          -3.122490110727365,
          -3.0813939785338857,
          -2.617198491971519,
          -0.13396607955059192,
          7.397627900583486,
          7.364693196633349,
          -1.9900385113897676,
          6.7486441118646825,
          2.6448355625053486,
          -3.496486573157297,
          -0.4115869891898524,
          -6.114123397782175,
          0.10121291762911504,
          3.9621884099517986,
          -4.173647219089944,
          -1.276121947745832,
          -4.221000536256881,
          3.7414367804352837,
          1.145329484970203,
          -0.5165374721858321,
          -4.326929635742688,
          1.649775139609612,
          -6.757811724448896,
          3.371767505888004,
          -0.3509137267447058,
          1.9265935099330005,
          -12.244804518437956,
          5.9188920978247,
          5.160014267559535,
          -0.6694194361945448,
          0.7821531014910301,
          -6.748906033497808,
          8.244642098232562,
          4.454696519768087,
          3.110648219828524,
          5.434781753449757,
          -12.858631553020327,
          2.8414617724071283,
          2.3937823762868438,
          -5.069134594613259,
          -14.894636403233385,
          -5.715888916642954,
          1.7885988750255917,
          3.889702959034706,
          2.157544639876161,
          11.217443336809088,
          -1.6798087969917814,
          2.3663754114361546,
          15.878503608119694,
          -5.4387145243938,
          -2.5742303663565744,
          4.629097579386312,
          3.901925278001234,
          -6.853752412731849,
          4.869840824727845,
          4.225428036940874,
          -1.6168128240018163,
          4.361483336360602,
          8.027599901321933,
          4.0792265989847865,
          -1.1864820109435692,
          -5.0602176019981,
          1.880332805633531,
          -10.70270813931855,
          3.7526421872136337,
          1.9818543508195332,
          -8.436887247713349,
          1.7996728619093458
         ],
         "y": [
          -7.775072314620228,
          -10.612239312860044,
          -4.915100769949619,
          -3.629637758175529,
          0.28429902082982633,
          -4.182250922976606,
          -1.7116030963254822,
          -10.066406659060535,
          -1.200958562719114,
          -2.16571513623887,
          2.140365514173372,
          -3.7190831406089346,
          -8.436533795936839,
          -3.593418323789328,
          -0.8338250591053599,
          14.057760369836014,
          5.346422945789192,
          -4.685808301190183,
          -5.986424456566312,
          -2.368234094250325,
          -8.62870964599596,
          -4.57104107648737,
          -3.621454868959276,
          -5.749400968585921,
          1.180417427287728,
          -4.850469640456702,
          -5.53812533398307,
          -1.0151475793138338,
          -5.505841015626854,
          -3.6232948824233033,
          -0.24003835586369524,
          -10.252099006547404,
          -2.307755972719371,
          -6.208597423271566,
          -4.4323813559972285,
          -2.986711781118572,
          -0.0010704992694692543,
          -2.9142254898059803,
          -6.952753699624486,
          0.2143537289545344,
          -0.9103242915648635,
          3.1239138037041276,
          3.4273832195186973,
          -9.104565454571445,
          0.3542994965910438,
          -1.862287356467705,
          -6.227944018062045,
          3.412977078633956,
          -3.165269199752504,
          -9.430252986573846,
          1.811024283739764,
          4.247866006122381,
          7.587383624454982,
          0.1963800901993819,
          3.4655548149810693,
          -6.942744175553556,
          -1.302961495090189,
          -2.4906108883542677,
          -0.5352607280145821,
          0.34781646539903055,
          -0.050513189134009956,
          -3.495625471497777,
          -1.026962661725298,
          -0.4298227680900124,
          -2.6531571248433976,
          -0.46490370562040934,
          4.273272293360393,
          -0.535465392449974,
          1.1478806217012405,
          -10.278490342228947,
          -2.789495250394033,
          3.367064771048837,
          -2.0797834112801015,
          -5.923551142466626,
          -5.558114849359167,
          -9.063005153583324,
          -2.1230647750864318,
          2.266792533602122,
          2.360924290308064,
          -4.329876274788698,
          1.2124805570281751,
          0.994839750856817,
          -7.931828336553283,
          -7.584713710733496,
          1.499656304047533,
          -1.0764869514590947,
          -4.350758906589695,
          0.47898807085412776,
          -2.0037220087576393,
          -8.846300629135287,
          -9.970147015523821,
          -3.6749597987154368,
          -0.211963673628781,
          -1.464799581789768,
          -2.2409555250707824,
          -0.5502563523808949,
          0.7659842430576125,
          0.9235973125354918,
          -0.06415733111777334,
          -4.692532031245897,
          -0.2993954962074483,
          -4.010079864293607,
          -15.368090275654337,
          -0.9428419733996117,
          -5.932955795585518,
          -6.557038638023495,
          0.004340510949216194,
          -1.131005915296262,
          -9.436158551152602,
          -0.9749626763172283,
          -0.10124411502210404,
          -4.416077518964218,
          -7.181537712491614,
          -1.7662890663092004,
          -3.0826814604872403,
          -0.002564809880204702,
          5.855263735989244,
          2.0377005982858827,
          -13.49875808595386,
          2.3526400182241827,
          0.06319637945056489,
          -4.840694001115685,
          -2.295486815757993,
          0.3642246217094859,
          -2.7986489443525158,
          -1.8704983739068504,
          -6.163337832668996,
          -3.4555792557493987,
          -5.328207482693596,
          1.7199822701296017,
          -4.049630889586606,
          -4.624964353316968,
          -11.384611246065779,
          -1.946415964585073,
          -11.655405840890369,
          -9.023217930539204,
          -5.562873368988661,
          -5.389161097316604,
          1.3036540130655476,
          2.70383702828799,
          -0.34666141433612724,
          -3.7083503005084517,
          -4.217615865355839,
          5.273209852171782,
          -8.892381239214847,
          -1.463263520239603,
          -10.729601090149924,
          -3.0382024294581997,
          -3.7054715663016458,
          -5.079272843896738,
          -7.75045656474408,
          0.5960986212874427,
          -3.208670965872092,
          -5.466238028980523,
          0.1892965840481679,
          -0.3495116439939049,
          2.5594285779190034,
          -12.137745916556824,
          -8.017884387981331,
          -6.260290234492393,
          -2.9518872305484183,
          -2.958941197171449,
          -3.1094135858574887,
          2.4501915676780346,
          -3.846506099510128,
          0.705681490630064,
          -3.8037005234365733,
          -7.384144548030866,
          -0.7534265878585197,
          -4.942873790806213,
          -8.928980329595229,
          -5.693159078622396,
          -1.6432422247642253,
          0.5362623562727025,
          -6.309350806314497,
          -2.408507892125173,
          -1.347170294226867,
          -3.9209488803927264,
          -10.187654663740302,
          -4.966951226416276,
          -4.683232812345516,
          -7.494116263386066,
          -5.5956350235635135,
          -1.3438580207951762,
          -4.435172448287708,
          -14.719332979821866,
          -7.716505144887003,
          -9.494339615905064,
          -7.758678074091025,
          -3.937370200811296,
          -7.356099303967302,
          -3.4828263291292725,
          1.242058119030833,
          0.8410741342318526,
          3.821857134412568,
          16.94931861273992,
          -2.5660114605630935,
          -0.4717818218960403,
          2.299985135138511,
          -3.805552485309341,
          1.0604353949294536,
          -0.31246420441191614,
          1.0965570403750258,
          -3.046512418797872,
          -1.6523822800818646,
          0.2325719744534801,
          -0.4785448977419747,
          -4.331101285676808,
          4.23559504955951,
          1.870662077513776,
          0.8250109191767724,
          -9.8301501177881,
          -1.287639799522355,
          -7.949249313943627,
          -6.578927340281973,
          -3.5029694775780853,
          5.8632783721364286,
          -2.1091878550481686,
          -10.867701538394849,
          -1.9158076602449456,
          -2.48893432403963,
          -1.0889836828747808,
          0.5067399519344822,
          -8.3329796421618,
          -12.512160880685625,
          -4.557048137949348,
          -2.060414350362425,
          -3.6580040446025928,
          -3.6857693225303083,
          -0.12365113602843873,
          -6.970383353715862,
          0.0629361827083041,
          -2.5733801554239033,
          -2.2627084868237097,
          -3.6988043648187734,
          -7.257619674306183,
          3.9220564766727746,
          -4.200603273473076,
          -0.11732424606976154,
          -0.762948434622168,
          -6.75782828662682,
          -6.710308539733164,
          -3.8844712698223476,
          3.0291908048565968,
          2.6446548369825353,
          -3.6874267044128746,
          1.1222142477760317,
          1.2906321372768164,
          -4.669138227909142,
          -2.9175476677635257,
          -11.84162206572978,
          -1.3225757660382798,
          -3.850161526917192,
          -2.6379362622374587,
          -4.304408366733213,
          -7.838574195773543,
          -2.887668886051161,
          -0.09562697165773676,
          -6.401245830796152,
          -6.121847646540054,
          -0.7895207788138187,
          -2.5135046596045205,
          -8.660329841495502,
          -0.24662872615936976,
          -7.332788169491631,
          3.155164736834321,
          7.438764140412239,
          0.7782675802331315,
          1.0597284768230069,
          7.800058033055762,
          2.376784628448119,
          9.393299303008911,
          4.417803820619492,
          -3.3524673096312214,
          4.09801761631399,
          5.503035182197788,
          -3.3605344793784657,
          -1.393875213848289,
          5.682163907698063,
          1.0532616347170236,
          1.9668564511184763,
          -8.834297313280448,
          3.4434831547793143,
          -0.22164399236645563,
          5.072682209515942,
          -3.083072843528874,
          -4.9387154215138835,
          17.08045793610655,
          0.5074208173554773,
          1.9604977062196198,
          3.1470883395358187,
          -0.42073778421299607,
          2.7997703591803083,
          -4.374060175204073,
          -2.0894200723922673,
          1.7648567499402044,
          -2.859009578486222,
          2.2275088172088324,
          1.043670604876399,
          2.5884341258750427,
          -2.139734065904904,
          -4.6879709851733935,
          7.0548240438717,
          -2.015008541582774,
          -4.05482035984391,
          5.978280368309316,
          -7.533885559312502
         ]
        },
        {
         "line": {
          "color": "grey",
          "width": 0.2
         },
         "mode": "lines+text",
         "showlegend": false,
         "text": [
          null,
          "Age"
         ],
         "textposition": "bottom center",
         "type": "scatter",
         "x": [
          0,
          -4.549853920575822
         ],
         "y": [
          0,
          -1.1138273029318855
         ]
        },
        {
         "line": {
          "color": "grey",
          "width": 0.2
         },
         "mode": "lines+text",
         "showlegend": false,
         "text": [
          null,
          "G"
         ],
         "textposition": "bottom center",
         "type": "scatter",
         "x": [
          0,
          -20.360578417527158
         ],
         "y": [
          0,
          -14.956788242823608
         ]
        },
        {
         "line": {
          "color": "grey",
          "width": 0.2
         },
         "mode": "lines+text",
         "showlegend": false,
         "text": [
          null,
          "GS"
         ],
         "textposition": "bottom center",
         "type": "scatter",
         "x": [
          0,
          -29.39850065762487
         ],
         "y": [
          0,
          25.050072066199153
         ]
        },
        {
         "line": {
          "color": "grey",
          "width": 0.2
         },
         "mode": "lines+text",
         "showlegend": false,
         "text": [
          null,
          "IP"
         ],
         "textposition": "bottom center",
         "type": "scatter",
         "x": [
          0,
          -35.59917514093884
         ],
         "y": [
          0,
          14.872909786837608
         ]
        },
        {
         "line": {
          "color": "grey",
          "width": 0.2
         },
         "mode": "lines+text",
         "showlegend": false,
         "text": [
          null,
          "TBF"
         ],
         "textposition": "bottom center",
         "type": "scatter",
         "x": [
          0,
          -35.11373819372318
         ],
         "y": [
          0,
          16.05214628777999
         ]
        },
        {
         "line": {
          "color": "grey",
          "width": 0.2
         },
         "mode": "lines+text",
         "showlegend": false,
         "text": [
          null,
          "W"
         ],
         "textposition": "bottom center",
         "type": "scatter",
         "x": [
          0,
          -33.28867161977172
         ],
         "y": [
          0,
          8.523568852374453
         ]
        },
        {
         "line": {
          "color": "grey",
          "width": 0.2
         },
         "mode": "lines+text",
         "showlegend": false,
         "text": [
          null,
          "L"
         ],
         "textposition": "bottom center",
         "type": "scatter",
         "x": [
          0,
          -28.40577323081874
         ],
         "y": [
          0,
          17.572767708128314
         ]
        },
        {
         "line": {
          "color": "grey",
          "width": 0.2
         },
         "mode": "lines+text",
         "showlegend": false,
         "text": [
          null,
          "CG"
         ],
         "textposition": "bottom center",
         "type": "scatter",
         "x": [
          0,
          -14.429103200834724
         ],
         "y": [
          0,
          8.12414332735587
         ]
        },
        {
         "line": {
          "color": "grey",
          "width": 0.2
         },
         "mode": "lines+text",
         "showlegend": false,
         "text": [
          null,
          "ShO"
         ],
         "textposition": "bottom center",
         "type": "scatter",
         "x": [
          0,
          -12.772168266384917
         ],
         "y": [
          0,
          6.303298625150413
         ]
        },
        {
         "line": {
          "color": "grey",
          "width": 0.2
         },
         "mode": "lines+text",
         "showlegend": false,
         "text": [
          null,
          "SV"
         ],
         "textposition": "bottom center",
         "type": "scatter",
         "x": [
          0,
          -6.5739065318751075
         ],
         "y": [
          0,
          -16.538974250096537
         ]
        },
        {
         "line": {
          "color": "grey",
          "width": 0.2
         },
         "mode": "lines+text",
         "showlegend": false,
         "text": [
          null,
          "BS"
         ],
         "textposition": "bottom center",
         "type": "scatter",
         "x": [
          0,
          -7.001471719930091
         ],
         "y": [
          0,
          -19.48173540671754
         ]
        },
        {
         "line": {
          "color": "grey",
          "width": 0.2
         },
         "mode": "lines+text",
         "showlegend": false,
         "text": [
          null,
          "HLD"
         ],
         "textposition": "bottom center",
         "type": "scatter",
         "x": [
          0,
          -7.514500808696483
         ],
         "y": [
          0,
          -19.934885268085086
         ]
        },
        {
         "line": {
          "color": "grey",
          "width": 0.2
         },
         "mode": "lines+text",
         "showlegend": false,
         "text": [
          null,
          "SD"
         ],
         "textposition": "bottom center",
         "type": "scatter",
         "x": [
          0,
          -9.448771513091742
         ],
         "y": [
          0,
          -24.574937569189572
         ]
        },
        {
         "line": {
          "color": "grey",
          "width": 0.2
         },
         "mode": "lines+text",
         "showlegend": false,
         "text": [
          null,
          "MD"
         ],
         "textposition": "bottom center",
         "type": "scatter",
         "x": [
          0,
          -5.264611652346135
         ],
         "y": [
          0,
          -20.39269783124237
         ]
        },
        {
         "line": {
          "color": "grey",
          "width": 0.2
         },
         "mode": "lines+text",
         "showlegend": false,
         "text": [
          null,
          "Pulls"
         ],
         "textposition": "bottom center",
         "type": "scatter",
         "x": [
          0,
          -23.07507528860133
         ],
         "y": [
          0,
          -8.249930473047186
         ]
        },
        {
         "line": {
          "color": "grey",
          "width": 0.2
         },
         "mode": "lines+text",
         "showlegend": false,
         "text": [
          null,
          "ERA"
         ],
         "textposition": "bottom center",
         "type": "scatter",
         "x": [
          0,
          16.810012729572097
         ],
         "y": [
          0,
          22.061606334895355
         ]
        },
        {
         "line": {
          "color": "grey",
          "width": 0.2
         },
         "mode": "lines+text",
         "showlegend": false,
         "text": [
          null,
          "R"
         ],
         "textposition": "bottom center",
         "type": "scatter",
         "x": [
          0,
          -30.640224106525167
         ],
         "y": [
          0,
          22.002603293496048
         ]
        },
        {
         "line": {
          "color": "grey",
          "width": 0.2
         },
         "mode": "lines+text",
         "showlegend": false,
         "text": [
          null,
          "ER"
         ],
         "textposition": "bottom center",
         "type": "scatter",
         "x": [
          0,
          -30.33182468107056
         ],
         "y": [
          0,
          22.71871288919183
         ]
        },
        {
         "line": {
          "color": "grey",
          "width": 0.2
         },
         "mode": "lines+text",
         "showlegend": false,
         "text": [
          null,
          "H"
         ],
         "textposition": "bottom center",
         "type": "scatter",
         "x": [
          0,
          -33.24692666991531
         ],
         "y": [
          0,
          20.19011557256463
         ]
        },
        {
         "line": {
          "color": "grey",
          "width": 0.2
         },
         "mode": "lines+text",
         "showlegend": false,
         "text": [
          null,
          "HR"
         ],
         "textposition": "bottom center",
         "type": "scatter",
         "x": [
          0,
          -29.390452265273638
         ],
         "y": [
          0,
          21.243493368229412
         ]
        },
        {
         "line": {
          "color": "grey",
          "width": 0.2
         },
         "mode": "lines+text",
         "showlegend": false,
         "text": [
          null,
          "SO"
         ],
         "textposition": "bottom center",
         "type": "scatter",
         "x": [
          0,
          -35.67700951456367
         ],
         "y": [
          0,
          8.642882372314439
         ]
        },
        {
         "line": {
          "color": "grey",
          "width": 0.2
         },
         "mode": "lines+text",
         "showlegend": false,
         "text": [
          null,
          "BB"
         ],
         "textposition": "bottom center",
         "type": "scatter",
         "x": [
          0,
          -30.43110266139336
         ],
         "y": [
          0,
          13.852948353340432
         ]
        },
        {
         "line": {
          "color": "grey",
          "width": 0.2
         },
         "mode": "lines+text",
         "showlegend": false,
         "text": [
          null,
          "IBB"
         ],
         "textposition": "bottom center",
         "type": "scatter",
         "x": [
          0,
          -9.3803764249172
         ],
         "y": [
          0,
          -8.089038673886954
         ]
        },
        {
         "line": {
          "color": "grey",
          "width": 0.2
         },
         "mode": "lines+text",
         "showlegend": false,
         "text": [
          null,
          "HBP"
         ],
         "textposition": "bottom center",
         "type": "scatter",
         "x": [
          0,
          -24.124326426831296
         ],
         "y": [
          0,
          10.473054722469064
         ]
        },
        {
         "line": {
          "color": "grey",
          "width": 0.2
         },
         "mode": "lines+text",
         "showlegend": false,
         "text": [
          null,
          "WP"
         ],
         "textposition": "bottom center",
         "type": "scatter",
         "x": [
          0,
          -21.899447347393405
         ],
         "y": [
          0,
          3.4964884792471977
         ]
        },
        {
         "line": {
          "color": "grey",
          "width": 0.2
         },
         "mode": "lines+text",
         "showlegend": false,
         "text": [
          null,
          "BK"
         ],
         "textposition": "bottom center",
         "type": "scatter",
         "x": [
          0,
          -11.239537310440166
         ],
         "y": [
          0,
          2.4517417720607435
         ]
        },
        {
         "line": {
          "color": "grey",
          "width": 0.2
         },
         "mode": "lines+text",
         "showlegend": false,
         "text": [
          null,
          "Events"
         ],
         "textposition": "bottom center",
         "type": "scatter",
         "x": [
          0,
          -34.362428756951346
         ],
         "y": [
          0,
          18.427911866866285
         ]
        },
        {
         "line": {
          "color": "grey",
          "width": 0.2
         },
         "mode": "lines+text",
         "showlegend": false,
         "text": [
          null,
          "GB"
         ],
         "textposition": "bottom center",
         "type": "scatter",
         "x": [
          0,
          -33.56044195375646
         ],
         "y": [
          0,
          17.343123964193456
         ]
        },
        {
         "line": {
          "color": "grey",
          "width": 0.2
         },
         "mode": "lines+text",
         "showlegend": false,
         "text": [
          null,
          "LD"
         ],
         "textposition": "bottom center",
         "type": "scatter",
         "x": [
          0,
          -33.36175251165261
         ],
         "y": [
          0,
          19.589424564082762
         ]
        },
        {
         "line": {
          "color": "grey",
          "width": 0.2
         },
         "mode": "lines+text",
         "showlegend": false,
         "text": [
          null,
          "FB"
         ],
         "textposition": "bottom center",
         "type": "scatter",
         "x": [
          0,
          -33.373659840914804
         ],
         "y": [
          0,
          17.780122057163908
         ]
        },
        {
         "line": {
          "color": "grey",
          "width": 0.2
         },
         "mode": "lines+text",
         "showlegend": false,
         "text": [
          null,
          "IFFB"
         ],
         "textposition": "bottom center",
         "type": "scatter",
         "x": [
          0,
          -30.2242415168266
         ],
         "y": [
          0,
          12.95118284044462
         ]
        },
        {
         "line": {
          "color": "grey",
          "width": 0.2
         },
         "mode": "lines+text",
         "showlegend": false,
         "text": [
          null,
          "BU"
         ],
         "textposition": "bottom center",
         "type": "scatter",
         "x": [
          0,
          -24.9183608744303
         ],
         "y": [
          0,
          12.322406282359898
         ]
        },
        {
         "line": {
          "color": "grey",
          "width": 0.2
         },
         "mode": "lines+text",
         "showlegend": false,
         "text": [
          null,
          "IFH"
         ],
         "textposition": "bottom center",
         "type": "scatter",
         "x": [
          0,
          -29.964090612256754
         ],
         "y": [
          0,
          14.440638683094228
         ]
        },
        {
         "line": {
          "color": "grey",
          "width": 0.2
         },
         "mode": "lines+text",
         "showlegend": false,
         "text": [
          null,
          "BUH"
         ],
         "textposition": "bottom center",
         "type": "scatter",
         "x": [
          0,
          -20.23600539979794
         ],
         "y": [
          0,
          11.312088348840712
         ]
        },
        {
         "line": {
          "color": "grey",
          "width": 0.2
         },
         "mode": "lines+text",
         "showlegend": false,
         "text": [
          null,
          "Balls"
         ],
         "textposition": "bottom center",
         "type": "scatter",
         "x": [
          0,
          -34.40096053142559
         ],
         "y": [
          0,
          15.946433851890724
         ]
        },
        {
         "line": {
          "color": "grey",
          "width": 0.2
         },
         "mode": "lines+text",
         "showlegend": false,
         "text": [
          null,
          "Strikes"
         ],
         "textposition": "bottom center",
         "type": "scatter",
         "x": [
          0,
          -35.4012730616932
         ],
         "y": [
          0,
          15.09719287744972
         ]
        },
        {
         "line": {
          "color": "grey",
          "width": 0.2
         },
         "mode": "lines+text",
         "showlegend": false,
         "text": [
          null,
          "Pitches"
         ],
         "textposition": "bottom center",
         "type": "scatter",
         "x": [
          0,
          -35.13328663412328
         ],
         "y": [
          0,
          15.433898584269953
         ]
        },
        {
         "line": {
          "color": "grey",
          "width": 0.2
         },
         "mode": "lines+text",
         "showlegend": false,
         "text": [
          null,
          "RS"
         ],
         "textposition": "bottom center",
         "type": "scatter",
         "x": [
          0,
          -33.77468947328838
         ],
         "y": [
          0,
          16.123084228010462
         ]
        },
        {
         "line": {
          "color": "grey",
          "width": 0.2
         },
         "mode": "lines+text",
         "showlegend": false,
         "text": [
          null,
          "RS_per_9"
         ],
         "textposition": "bottom center",
         "type": "scatter",
         "x": [
          0,
          -3.1214299564394845
         ],
         "y": [
          0,
          -0.05307188781731011
         ]
        },
        {
         "line": {
          "color": "grey",
          "width": 0.2
         },
         "mode": "lines+text",
         "showlegend": false,
         "text": [
          null,
          "K_pct"
         ],
         "textposition": "bottom center",
         "type": "scatter",
         "x": [
          0,
          -14.395488139724339
         ],
         "y": [
          0,
          -29.450986452479317
         ]
        },
        {
         "line": {
          "color": "grey",
          "width": 0.2
         },
         "mode": "lines+text",
         "showlegend": false,
         "text": [
          null,
          "BB_pct"
         ],
         "textposition": "bottom center",
         "type": "scatter",
         "x": [
          0,
          15.877168083308348
         ],
         "y": [
          0,
          6.143556908857937
         ]
        },
        {
         "line": {
          "color": "grey",
          "width": 0.2
         },
         "mode": "lines+text",
         "showlegend": false,
         "text": [
          null,
          "K_minus_BB_pct"
         ],
         "textposition": "bottom center",
         "type": "scatter",
         "x": [
          0,
          -19.78279862110683
         ],
         "y": [
          0,
          -25.965436488749695
         ]
        },
        {
         "line": {
          "color": "grey",
          "width": 0.2
         },
         "mode": "lines+text",
         "showlegend": false,
         "text": [
          null,
          "K_per_9"
         ],
         "textposition": "bottom center",
         "type": "scatter",
         "x": [
          0,
          -8.258940364910812
         ],
         "y": [
          0,
          -22.334231055772424
         ]
        },
        {
         "line": {
          "color": "grey",
          "width": 0.2
         },
         "mode": "lines+text",
         "showlegend": false,
         "text": [
          null,
          "BB_per_9"
         ],
         "textposition": "bottom center",
         "type": "scatter",
         "x": [
          0,
          17.222942324882194
         ],
         "y": [
          0,
          11.238367289009265
         ]
        },
        {
         "line": {
          "color": "grey",
          "width": 0.2
         },
         "mode": "lines+text",
         "showlegend": false,
         "text": [
          null,
          "K_to_BB"
         ],
         "textposition": "bottom center",
         "type": "scatter",
         "x": [
          0,
          -18.182407955652625
         ],
         "y": [
          0,
          -14.886226892269997
         ]
        },
        {
         "line": {
          "color": "grey",
          "width": 0.2
         },
         "mode": "lines+text",
         "showlegend": false,
         "text": [
          null,
          "H_per_9"
         ],
         "textposition": "bottom center",
         "type": "scatter",
         "x": [
          0,
          14.877486720847758
         ],
         "y": [
          0,
          23.543262541394004
         ]
        },
        {
         "line": {
          "color": "grey",
          "width": 0.2
         },
         "mode": "lines+text",
         "showlegend": false,
         "text": [
          null,
          "HR_per_9"
         ],
         "textposition": "bottom center",
         "type": "scatter",
         "x": [
          0,
          10.290901080023666
         ],
         "y": [
          0,
          16.670437453607924
         ]
        },
        {
         "line": {
          "color": "grey",
          "width": 0.2
         },
         "mode": "lines+text",
         "showlegend": false,
         "text": [
          null,
          "AVG"
         ],
         "textposition": "bottom center",
         "type": "scatter",
         "x": [
          0,
          13.968200457742675
         ],
         "y": [
          0,
          26.94858721492439
         ]
        },
        {
         "line": {
          "color": "grey",
          "width": 0.2
         },
         "mode": "lines+text",
         "showlegend": false,
         "text": [
          null,
          "WHIP"
         ],
         "textposition": "bottom center",
         "type": "scatter",
         "x": [
          0,
          19.75271091843792
         ],
         "y": [
          0,
          22.86373057344001
         ]
        },
        {
         "line": {
          "color": "grey",
          "width": 0.2
         },
         "mode": "lines+text",
         "showlegend": false,
         "text": [
          null,
          "BABIP"
         ],
         "textposition": "bottom center",
         "type": "scatter",
         "x": [
          0,
          8.14236428356822
         ],
         "y": [
          0,
          14.677790928070056
         ]
        },
        {
         "line": {
          "color": "grey",
          "width": 0.2
         },
         "mode": "lines+text",
         "showlegend": false,
         "text": [
          null,
          "LOB_pct"
         ],
         "textposition": "bottom center",
         "type": "scatter",
         "x": [
          0,
          -8.88271646842409
         ],
         "y": [
          0,
          -15.419386860350938
         ]
        },
        {
         "line": {
          "color": "grey",
          "width": 0.2
         },
         "mode": "lines+text",
         "showlegend": false,
         "text": [
          null,
          "GB_pct"
         ],
         "textposition": "bottom center",
         "type": "scatter",
         "x": [
          0,
          -2.852047316639688
         ],
         "y": [
          0,
          -3.970388412433043
         ]
        },
        {
         "line": {
          "color": "grey",
          "width": 0.2
         },
         "mode": "lines+text",
         "showlegend": false,
         "text": [
          null,
          "LD_pct"
         ],
         "textposition": "bottom center",
         "type": "scatter",
         "x": [
          0,
          2.4863845101662974
         ],
         "y": [
          0,
          7.767071857716535
         ]
        },
        {
         "line": {
          "color": "grey",
          "width": 0.2
         },
         "mode": "lines+text",
         "showlegend": false,
         "text": [
          null,
          "FB_pct"
         ],
         "textposition": "bottom center",
         "type": "scatter",
         "x": [
          0,
          1.1878883429411333
         ],
         "y": [
          0,
          -0.6827797355054176
         ]
        },
        {
         "line": {
          "color": "grey",
          "width": 0.2
         },
         "mode": "lines+text",
         "showlegend": false,
         "text": [
          null,
          "IFFB_pct"
         ],
         "textposition": "bottom center",
         "type": "scatter",
         "x": [
          0,
          -3.2215797967630766
         ],
         "y": [
          0,
          -3.76143028311716
         ]
        },
        {
         "line": {
          "color": "grey",
          "width": 0.2
         },
         "mode": "lines+text",
         "showlegend": false,
         "text": [
          null,
          "GB_to_FB"
         ],
         "textposition": "bottom center",
         "type": "scatter",
         "x": [
          0,
          0.4320567847055234
         ],
         "y": [
          0,
          -2.423098529773968
         ]
        },
        {
         "line": {
          "color": "grey",
          "width": 0.2
         },
         "mode": "lines+text",
         "showlegend": false,
         "text": [
          null,
          "HR_to_FB"
         ],
         "textposition": "bottom center",
         "type": "scatter",
         "x": [
          0,
          6.237300590936058
         ],
         "y": [
          0,
          12.673445558897775
         ]
        },
        {
         "line": {
          "color": "grey",
          "width": 0.2
         },
         "mode": "lines+text",
         "showlegend": false,
         "text": [
          null,
          "IFH_pct"
         ],
         "textposition": "bottom center",
         "type": "scatter",
         "x": [
          0,
          1.149340378293839
         ],
         "y": [
          0,
          1.5825557447959737
         ]
        },
        {
         "line": {
          "color": "grey",
          "width": 0.2
         },
         "mode": "lines+text",
         "showlegend": false,
         "text": [
          null,
          "BUH_pct"
         ],
         "textposition": "bottom center",
         "type": "scatter",
         "x": [
          0,
          -12.313158506853375
         ],
         "y": [
          0,
          5.491615238406883
         ]
        },
        {
         "line": {
          "color": "grey",
          "width": 0.2
         },
         "mode": "lines+text",
         "showlegend": false,
         "text": [
          null,
          "FIP"
         ],
         "textposition": "bottom center",
         "type": "scatter",
         "x": [
          0,
          17.8393655641905
         ],
         "y": [
          0,
          23.391992730791127
         ]
        },
        {
         "line": {
          "color": "grey",
          "width": 0.2
         },
         "mode": "lines+text",
         "showlegend": false,
         "text": [
          null,
          "xFIP"
         ],
         "textposition": "bottom center",
         "type": "scatter",
         "x": [
          0,
          20.468608738863132
         ],
         "y": [
          0,
          23.378779712322167
         ]
        },
        {
         "line": {
          "color": "grey",
          "width": 0.2
         },
         "mode": "lines+text",
         "showlegend": false,
         "text": [
          null,
          "SIERA"
         ],
         "textposition": "bottom center",
         "type": "scatter",
         "x": [
          0,
          18.498955519723836
         ],
         "y": [
          0,
          23.84589309785006
         ]
        },
        {
         "line": {
          "color": "grey",
          "width": 0.2
         },
         "mode": "lines+text",
         "showlegend": false,
         "text": [
          null,
          "tERA"
         ],
         "textposition": "bottom center",
         "type": "scatter",
         "x": [
          0,
          16.19941095854841
         ],
         "y": [
          0,
          21.7926042317833
         ]
        },
        {
         "line": {
          "color": "grey",
          "width": 0.2
         },
         "mode": "lines+text",
         "showlegend": false,
         "text": [
          null,
          "kwERA"
         ],
         "textposition": "bottom center",
         "type": "scatter",
         "x": [
          0,
          19.7531602117757
         ],
         "y": [
          0,
          25.901179802403124
         ]
        },
        {
         "line": {
          "color": "grey",
          "width": 0.2
         },
         "mode": "lines+text",
         "showlegend": false,
         "text": [
          null,
          "E_minus_F"
         ],
         "textposition": "bottom center",
         "type": "scatter",
         "x": [
          0,
          8.970846089326834
         ],
         "y": [
          0,
          11.790239459134819
         ]
        },
        {
         "line": {
          "color": "grey",
          "width": 0.2
         },
         "mode": "lines+text",
         "showlegend": false,
         "text": [
          null,
          "RAR"
         ],
         "textposition": "bottom center",
         "type": "scatter",
         "x": [
          0,
          -32.258234472028896
         ],
         "y": [
          0,
          2.063945131772145
         ]
        },
        {
         "line": {
          "color": "grey",
          "width": 0.2
         },
         "mode": "lines+text",
         "showlegend": false,
         "text": [
          null,
          "WAR"
         ],
         "textposition": "bottom center",
         "type": "scatter",
         "x": [
          0,
          -31.98686975818856
         ],
         "y": [
          0,
          2.2111929739003435
         ]
        },
        {
         "line": {
          "color": "grey",
          "width": 0.2
         },
         "mode": "lines+text",
         "showlegend": false,
         "text": [
          null,
          "Dollars"
         ],
         "textposition": "bottom center",
         "type": "scatter",
         "x": [
          0,
          -31.986869902038357
         ],
         "y": [
          0,
          2.2111938778190323
         ]
        },
        {
         "line": {
          "color": "grey",
          "width": 0.2
         },
         "mode": "lines+text",
         "showlegend": false,
         "text": [
          null,
          "WPA"
         ],
         "textposition": "bottom center",
         "type": "scatter",
         "x": [
          0,
          -16.42613190308727
         ],
         "y": [
          0,
          -15.868972221489111
         ]
        },
        {
         "line": {
          "color": "grey",
          "width": 0.2
         },
         "mode": "lines+text",
         "showlegend": false,
         "text": [
          null,
          "RE24"
         ],
         "textposition": "bottom center",
         "type": "scatter",
         "x": [
          0,
          -19.101446310109537
         ],
         "y": [
          0,
          -16.8140436551381
         ]
        },
        {
         "line": {
          "color": "grey",
          "width": 0.2
         },
         "mode": "lines+text",
         "showlegend": false,
         "text": [
          null,
          "REW"
         ],
         "textposition": "bottom center",
         "type": "scatter",
         "x": [
          0,
          -19.108133680398247
         ],
         "y": [
          0,
          -16.84012493844039
         ]
        },
        {
         "line": {
          "color": "grey",
          "width": 0.2
         },
         "mode": "lines+text",
         "showlegend": false,
         "text": [
          null,
          "pLI"
         ],
         "textposition": "bottom center",
         "type": "scatter",
         "x": [
          0,
          -13.030282173473022
         ],
         "y": [
          0,
          -10.062300407179118
         ]
        },
        {
         "line": {
          "color": "grey",
          "width": 0.2
         },
         "mode": "lines+text",
         "showlegend": false,
         "text": [
          null,
          "inLI"
         ],
         "textposition": "bottom center",
         "type": "scatter",
         "x": [
          0,
          -15.880780855091649
         ],
         "y": [
          0,
          -11.606633815854314
         ]
        },
        {
         "line": {
          "color": "grey",
          "width": 0.2
         },
         "mode": "lines+text",
         "showlegend": false,
         "text": [
          null,
          "gmLI"
         ],
         "textposition": "bottom center",
         "type": "scatter",
         "x": [
          0,
          -12.551132505706809
         ],
         "y": [
          0,
          -14.35781136888662
         ]
        },
        {
         "line": {
          "color": "grey",
          "width": 0.2
         },
         "mode": "lines+text",
         "showlegend": false,
         "text": [
          null,
          "exLI"
         ],
         "textposition": "bottom center",
         "type": "scatter",
         "x": [
          0,
          -11.290858451405706
         ],
         "y": [
          0,
          -9.150929049063617
         ]
        },
        {
         "line": {
          "color": "grey",
          "width": 0.2
         },
         "mode": "lines+text",
         "showlegend": false,
         "text": [
          null,
          "WPA_to_LI"
         ],
         "textposition": "bottom center",
         "type": "scatter",
         "x": [
          0,
          -18.47628619391163
         ],
         "y": [
          0,
          -17.382561341051566
         ]
        },
        {
         "line": {
          "color": "grey",
          "width": 0.2
         },
         "mode": "lines+text",
         "showlegend": false,
         "text": [
          null,
          "Clutch"
         ],
         "textposition": "bottom center",
         "type": "scatter",
         "x": [
          0,
          -1.5414638364986888
         ],
         "y": [
          0,
          1.7744989228513512
         ]
        },
        {
         "line": {
          "color": "grey",
          "width": 0.2
         },
         "mode": "lines+text",
         "showlegend": false,
         "text": [
          null,
          "OSwing_pct"
         ],
         "textposition": "bottom center",
         "type": "scatter",
         "x": [
          0,
          -13.66667263706346
         ],
         "y": [
          0,
          -11.899975753237326
         ]
        },
        {
         "line": {
          "color": "grey",
          "width": 0.2
         },
         "mode": "lines+text",
         "showlegend": false,
         "text": [
          null,
          "ZSwing_pct"
         ],
         "textposition": "bottom center",
         "type": "scatter",
         "x": [
          0,
          -0.2674491026359565
         ],
         "y": [
          0,
          5.647782368048204
         ]
        },
        {
         "line": {
          "color": "grey",
          "width": 0.2
         },
         "mode": "lines+text",
         "showlegend": false,
         "text": [
          null,
          "Swing_pct"
         ],
         "textposition": "bottom center",
         "type": "scatter",
         "x": [
          0,
          -12.112431282051705
         ],
         "y": [
          0,
          -6.77784384422913
         ]
        },
        {
         "line": {
          "color": "grey",
          "width": 0.2
         },
         "mode": "lines+text",
         "showlegend": false,
         "text": [
          null,
          "OContact_pct"
         ],
         "textposition": "bottom center",
         "type": "scatter",
         "x": [
          0,
          3.651392173216619
         ],
         "y": [
          0,
          16.786959548043942
         ]
        },
        {
         "line": {
          "color": "grey",
          "width": 0.2
         },
         "mode": "lines+text",
         "showlegend": false,
         "text": [
          null,
          "ZContact_pct"
         ],
         "textposition": "bottom center",
         "type": "scatter",
         "x": [
          0,
          6.345345548214666
         ],
         "y": [
          0,
          18.17845622621655
         ]
        },
        {
         "line": {
          "color": "grey",
          "width": 0.2
         },
         "mode": "lines+text",
         "showlegend": false,
         "text": [
          null,
          "Contact_pct"
         ],
         "textposition": "bottom center",
         "type": "scatter",
         "x": [
          0,
          8.022959158289467
         ],
         "y": [
          0,
          24.34675570651166
         ]
        },
        {
         "line": {
          "color": "grey",
          "width": 0.2
         },
         "mode": "lines+text",
         "showlegend": false,
         "text": [
          null,
          "Zone_pct"
         ],
         "textposition": "bottom center",
         "type": "scatter",
         "x": [
          0,
          -5.886467194836004
         ],
         "y": [
          0,
          -2.558896394810362
         ]
        },
        {
         "line": {
          "color": "grey",
          "width": 0.2
         },
         "mode": "lines+text",
         "showlegend": false,
         "text": [
          null,
          "FStrike_pct"
         ],
         "textposition": "bottom center",
         "type": "scatter",
         "x": [
          0,
          -9.785375225010078
         ],
         "y": [
          0,
          -3.3877061932751675
         ]
        },
        {
         "line": {
          "color": "grey",
          "width": 0.2
         },
         "mode": "lines+text",
         "showlegend": false,
         "text": [
          null,
          "SwStr_pct"
         ],
         "textposition": "bottom center",
         "type": "scatter",
         "x": [
          0,
          -11.46628814031351
         ],
         "y": [
          0,
          -24.89169099126115
         ]
        },
        {
         "line": {
          "color": "grey",
          "width": 0.2
         },
         "mode": "lines+text",
         "showlegend": false,
         "text": [
          null,
          "CStr_pct"
         ],
         "textposition": "bottom center",
         "type": "scatter",
         "x": [
          0,
          -4.278835051207379
         ],
         "y": [
          0,
          -5.780846196608108
         ]
        },
        {
         "line": {
          "color": "grey",
          "width": 0.2
         },
         "mode": "lines+text",
         "showlegend": false,
         "text": [
          null,
          "CSW_pct"
         ],
         "textposition": "bottom center",
         "type": "scatter",
         "x": [
          0,
          -12.876799911042843
         ],
         "y": [
          0,
          -25.144842241904495
         ]
        },
        {
         "line": {
          "color": "grey",
          "width": 0.2
         },
         "mode": "lines+text",
         "showlegend": false,
         "text": [
          null,
          "ERA_minus"
         ],
         "textposition": "bottom center",
         "type": "scatter",
         "x": [
          0,
          16.732290720126677
         ],
         "y": [
          0,
          21.879575095133188
         ]
        },
        {
         "line": {
          "color": "grey",
          "width": 0.2
         },
         "mode": "lines+text",
         "showlegend": false,
         "text": [
          null,
          "FIP_minus"
         ],
         "textposition": "bottom center",
         "type": "scatter",
         "x": [
          0,
          17.78150842260188
         ],
         "y": [
          0,
          23.226790317569233
         ]
        },
        {
         "line": {
          "color": "grey",
          "width": 0.2
         },
         "mode": "lines+text",
         "showlegend": false,
         "text": [
          null,
          "xFIP_minus"
         ],
         "textposition": "bottom center",
         "type": "scatter",
         "x": [
          0,
          20.53695971706642
         ],
         "y": [
          0,
          23.426253518638273
         ]
        },
        {
         "line": {
          "color": "grey",
          "width": 0.2
         },
         "mode": "lines+text",
         "showlegend": false,
         "text": [
          null,
          "Pace"
         ],
         "textposition": "bottom center",
         "type": "scatter",
         "x": [
          0,
          -0.4870796493859686
         ],
         "y": [
          0,
          -7.797168901104012
         ]
        },
        {
         "line": {
          "color": "grey",
          "width": 0.2
         },
         "mode": "lines+text",
         "showlegend": false,
         "text": [
          null,
          "RA9_WAR"
         ],
         "textposition": "bottom center",
         "type": "scatter",
         "x": [
          0,
          -30.336520630992347
         ],
         "y": [
          0,
          -0.039045455409181945
         ]
        },
        {
         "line": {
          "color": "grey",
          "width": 0.2
         },
         "mode": "lines+text",
         "showlegend": false,
         "text": [
          null,
          "BIP_Wins"
         ],
         "textposition": "bottom center",
         "type": "scatter",
         "x": [
          0,
          -7.38813763862867
         ],
         "y": [
          0,
          -9.092542445888514
         ]
        },
        {
         "line": {
          "color": "grey",
          "width": 0.2
         },
         "mode": "lines+text",
         "showlegend": false,
         "text": [
          null,
          "LOB_Wins"
         ],
         "textposition": "bottom center",
         "type": "scatter",
         "x": [
          0,
          -2.7840404834346946
         ],
         "y": [
          0,
          4.426648353183143
         ]
        },
        {
         "line": {
          "color": "grey",
          "width": 0.2
         },
         "mode": "lines+text",
         "showlegend": false,
         "text": [
          null,
          "FDP_Wins"
         ],
         "textposition": "bottom center",
         "type": "scatter",
         "x": [
          0,
          -8.123212416375225
         ],
         "y": [
          0,
          -4.079780558742231
         ]
        },
        {
         "line": {
          "color": "grey",
          "width": 0.2
         },
         "mode": "lines+text",
         "showlegend": false,
         "text": [
          null,
          "Pull_pct"
         ],
         "textposition": "bottom center",
         "type": "scatter",
         "x": [
          0,
          1.2163985244853672
         ],
         "y": [
          0,
          4.303945597054577
         ]
        },
        {
         "line": {
          "color": "grey",
          "width": 0.2
         },
         "mode": "lines+text",
         "showlegend": false,
         "text": [
          null,
          "Cent_pct"
         ],
         "textposition": "bottom center",
         "type": "scatter",
         "x": [
          0,
          -0.07091769684900744
         ],
         "y": [
          0,
          0.8668898204368086
         ]
        },
        {
         "line": {
          "color": "grey",
          "width": 0.2
         },
         "mode": "lines+text",
         "showlegend": false,
         "text": [
          null,
          "Oppo_pct"
         ],
         "textposition": "bottom center",
         "type": "scatter",
         "x": [
          0,
          -1.242965200295881
         ],
         "y": [
          0,
          -4.6672653570042515
         ]
        },
        {
         "line": {
          "color": "grey",
          "width": 0.2
         },
         "mode": "lines+text",
         "showlegend": false,
         "text": [
          null,
          "Soft_pct"
         ],
         "textposition": "bottom center",
         "type": "scatter",
         "x": [
          0,
          -3.4204142573212026
         ],
         "y": [
          0,
          -7.949879034763732
         ]
        },
        {
         "line": {
          "color": "grey",
          "width": 0.2
         },
         "mode": "lines+text",
         "showlegend": false,
         "text": [
          null,
          "Med_pct"
         ],
         "textposition": "bottom center",
         "type": "scatter",
         "x": [
          0,
          -4.3354182999746556
         ],
         "y": [
          0,
          -4.163486282882458
         ]
        },
        {
         "line": {
          "color": "grey",
          "width": 0.2
         },
         "mode": "lines+text",
         "showlegend": false,
         "text": [
          null,
          "Hard_pct"
         ],
         "textposition": "bottom center",
         "type": "scatter",
         "x": [
          0,
          7.175897073413898
         ],
         "y": [
          0,
          11.549361368122034
         ]
        },
        {
         "line": {
          "color": "grey",
          "width": 0.2
         },
         "mode": "lines+text",
         "showlegend": false,
         "text": [
          null,
          "TTO_pct"
         ],
         "textposition": "bottom center",
         "type": "scatter",
         "x": [
          0,
          0.14630672098593253
         ],
         "y": [
          0,
          -16.192695458033654
         ]
        },
        {
         "line": {
          "color": "grey",
          "width": 0.2
         },
         "mode": "lines+text",
         "showlegend": false,
         "text": [
          null,
          "FRM"
         ],
         "textposition": "bottom center",
         "type": "scatter",
         "x": [
          0,
          -3.3058722756425287
         ],
         "y": [
          0,
          -2.3026203563365573
         ]
        },
        {
         "line": {
          "color": "grey",
          "width": 0.2
         },
         "mode": "lines+text",
         "showlegend": false,
         "text": [
          null,
          "K_pct_plus"
         ],
         "textposition": "bottom center",
         "type": "scatter",
         "x": [
          0,
          -14.458442961160133
         ],
         "y": [
          0,
          -29.515419177754854
         ]
        },
        {
         "line": {
          "color": "grey",
          "width": 0.2
         },
         "mode": "lines+text",
         "showlegend": false,
         "text": [
          null,
          "BB_pct_plus"
         ],
         "textposition": "bottom center",
         "type": "scatter",
         "x": [
          0,
          15.833846880844053
         ],
         "y": [
          0,
          6.044903459120634
         ]
        },
        {
         "line": {
          "color": "grey",
          "width": 0.2
         },
         "mode": "lines+text",
         "showlegend": false,
         "text": [
          null,
          "K_per_9_plus"
         ],
         "textposition": "bottom center",
         "type": "scatter",
         "x": [
          0,
          -8.371897327357118
         ],
         "y": [
          0,
          -22.480795391037045
         ]
        },
        {
         "line": {
          "color": "grey",
          "width": 0.2
         },
         "mode": "lines+text",
         "showlegend": false,
         "text": [
          null,
          "BB_per_9_plus"
         ],
         "textposition": "bottom center",
         "type": "scatter",
         "x": [
          0,
          16.949445474712043
         ],
         "y": [
          0,
          10.838156876571269
         ]
        },
        {
         "line": {
          "color": "grey",
          "width": 0.2
         },
         "mode": "lines+text",
         "showlegend": false,
         "text": [
          null,
          "K_to_BB_plus"
         ],
         "textposition": "bottom center",
         "type": "scatter",
         "x": [
          0,
          -19.29893003936628
         ],
         "y": [
          0,
          -11.017267178376065
         ]
        },
        {
         "line": {
          "color": "grey",
          "width": 0.2
         },
         "mode": "lines+text",
         "showlegend": false,
         "text": [
          null,
          "H_per_9_plus"
         ],
         "textposition": "bottom center",
         "type": "scatter",
         "x": [
          0,
          14.679404565145928
         ],
         "y": [
          0,
          23.317306953238308
         ]
        },
        {
         "line": {
          "color": "grey",
          "width": 0.2
         },
         "mode": "lines+text",
         "showlegend": false,
         "text": [
          null,
          "HR_per_9_plus"
         ],
         "textposition": "bottom center",
         "type": "scatter",
         "x": [
          0,
          10.261881928541586
         ],
         "y": [
          0,
          16.632665473656157
         ]
        },
        {
         "line": {
          "color": "grey",
          "width": 0.2
         },
         "mode": "lines+text",
         "showlegend": false,
         "text": [
          null,
          "AVG_plus"
         ],
         "textposition": "bottom center",
         "type": "scatter",
         "x": [
          0,
          13.992724716293536
         ],
         "y": [
          0,
          26.928574734907325
         ]
        },
        {
         "line": {
          "color": "grey",
          "width": 0.2
         },
         "mode": "lines+text",
         "showlegend": false,
         "text": [
          null,
          "WHIP_plus"
         ],
         "textposition": "bottom center",
         "type": "scatter",
         "x": [
          0,
          19.441991482231572
         ],
         "y": [
          0,
          22.484105355021175
         ]
        },
        {
         "line": {
          "color": "grey",
          "width": 0.2
         },
         "mode": "lines+text",
         "showlegend": false,
         "text": [
          null,
          "BABIP_plus"
         ],
         "textposition": "bottom center",
         "type": "scatter",
         "x": [
          0,
          8.159239726345135
         ],
         "y": [
          0,
          14.681569045696362
         ]
        },
        {
         "line": {
          "color": "grey",
          "width": 0.2
         },
         "mode": "lines+text",
         "showlegend": false,
         "text": [
          null,
          "LOB_pct_plus"
         ],
         "textposition": "bottom center",
         "type": "scatter",
         "x": [
          0,
          -8.634375310922941
         ],
         "y": [
          0,
          -9.579758316235118
         ]
        },
        {
         "line": {
          "color": "grey",
          "width": 0.2
         },
         "mode": "lines+text",
         "showlegend": false,
         "text": [
          null,
          "GB_pct_plus"
         ],
         "textposition": "bottom center",
         "type": "scatter",
         "x": [
          0,
          -2.897058935432791
         ],
         "y": [
          0,
          -4.089693445902012
         ]
        },
        {
         "line": {
          "color": "grey",
          "width": 0.2
         },
         "mode": "lines+text",
         "showlegend": false,
         "text": [
          null,
          "LD_pct_plus"
         ],
         "textposition": "bottom center",
         "type": "scatter",
         "x": [
          0,
          2.4025578123830242
         ],
         "y": [
          0,
          7.58399489911239
         ]
        },
        {
         "line": {
          "color": "grey",
          "width": 0.2
         },
         "mode": "lines+text",
         "showlegend": false,
         "text": [
          null,
          "FB_pct_plus"
         ],
         "textposition": "bottom center",
         "type": "scatter",
         "x": [
          0,
          1.359589113764959
         ],
         "y": [
          0,
          -0.47477573110513077
         ]
        },
        {
         "line": {
          "color": "grey",
          "width": 0.2
         },
         "mode": "lines+text",
         "showlegend": false,
         "text": [
          null,
          "HR_to_FB_pct_plus"
         ],
         "textposition": "bottom center",
         "type": "scatter",
         "x": [
          0,
          6.112394972723745
         ],
         "y": [
          0,
          12.742081818125357
         ]
        },
        {
         "line": {
          "color": "grey",
          "width": 0.2
         },
         "mode": "lines+text",
         "showlegend": false,
         "text": [
          null,
          "Pull_pct_plus"
         ],
         "textposition": "bottom center",
         "type": "scatter",
         "x": [
          0,
          1.2722354209525584
         ],
         "y": [
          0,
          4.3688168913730205
         ]
        },
        {
         "line": {
          "color": "grey",
          "width": 0.2
         },
         "mode": "lines+text",
         "showlegend": false,
         "text": [
          null,
          "Cent_pct_plus"
         ],
         "textposition": "bottom center",
         "type": "scatter",
         "x": [
          0,
          -0.10724126293134806
         ],
         "y": [
          0,
          0.826852767855725
         ]
        },
        {
         "line": {
          "color": "grey",
          "width": 0.2
         },
         "mode": "lines+text",
         "showlegend": false,
         "text": [
          null,
          "Oppo_pct_plus"
         ],
         "textposition": "bottom center",
         "type": "scatter",
         "x": [
          0,
          -1.2540491900168558
         ],
         "y": [
          0,
          -4.6756246082442185
         ]
        },
        {
         "line": {
          "color": "grey",
          "width": 0.2
         },
         "mode": "lines+text",
         "showlegend": false,
         "text": [
          null,
          "Med_pct_plus"
         ],
         "textposition": "bottom center",
         "type": "scatter",
         "x": [
          0,
          -4.2596045970419505
         ],
         "y": [
          0,
          -4.035477386193029
         ]
        },
        {
         "line": {
          "color": "grey",
          "width": 0.2
         },
         "mode": "lines+text",
         "showlegend": false,
         "text": [
          null,
          "Hard_pct_plus"
         ],
         "textposition": "bottom center",
         "type": "scatter",
         "x": [
          0,
          7.121373610824484
         ],
         "y": [
          0,
          11.45747767318369
         ]
        },
        {
         "line": {
          "color": "grey",
          "width": 0.2
         },
         "mode": "lines+text",
         "showlegend": false,
         "text": [
          null,
          "EV"
         ],
         "textposition": "bottom center",
         "type": "scatter",
         "x": [
          0,
          5.593678343613559
         ],
         "y": [
          0,
          12.536178997658611
         ]
        },
        {
         "line": {
          "color": "grey",
          "width": 0.2
         },
         "mode": "lines+text",
         "showlegend": false,
         "text": [
          null,
          "LA"
         ],
         "textposition": "bottom center",
         "type": "scatter",
         "x": [
          0,
          0.9943434099702299
         ],
         "y": [
          0,
          0.7559861002912919
         ]
        },
        {
         "line": {
          "color": "grey",
          "width": 0.2
         },
         "mode": "lines+text",
         "showlegend": false,
         "text": [
          null,
          "Barrels"
         ],
         "textposition": "bottom center",
         "type": "scatter",
         "x": [
          0,
          -30.960016482336652
         ],
         "y": [
          0,
          21.124881703793353
         ]
        },
        {
         "line": {
          "color": "grey",
          "width": 0.2
         },
         "mode": "lines+text",
         "showlegend": false,
         "text": [
          null,
          "Barrel_pct"
         ],
         "textposition": "bottom center",
         "type": "scatter",
         "x": [
          0,
          5.914632560048189
         ],
         "y": [
          0,
          10.128357569873359
         ]
        },
        {
         "line": {
          "color": "grey",
          "width": 0.2
         },
         "mode": "lines+text",
         "showlegend": false,
         "text": [
          null,
          "maxEV"
         ],
         "textposition": "bottom center",
         "type": "scatter",
         "x": [
          0,
          -15.169921834444187
         ],
         "y": [
          0,
          12.239777497778537
         ]
        },
        {
         "line": {
          "color": "grey",
          "width": 0.2
         },
         "mode": "lines+text",
         "showlegend": false,
         "text": [
          null,
          "HardHit"
         ],
         "textposition": "bottom center",
         "type": "scatter",
         "x": [
          0,
          -33.25065172313866
         ],
         "y": [
          0,
          19.612484251772145
         ]
        },
        {
         "line": {
          "color": "grey",
          "width": 0.2
         },
         "mode": "lines+text",
         "showlegend": false,
         "text": [
          null,
          "HardHit_pct"
         ],
         "textposition": "bottom center",
         "type": "scatter",
         "x": [
          0,
          6.296892106190773
         ],
         "y": [
          0,
          11.777980653331243
         ]
        },
        {
         "line": {
          "color": "grey",
          "width": 0.2
         },
         "mode": "lines+text",
         "showlegend": false,
         "text": [
          null,
          "FA_pct"
         ],
         "textposition": "bottom center",
         "type": "scatter",
         "x": [
          0,
          3.675131356516783
         ],
         "y": [
          0,
          -2.7833296476905485
         ]
        },
        {
         "line": {
          "color": "grey",
          "width": 0.2
         },
         "mode": "lines+text",
         "showlegend": false,
         "text": [
          null,
          "FAv"
         ],
         "textposition": "bottom center",
         "type": "scatter",
         "x": [
          0,
          -3.1119121221938775
         ],
         "y": [
          0,
          -8.287492254127573
         ]
        },
        {
         "line": {
          "color": "grey",
          "width": 0.2
         },
         "mode": "lines+text",
         "showlegend": false,
         "text": [
          null,
          "SL_pct"
         ],
         "textposition": "bottom center",
         "type": "scatter",
         "x": [
          0,
          3.392232015908771
         ],
         "y": [
          0,
          -16.303991007966435
         ]
        },
        {
         "line": {
          "color": "grey",
          "width": 0.2
         },
         "mode": "lines+text",
         "showlegend": false,
         "text": [
          null,
          "SLv"
         ],
         "textposition": "bottom center",
         "type": "scatter",
         "x": [
          0,
          -1.9574586899965307
         ],
         "y": [
          0,
          -9.213676058700466
         ]
        },
        {
         "line": {
          "color": "grey",
          "width": 0.2
         },
         "mode": "lines+text",
         "showlegend": false,
         "text": [
          null,
          "CT_pct"
         ],
         "textposition": "bottom center",
         "type": "scatter",
         "x": [
          0,
          -2.2849684616551973
         ],
         "y": [
          0,
          7.345098207959864
         ]
        },
        {
         "line": {
          "color": "grey",
          "width": 0.2
         },
         "mode": "lines+text",
         "showlegend": false,
         "text": [
          null,
          "CTv"
         ],
         "textposition": "bottom center",
         "type": "scatter",
         "x": [
          0,
          -5.386519880078344
         ],
         "y": [
          0,
          11.14574946734714
         ]
        },
        {
         "line": {
          "color": "grey",
          "width": 0.2
         },
         "mode": "lines+text",
         "showlegend": false,
         "text": [
          null,
          "CB_pct"
         ],
         "textposition": "bottom center",
         "type": "scatter",
         "x": [
          0,
          -4.204750949720592
         ],
         "y": [
          0,
          10.137416037973694
         ]
        },
        {
         "line": {
          "color": "grey",
          "width": 0.2
         },
         "mode": "lines+text",
         "showlegend": false,
         "text": [
          null,
          "CBv"
         ],
         "textposition": "bottom center",
         "type": "scatter",
         "x": [
          0,
          -7.81381944986825
         ],
         "y": [
          0,
          18.09502698661694
         ]
        },
        {
         "line": {
          "color": "grey",
          "width": 0.2
         },
         "mode": "lines+text",
         "showlegend": false,
         "text": [
          null,
          "CH_pct"
         ],
         "textposition": "bottom center",
         "type": "scatter",
         "x": [
          0,
          -1.4240831862047758
         ],
         "y": [
          0,
          12.032286160751699
         ]
        },
        {
         "line": {
          "color": "grey",
          "width": 0.2
         },
         "mode": "lines+text",
         "showlegend": false,
         "text": [
          null,
          "CHv"
         ],
         "textposition": "bottom center",
         "type": "scatter",
         "x": [
          0,
          -5.274826526842195
         ],
         "y": [
          0,
          17.514951052064102
         ]
        },
        {
         "line": {
          "color": "grey",
          "width": 0.2
         },
         "mode": "lines+text",
         "showlegend": false,
         "text": [
          null,
          "SF_pct"
         ],
         "textposition": "bottom center",
         "type": "scatter",
         "x": [
          0,
          -2.306574717945108
         ],
         "y": [
          0,
          -7.746484343764897
         ]
        },
        {
         "line": {
          "color": "grey",
          "width": 0.2
         },
         "mode": "lines+text",
         "showlegend": false,
         "text": [
          null,
          "SFv"
         ],
         "textposition": "bottom center",
         "type": "scatter",
         "x": [
          0,
          -3.2514866246580163
         ],
         "y": [
          0,
          -5.793159866956906
         ]
        },
        {
         "line": {
          "color": "grey",
          "width": 0.2
         },
         "mode": "lines+text",
         "showlegend": false,
         "text": [
          null,
          "KN_pct"
         ],
         "textposition": "bottom center",
         "type": "scatter",
         "x": [
          0,
          1.75085585294478
         ],
         "y": [
          0,
          2.098483062136021
         ]
        },
        {
         "line": {
          "color": "grey",
          "width": 0.2
         },
         "mode": "lines+text",
         "showlegend": false,
         "text": [
          null,
          "KNv"
         ],
         "textposition": "bottom center",
         "type": "scatter",
         "x": [
          0,
          -0.630993906350657
         ],
         "y": [
          0,
          1.4005613690215464
         ]
        },
        {
         "line": {
          "color": "grey",
          "width": 0.2
         },
         "mode": "lines+text",
         "showlegend": false,
         "text": [
          null,
          "XX_pct"
         ],
         "textposition": "bottom center",
         "type": "scatter",
         "x": [
          0,
          2.348841356675348
         ],
         "y": [
          0,
          -4.370372161175984
         ]
        },
        {
         "line": {
          "color": "grey",
          "width": 0.2
         },
         "mode": "lines+text",
         "showlegend": false,
         "text": [
          null,
          "PO_pct"
         ],
         "textposition": "bottom center",
         "type": "scatter",
         "x": [
          0,
          0
         ],
         "y": [
          0,
          0
         ]
        },
        {
         "line": {
          "color": "grey",
          "width": 0.2
         },
         "mode": "lines+text",
         "showlegend": false,
         "text": [
          null,
          "wFB"
         ],
         "textposition": "bottom center",
         "type": "scatter",
         "x": [
          0,
          -11.167958350707162
         ],
         "y": [
          0,
          -15.547109990228867
         ]
        },
        {
         "line": {
          "color": "grey",
          "width": 0.2
         },
         "mode": "lines+text",
         "showlegend": false,
         "text": [
          null,
          "wSL"
         ],
         "textposition": "bottom center",
         "type": "scatter",
         "x": [
          0,
          -11.173374291351069
         ],
         "y": [
          0,
          -12.82056483856612
         ]
        },
        {
         "line": {
          "color": "grey",
          "width": 0.2
         },
         "mode": "lines+text",
         "showlegend": false,
         "text": [
          null,
          "wCT"
         ],
         "textposition": "bottom center",
         "type": "scatter",
         "x": [
          0,
          -5.018241316212211
         ],
         "y": [
          0,
          -4.803555381881808
         ]
        },
        {
         "line": {
          "color": "grey",
          "width": 0.2
         },
         "mode": "lines+text",
         "showlegend": false,
         "text": [
          null,
          "wCB"
         ],
         "textposition": "bottom center",
         "type": "scatter",
         "x": [
          0,
          -5.1296462606513655
         ],
         "y": [
          0,
          -6.90098977795676
         ]
        },
        {
         "line": {
          "color": "grey",
          "width": 0.2
         },
         "mode": "lines+text",
         "showlegend": false,
         "text": [
          null,
          "wCH"
         ],
         "textposition": "bottom center",
         "type": "scatter",
         "x": [
          0,
          -3.936939742444463
         ],
         "y": [
          0,
          -7.315475477674698
         ]
        },
        {
         "line": {
          "color": "grey",
          "width": 0.2
         },
         "mode": "lines+text",
         "showlegend": false,
         "text": [
          null,
          "wSF"
         ],
         "textposition": "bottom center",
         "type": "scatter",
         "x": [
          0,
          -5.9289636089421025
         ],
         "y": [
          0,
          -3.520818176665847
         ]
        },
        {
         "line": {
          "color": "grey",
          "width": 0.2
         },
         "mode": "lines+text",
         "showlegend": false,
         "text": [
          null,
          "wKN"
         ],
         "textposition": "bottom center",
         "type": "scatter",
         "x": [
          0,
          -1.7159816910327554
         ],
         "y": [
          0,
          -2.1653220085592233
         ]
        },
        {
         "line": {
          "color": "grey",
          "width": 0.2
         },
         "mode": "lines+text",
         "showlegend": false,
         "text": [
          null,
          "wFB_per_c"
         ],
         "textposition": "bottom center",
         "type": "scatter",
         "x": [
          0,
          -12.203322412317538
         ],
         "y": [
          0,
          -17.054185505093695
         ]
        },
        {
         "line": {
          "color": "grey",
          "width": 0.2
         },
         "mode": "lines+text",
         "showlegend": false,
         "text": [
          null,
          "wSL_per_c"
         ],
         "textposition": "bottom center",
         "type": "scatter",
         "x": [
          0,
          -8.058084841964265
         ],
         "y": [
          0,
          -12.628151584292093
         ]
        },
        {
         "line": {
          "color": "grey",
          "width": 0.2
         },
         "mode": "lines+text",
         "showlegend": false,
         "text": [
          null,
          "wCT_per_c"
         ],
         "textposition": "bottom center",
         "type": "scatter",
         "x": [
          0,
          -2.674034236466981
         ],
         "y": [
          0,
          -4.911666182587363
         ]
        },
        {
         "line": {
          "color": "grey",
          "width": 0.2
         },
         "mode": "lines+text",
         "showlegend": false,
         "text": [
          null,
          "wCB_per_c"
         ],
         "textposition": "bottom center",
         "type": "scatter",
         "x": [
          0,
          -3.6338441956196865
         ],
         "y": [
          0,
          -7.3788334407105705
         ]
        },
        {
         "line": {
          "color": "grey",
          "width": 0.2
         },
         "mode": "lines+text",
         "showlegend": false,
         "text": [
          null,
          "wCH_per_c"
         ],
         "textposition": "bottom center",
         "type": "scatter",
         "x": [
          0,
          -3.410137739465062
         ],
         "y": [
          0,
          -5.149759927922746
         ]
        },
        {
         "line": {
          "color": "grey",
          "width": 0.2
         },
         "mode": "lines+text",
         "showlegend": false,
         "text": [
          null,
          "wSF_per_c"
         ],
         "textposition": "bottom center",
         "type": "scatter",
         "x": [
          0,
          -2.196915914981122
         ],
         "y": [
          0,
          -1.3948002300685505
         ]
        },
        {
         "line": {
          "color": "grey",
          "width": 0.2
         },
         "mode": "lines+text",
         "showlegend": false,
         "text": [
          null,
          "wKN_per_c"
         ],
         "textposition": "bottom center",
         "type": "scatter",
         "x": [
          0,
          -0.31294996465435276
         ],
         "y": [
          0,
          -0.6022627190682471
         ]
        },
        {
         "line": {
          "color": "grey",
          "width": 0.2
         },
         "mode": "lines+text",
         "showlegend": false,
         "text": [
          null,
          "FA_pct_sc"
         ],
         "textposition": "bottom center",
         "type": "scatter",
         "x": [
          0,
          0.6016344277352033
         ],
         "y": [
          0,
          -5.2494547946029755
         ]
        },
        {
         "line": {
          "color": "grey",
          "width": 0.2
         },
         "mode": "lines+text",
         "showlegend": false,
         "text": [
          null,
          "FC_pct_sc"
         ],
         "textposition": "bottom center",
         "type": "scatter",
         "x": [
          0,
          -2.3058999407574303
         ],
         "y": [
          0,
          7.628150791693236
         ]
        },
        {
         "line": {
          "color": "grey",
          "width": 0.2
         },
         "mode": "lines+text",
         "showlegend": false,
         "text": [
          null,
          "FS_pct_sc"
         ],
         "textposition": "bottom center",
         "type": "scatter",
         "x": [
          0,
          -3.642486977243452
         ],
         "y": [
          0,
          -8.682134974414636
         ]
        },
        {
         "line": {
          "color": "grey",
          "width": 0.2
         },
         "mode": "lines+text",
         "showlegend": false,
         "text": [
          null,
          "FO_pct_sc"
         ],
         "textposition": "bottom center",
         "type": "scatter",
         "x": [
          0,
          -0.8903618947651731
         ],
         "y": [
          0,
          0.6657366322098659
         ]
        },
        {
         "line": {
          "color": "grey",
          "width": 0.2
         },
         "mode": "lines+text",
         "showlegend": false,
         "text": [
          null,
          "SI_pct_sc"
         ],
         "textposition": "bottom center",
         "type": "scatter",
         "x": [
          0,
          2.0231313203805543
         ],
         "y": [
          0,
          4.069162708977448
         ]
        },
        {
         "line": {
          "color": "grey",
          "width": 0.2
         },
         "mode": "lines+text",
         "showlegend": false,
         "text": [
          null,
          "SL_pct_sc"
         ],
         "textposition": "bottom center",
         "type": "scatter",
         "x": [
          0,
          3.1290374706772504
         ],
         "y": [
          0,
          -18.201873061003493
         ]
        },
        {
         "line": {
          "color": "grey",
          "width": 0.2
         },
         "mode": "lines+text",
         "showlegend": false,
         "text": [
          null,
          "CU_pct_sc"
         ],
         "textposition": "bottom center",
         "type": "scatter",
         "x": [
          0,
          -2.215912417237244
         ],
         "y": [
          0,
          13.171214033369893
         ]
        },
        {
         "line": {
          "color": "grey",
          "width": 0.2
         },
         "mode": "lines+text",
         "showlegend": false,
         "text": [
          null,
          "KC_pct_sc"
         ],
         "textposition": "bottom center",
         "type": "scatter",
         "x": [
          0,
          -3.587053358265449
         ],
         "y": [
          0,
          -0.2546861588151869
         ]
        },
        {
         "line": {
          "color": "grey",
          "width": 0.2
         },
         "mode": "lines+text",
         "showlegend": false,
         "text": [
          null,
          "EP_pct_sc"
         ],
         "textposition": "bottom center",
         "type": "scatter",
         "x": [
          0,
          -1.5998500433649732
         ],
         "y": [
          0,
          1.8798828839391317
         ]
        },
        {
         "line": {
          "color": "grey",
          "width": 0.2
         },
         "mode": "lines+text",
         "showlegend": false,
         "text": [
          null,
          "CH_pct_sc"
         ],
         "textposition": "bottom center",
         "type": "scatter",
         "x": [
          0,
          -0.9053721395077705
         ],
         "y": [
          0,
          12.253094590029669
         ]
        },
        {
         "line": {
          "color": "grey",
          "width": 0.2
         },
         "mode": "lines+text",
         "showlegend": false,
         "text": [
          null,
          "SC_pct_sc"
         ],
         "textposition": "bottom center",
         "type": "scatter",
         "x": [
          0,
          0.06331173968299016
         ],
         "y": [
          0,
          0.3925949769184557
         ]
        },
        {
         "line": {
          "color": "grey",
          "width": 0.2
         },
         "mode": "lines+text",
         "showlegend": false,
         "text": [
          null,
          "KN_pct_sc"
         ],
         "textposition": "bottom center",
         "type": "scatter",
         "x": [
          0,
          1.7346234028123435
         ],
         "y": [
          0,
          2.067150904710018
         ]
        },
        {
         "line": {
          "color": "grey",
          "width": 0.2
         },
         "mode": "lines+text",
         "showlegend": false,
         "text": [
          null,
          "UN_pct_sc"
         ],
         "textposition": "bottom center",
         "type": "scatter",
         "x": [
          0,
          0
         ],
         "y": [
          0,
          0
         ]
        },
        {
         "line": {
          "color": "grey",
          "width": 0.2
         },
         "mode": "lines+text",
         "showlegend": false,
         "text": [
          null,
          "vFA_sc"
         ],
         "textposition": "bottom center",
         "type": "scatter",
         "x": [
          0,
          -5.420692912744894
         ],
         "y": [
          0,
          -2.900317398892494
         ]
        },
        {
         "line": {
          "color": "grey",
          "width": 0.2
         },
         "mode": "lines+text",
         "showlegend": false,
         "text": [
          null,
          "vFC_sc"
         ],
         "textposition": "bottom center",
         "type": "scatter",
         "x": [
          0,
          -5.4511216529854805
         ],
         "y": [
          0,
          11.228488582162216
         ]
        },
        {
         "line": {
          "color": "grey",
          "width": 0.2
         },
         "mode": "lines+text",
         "showlegend": false,
         "text": [
          null,
          "vFS_sc"
         ],
         "textposition": "bottom center",
         "type": "scatter",
         "x": [
          0,
          -4.577673948725954
         ],
         "y": [
          0,
          -8.446233492707226
         ]
        },
        {
         "line": {
          "color": "grey",
          "width": 0.2
         },
         "mode": "lines+text",
         "showlegend": false,
         "text": [
          null,
          "vFO_sc"
         ],
         "textposition": "bottom center",
         "type": "scatter",
         "x": [
          0,
          -0.8138555244106255
         ],
         "y": [
          0,
          0.5737233140202528
         ]
        },
        {
         "line": {
          "color": "grey",
          "width": 0.2
         },
         "mode": "lines+text",
         "showlegend": false,
         "text": [
          null,
          "vSI_sc"
         ],
         "textposition": "bottom center",
         "type": "scatter",
         "x": [
          0,
          -4.827932821138454
         ],
         "y": [
          0,
          7.138886226801253
         ]
        },
        {
         "line": {
          "color": "grey",
          "width": 0.2
         },
         "mode": "lines+text",
         "showlegend": false,
         "text": [
          null,
          "vSL_sc"
         ],
         "textposition": "bottom center",
         "type": "scatter",
         "x": [
          0,
          -1.6663190151165317
         ],
         "y": [
          0,
          -11.539889761572235
         ]
        },
        {
         "line": {
          "color": "grey",
          "width": 0.2
         },
         "mode": "lines+text",
         "showlegend": false,
         "text": [
          null,
          "vCU_sc"
         ],
         "textposition": "bottom center",
         "type": "scatter",
         "x": [
          0,
          -5.367716362663938
         ],
         "y": [
          0,
          19.724567597389367
         ]
        },
        {
         "line": {
          "color": "grey",
          "width": 0.2
         },
         "mode": "lines+text",
         "showlegend": false,
         "text": [
          null,
          "vKC_sc"
         ],
         "textposition": "bottom center",
         "type": "scatter",
         "x": [
          0,
          -5.82195290334183
         ],
         "y": [
          0,
          0.687261799066438
         ]
        },
        {
         "line": {
          "color": "grey",
          "width": 0.2
         },
         "mode": "lines+text",
         "showlegend": false,
         "text": [
          null,
          "vEP_sc"
         ],
         "textposition": "bottom center",
         "type": "scatter",
         "x": [
          0,
          -1.5998500433649725
         ],
         "y": [
          0,
          1.8798828839391306
         ]
        },
        {
         "line": {
          "color": "grey",
          "width": 0.2
         },
         "mode": "lines+text",
         "showlegend": false,
         "text": [
          null,
          "vCH_sc"
         ],
         "textposition": "bottom center",
         "type": "scatter",
         "x": [
          0,
          -4.812803068879191
         ],
         "y": [
          0,
          18.11511774356057
         ]
        },
        {
         "line": {
          "color": "grey",
          "width": 0.2
         },
         "mode": "lines+text",
         "showlegend": false,
         "text": [
          null,
          "vSC_sc"
         ],
         "textposition": "bottom center",
         "type": "scatter",
         "x": [
          0,
          0.2985529463066468
         ],
         "y": [
          0,
          0.4076458287124324
         ]
        },
        {
         "line": {
          "color": "grey",
          "width": 0.2
         },
         "mode": "lines+text",
         "showlegend": false,
         "text": [
          null,
          "vKN_sc"
         ],
         "textposition": "bottom center",
         "type": "scatter",
         "x": [
          0,
          -0.01056951332032764
         ],
         "y": [
          0,
          1.488959100292348
         ]
        },
        {
         "line": {
          "color": "grey",
          "width": 0.2
         },
         "mode": "lines+text",
         "showlegend": false,
         "text": [
          null,
          "FA_X_sc"
         ],
         "textposition": "bottom center",
         "type": "scatter",
         "x": [
          0,
          0.48582949943649506
         ],
         "y": [
          0,
          5.1592097393765775
         ]
        },
        {
         "line": {
          "color": "grey",
          "width": 0.2
         },
         "mode": "lines+text",
         "showlegend": false,
         "text": [
          null,
          "FC_X_sc"
         ],
         "textposition": "bottom center",
         "type": "scatter",
         "x": [
          0,
          -2.3842614710121413
         ],
         "y": [
          0,
          2.8833834677159844
         ]
        },
        {
         "line": {
          "color": "grey",
          "width": 0.2
         },
         "mode": "lines+text",
         "showlegend": false,
         "text": [
          null,
          "FS_X_sc"
         ],
         "textposition": "bottom center",
         "type": "scatter",
         "x": [
          0,
          4.69603201257367
         ],
         "y": [
          0,
          6.6478401729937024
         ]
        },
        {
         "line": {
          "color": "grey",
          "width": 0.2
         },
         "mode": "lines+text",
         "showlegend": false,
         "text": [
          null,
          "FO_X_sc"
         ],
         "textposition": "bottom center",
         "type": "scatter",
         "x": [
          0,
          0.6752314048613726
         ],
         "y": [
          0,
          -0.47861435145365283
         ]
        },
        {
         "line": {
          "color": "grey",
          "width": 0.2
         },
         "mode": "lines+text",
         "showlegend": false,
         "text": [
          null,
          "SI_X_sc"
         ],
         "textposition": "bottom center",
         "type": "scatter",
         "x": [
          0,
          1.018416791481415
         ],
         "y": [
          0,
          0.2461953671126655
         ]
        },
        {
         "line": {
          "color": "grey",
          "width": 0.2
         },
         "mode": "lines+text",
         "showlegend": false,
         "text": [
          null,
          "SL_X_sc"
         ],
         "textposition": "bottom center",
         "type": "scatter",
         "x": [
          0,
          -1.716521120861897
         ],
         "y": [
          0,
          -3.1375902956042228
         ]
        },
        {
         "line": {
          "color": "grey",
          "width": 0.2
         },
         "mode": "lines+text",
         "showlegend": false,
         "text": [
          null,
          "CU_X_sc"
         ],
         "textposition": "bottom center",
         "type": "scatter",
         "x": [
          0,
          -2.2901479992471283
         ],
         "y": [
          0,
          4.6977460015312795
         ]
        },
        {
         "line": {
          "color": "grey",
          "width": 0.2
         },
         "mode": "lines+text",
         "showlegend": false,
         "text": [
          null,
          "KC_X_sc"
         ],
         "textposition": "bottom center",
         "type": "scatter",
         "x": [
          0,
          -4.613552916625039
         ],
         "y": [
          0,
          -1.3054660177840398
         ]
        },
        {
         "line": {
          "color": "grey",
          "width": 0.2
         },
         "mode": "lines+text",
         "showlegend": false,
         "text": [
          null,
          "EP_X_sc"
         ],
         "textposition": "bottom center",
         "type": "scatter",
         "x": [
          0,
          -1.5998500433649725
         ],
         "y": [
          0,
          1.8798828839391308
         ]
        },
        {
         "line": {
          "color": "grey",
          "width": 0.2
         },
         "mode": "lines+text",
         "showlegend": false,
         "text": [
          null,
          "CH_X_sc"
         ],
         "textposition": "bottom center",
         "type": "scatter",
         "x": [
          0,
          0.43444460726005363
         ],
         "y": [
          0,
          -1.7970202903477661
         ]
        },
        {
         "line": {
          "color": "grey",
          "width": 0.2
         },
         "mode": "lines+text",
         "showlegend": false,
         "text": [
          null,
          "SC_X_sc"
         ],
         "textposition": "bottom center",
         "type": "scatter",
         "x": [
          0,
          -0.30960560830731576
         ],
         "y": [
          0,
          -0.40476524155613297
         ]
        },
        {
         "line": {
          "color": "grey",
          "width": 0.2
         },
         "mode": "lines+text",
         "showlegend": false,
         "text": [
          null,
          "KN_X_sc"
         ],
         "textposition": "bottom center",
         "type": "scatter",
         "x": [
          0,
          1.4530706782377873
         ],
         "y": [
          0,
          -1.032577576961403
         ]
        },
        {
         "line": {
          "color": "grey",
          "width": 0.2
         },
         "mode": "lines+text",
         "showlegend": false,
         "text": [
          null,
          "FA_Z_sc"
         ],
         "textposition": "bottom center",
         "type": "scatter",
         "x": [
          0,
          -4.708768281283587
         ],
         "y": [
          0,
          -1.484152160439633
         ]
        },
        {
         "line": {
          "color": "grey",
          "width": 0.2
         },
         "mode": "lines+text",
         "showlegend": false,
         "text": [
          null,
          "FC_Z_sc"
         ],
         "textposition": "bottom center",
         "type": "scatter",
         "x": [
          0,
          -4.88308376011916
         ],
         "y": [
          0,
          10.517974810134854
         ]
        },
        {
         "line": {
          "color": "grey",
          "width": 0.2
         },
         "mode": "lines+text",
         "showlegend": false,
         "text": [
          null,
          "FS_Z_sc"
         ],
         "textposition": "bottom center",
         "type": "scatter",
         "x": [
          0,
          -2.9712170286843356
         ],
         "y": [
          0,
          -7.03632657488343
         ]
        },
        {
         "line": {
          "color": "grey",
          "width": 0.2
         },
         "mode": "lines+text",
         "showlegend": false,
         "text": [
          null,
          "FO_Z_sc"
         ],
         "textposition": "bottom center",
         "type": "scatter",
         "x": [
          0,
          -1.8077153369470356
         ],
         "y": [
          0,
          0.4519640124332074
         ]
        },
        {
         "line": {
          "color": "grey",
          "width": 0.2
         },
         "mode": "lines+text",
         "showlegend": false,
         "text": [
          null,
          "SI_Z_sc"
         ],
         "textposition": "bottom center",
         "type": "scatter",
         "x": [
          0,
          -5.706735800571592
         ],
         "y": [
          0,
          8.827154616997163
         ]
        },
        {
         "line": {
          "color": "grey",
          "width": 0.2
         },
         "mode": "lines+text",
         "showlegend": false,
         "text": [
          null,
          "SL_Z_sc"
         ],
         "textposition": "bottom center",
         "type": "scatter",
         "x": [
          0,
          -2.5546851554771326
         ],
         "y": [
          0,
          -2.516277338632265
         ]
        },
        {
         "line": {
          "color": "grey",
          "width": 0.2
         },
         "mode": "lines+text",
         "showlegend": false,
         "text": [
          null,
          "CU_Z_sc"
         ],
         "textposition": "bottom center",
         "type": "scatter",
         "x": [
          0,
          4.240331088106948
         ],
         "y": [
          0,
          -15.439870671469297
         ]
        },
        {
         "line": {
          "color": "grey",
          "width": 0.2
         },
         "mode": "lines+text",
         "showlegend": false,
         "text": [
          null,
          "KC_Z_sc"
         ],
         "textposition": "bottom center",
         "type": "scatter",
         "x": [
          0,
          5.924976540919571
         ],
         "y": [
          0,
          0.18137560484265908
         ]
        },
        {
         "line": {
          "color": "grey",
          "width": 0.2
         },
         "mode": "lines+text",
         "showlegend": false,
         "text": [
          null,
          "EP_Z_sc"
         ],
         "textposition": "bottom center",
         "type": "scatter",
         "x": [
          0,
          -1.5998500433649725
         ],
         "y": [
          0,
          1.8798828839391308
         ]
        },
        {
         "line": {
          "color": "grey",
          "width": 0.2
         },
         "mode": "lines+text",
         "showlegend": false,
         "text": [
          null,
          "CH_Z_sc"
         ],
         "textposition": "bottom center",
         "type": "scatter",
         "x": [
          0,
          -4.403711338219562
         ],
         "y": [
          0,
          14.247358785948338
         ]
        },
        {
         "line": {
          "color": "grey",
          "width": 0.2
         },
         "mode": "lines+text",
         "showlegend": false,
         "text": [
          null,
          "SC_Z_sc"
         ],
         "textposition": "bottom center",
         "type": "scatter",
         "x": [
          0,
          -0.1468383581385854
         ],
         "y": [
          0,
          -0.4115129216085797
         ]
        },
        {
         "line": {
          "color": "grey",
          "width": 0.2
         },
         "mode": "lines+text",
         "showlegend": false,
         "text": [
          null,
          "KN_Z_sc"
         ],
         "textposition": "bottom center",
         "type": "scatter",
         "x": [
          0,
          0.3197614085132823
         ],
         "y": [
          0,
          1.3671887700261953
         ]
        },
        {
         "line": {
          "color": "grey",
          "width": 0.2
         },
         "mode": "lines+text",
         "showlegend": false,
         "text": [
          null,
          "wFA_sc"
         ],
         "textposition": "bottom center",
         "type": "scatter",
         "x": [
          0,
          -9.596827044514262
         ],
         "y": [
          0,
          -13.837716789238211
         ]
        },
        {
         "line": {
          "color": "grey",
          "width": 0.2
         },
         "mode": "lines+text",
         "showlegend": false,
         "text": [
          null,
          "wFC_sc"
         ],
         "textposition": "bottom center",
         "type": "scatter",
         "x": [
          0,
          -6.217213734584925
         ],
         "y": [
          0,
          -4.225112309345326
         ]
        },
        {
         "line": {
          "color": "grey",
          "width": 0.2
         },
         "mode": "lines+text",
         "showlegend": false,
         "text": [
          null,
          "wFS_sc"
         ],
         "textposition": "bottom center",
         "type": "scatter",
         "x": [
          0,
          -5.633822654404793
         ],
         "y": [
          0,
          -3.827505952657307
         ]
        },
        {
         "line": {
          "color": "grey",
          "width": 0.2
         },
         "mode": "lines+text",
         "showlegend": false,
         "text": [
          null,
          "wFO_sc"
         ],
         "textposition": "bottom center",
         "type": "scatter",
         "x": [
          0,
          -2.0041747234348595
         ],
         "y": [
          0,
          0.6791999973355494
         ]
        },
        {
         "line": {
          "color": "grey",
          "width": 0.2
         },
         "mode": "lines+text",
         "showlegend": false,
         "text": [
          null,
          "wSI_sc"
         ],
         "textposition": "bottom center",
         "type": "scatter",
         "x": [
          0,
          -8.521300664567098
         ],
         "y": [
          0,
          -6.067555500117611
         ]
        },
        {
         "line": {
          "color": "grey",
          "width": 0.2
         },
         "mode": "lines+text",
         "showlegend": false,
         "text": [
          null,
          "wSL_sc"
         ],
         "textposition": "bottom center",
         "type": "scatter",
         "x": [
          0,
          -12.058963092076697
         ],
         "y": [
          0,
          -12.718155999400583
         ]
        },
        {
         "line": {
          "color": "grey",
          "width": 0.2
         },
         "mode": "lines+text",
         "showlegend": false,
         "text": [
          null,
          "wCU_sc"
         ],
         "textposition": "bottom center",
         "type": "scatter",
         "x": [
          0,
          -6.173761170383957
         ],
         "y": [
          0,
          -5.360649059096455
         ]
        },
        {
         "line": {
          "color": "grey",
          "width": 0.2
         },
         "mode": "lines+text",
         "showlegend": false,
         "text": [
          null,
          "wKC_sc"
         ],
         "textposition": "bottom center",
         "type": "scatter",
         "x": [
          0,
          -1.3754384849841372
         ],
         "y": [
          0,
          -3.169189666591947
         ]
        },
        {
         "line": {
          "color": "grey",
          "width": 0.2
         },
         "mode": "lines+text",
         "showlegend": false,
         "text": [
          null,
          "wEP_sc"
         ],
         "textposition": "bottom center",
         "type": "scatter",
         "x": [
          0,
          -1.5998500433649727
         ],
         "y": [
          0,
          1.8798828839391306
         ]
        },
        {
         "line": {
          "color": "grey",
          "width": 0.2
         },
         "mode": "lines+text",
         "showlegend": false,
         "text": [
          null,
          "wCH_sc"
         ],
         "textposition": "bottom center",
         "type": "scatter",
         "x": [
          0,
          -5.479637134239717
         ],
         "y": [
          0,
          -5.921825271056827
         ]
        },
        {
         "line": {
          "color": "grey",
          "width": 0.2
         },
         "mode": "lines+text",
         "showlegend": false,
         "text": [
          null,
          "wSC_sc"
         ],
         "textposition": "bottom center",
         "type": "scatter",
         "x": [
          0,
          0.07450485861868349
         ],
         "y": [
          0,
          -0.3350625104681207
         ]
        },
        {
         "line": {
          "color": "grey",
          "width": 0.2
         },
         "mode": "lines+text",
         "showlegend": false,
         "text": [
          null,
          "wKN_sc"
         ],
         "textposition": "bottom center",
         "type": "scatter",
         "x": [
          0,
          -1.7550337304174644
         ],
         "y": [
          0,
          -2.1667774747134145
         ]
        },
        {
         "line": {
          "color": "grey",
          "width": 0.2
         },
         "mode": "lines+text",
         "showlegend": false,
         "text": [
          null,
          "wFA_per_c_sc"
         ],
         "textposition": "bottom center",
         "type": "scatter",
         "x": [
          0,
          -6.901370063665454
         ],
         "y": [
          0,
          -10.588482860442026
         ]
        },
        {
         "line": {
          "color": "grey",
          "width": 0.2
         },
         "mode": "lines+text",
         "showlegend": false,
         "text": [
          null,
          "wFC_per_c_sc"
         ],
         "textposition": "bottom center",
         "type": "scatter",
         "x": [
          0,
          -3.0579434855522254
         ],
         "y": [
          0,
          -5.156582879758058
         ]
        },
        {
         "line": {
          "color": "grey",
          "width": 0.2
         },
         "mode": "lines+text",
         "showlegend": false,
         "text": [
          null,
          "wFS_per_c_sc"
         ],
         "textposition": "bottom center",
         "type": "scatter",
         "x": [
          0,
          -1.694083510686915
         ],
         "y": [
          0,
          -1.9671420368179298
         ]
        },
        {
         "line": {
          "color": "grey",
          "width": 0.2
         },
         "mode": "lines+text",
         "showlegend": false,
         "text": [
          null,
          "wFO_per_c_sc"
         ],
         "textposition": "bottom center",
         "type": "scatter",
         "x": [
          0,
          -1.223134713375889
         ],
         "y": [
          0,
          0.21123216266676423
         ]
        },
        {
         "line": {
          "color": "grey",
          "width": 0.2
         },
         "mode": "lines+text",
         "showlegend": false,
         "text": [
          null,
          "wSI_per_c_sc"
         ],
         "textposition": "bottom center",
         "type": "scatter",
         "x": [
          0,
          -3.176755466712219
         ],
         "y": [
          0,
          -5.711552147643538
         ]
        },
        {
         "line": {
          "color": "grey",
          "width": 0.2
         },
         "mode": "lines+text",
         "showlegend": false,
         "text": [
          null,
          "wSL_per_c_sc"
         ],
         "textposition": "bottom center",
         "type": "scatter",
         "x": [
          0,
          -6.593187912021976
         ],
         "y": [
          0,
          -10.790763262753629
         ]
        },
        {
         "line": {
          "color": "grey",
          "width": 0.2
         },
         "mode": "lines+text",
         "showlegend": false,
         "text": [
          null,
          "wCU_per_c_sc"
         ],
         "textposition": "bottom center",
         "type": "scatter",
         "x": [
          0,
          -3.4488341294680747
         ],
         "y": [
          0,
          -6.028027428729493
         ]
        },
        {
         "line": {
          "color": "grey",
          "width": 0.2
         },
         "mode": "lines+text",
         "showlegend": false,
         "text": [
          null,
          "wKC_per_c_sc"
         ],
         "textposition": "bottom center",
         "type": "scatter",
         "x": [
          0,
          -0.8143216983005083
         ],
         "y": [
          0,
          -2.6305480819392355
         ]
        },
        {
         "line": {
          "color": "grey",
          "width": 0.2
         },
         "mode": "lines+text",
         "showlegend": false,
         "text": [
          null,
          "wEP_per_c_sc"
         ],
         "textposition": "bottom center",
         "type": "scatter",
         "x": [
          0,
          -1.599850043364972
         ],
         "y": [
          0,
          1.8798828839391308
         ]
        },
        {
         "line": {
          "color": "grey",
          "width": 0.2
         },
         "mode": "lines+text",
         "showlegend": false,
         "text": [
          null,
          "wCH_per_c_sc"
         ],
         "textposition": "bottom center",
         "type": "scatter",
         "x": [
          0,
          -3.601994110314736
         ],
         "y": [
          0,
          -4.137812292019925
         ]
        },
        {
         "line": {
          "color": "grey",
          "width": 0.2
         },
         "mode": "lines+text",
         "showlegend": false,
         "text": [
          null,
          "wSC_per_c_sc"
         ],
         "textposition": "bottom center",
         "type": "scatter",
         "x": [
          0,
          0.4640258457674884
         ],
         "y": [
          0,
          0.1307973419297454
         ]
        },
        {
         "line": {
          "color": "grey",
          "width": 0.2
         },
         "mode": "lines+text",
         "showlegend": false,
         "text": [
          null,
          "wKN_per_c_sc"
         ],
         "textposition": "bottom center",
         "type": "scatter",
         "x": [
          0,
          -2.590557595015263
         ],
         "y": [
          0,
          -1.7680261741355363
         ]
        },
        {
         "line": {
          "color": "grey",
          "width": 0.2
         },
         "mode": "lines+text",
         "showlegend": false,
         "text": [
          null,
          "OSwing_pct_sc"
         ],
         "textposition": "bottom center",
         "type": "scatter",
         "x": [
          0,
          -13.611168186610467
         ],
         "y": [
          0,
          -12.651017104619942
         ]
        },
        {
         "line": {
          "color": "grey",
          "width": 0.2
         },
         "mode": "lines+text",
         "showlegend": false,
         "text": [
          null,
          "ZSwing_pct_sc"
         ],
         "textposition": "bottom center",
         "type": "scatter",
         "x": [
          0,
          -0.8888483797843866
         ],
         "y": [
          0,
          4.177333298541359
         ]
        },
        {
         "line": {
          "color": "grey",
          "width": 0.2
         },
         "mode": "lines+text",
         "showlegend": false,
         "text": [
          null,
          "Swing_pct_sc"
         ],
         "textposition": "bottom center",
         "type": "scatter",
         "x": [
          0,
          -12.072417488381339
         ],
         "y": [
          0,
          -6.835606331111634
         ]
        },
        {
         "line": {
          "color": "grey",
          "width": 0.2
         },
         "mode": "lines+text",
         "showlegend": false,
         "text": [
          null,
          "OContact_pct_sc"
         ],
         "textposition": "bottom center",
         "type": "scatter",
         "x": [
          0,
          1.9198030815359468
         ],
         "y": [
          0,
          12.705852654254997
         ]
        },
        {
         "line": {
          "color": "grey",
          "width": 0.2
         },
         "mode": "lines+text",
         "showlegend": false,
         "text": [
          null,
          "ZContact_pct_sc"
         ],
         "textposition": "bottom center",
         "type": "scatter",
         "x": [
          0,
          7.06524332705296
         ],
         "y": [
          0,
          20.676129455075557
         ]
        },
        {
         "line": {
          "color": "grey",
          "width": 0.2
         },
         "mode": "lines+text",
         "showlegend": false,
         "text": [
          null,
          "Contact_pct_sc"
         ],
         "textposition": "bottom center",
         "type": "scatter",
         "x": [
          0,
          8.046875020908365
         ],
         "y": [
          0,
          24.334196352692246
         ]
        },
        {
         "line": {
          "color": "grey",
          "width": 0.2
         },
         "mode": "lines+text",
         "showlegend": false,
         "text": [
          null,
          "Zone_pct_sc"
         ],
         "textposition": "bottom center",
         "type": "scatter",
         "x": [
          0,
          -6.9088197375591385
         ],
         "y": [
          0,
          -2.474136522025762
         ]
        },
        {
         "line": {
          "color": "grey",
          "width": 0.2
         },
         "mode": "lines+text",
         "showlegend": false,
         "text": [
          null,
          "botERA"
         ],
         "textposition": "bottom center",
         "type": "scatter",
         "x": [
          0,
          17.870461944758727
         ],
         "y": [
          0,
          18.359330306416982
         ]
        },
        {
         "line": {
          "color": "grey",
          "width": 0.2
         },
         "mode": "lines+text",
         "showlegend": false,
         "text": [
          null,
          "botOvr_CH"
         ],
         "textposition": "bottom center",
         "type": "scatter",
         "x": [
          0,
          -7.228964893689716
         ],
         "y": [
          0,
          16.065220449379474
         ]
        },
        {
         "line": {
          "color": "grey",
          "width": 0.2
         },
         "mode": "lines+text",
         "showlegend": false,
         "text": [
          null,
          "botStf_CH"
         ],
         "textposition": "bottom center",
         "type": "scatter",
         "x": [
          0,
          -5.239719893328895
         ],
         "y": [
          0,
          13.963357809950766
         ]
        },
        {
         "line": {
          "color": "grey",
          "width": 0.2
         },
         "mode": "lines+text",
         "showlegend": false,
         "text": [
          null,
          "botCmd_CH"
         ],
         "textposition": "bottom center",
         "type": "scatter",
         "x": [
          0,
          -7.08313029457476
         ],
         "y": [
          0,
          17.137153382063023
         ]
        },
        {
         "line": {
          "color": "grey",
          "width": 0.2
         },
         "mode": "lines+text",
         "showlegend": false,
         "text": [
          null,
          "botOvr_CU"
         ],
         "textposition": "bottom center",
         "type": "scatter",
         "x": [
          0,
          -7.6671492822214615
         ],
         "y": [
          0,
          17.57257719297927
         ]
        },
        {
         "line": {
          "color": "grey",
          "width": 0.2
         },
         "mode": "lines+text",
         "showlegend": false,
         "text": [
          null,
          "botStf_CU"
         ],
         "textposition": "bottom center",
         "type": "scatter",
         "x": [
          0,
          -6.377532736480206
         ],
         "y": [
          0,
          17.0685485268366
         ]
        },
        {
         "line": {
          "color": "grey",
          "width": 0.2
         },
         "mode": "lines+text",
         "showlegend": false,
         "text": [
          null,
          "botCmd_CU"
         ],
         "textposition": "bottom center",
         "type": "scatter",
         "x": [
          0,
          -7.183001520717992
         ],
         "y": [
          0,
          18.409462200054875
         ]
        },
        {
         "line": {
          "color": "grey",
          "width": 0.2
         },
         "mode": "lines+text",
         "showlegend": false,
         "text": [
          null,
          "botOvr_FA"
         ],
         "textposition": "bottom center",
         "type": "scatter",
         "x": [
          0,
          -11.03257655211858
         ],
         "y": [
          0,
          -9.07049057450753
         ]
        },
        {
         "line": {
          "color": "grey",
          "width": 0.2
         },
         "mode": "lines+text",
         "showlegend": false,
         "text": [
          null,
          "botStf_FA"
         ],
         "textposition": "bottom center",
         "type": "scatter",
         "x": [
          0,
          -6.650071726304558
         ],
         "y": [
          0,
          -12.246751472685308
         ]
        },
        {
         "line": {
          "color": "grey",
          "width": 0.2
         },
         "mode": "lines+text",
         "showlegend": false,
         "text": [
          null,
          "botCmd_FA"
         ],
         "textposition": "bottom center",
         "type": "scatter",
         "x": [
          0,
          -10.294654139812078
         ],
         "y": [
          0,
          -3.7985982248587256
         ]
        },
        {
         "line": {
          "color": "grey",
          "width": 0.2
         },
         "mode": "lines+text",
         "showlegend": false,
         "text": [
          null,
          "botOvr_SI"
         ],
         "textposition": "bottom center",
         "type": "scatter",
         "x": [
          0,
          -6.461343620241972
         ],
         "y": [
          0,
          4.652402704647931
         ]
        },
        {
         "line": {
          "color": "grey",
          "width": 0.2
         },
         "mode": "lines+text",
         "showlegend": false,
         "text": [
          null,
          "botStf_SI"
         ],
         "textposition": "bottom center",
         "type": "scatter",
         "x": [
          0,
          -5.000903253503012
         ],
         "y": [
          0,
          2.262798806016718
         ]
        },
        {
         "line": {
          "color": "grey",
          "width": 0.2
         },
         "mode": "lines+text",
         "showlegend": false,
         "text": [
          null,
          "botCmd_SI"
         ],
         "textposition": "bottom center",
         "type": "scatter",
         "x": [
          0,
          -6.309021764690222
         ],
         "y": [
          0,
          6.9370655374832815
         ]
        },
        {
         "line": {
          "color": "grey",
          "width": 0.2
         },
         "mode": "lines+text",
         "showlegend": false,
         "text": [
          null,
          "botOvr_SL"
         ],
         "textposition": "bottom center",
         "type": "scatter",
         "x": [
          0,
          -5.927630631165366
         ],
         "y": [
          0,
          -14.188881062206711
         ]
        },
        {
         "line": {
          "color": "grey",
          "width": 0.2
         },
         "mode": "lines+text",
         "showlegend": false,
         "text": [
          null,
          "botStf_SL"
         ],
         "textposition": "bottom center",
         "type": "scatter",
         "x": [
          0,
          -3.8015439258726533
         ],
         "y": [
          0,
          -17.12154346920061
         ]
        },
        {
         "line": {
          "color": "grey",
          "width": 0.2
         },
         "mode": "lines+text",
         "showlegend": false,
         "text": [
          null,
          "botCmd_SL"
         ],
         "textposition": "bottom center",
         "type": "scatter",
         "x": [
          0,
          -5.3241762179711865
         ],
         "y": [
          0,
          -10.814601531001209
         ]
        },
        {
         "line": {
          "color": "grey",
          "width": 0.2
         },
         "mode": "lines+text",
         "showlegend": false,
         "text": [
          null,
          "botOvr_KC"
         ],
         "textposition": "bottom center",
         "type": "scatter",
         "x": [
          0,
          -6.117328358032889
         ],
         "y": [
          0,
          0.6675739297382841
         ]
        },
        {
         "line": {
          "color": "grey",
          "width": 0.2
         },
         "mode": "lines+text",
         "showlegend": false,
         "text": [
          null,
          "botStf_KC"
         ],
         "textposition": "bottom center",
         "type": "scatter",
         "x": [
          0,
          -6.073313581631952
         ],
         "y": [
          0,
          -0.2041287332754572
         ]
        },
        {
         "line": {
          "color": "grey",
          "width": 0.2
         },
         "mode": "lines+text",
         "showlegend": false,
         "text": [
          null,
          "botCmd_KC"
         ],
         "textposition": "bottom center",
         "type": "scatter",
         "x": [
          0,
          -5.9982786452611965
         ],
         "y": [
          0,
          0.9067552154843919
         ]
        },
        {
         "line": {
          "color": "grey",
          "width": 0.2
         },
         "mode": "lines+text",
         "showlegend": false,
         "text": [
          null,
          "botOvr_FC"
         ],
         "textposition": "bottom center",
         "type": "scatter",
         "x": [
          0,
          -6.041560773551342
         ],
         "y": [
          0,
          10.398719217214959
         ]
        },
        {
         "line": {
          "color": "grey",
          "width": 0.2
         },
         "mode": "lines+text",
         "showlegend": false,
         "text": [
          null,
          "botStf_FC"
         ],
         "textposition": "bottom center",
         "type": "scatter",
         "x": [
          0,
          -5.813918298364047
         ],
         "y": [
          0,
          9.163622396307753
         ]
        },
        {
         "line": {
          "color": "grey",
          "width": 0.2
         },
         "mode": "lines+text",
         "showlegend": false,
         "text": [
          null,
          "botCmd_FC"
         ],
         "textposition": "bottom center",
         "type": "scatter",
         "x": [
          0,
          -5.861445225762611
         ],
         "y": [
          0,
          11.848806955607952
         ]
        },
        {
         "line": {
          "color": "grey",
          "width": 0.2
         },
         "mode": "lines+text",
         "showlegend": false,
         "text": [
          null,
          "botOvr_FS"
         ],
         "textposition": "bottom center",
         "type": "scatter",
         "x": [
          0,
          -5.040299985023868
         ],
         "y": [
          0,
          -9.071255302995167
         ]
        },
        {
         "line": {
          "color": "grey",
          "width": 0.2
         },
         "mode": "lines+text",
         "showlegend": false,
         "text": [
          null,
          "botStf_FS"
         ],
         "textposition": "bottom center",
         "type": "scatter",
         "x": [
          0,
          -4.570517831472438
         ],
         "y": [
          0,
          -9.218145942721106
         ]
        },
        {
         "line": {
          "color": "grey",
          "width": 0.2
         },
         "mode": "lines+text",
         "showlegend": false,
         "text": [
          null,
          "botCmd_FS"
         ],
         "textposition": "bottom center",
         "type": "scatter",
         "x": [
          0,
          -4.945202708463998
         ],
         "y": [
          0,
          -8.285015304757787
         ]
        },
        {
         "line": {
          "color": "grey",
          "width": 0.2
         },
         "mode": "lines+text",
         "showlegend": false,
         "text": [
          null,
          "botOvr"
         ],
         "textposition": "bottom center",
         "type": "scatter",
         "x": [
          0,
          -17.977856558753075
         ],
         "y": [
          0,
          -18.419236218377762
         ]
        },
        {
         "line": {
          "color": "grey",
          "width": 0.2
         },
         "mode": "lines+text",
         "showlegend": false,
         "text": [
          null,
          "botStf"
         ],
         "textposition": "bottom center",
         "type": "scatter",
         "x": [
          0,
          -6.47637701397909
         ],
         "y": [
          0,
          -25.854824435524
         ]
        },
        {
         "line": {
          "color": "grey",
          "width": 0.2
         },
         "mode": "lines+text",
         "showlegend": false,
         "text": [
          null,
          "botCmd"
         ],
         "textposition": "bottom center",
         "type": "scatter",
         "x": [
          0,
          -16.151546666500543
         ],
         "y": [
          0,
          -6.353907812178644
         ]
        },
        {
         "line": {
          "color": "grey",
          "width": 0.2
         },
         "mode": "lines+text",
         "showlegend": false,
         "text": [
          null,
          "botxRV100"
         ],
         "textposition": "bottom center",
         "type": "scatter",
         "x": [
          0,
          18.075097479009123
         ],
         "y": [
          0,
          18.53115236830473
         ]
        },
        {
         "line": {
          "color": "grey",
          "width": 0.2
         },
         "mode": "lines+text",
         "showlegend": false,
         "text": [
          null,
          "Stf_plus_CH"
         ],
         "textposition": "bottom center",
         "type": "scatter",
         "x": [
          0,
          -5.267733101714392
         ],
         "y": [
          0,
          14.183841382160113
         ]
        },
        {
         "line": {
          "color": "grey",
          "width": 0.2
         },
         "mode": "lines+text",
         "showlegend": false,
         "text": [
          null,
          "Loc_plus_CH"
         ],
         "textposition": "bottom center",
         "type": "scatter",
         "x": [
          0,
          -5.979770717728187
         ],
         "y": [
          0,
          18.680448623851294
         ]
        },
        {
         "line": {
          "color": "grey",
          "width": 0.2
         },
         "mode": "lines+text",
         "showlegend": false,
         "text": [
          null,
          "Pit_plus_CH"
         ],
         "textposition": "bottom center",
         "type": "scatter",
         "x": [
          0,
          -6.083290880517854
         ],
         "y": [
          0,
          17.52023439355417
         ]
        },
        {
         "line": {
          "color": "grey",
          "width": 0.2
         },
         "mode": "lines+text",
         "showlegend": false,
         "text": [
          null,
          "Stf_plus_CU"
         ],
         "textposition": "bottom center",
         "type": "scatter",
         "x": [
          0,
          -6.402541157289158
         ],
         "y": [
          0,
          17.70008354991311
         ]
        },
        {
         "line": {
          "color": "grey",
          "width": 0.2
         },
         "mode": "lines+text",
         "showlegend": false,
         "text": [
          null,
          "Loc_plus_CU"
         ],
         "textposition": "bottom center",
         "type": "scatter",
         "x": [
          0,
          -6.457901763044724
         ],
         "y": [
          0,
          19.858739831492638
         ]
        },
        {
         "line": {
          "color": "grey",
          "width": 0.2
         },
         "mode": "lines+text",
         "showlegend": false,
         "text": [
          null,
          "Pit_plus_CU"
         ],
         "textposition": "bottom center",
         "type": "scatter",
         "x": [
          0,
          -6.512288208949338
         ],
         "y": [
          0,
          19.345030293112803
         ]
        },
        {
         "line": {
          "color": "grey",
          "width": 0.2
         },
         "mode": "lines+text",
         "showlegend": false,
         "text": [
          null,
          "Stf_plus_FA"
         ],
         "textposition": "bottom center",
         "type": "scatter",
         "x": [
          0,
          -7.661973767680285
         ],
         "y": [
          0,
          -11.863854268149591
         ]
        },
        {
         "line": {
          "color": "grey",
          "width": 0.2
         },
         "mode": "lines+text",
         "showlegend": false,
         "text": [
          null,
          "Loc_plus_FA"
         ],
         "textposition": "bottom center",
         "type": "scatter",
         "x": [
          0,
          -9.217833669797379
         ],
         "y": [
          0,
          -3.7320877897917435
         ]
        },
        {
         "line": {
          "color": "grey",
          "width": 0.2
         },
         "mode": "lines+text",
         "showlegend": false,
         "text": [
          null,
          "Pit_plus_FA"
         ],
         "textposition": "bottom center",
         "type": "scatter",
         "x": [
          0,
          -9.838460450989361
         ],
         "y": [
          0,
          -6.843150336279414
         ]
        },
        {
         "line": {
          "color": "grey",
          "width": 0.2
         },
         "mode": "lines+text",
         "showlegend": false,
         "text": [
          null,
          "Stf_plus_SI"
         ],
         "textposition": "bottom center",
         "type": "scatter",
         "x": [
          0,
          -5.676987474282358
         ],
         "y": [
          0,
          4.999508679008794
         ]
        },
        {
         "line": {
          "color": "grey",
          "width": 0.2
         },
         "mode": "lines+text",
         "showlegend": false,
         "text": [
          null,
          "Loc_plus_SI"
         ],
         "textposition": "bottom center",
         "type": "scatter",
         "x": [
          0,
          -5.878951508311743
         ],
         "y": [
          0,
          7.954631069798732
         ]
        },
        {
         "line": {
          "color": "grey",
          "width": 0.2
         },
         "mode": "lines+text",
         "showlegend": false,
         "text": [
          null,
          "Pit_plus_SI"
         ],
         "textposition": "bottom center",
         "type": "scatter",
         "x": [
          0,
          -6.03340296524686
         ],
         "y": [
          0,
          6.860846643909685
         ]
        },
        {
         "line": {
          "color": "grey",
          "width": 0.2
         },
         "mode": "lines+text",
         "showlegend": false,
         "text": [
          null,
          "Stf_plus_SL"
         ],
         "textposition": "bottom center",
         "type": "scatter",
         "x": [
          0,
          -3.5932959644947333
         ],
         "y": [
          0,
          -15.403537712165202
         ]
        },
        {
         "line": {
          "color": "grey",
          "width": 0.2
         },
         "mode": "lines+text",
         "showlegend": false,
         "text": [
          null,
          "Loc_plus_SL"
         ],
         "textposition": "bottom center",
         "type": "scatter",
         "x": [
          0,
          -3.715278002236153
         ],
         "y": [
          0,
          -11.69232742464768
         ]
        },
        {
         "line": {
          "color": "grey",
          "width": 0.2
         },
         "mode": "lines+text",
         "showlegend": false,
         "text": [
          null,
          "Pit_plus_SL"
         ],
         "textposition": "bottom center",
         "type": "scatter",
         "x": [
          0,
          -4.023232113650199
         ],
         "y": [
          0,
          -13.701730372783627
         ]
        },
        {
         "line": {
          "color": "grey",
          "width": 0.2
         },
         "mode": "lines+text",
         "showlegend": false,
         "text": [
          null,
          "Stf_plus_KC"
         ],
         "textposition": "bottom center",
         "type": "scatter",
         "x": [
          0,
          -6.117400008564397
         ],
         "y": [
          0,
          -0.15539066824216147
         ]
        },
        {
         "line": {
          "color": "grey",
          "width": 0.2
         },
         "mode": "lines+text",
         "showlegend": false,
         "text": [
          null,
          "Loc_plus_KC"
         ],
         "textposition": "bottom center",
         "type": "scatter",
         "x": [
          0,
          -6.175636449793994
         ],
         "y": [
          0,
          0.8870579023197154
         ]
        },
        {
         "line": {
          "color": "grey",
          "width": 0.2
         },
         "mode": "lines+text",
         "showlegend": false,
         "text": [
          null,
          "Pit_plus_KC"
         ],
         "textposition": "bottom center",
         "type": "scatter",
         "x": [
          0,
          -5.905547875655558
         ],
         "y": [
          0,
          0.789758547660194
         ]
        },
        {
         "line": {
          "color": "grey",
          "width": 0.2
         },
         "mode": "lines+text",
         "showlegend": false,
         "text": [
          null,
          "Stf_plus_FC"
         ],
         "textposition": "bottom center",
         "type": "scatter",
         "x": [
          0,
          -6.131387067724256
         ],
         "y": [
          0,
          10.788892366653677
         ]
        },
        {
         "line": {
          "color": "grey",
          "width": 0.2
         },
         "mode": "lines+text",
         "showlegend": false,
         "text": [
          null,
          "Loc_plus_FC"
         ],
         "textposition": "bottom center",
         "type": "scatter",
         "x": [
          0,
          -5.744140585675967
         ],
         "y": [
          0,
          12.137569038669543
         ]
        },
        {
         "line": {
          "color": "grey",
          "width": 0.2
         },
         "mode": "lines+text",
         "showlegend": false,
         "text": [
          null,
          "Pit_plus_FC"
         ],
         "textposition": "bottom center",
         "type": "scatter",
         "x": [
          0,
          -5.912239729375733
         ],
         "y": [
          0,
          11.507709486404996
         ]
        },
        {
         "line": {
          "color": "grey",
          "width": 0.2
         },
         "mode": "lines+text",
         "showlegend": false,
         "text": [
          null,
          "Stf_plus_FS"
         ],
         "textposition": "bottom center",
         "type": "scatter",
         "x": [
          0,
          -4.7208900937290155
         ],
         "y": [
          0,
          -8.511409870207322
         ]
        },
        {
         "line": {
          "color": "grey",
          "width": 0.2
         },
         "mode": "lines+text",
         "showlegend": false,
         "text": [
          null,
          "Loc_plus_FS"
         ],
         "textposition": "bottom center",
         "type": "scatter",
         "x": [
          0,
          -4.78937564216592
         ],
         "y": [
          0,
          -8.376712484347552
         ]
        },
        {
         "line": {
          "color": "grey",
          "width": 0.2
         },
         "mode": "lines+text",
         "showlegend": false,
         "text": [
          null,
          "Pit_plus_FS"
         ],
         "textposition": "bottom center",
         "type": "scatter",
         "x": [
          0,
          -4.906394114167648
         ],
         "y": [
          0,
          -8.897705062501432
         ]
        },
        {
         "line": {
          "color": "grey",
          "width": 0.2
         },
         "mode": "lines+text",
         "showlegend": false,
         "text": [
          null,
          "Stf_plus_FO"
         ],
         "textposition": "bottom center",
         "type": "scatter",
         "x": [
          0,
          -0.9712877811715689
         ],
         "y": [
          0,
          0.6841429150484458
         ]
        },
        {
         "line": {
          "color": "grey",
          "width": 0.2
         },
         "mode": "lines+text",
         "showlegend": false,
         "text": [
          null,
          "Loc_plus_FO"
         ],
         "textposition": "bottom center",
         "type": "scatter",
         "x": [
          0,
          -1.0319732208951333
         ],
         "y": [
          0,
          0.6974237612919227
         ]
        },
        {
         "line": {
          "color": "grey",
          "width": 0.2
         },
         "mode": "lines+text",
         "showlegend": false,
         "text": [
          null,
          "Pit_plus_FO"
         ],
         "textposition": "bottom center",
         "type": "scatter",
         "x": [
          0,
          -0.9856860718965585
         ],
         "y": [
          0,
          0.687345806154848
         ]
        },
        {
         "line": {
          "color": "grey",
          "width": 0.2
         },
         "mode": "lines+text",
         "showlegend": false,
         "text": [
          null,
          "Stuff_plus"
         ],
         "textposition": "bottom center",
         "type": "scatter",
         "x": [
          0,
          -10.234997034410293
         ],
         "y": [
          0,
          -25.049829162191703
         ]
        },
        {
         "line": {
          "color": "grey",
          "width": 0.2
         },
         "mode": "lines+text",
         "showlegend": false,
         "text": [
          null,
          "Location_plus"
         ],
         "textposition": "bottom center",
         "type": "scatter",
         "x": [
          0,
          -17.453864653188884
         ],
         "y": [
          0,
          -8.411122469619071
         ]
        },
        {
         "line": {
          "color": "grey",
          "width": 0.2
         },
         "mode": "lines+text",
         "showlegend": false,
         "text": [
          null,
          "Pitching_plus"
         ],
         "textposition": "bottom center",
         "type": "scatter",
         "x": [
          0,
          -19.08082715590512
         ],
         "y": [
          0,
          -22.028866684349477
         ]
        },
        {
         "line": {
          "color": "grey",
          "width": 0.2
         },
         "mode": "lines+text",
         "showlegend": false,
         "text": [
          null,
          "most_common_inning_SP"
         ],
         "textposition": "bottom center",
         "type": "scatter",
         "x": [
          0,
          -8.410821239134874
         ],
         "y": [
          0,
          18.219212679024377
         ]
        },
        {
         "line": {
          "color": "grey",
          "width": 0.2
         },
         "mode": "lines+text",
         "showlegend": false,
         "text": [
          null,
          "most_common_inning_RP"
         ],
         "textposition": "bottom center",
         "type": "scatter",
         "x": [
          0,
          15.071465150707768
         ],
         "y": [
          0,
          -21.975604956714125
         ]
        },
        {
         "line": {
          "color": "grey",
          "width": 0.2
         },
         "mode": "lines+text",
         "showlegend": false,
         "text": [
          null,
          "average_batters_faced_per_appearance_SP"
         ],
         "textposition": "bottom center",
         "type": "scatter",
         "x": [
          0,
          -11.517900450341315
         ],
         "y": [
          0,
          24.383382558360847
         ]
        },
        {
         "line": {
          "color": "grey",
          "width": 0.2
         },
         "mode": "lines+text",
         "showlegend": false,
         "text": [
          null,
          "average_innings_pitched_per_appearance_SP"
         ],
         "textposition": "bottom center",
         "type": "scatter",
         "x": [
          0,
          -15.55259579948157
         ],
         "y": [
          0,
          25.062232082110782
         ]
        },
        {
         "line": {
          "color": "grey",
          "width": 0.2
         },
         "mode": "lines+text",
         "showlegend": false,
         "text": [
          null,
          "average_batters_faced_per_appearance_RP"
         ],
         "textposition": "bottom center",
         "type": "scatter",
         "x": [
          0,
          13.860180550318603
         ],
         "y": [
          0,
          -2.3752324545096077
         ]
        },
        {
         "line": {
          "color": "grey",
          "width": 0.2
         },
         "mode": "lines+text",
         "showlegend": false,
         "text": [
          null,
          "average_innings_pitched_per_appearance_RP"
         ],
         "textposition": "bottom center",
         "type": "scatter",
         "x": [
          0,
          8.93630325517452
         ],
         "y": [
          0,
          0.9045917198492159
         ]
        },
        {
         "line": {
          "color": "grey",
          "width": 0.2
         },
         "mode": "lines+text",
         "showlegend": false,
         "text": [
          null,
          "average_inning_SP"
         ],
         "textposition": "bottom center",
         "type": "scatter",
         "x": [
          0,
          -14.989024541148892
         ],
         "y": [
          0,
          24.88687468916152
         ]
        },
        {
         "line": {
          "color": "grey",
          "width": 0.2
         },
         "mode": "lines+text",
         "showlegend": false,
         "text": [
          null,
          "average_inning_RP"
         ],
         "textposition": "bottom center",
         "type": "scatter",
         "x": [
          0,
          15.73093263791178
         ],
         "y": [
          0,
          -21.985175791061103
         ]
        },
        {
         "line": {
          "color": "grey",
          "width": 0.2
         },
         "mode": "lines+text",
         "showlegend": false,
         "text": [
          null,
          "avg_inning_entry_SP"
         ],
         "textposition": "bottom center",
         "type": "scatter",
         "x": [
          0,
          -10.37789046169278
         ],
         "y": [
          0,
          21.988152539548462
         ]
        },
        {
         "line": {
          "color": "grey",
          "width": 0.2
         },
         "mode": "lines+text",
         "showlegend": false,
         "text": [
          null,
          "avg_inning_exit_SP"
         ],
         "textposition": "bottom center",
         "type": "scatter",
         "x": [
          0,
          -15.55259579948157
         ],
         "y": [
          0,
          25.062232082110782
         ]
        },
        {
         "line": {
          "color": "grey",
          "width": 0.2
         },
         "mode": "lines+text",
         "showlegend": false,
         "text": [
          null,
          "avg_inning_entry_RP"
         ],
         "textposition": "bottom center",
         "type": "scatter",
         "x": [
          0,
          15.43143584012083
         ],
         "y": [
          0,
          -22.865822685559024
         ]
        },
        {
         "line": {
          "color": "grey",
          "width": 0.2
         },
         "mode": "lines+text",
         "showlegend": false,
         "text": [
          null,
          "avg_inning_exit_RP"
         ],
         "textposition": "bottom center",
         "type": "scatter",
         "x": [
          0,
          16.10198243008162
         ],
         "y": [
          0,
          -19.329385197142663
         ]
        },
        {
         "line": {
          "color": "grey",
          "width": 0.2
         },
         "mode": "lines+text",
         "showlegend": false,
         "text": [
          null,
          "bad_walk_rate_SP"
         ],
         "textposition": "bottom center",
         "type": "scatter",
         "x": [
          0,
          -1.0208031643956186
         ],
         "y": [
          0,
          -1.2702747625574438
         ]
        },
        {
         "line": {
          "color": "grey",
          "width": 0.2
         },
         "mode": "lines+text",
         "showlegend": false,
         "text": [
          null,
          "leadoff_walk_rate_SP"
         ],
         "textposition": "bottom center",
         "type": "scatter",
         "x": [
          0,
          -0.49772692624378506
         ],
         "y": [
          0,
          0.8772480114638266
         ]
        },
        {
         "line": {
          "color": "grey",
          "width": 0.2
         },
         "mode": "lines+text",
         "showlegend": false,
         "text": [
          null,
          "bad_walk_rate_RP"
         ],
         "textposition": "bottom center",
         "type": "scatter",
         "x": [
          0,
          1.3055656275335978
         ],
         "y": [
          0,
          -2.799654638653302
         ]
        },
        {
         "line": {
          "color": "grey",
          "width": 0.2
         },
         "mode": "lines+text",
         "showlegend": false,
         "text": [
          null,
          "leadoff_walk_rate_RP"
         ],
         "textposition": "bottom center",
         "type": "scatter",
         "x": [
          0,
          2.11035267951504
         ],
         "y": [
          0,
          -2.5653817503028242
         ]
        }
       ],
       "layout": {
        "height": 800,
        "hovermode": "closest",
        "legend": {
         "title": {
          "text": "Role"
         }
        },
        "template": {
         "data": {
          "bar": [
           {
            "error_x": {
             "color": "#2a3f5f"
            },
            "error_y": {
             "color": "#2a3f5f"
            },
            "marker": {
             "line": {
              "color": "#E5ECF6",
              "width": 0.5
             },
             "pattern": {
              "fillmode": "overlay",
              "size": 10,
              "solidity": 0.2
             }
            },
            "type": "bar"
           }
          ],
          "barpolar": [
           {
            "marker": {
             "line": {
              "color": "#E5ECF6",
              "width": 0.5
             },
             "pattern": {
              "fillmode": "overlay",
              "size": 10,
              "solidity": 0.2
             }
            },
            "type": "barpolar"
           }
          ],
          "carpet": [
           {
            "aaxis": {
             "endlinecolor": "#2a3f5f",
             "gridcolor": "white",
             "linecolor": "white",
             "minorgridcolor": "white",
             "startlinecolor": "#2a3f5f"
            },
            "baxis": {
             "endlinecolor": "#2a3f5f",
             "gridcolor": "white",
             "linecolor": "white",
             "minorgridcolor": "white",
             "startlinecolor": "#2a3f5f"
            },
            "type": "carpet"
           }
          ],
          "choropleth": [
           {
            "colorbar": {
             "outlinewidth": 0,
             "ticks": ""
            },
            "type": "choropleth"
           }
          ],
          "contour": [
           {
            "colorbar": {
             "outlinewidth": 0,
             "ticks": ""
            },
            "colorscale": [
             [
              0,
              "#0d0887"
             ],
             [
              0.1111111111111111,
              "#46039f"
             ],
             [
              0.2222222222222222,
              "#7201a8"
             ],
             [
              0.3333333333333333,
              "#9c179e"
             ],
             [
              0.4444444444444444,
              "#bd3786"
             ],
             [
              0.5555555555555556,
              "#d8576b"
             ],
             [
              0.6666666666666666,
              "#ed7953"
             ],
             [
              0.7777777777777778,
              "#fb9f3a"
             ],
             [
              0.8888888888888888,
              "#fdca26"
             ],
             [
              1,
              "#f0f921"
             ]
            ],
            "type": "contour"
           }
          ],
          "contourcarpet": [
           {
            "colorbar": {
             "outlinewidth": 0,
             "ticks": ""
            },
            "type": "contourcarpet"
           }
          ],
          "heatmap": [
           {
            "colorbar": {
             "outlinewidth": 0,
             "ticks": ""
            },
            "colorscale": [
             [
              0,
              "#0d0887"
             ],
             [
              0.1111111111111111,
              "#46039f"
             ],
             [
              0.2222222222222222,
              "#7201a8"
             ],
             [
              0.3333333333333333,
              "#9c179e"
             ],
             [
              0.4444444444444444,
              "#bd3786"
             ],
             [
              0.5555555555555556,
              "#d8576b"
             ],
             [
              0.6666666666666666,
              "#ed7953"
             ],
             [
              0.7777777777777778,
              "#fb9f3a"
             ],
             [
              0.8888888888888888,
              "#fdca26"
             ],
             [
              1,
              "#f0f921"
             ]
            ],
            "type": "heatmap"
           }
          ],
          "heatmapgl": [
           {
            "colorbar": {
             "outlinewidth": 0,
             "ticks": ""
            },
            "colorscale": [
             [
              0,
              "#0d0887"
             ],
             [
              0.1111111111111111,
              "#46039f"
             ],
             [
              0.2222222222222222,
              "#7201a8"
             ],
             [
              0.3333333333333333,
              "#9c179e"
             ],
             [
              0.4444444444444444,
              "#bd3786"
             ],
             [
              0.5555555555555556,
              "#d8576b"
             ],
             [
              0.6666666666666666,
              "#ed7953"
             ],
             [
              0.7777777777777778,
              "#fb9f3a"
             ],
             [
              0.8888888888888888,
              "#fdca26"
             ],
             [
              1,
              "#f0f921"
             ]
            ],
            "type": "heatmapgl"
           }
          ],
          "histogram": [
           {
            "marker": {
             "pattern": {
              "fillmode": "overlay",
              "size": 10,
              "solidity": 0.2
             }
            },
            "type": "histogram"
           }
          ],
          "histogram2d": [
           {
            "colorbar": {
             "outlinewidth": 0,
             "ticks": ""
            },
            "colorscale": [
             [
              0,
              "#0d0887"
             ],
             [
              0.1111111111111111,
              "#46039f"
             ],
             [
              0.2222222222222222,
              "#7201a8"
             ],
             [
              0.3333333333333333,
              "#9c179e"
             ],
             [
              0.4444444444444444,
              "#bd3786"
             ],
             [
              0.5555555555555556,
              "#d8576b"
             ],
             [
              0.6666666666666666,
              "#ed7953"
             ],
             [
              0.7777777777777778,
              "#fb9f3a"
             ],
             [
              0.8888888888888888,
              "#fdca26"
             ],
             [
              1,
              "#f0f921"
             ]
            ],
            "type": "histogram2d"
           }
          ],
          "histogram2dcontour": [
           {
            "colorbar": {
             "outlinewidth": 0,
             "ticks": ""
            },
            "colorscale": [
             [
              0,
              "#0d0887"
             ],
             [
              0.1111111111111111,
              "#46039f"
             ],
             [
              0.2222222222222222,
              "#7201a8"
             ],
             [
              0.3333333333333333,
              "#9c179e"
             ],
             [
              0.4444444444444444,
              "#bd3786"
             ],
             [
              0.5555555555555556,
              "#d8576b"
             ],
             [
              0.6666666666666666,
              "#ed7953"
             ],
             [
              0.7777777777777778,
              "#fb9f3a"
             ],
             [
              0.8888888888888888,
              "#fdca26"
             ],
             [
              1,
              "#f0f921"
             ]
            ],
            "type": "histogram2dcontour"
           }
          ],
          "mesh3d": [
           {
            "colorbar": {
             "outlinewidth": 0,
             "ticks": ""
            },
            "type": "mesh3d"
           }
          ],
          "parcoords": [
           {
            "line": {
             "colorbar": {
              "outlinewidth": 0,
              "ticks": ""
             }
            },
            "type": "parcoords"
           }
          ],
          "pie": [
           {
            "automargin": true,
            "type": "pie"
           }
          ],
          "scatter": [
           {
            "fillpattern": {
             "fillmode": "overlay",
             "size": 10,
             "solidity": 0.2
            },
            "type": "scatter"
           }
          ],
          "scatter3d": [
           {
            "line": {
             "colorbar": {
              "outlinewidth": 0,
              "ticks": ""
             }
            },
            "marker": {
             "colorbar": {
              "outlinewidth": 0,
              "ticks": ""
             }
            },
            "type": "scatter3d"
           }
          ],
          "scattercarpet": [
           {
            "marker": {
             "colorbar": {
              "outlinewidth": 0,
              "ticks": ""
             }
            },
            "type": "scattercarpet"
           }
          ],
          "scattergeo": [
           {
            "marker": {
             "colorbar": {
              "outlinewidth": 0,
              "ticks": ""
             }
            },
            "type": "scattergeo"
           }
          ],
          "scattergl": [
           {
            "marker": {
             "colorbar": {
              "outlinewidth": 0,
              "ticks": ""
             }
            },
            "type": "scattergl"
           }
          ],
          "scattermapbox": [
           {
            "marker": {
             "colorbar": {
              "outlinewidth": 0,
              "ticks": ""
             }
            },
            "type": "scattermapbox"
           }
          ],
          "scatterpolar": [
           {
            "marker": {
             "colorbar": {
              "outlinewidth": 0,
              "ticks": ""
             }
            },
            "type": "scatterpolar"
           }
          ],
          "scatterpolargl": [
           {
            "marker": {
             "colorbar": {
              "outlinewidth": 0,
              "ticks": ""
             }
            },
            "type": "scatterpolargl"
           }
          ],
          "scatterternary": [
           {
            "marker": {
             "colorbar": {
              "outlinewidth": 0,
              "ticks": ""
             }
            },
            "type": "scatterternary"
           }
          ],
          "surface": [
           {
            "colorbar": {
             "outlinewidth": 0,
             "ticks": ""
            },
            "colorscale": [
             [
              0,
              "#0d0887"
             ],
             [
              0.1111111111111111,
              "#46039f"
             ],
             [
              0.2222222222222222,
              "#7201a8"
             ],
             [
              0.3333333333333333,
              "#9c179e"
             ],
             [
              0.4444444444444444,
              "#bd3786"
             ],
             [
              0.5555555555555556,
              "#d8576b"
             ],
             [
              0.6666666666666666,
              "#ed7953"
             ],
             [
              0.7777777777777778,
              "#fb9f3a"
             ],
             [
              0.8888888888888888,
              "#fdca26"
             ],
             [
              1,
              "#f0f921"
             ]
            ],
            "type": "surface"
           }
          ],
          "table": [
           {
            "cells": {
             "fill": {
              "color": "#EBF0F8"
             },
             "line": {
              "color": "white"
             }
            },
            "header": {
             "fill": {
              "color": "#C8D4E3"
             },
             "line": {
              "color": "white"
             }
            },
            "type": "table"
           }
          ]
         },
         "layout": {
          "annotationdefaults": {
           "arrowcolor": "#2a3f5f",
           "arrowhead": 0,
           "arrowwidth": 1
          },
          "autotypenumbers": "strict",
          "coloraxis": {
           "colorbar": {
            "outlinewidth": 0,
            "ticks": ""
           }
          },
          "colorscale": {
           "diverging": [
            [
             0,
             "#8e0152"
            ],
            [
             0.1,
             "#c51b7d"
            ],
            [
             0.2,
             "#de77ae"
            ],
            [
             0.3,
             "#f1b6da"
            ],
            [
             0.4,
             "#fde0ef"
            ],
            [
             0.5,
             "#f7f7f7"
            ],
            [
             0.6,
             "#e6f5d0"
            ],
            [
             0.7,
             "#b8e186"
            ],
            [
             0.8,
             "#7fbc41"
            ],
            [
             0.9,
             "#4d9221"
            ],
            [
             1,
             "#276419"
            ]
           ],
           "sequential": [
            [
             0,
             "#0d0887"
            ],
            [
             0.1111111111111111,
             "#46039f"
            ],
            [
             0.2222222222222222,
             "#7201a8"
            ],
            [
             0.3333333333333333,
             "#9c179e"
            ],
            [
             0.4444444444444444,
             "#bd3786"
            ],
            [
             0.5555555555555556,
             "#d8576b"
            ],
            [
             0.6666666666666666,
             "#ed7953"
            ],
            [
             0.7777777777777778,
             "#fb9f3a"
            ],
            [
             0.8888888888888888,
             "#fdca26"
            ],
            [
             1,
             "#f0f921"
            ]
           ],
           "sequentialminus": [
            [
             0,
             "#0d0887"
            ],
            [
             0.1111111111111111,
             "#46039f"
            ],
            [
             0.2222222222222222,
             "#7201a8"
            ],
            [
             0.3333333333333333,
             "#9c179e"
            ],
            [
             0.4444444444444444,
             "#bd3786"
            ],
            [
             0.5555555555555556,
             "#d8576b"
            ],
            [
             0.6666666666666666,
             "#ed7953"
            ],
            [
             0.7777777777777778,
             "#fb9f3a"
            ],
            [
             0.8888888888888888,
             "#fdca26"
            ],
            [
             1,
             "#f0f921"
            ]
           ]
          },
          "colorway": [
           "#636efa",
           "#EF553B",
           "#00cc96",
           "#ab63fa",
           "#FFA15A",
           "#19d3f3",
           "#FF6692",
           "#B6E880",
           "#FF97FF",
           "#FECB52"
          ],
          "font": {
           "color": "#2a3f5f"
          },
          "geo": {
           "bgcolor": "white",
           "lakecolor": "white",
           "landcolor": "#E5ECF6",
           "showlakes": true,
           "showland": true,
           "subunitcolor": "white"
          },
          "hoverlabel": {
           "align": "left"
          },
          "hovermode": "closest",
          "mapbox": {
           "style": "light"
          },
          "paper_bgcolor": "white",
          "plot_bgcolor": "#E5ECF6",
          "polar": {
           "angularaxis": {
            "gridcolor": "white",
            "linecolor": "white",
            "ticks": ""
           },
           "bgcolor": "#E5ECF6",
           "radialaxis": {
            "gridcolor": "white",
            "linecolor": "white",
            "ticks": ""
           }
          },
          "scene": {
           "xaxis": {
            "backgroundcolor": "#E5ECF6",
            "gridcolor": "white",
            "gridwidth": 2,
            "linecolor": "white",
            "showbackground": true,
            "ticks": "",
            "zerolinecolor": "white"
           },
           "yaxis": {
            "backgroundcolor": "#E5ECF6",
            "gridcolor": "white",
            "gridwidth": 2,
            "linecolor": "white",
            "showbackground": true,
            "ticks": "",
            "zerolinecolor": "white"
           },
           "zaxis": {
            "backgroundcolor": "#E5ECF6",
            "gridcolor": "white",
            "gridwidth": 2,
            "linecolor": "white",
            "showbackground": true,
            "ticks": "",
            "zerolinecolor": "white"
           }
          },
          "shapedefaults": {
           "line": {
            "color": "#2a3f5f"
           }
          },
          "ternary": {
           "aaxis": {
            "gridcolor": "white",
            "linecolor": "white",
            "ticks": ""
           },
           "baxis": {
            "gridcolor": "white",
            "linecolor": "white",
            "ticks": ""
           },
           "bgcolor": "#E5ECF6",
           "caxis": {
            "gridcolor": "white",
            "linecolor": "white",
            "ticks": ""
           }
          },
          "title": {
           "x": 0.05
          },
          "xaxis": {
           "automargin": true,
           "gridcolor": "white",
           "linecolor": "white",
           "ticks": "",
           "title": {
            "standoff": 15
           },
           "zerolinecolor": "white",
           "zerolinewidth": 2
          },
          "yaxis": {
           "automargin": true,
           "gridcolor": "white",
           "linecolor": "white",
           "ticks": "",
           "title": {
            "standoff": 15
           },
           "zerolinecolor": "white",
           "zerolinewidth": 2
          }
         }
        },
        "title": {
         "text": "2 component PCA by Pitcher Role with Feature Loadings"
        },
        "width": 1000,
        "xaxis": {
         "title": {
          "text": "Principal Component 1"
         }
        },
        "yaxis": {
         "title": {
          "text": "Principal Component 2"
         }
        }
       }
      }
     },
     "metadata": {},
     "output_type": "display_data"
    }
   ],
   "source": [
    "import plotly.graph_objs as go\n",
    "import plotly.express as px\n",
    "from plotly.offline import iplot\n",
    "\n",
    "# Create a figure with specified layout size\n",
    "fig = go.Figure(layout=go.Layout(\n",
    "    title='2 component PCA by Pitcher Role with Feature Loadings',\n",
    "    xaxis_title='Principal Component 1',\n",
    "    yaxis_title='Principal Component 2',\n",
    "    legend_title='Role',\n",
    "    hovermode='closest',\n",
    "    width=1000,  # Width of the figure in pixels\n",
    "    height=800   # Height of the figure in pixels\n",
    "))\n",
    "\n",
    "for Role, color in [('Starting Pitcher', 'blue'), \n",
    "                    ('Middle Reliever', 'green'),\n",
    "                    ('Setup Pitcher', 'orange'),\n",
    "                    ('Long Reliever', 'purple'),\n",
    "                    ('Closer','red')]:   # Adjust roles and colors as needed\n",
    "    indicesToKeep = principalDf['classified_role'] == Role\n",
    "    fig.add_trace(go.Scattergl(\n",
    "        x=principalDf.loc[indicesToKeep, 'principal component 1'],\n",
    "        y=principalDf.loc[indicesToKeep, 'principal component 2'],\n",
    "        mode='markers',\n",
    "        marker=dict(color=color, size=5, opacity=0.4),  # Adjust the size of the dots here\n",
    "        name=Role,\n",
    "        text=principalDf.loc[indicesToKeep, 'Name']  # Assuming you have player names in the 'Player' column\n",
    "    ))\n",
    "# Add feature loadings as arrows\n",
    "for i, feature in enumerate(features):\n",
    "    fig.add_trace(go.Scatter(\n",
    "        x=[0, pca.components_[0, i] * 230],  # X start and end positions for arrow\n",
    "        y=[0, pca.components_[1, i] * 230],  # Y start and end positions for arrow\n",
    "        mode='lines+text',\n",
    "        text=[None, feature],  # Only label the end of the arrow\n",
    "        textposition=\"bottom center\",\n",
    "        line=dict(color='grey', width=0.2),\n",
    "        showlegend=False\n",
    "    ))\n",
    "\n",
    "# Show the figure\n",
    "iplot(fig)\n"
   ]
  },
  {
   "cell_type": "code",
   "execution_count": 16,
   "metadata": {},
   "outputs": [
    {
     "data": {
      "text/html": [
       "<div>\n",
       "<style scoped>\n",
       "    .dataframe tbody tr th:only-of-type {\n",
       "        vertical-align: middle;\n",
       "    }\n",
       "\n",
       "    .dataframe tbody tr th {\n",
       "        vertical-align: top;\n",
       "    }\n",
       "\n",
       "    .dataframe thead th {\n",
       "        text-align: right;\n",
       "    }\n",
       "</style>\n",
       "<table border=\"1\" class=\"dataframe\">\n",
       "  <thead>\n",
       "    <tr style=\"text-align: right;\">\n",
       "      <th></th>\n",
       "      <th>principal component 1</th>\n",
       "      <th>principal component 2</th>\n",
       "      <th>classified_role</th>\n",
       "      <th>Name</th>\n",
       "    </tr>\n",
       "  </thead>\n",
       "  <tbody>\n",
       "    <tr>\n",
       "      <th>0</th>\n",
       "      <td>4.918272</td>\n",
       "      <td>-0.979428</td>\n",
       "      <td>Setup Pitcher</td>\n",
       "      <td>NeftalA­ Feliz</td>\n",
       "    </tr>\n",
       "    <tr>\n",
       "      <th>1</th>\n",
       "      <td>2.597973</td>\n",
       "      <td>0.957054</td>\n",
       "      <td>Middle Reliever</td>\n",
       "      <td>Tommy Hunter</td>\n",
       "    </tr>\n",
       "    <tr>\n",
       "      <th>2</th>\n",
       "      <td>3.972255</td>\n",
       "      <td>-3.859510</td>\n",
       "      <td>Setup Pitcher</td>\n",
       "      <td>Matt Bush</td>\n",
       "    </tr>\n",
       "    <tr>\n",
       "      <th>3</th>\n",
       "      <td>-4.906414</td>\n",
       "      <td>-3.998125</td>\n",
       "      <td>Setup Pitcher</td>\n",
       "      <td>Adam Ottavino</td>\n",
       "    </tr>\n",
       "    <tr>\n",
       "      <th>4</th>\n",
       "      <td>0.663280</td>\n",
       "      <td>-1.440607</td>\n",
       "      <td>Setup Pitcher</td>\n",
       "      <td>Zack Greinke</td>\n",
       "    </tr>\n",
       "  </tbody>\n",
       "</table>\n",
       "</div>"
      ],
      "text/plain": [
       "   principal component 1  principal component 2  classified_role  \\\n",
       "0               4.918272              -0.979428    Setup Pitcher   \n",
       "1               2.597973               0.957054  Middle Reliever   \n",
       "2               3.972255              -3.859510    Setup Pitcher   \n",
       "3              -4.906414              -3.998125    Setup Pitcher   \n",
       "4               0.663280              -1.440607    Setup Pitcher   \n",
       "\n",
       "             Name  \n",
       "0  NeftalA­ Feliz  \n",
       "1    Tommy Hunter  \n",
       "2       Matt Bush  \n",
       "3   Adam Ottavino  \n",
       "4    Zack Greinke  "
      ]
     },
     "execution_count": 16,
     "metadata": {},
     "output_type": "execute_result"
    }
   ],
   "source": [
    "principalDf.head()"
   ]
  },
  {
   "cell_type": "code",
   "execution_count": 17,
   "metadata": {},
   "outputs": [],
   "source": [
    "import pandas as pd\n",
    "\n",
    "# Assuming 'principalDf' is your principal components DataFrame\n",
    "# First, we'll define the quadrants based on the principal components\n",
    "def define_quadrant(row):\n",
    "    if row['principal component 1'] >= 0 and row['principal component 2'] >= 0:\n",
    "        return 'Quadrant 1'\n",
    "    elif row['principal component 1'] < 0 and row['principal component 2'] >= 0:\n",
    "        return 'Quadrant 2'\n",
    "    elif row['principal component 1'] < 0 and row['principal component 2'] < 0:\n",
    "        return 'Quadrant 3'\n",
    "    else:\n",
    "        return 'Quadrant 4'\n",
    "    \n",
    "principalDf['Quadrant'] = principalDf.apply(define_quadrant, axis=1)\n",
    "\n",
    "# Next, we'll create a pivot table to calculate the counts of roles in each quadrant\n",
    "pivot_table = principalDf.pivot_table(index='Quadrant', columns='classified_role', aggfunc='size', fill_value=0)\n",
    "\n",
    "# Calculate the percentages of each role in each quadrant\n",
    "quadrant_role_percentages = pivot_table.div(pivot_table.sum(axis=1), axis=0) * 100\n"
   ]
  },
  {
   "cell_type": "code",
   "execution_count": 18,
   "metadata": {},
   "outputs": [
    {
     "data": {
      "image/png": "[encoded data removed]",
      "text/plain": [
       "<Figure size 1000x700 with 1 Axes>"
      ]
     },
     "metadata": {},
     "output_type": "display_data"
    }
   ],
   "source": [
    "# Plot the stacked bar chart and capture the returned axes\n",
    "ax = quadrant_role_percentages.plot(kind='bar', stacked=True, figsize=(10, 7))\n",
    "\n",
    "# Add labels and title\n",
    "ax.set_xlabel('Quadrant')\n",
    "ax.set_ylabel('Percentage')\n",
    "ax.set_title('Percentage of Different Roles in Each Quadrant')\n",
    "ax.legend(title='Role')\n",
    "\n",
    "# Adding percentage text on each bar\n",
    "for bars in ax.containers:\n",
    "    ax.bar_label(bars, fmt='%.4f%%', label_type='center')\n",
    "\n",
    "# Show the plot\n",
    "plt.tight_layout()\n",
    "plt.show()"
   ]
  },
  {
   "cell_type": "markdown",
   "metadata": {},
   "source": [
    "### Save the feature loadings to a DataFrame"
   ]
  },
  {
   "cell_type": "code",
   "execution_count": 19,
   "metadata": {},
   "outputs": [],
   "source": [
    "# Assuming pca is your PCA object and features is the list of feature names\n",
    "loadings = pd.DataFrame(pca.components_.T, columns=['PC1', 'PC2'], index=features)\n",
    "\n",
    "# Calculate the distance of each loading from the origin\n",
    "loadings['Distance'] = np.sqrt(loadings['PC1']**2 + loadings['PC2']**2)\n",
    "\n",
    "# Function to determine the quadrant\n",
    "def determine_quadrant(row):\n",
    "    if row['PC1'] >= 0 and row['PC2'] >= 0:\n",
    "        return 'Q1'\n",
    "    elif row['PC1'] < 0 and row['PC2'] >= 0:\n",
    "        return 'Q2'\n",
    "    elif row['PC1'] < 0 and row['PC2'] < 0:\n",
    "        return 'Q3'\n",
    "    elif row['PC1'] >= 0 and row['PC2'] < 0:\n",
    "        return 'Q4'\n",
    "    \n",
    "# Apply the function to the DataFrame to create a new 'Quadrant' column\n",
    "loadings['Quadrant'] = loadings.apply(determine_quadrant, axis=1)\n",
    "\n",
    "# Create DataFrames for each quadrant\n",
    "quadrants = {}\n",
    "for quadrant in ['Q1', 'Q2', 'Q3', 'Q4']:\n",
    "    quadrants[quadrant] = loadings[loadings['Quadrant'] == quadrant].sort_values('Distance', ascending=False)\n"
   ]
  },
  {
   "cell_type": "code",
   "execution_count": 20,
   "metadata": {},
   "outputs": [],
   "source": [
    "from src.desc import baseball_stats_definitions\n",
    "\n",
    "# map the stat names to the definitions\n",
    "quadrants['Q1']['Stat'] = quadrants['Q1'].index.map(baseball_stats_definitions)\n",
    "quadrants['Q2']['Stat'] = quadrants['Q2'].index.map(baseball_stats_definitions)\n",
    "quadrants['Q3']['Stat'] = quadrants['Q3'].index.map(baseball_stats_definitions)\n",
    "quadrants['Q4']['Stat'] = quadrants['Q4'].index.map(baseball_stats_definitions)\n",
    "\n",
    "# Look at quadrant \n",
    "quadrant1 = quadrants['Q1'] # Low RP and SP\n",
    "quadrant2 = quadrants['Q2'] # High SP and Low RP\n",
    "quadrant3 = quadrants['Q3'] # High RP and Low SP\n",
    "quadrant4 = quadrants['Q4'] # Low SP and High RP"
   ]
  },
  {
   "cell_type": "code",
   "execution_count": 21,
   "metadata": {},
   "outputs": [
    {
     "data": {
      "text/plain": [
       "0"
      ]
     },
     "execution_count": 21,
     "metadata": {},
     "output_type": "execute_result"
    }
   ],
   "source": [
    "principalDf.dropna(inplace=True)\n",
    "principalDf.Name.isnull().sum()"
   ]
  },
  {
   "cell_type": "code",
   "execution_count": 22,
   "metadata": {},
   "outputs": [],
   "source": [
    "# get player names for each quadrant\n",
    "q1 = principalDf[principalDf.Quadrant == 'Q1']\n",
    "q2 = principalDf[principalDf.Quadrant == 'Q2']\n",
    "q3 = principalDf[principalDf.Quadrant == 'Q3']\n",
    "q4 = principalDf[principalDf.Quadrant == 'Q4']"
   ]
  },
  {
   "cell_type": "code",
   "execution_count": 23,
   "metadata": {},
   "outputs": [],
   "source": [
    "from src.paths import QUADRANT_DATA_DIR\n",
    "# Save the quadrants data to xlsx file \n",
    "quadrant1.to_excel(QUADRANT_DATA_DIR / 'quadrant1_SP_RP_EQUAL.xlsx')\n",
    "quadrant2.to_excel(QUADRANT_DATA_DIR / 'quadrant2_SP_MAJORITY.xlsx')\n",
    "quadrant3.to_excel(QUADRANT_DATA_DIR / 'quadrant3_RP_MAJORITY.xlsx')\n",
    "quadrant4.to_excel(QUADRANT_DATA_DIR / 'quadrant4_RP_MAJORITY.xlsx')\n",
    "\n",
    "# Save the players in each quadrant to xlsx file\n",
    "q1.to_excel(QUADRANT_DATA_DIR / 'q1_players.xlsx')\n",
    "q2.to_excel(QUADRANT_DATA_DIR / 'q2_players.xlsx')\n",
    "q3.to_excel(QUADRANT_DATA_DIR / 'q3_players.xlsx')\n",
    "q4.to_excel(QUADRANT_DATA_DIR / 'q4_players.xlsx')\n",
    "\n",
    "# Save the principalDF\n",
    "principalDf.to_excel(QUADRANT_DATA_DIR / 'principalDf.xlsx')\n"
   ]
  },
  {
   "cell_type": "markdown",
   "metadata": {},
   "source": []
  },
  {
   "cell_type": "code",
   "execution_count": null,
   "metadata": {},
   "outputs": [],
   "source": []
  }
 ],
 "metadata": {
  "kernelspec": {
   "display_name": ".venv",
   "language": "python",
   "name": "python3"
  },
  "language_info": {
   "codemirror_mode": {
    "name": "ipython",
    "version": 3
   },
   "file_extension": ".py",
   "mimetype": "text/x-python",
   "name": "python",
   "nbconvert_exporter": "python",
   "pygments_lexer": "ipython3",
   "version": "3.11.4"
  }
 },
 "nbformat": 4,
 "nbformat_minor": 2
}
