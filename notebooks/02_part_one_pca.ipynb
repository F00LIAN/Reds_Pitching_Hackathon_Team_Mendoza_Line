{
 "cells": [
  {
   "cell_type": "code",
   "execution_count": 2,
   "metadata": {},
   "outputs": [],
   "source": [
    "import pandas as pd\n",
    "import numpy as np\n",
    "import matplotlib.pyplot as plt\n",
    "import seaborn as sns\n",
    "import json\n",
    "import os\n",
    "import sys\n",
    "\n",
    "# reference main directory in existing folder\n",
    "current_dir = os.getcwd()\n",
    "parent_dir = os.path.dirname(current_dir)\n",
    "sys.path.append(parent_dir)\n",
    "\n",
    "import pandas as pd \n",
    "import sys\n",
    "import numpy as np\n",
    "import matplotlib.pyplot as plt\n",
    "import plotly.express as px\n",
    "import plotly.graph_objects as go\n",
    "import plotly.io as pio\n",
    "from sklearn.decomposition import PCA\n",
    "from sklearn.preprocessing import StandardScaler\n",
    "import matplotlib.pyplot as plt\n",
    "from src.paths import RAW_DATA_DIR, CLEANED_DATA_DIR\n",
    "import plotly.express as px\n",
    "import plotly.graph_objects as go\n",
    "import plotly.io as pio\n",
    "from sklearn.decomposition import PCA\n",
    "from sklearn.preprocessing import StandardScaler\n",
    "\n",
    "# show all rows and columns\n",
    "pd.set_option('display.max_columns', None)\n",
    "pd.set_option('display.max_rows', None)\n",
    "pd.set_option('display.width', None)\n",
    "\n",
    "# import data\n",
    "#savant = pd.read_csv(RAW_DATA_DIR / 'savant_pitch_level.csv')\n",
    "#data_dictionary = pd.read_excel(RAW_DATA_DIR / 'data_dictionary.xlsx')\n",
    "#fangraph = pd.read_csv(RAW_DATA_DIR / 'fangraphs_season_level.csv')\n",
    "fangraph = pd.read_csv(CLEANED_DATA_DIR / 'fangraphs_engineered_merged.csv')"
   ]
  },
  {
   "cell_type": "code",
   "execution_count": 3,
   "metadata": {},
   "outputs": [],
   "source": [
    "# replace int and float columns nan with 0\n",
    "int_cols = fangraph.select_dtypes(include=['int']).columns\n",
    "float_cols = fangraph.select_dtypes(include=['float']).columns\n",
    "fangraph[int_cols] = fangraph[int_cols].fillna(0)\n",
    "fangraph[float_cols] = fangraph[float_cols].fillna(0)"
   ]
  },
  {
   "cell_type": "code",
   "execution_count": 4,
   "metadata": {},
   "outputs": [],
   "source": [
    "# drop columns rows with nan values\n",
    "fangraph = fangraph.dropna()"
   ]
  },
  {
   "cell_type": "code",
   "execution_count": 5,
   "metadata": {},
   "outputs": [],
   "source": [
    "df_clean = fangraph.copy()"
   ]
  },
  {
   "cell_type": "code",
   "execution_count": 6,
   "metadata": {},
   "outputs": [],
   "source": [
    "# Move all string columns next to each other\n",
    "string_columns = df_clean.select_dtypes(include=['object']).columns\n",
    "other_columns = [col for col in df_clean.columns if col not in string_columns]\n",
    "\n",
    "# Reorder the columns by first placing string columns and then other columns\n",
    "df_clean = df_clean[string_columns.tolist() + other_columns]"
   ]
  },
  {
   "cell_type": "code",
   "execution_count": 7,
   "metadata": {},
   "outputs": [],
   "source": [
    "from sklearn.decomposition import PCA\n",
    "from sklearn.preprocessing import StandardScaler\n",
    "import matplotlib.pyplot as plt\n",
    "\n",
    "features = df_clean.columns[10:]\n",
    "x = df_clean.loc[:, features].values\n",
    "\n",
    "# standardizing the features\n",
    "x = StandardScaler().fit_transform(x)"
   ]
  },
  {
   "cell_type": "code",
   "execution_count": 8,
   "metadata": {},
   "outputs": [
    {
     "data": {
      "image/png": "[encoded data removed]",
      "text/plain": [
       "<Figure size 800x400 with 1 Axes>"
      ]
     },
     "metadata": {},
     "output_type": "display_data"
    }
   ],
   "source": [
    "# determine the # of PCA we should use\n",
    "pca = PCA(n_components=len(features))\n",
    "principalComponents = pca.fit_transform(x)\n",
    "\n",
    "# Cumulative explained variance\n",
    "cumulative_explained_variance = pca.explained_variance_ratio_.cumsum()\n",
    "\n",
    "# Plotting\n",
    "plt.figure(figsize=(8, 4))\n",
    "plt.bar(range(1, len(features) + 1), pca.explained_variance_ratio_, alpha=0.5, align='center', label='Individual explained variance')\n",
    "plt.step(range(1, len(features) + 1), cumulative_explained_variance, where='mid', label='Cumulative explained variance')\n",
    "plt.ylabel('Explained variance ratio')\n",
    "plt.xlabel('Principal components')\n",
    "plt.legend(loc='best')\n",
    "plt.tight_layout()\n",
    "plt.show()\n"
   ]
  },
  {
   "cell_type": "markdown",
   "metadata": {},
   "source": [
    "##### PCA 50 can explain 80% of the variance\n",
    "##### Imagine we have a large box full of different colored crayons—so many that it's hard to decide which ones to use for our picture. Now, think of a chart that shows us which crayons are the best at helping us create a beautiful picture. Each bar on the chart is like a helper showing how much it can contribute to our artwork. Some helpers are superstars and tell us a lot, while others don't add much to our picture. The rising line on the chart is like a ladder, showing how our picture gets better and better as we add more superstar helpers. But, as we climb higher, we notice that adding more helpers doesn't really make our picture much better. This chart is a special tool that helps us pick just the right number of crayons to make our picture pretty without using every single color in the box. It tells us that if we choose about 40 to 50 of these special helpers, our picture will turn out just right, without any extra fuss!"
   ]
  },
  {
   "cell_type": "code",
   "execution_count": 9,
   "metadata": {},
   "outputs": [],
   "source": [
    "# Performing PCA\n",
    "pca = PCA(n_components=2) # You can change the number of components\n",
    "principalComponents = pca.fit_transform(x)"
   ]
  },
  {
   "cell_type": "code",
   "execution_count": 10,
   "metadata": {},
   "outputs": [],
   "source": [
    "# Creating a DataFrame with principal components\n",
    "\n",
    "principalDf = pd.DataFrame(data = principalComponents, columns = ['principal component 1', 'principal component 2'])"
   ]
  },
  {
   "cell_type": "code",
   "execution_count": 11,
   "metadata": {},
   "outputs": [],
   "source": [
    "df_clean = df_clean.reset_index(drop=True)\n",
    "principalDf['classified_role'] = df_clean['classified_role'] \n",
    "principalDf['Name'] = df_clean['Name'] "
   ]
  },
  {
   "cell_type": "code",
   "execution_count": 12,
   "metadata": {},
   "outputs": [
    {
     "data": {
      "text/plain": [
       "principal component 1    0\n",
       "principal component 2    0\n",
       "classified_role          0\n",
       "Name                     0\n",
       "dtype: int64"
      ]
     },
     "execution_count": 12,
     "metadata": {},
     "output_type": "execute_result"
    }
   ],
   "source": [
    "principalDf.isnull().sum()"
   ]
  },
  {
   "cell_type": "code",
   "execution_count": 13,
   "metadata": {},
   "outputs": [
    {
     "data": {
      "text/plain": [
       "array(['Setup/Closer Pitcher', 'Middle Reliever', 'Starting Pitcher'],\n",
       "      dtype=object)"
      ]
     },
     "execution_count": 13,
     "metadata": {},
     "output_type": "execute_result"
    }
   ],
   "source": [
    "principalDf['classified_role'].unique()"
   ]
  },
  {
   "cell_type": "code",
   "execution_count": 14,
   "metadata": {},
   "outputs": [
    {
     "data": {
      "image/png": "[encoded data removed]",
      "text/plain": [
       "<Figure size 640x480 with 1 Axes>"
      ]
     },
     "metadata": {},
     "output_type": "display_data"
    }
   ],
   "source": [
    "# Visualizing the PCA results\n",
    "# 'Middle Reliever', 'SP', 'Setup Man', 'Other Relief', 'Closer'\n",
    "plt.figure()\n",
    "for Role, color in [('Starting Pitcher', 'blue'), \n",
    "                    ('Middle Reliever', 'green'),\n",
    "                    ('Setup Pitcher', 'orange'),\n",
    "                    ('Long Reliever', 'purple'),\n",
    "                    ('Closer','red')]:  \n",
    "    indicesToKeep = principalDf['classified_role'] == Role\n",
    "    plt.scatter(principalDf.loc[indicesToKeep, 'principal component 1'],\n",
    "                principalDf.loc[indicesToKeep, 'principal component 2'],\n",
    "                c=color,\n",
    "                s=2,\n",
    "                alpha = 0.4,\n",
    "                label=Role)\n",
    "plt.xlabel('Principal Component 1')\n",
    "plt.ylabel('Principal Component 2')\n",
    "plt.title('2 component PCA by Pitcher Role')\n",
    "plt.legend()\n",
    "plt.show()"
   ]
  },
  {
   "cell_type": "markdown",
   "metadata": {},
   "source": [
    "### we can tell that there are 2 cluster, SP and RP are each belonging to different cluster # some SP fall into RP cluster and some RP fall into SP cluster could suggest role switching but further analysis should be conducted"
   ]
  },
  {
   "cell_type": "code",
   "execution_count": 15,
   "metadata": {},
   "outputs": [
    {
     "data": {
      "application/vnd.plotly.v1+json": {
       "config": {
        "linkText": "Export to plot.ly",
        "plotlyServerURL": "https://plot.ly",
        "showLink": false
       },
       "data": [
        {
         "marker": {
          "color": "blue",
          "opacity": 0.4,
          "size": 5
         },
         "mode": "markers",
         "name": "Starting Pitcher",
         "text": [
          "Johnny Cueto",
          "Jordan Lyles",
          "Joe Ross",
          "Ross Stripling",
          "Adrian Sampson",
          "Jordan Yamamoto",
          "Dakota Hudson",
          "T.J. Zeuch",
          "Stephen Nogosek",
          "Miguel Yajure",
          "A.J. Alexy",
          "Johnny Cueto",
          "Miles Mikolas",
          "Noah Syndergaard",
          "Ross Stripling",
          "Adrian Sampson",
          "Zach Eflin",
          "Chris Flexen",
          "Chase De Jong",
          "Brad Keller",
          "Ryan Castellani",
          "Luke Weaver",
          "Elieser HernA¡ndez",
          "Mitch Keller",
          "JosA© Urquidy",
          "Cody Poteet",
          "Pedro Avila",
          "Dakota Hudson",
          "Vladimir Gutierrez",
          "Dean Kremer",
          "Stephen Nogosek",
          "Zach Plesac",
          "Bryse Wilson",
          "Eli Morgan",
          "Riley O'Brien",
          "Kutter Crawford",
          "Miguel Yajure",
          "Tylor Megill",
          "Ryan Feltner",
          "Max Kranick",
          "A.J. Alexy",
          "Roansy Contreras",
          "Janson Junk",
          "Brady Singer",
          "Ryan Pepiot",
          "Kohei Arihara",
          "Corey Kluber",
          "Julio Teheran",
          "Johnny Cueto",
          "Jameson Taillon",
          "Anthony DeSclafani",
          "Ross Stripling",
          "Marcus Stroman",
          "Chris Flexen",
          "Frankie Montas",
          "Paul Blackburn",
          "Chase De Jong",
          "Brad Keller",
          "Luke Weaver",
          "Peter Lambert",
          "JosA© Urquidy",
          "Kenta Maeda",
          "Pedro Avila",
          "Dakota Hudson",
          "Stephen Nogosek",
          "Kyle Wright",
          "Connor Seabold",
          "Alex Faedo",
          "Bryse Wilson",
          "Eli Morgan",
          "Deivi GarcA­a",
          "Kutter Crawford",
          "AdriA¡n MartA­nez",
          "Glenn Otto",
          "Edward Cabrera",
          "Jonathan Heasley",
          "Roansy Contreras",
          "Joan Adon",
          "Osvaldo Bido",
          "Janson Junk",
          "JosA© Butto",
          "Simeon Woods Richardson",
          "Cooper Criswell",
          "Xzavion Curry",
          "Hunter Gaddis",
          "Quinn Priester",
          "Beau Brieske",
          "Caleb Kilian",
          "Ryan Pepiot",
          "Ryne Nelson",
          "Drey Jameson",
          "Luis L. Ortiz",
          "Louie Varland",
          "Brandon Pfaadt",
          "Chase Silseth",
          "Rich Hill",
          "Drew Smyly",
          "Stephen Gonsalves",
          "Ryan Yarbrough",
          "Daniel Castano",
          "Jhonathan Diaz",
          "Bruce Zimmermann",
          "Wade Miley",
          "Tyler Anderson",
          "Steven Matz",
          "Steven Brault",
          "Matthew Boyd",
          "Sean Manaea",
          "Ryan Yarbrough",
          "Austin Gomber",
          "Josh Rogers",
          "Dillon Peters",
          "Reiver Sanmartin",
          "Daniel Castano",
          "Tucker Davidson",
          "Adrian Morejon",
          "Jhonathan Diaz",
          "David Peterson",
          "Bruce Zimmermann",
          "Yusei Kikuchi",
          "Angel Zerpa",
          "Michael Plassmeyer",
          "Rich Hill",
          "Drew Smyly",
          "Tyler Anderson",
          "Steven Matz",
          "Alex Wood",
          "Sean Manaea",
          "Ryan Yarbrough",
          "Cole Irvin",
          "Reiver Sanmartin",
          "Daniel Castano",
          "Tucker Davidson",
          "Joey Wentz",
          "Adrian Morejon",
          "Jhonathan Diaz",
          "David Peterson",
          "Bruce Zimmermann",
          "Jake Latz",
          "Cole Ragans",
          "Angel Zerpa",
          "Tommy Henry",
          "Ethan Small",
          "Ken Waldichuk",
          "Adam Wainwright",
          "Corey Kluber",
          "Lance Lynn",
          "Max Scherzer",
          "Jake Arrieta",
          "Alex Cobb",
          "Robert Stock",
          "Carlos Carrasco",
          "Julio Teheran",
          "Johnny Cueto",
          "Jordan Lyles",
          "Mike Fiers",
          "Nathan Eovaldi",
          "Miles Mikolas",
          "Stephen Strasburg",
          "Zack Wheeler",
          "Asher Wojciechowski",
          "Jacob deGrom",
          "Merrill Kelly",
          "Jameson Taillon",
          "Carlos Martinez",
          "Matt Harvey",
          "Noah Syndergaard",
          "Kyle Hendricks",
          "Chris Bassitt",
          "Trevor Bauer",
          "Sonny Gray",
          "Joe Ross",
          "Anthony DeSclafani",
          "Yu Darvish",
          "Gerrit Cole",
          "Zach Davies",
          "Ross Stripling",
          "Adrian Sampson",
          "Marcus Stroman",
          "Zach Eflin",
          "Chris Flexen",
          "Kevin Gausman",
          "Lance McCullers Jr.",
          "JosA© BerrA­os",
          "Frankie Montas",
          "Tyler Glasnow",
          "Paul Blackburn",
          "Jon Gray",
          "Chase De Jong",
          "GermA¡n MA¡rquez",
          "Lucas Giolito",
          "Antonio Senzatela",
          "Luis Castillo",
          "Brad Keller",
          "Aaron Nola",
          "Brandon Woodruff",
          "Spencer Turnbull",
          "Tyler Mahle",
          "Ryan Castellani",
          "Luke Weaver",
          "Elieser HernA¡ndez",
          "Pablo LA3pez",
          "JT Brubaker",
          "Jordan Yamamoto",
          "Mitch Keller",
          "Peter Lambert",
          "JosA© Urquidy",
          "Kenta Maeda",
          "Dylan Cease",
          "Sandy Alcantara",
          "Cody Poteet",
          "Pedro Avila",
          "Dakota Hudson",
          "Justin Dunn",
          "T.J. Zeuch",
          "Vladimir Gutierrez",
          "Zac Gallen",
          "Dean Kremer",
          "Corbin Burnes",
          "Walker Buehler",
          "Shane Bieber",
          "Aaron Civale",
          "Jon Duplantier",
          "Kyle Wright",
          "Connor Seabold",
          "Dustin May",
          "Shohei Ohtani",
          "Ian Anderson",
          "Zach Plesac",
          "Bryse Wilson",
          "Eli Morgan",
          "Tyler Ivey",
          "Deivi GarcA­a",
          "Riley O'Brien",
          "Matt Manning",
          "Casey Mize",
          "Kutter Crawford",
          "Humberto MejA­a",
          "Luis Gil",
          "Miguel Yajure",
          "Bailey Ober",
          "Tylor Megill",
          "Glenn Otto",
          "Joe Ryan",
          "Ryan Feltner",
          "Edward Cabrera",
          "Max Kranick",
          "Hans Crouse",
          "Jonathan Heasley",
          "Logan Gilbert",
          "Shane Baz",
          "A.J. Alexy",
          "Roansy Contreras",
          "Joan Adon",
          "Janson Junk",
          "Cooper Criswell",
          "Brady Singer",
          "Alek Manoah",
          "Kohei Arihara",
          "Adam Wainwright",
          "Corey Kluber",
          "Lance Lynn",
          "Max Scherzer",
          "AnA­bal SA¡nchez",
          "Alex Cobb",
          "Carlos Carrasco",
          "Johnny Cueto",
          "Jordan Lyles",
          "Justin Verlander",
          "Nathan Eovaldi",
          "Miles Mikolas",
          "Stephen Strasburg",
          "Zack Wheeler",
          "Jacob deGrom",
          "Merrill Kelly",
          "Jameson Taillon",
          "Noah Syndergaard",
          "Kyle Hendricks",
          "Chris Bassitt",
          "Sonny Gray",
          "Anthony DeSclafani",
          "Yu Darvish",
          "Gerrit Cole",
          "Zach Davies",
          "Ross Stripling",
          "Adrian Sampson",
          "Marcus Stroman",
          "Zach Eflin",
          "Chris Flexen",
          "Kevin Gausman",
          "Lance McCullers Jr.",
          "JosA© BerrA­os",
          "Frankie Montas",
          "Tyler Glasnow",
          "Paul Blackburn",
          "Jon Gray",
          "GermA¡n MA¡rquez",
          "Lucas Giolito",
          "Antonio Senzatela",
          "Luis Castillo",
          "Brad Keller",
          "Aaron Nola",
          "Brandon Woodruff",
          "Tyler Mahle",
          "Luke Weaver",
          "Elieser HernA¡ndez",
          "Pablo LA3pez",
          "JT Brubaker",
          "Mitch Keller",
          "JosA© Urquidy",
          "Dylan Cease",
          "Sandy Alcantara",
          "Cody Poteet",
          "Dakota Hudson",
          "Justin Dunn",
          "T.J. Zeuch",
          "Vladimir Gutierrez",
          "Zac Gallen",
          "Dean Kremer",
          "Corbin Burnes",
          "Walker Buehler",
          "Shane Bieber",
          "Aaron Civale",
          "Kyle Wright",
          "Connor Seabold",
          "Dustin May",
          "Shohei Ohtani",
          "Alex Faedo",
          "Ian Anderson",
          "Zach Plesac",
          "Bryse Wilson",
          "Eli Morgan",
          "Matt Manning",
          "Casey Mize",
          "Kutter Crawford",
          "Jackson Tetreault",
          "AdriA¡n MartA­nez",
          "Luis Gil",
          "Miguel Yajure",
          "Bailey Ober",
          "Tylor Megill",
          "Glenn Otto",
          "Joe Ryan",
          "Ryan Feltner",
          "Edward Cabrera",
          "Hunter Greene",
          "Jonathan Heasley",
          "Logan Gilbert",
          "Shane Baz",
          "Roansy Contreras",
          "Joan Adon",
          "Janson Junk",
          "JosA© Butto",
          "Simeon Woods Richardson",
          "Kyle Bradish",
          "Cooper Criswell",
          "Brady Singer",
          "George Kirby",
          "Xzavion Curry",
          "Hunter Gaddis",
          "Beau Brieske",
          "Caleb Kilian",
          "Ryan Pepiot",
          "Ryne Nelson",
          "Drey Jameson",
          "Alek Manoah",
          "Cade Cavalli",
          "Max Meyer",
          "Kohei Arihara",
          "Graham Ashcraft",
          "Luis L. Ortiz",
          "Louie Varland",
          "Chase Silseth",
          "Adam Wainwright",
          "Corey Kluber",
          "Lance Lynn",
          "Max Scherzer",
          "Alex Cobb",
          "Carlos Carrasco",
          "Julio Teheran",
          "Johnny Cueto",
          "Jordan Lyles",
          "Justin Verlander",
          "Nathan Eovaldi",
          "Miles Mikolas",
          "Zack Wheeler",
          "Jacob deGrom",
          "Merrill Kelly",
          "Jameson Taillon",
          "Noah Syndergaard",
          "Kyle Hendricks",
          "Chris Bassitt",
          "Drew Rucinski",
          "Sonny Gray",
          "Anthony DeSclafani",
          "Yu Darvish",
          "Gerrit Cole",
          "Zach Davies",
          "Ross Stripling",
          "Marcus Stroman",
          "Zach Eflin",
          "Chris Flexen",
          "Kevin Gausman",
          "JosA© BerrA­os",
          "Tyler Glasnow",
          "Paul Blackburn",
          "Wes Parsons",
          "Jon Gray",
          "GermA¡n MA¡rquez",
          "Lucas Giolito",
          "Antonio Senzatela",
          "Luis Castillo",
          "Brad Keller",
          "Aaron Nola",
          "Brandon Woodruff",
          "Spencer Turnbull",
          "Tyler Mahle",
          "Luke Weaver",
          "Pablo LA3pez",
          "Mitch Keller",
          "Peter Lambert",
          "JosA© Urquidy",
          "Kenta Maeda",
          "Dylan Cease",
          "Sandy Alcantara",
          "Pedro Avila",
          "Dakota Hudson",
          "Zac Gallen",
          "Dean Kremer",
          "Corbin Burnes",
          "Shane Bieber",
          "Aaron Civale",
          "Kyle Wright",
          "Connor Seabold",
          "Dustin May",
          "Shohei Ohtani",
          "Alex Faedo",
          "Zach Plesac",
          "Matt Manning",
          "Kutter Crawford",
          "AdriA¡n MartA­nez",
          "Bailey Ober",
          "Allan Winans",
          "Tylor Megill",
          "Joe Ryan",
          "Ryan Feltner",
          "Jake Irvin",
          "Edward Cabrera",
          "Hunter Greene",
          "Logan Gilbert",
          "Roansy Contreras",
          "Joan Adon",
          "Osvaldo Bido",
          "Janson Junk",
          "JosA© Butto",
          "Grayson Rodriguez",
          "Lyon Richardson",
          "Kyle Bradish",
          "Brady Singer",
          "George Kirby",
          "Xzavion Curry",
          "Hunter Gaddis",
          "Quinn Priester",
          "Sawyer Gipson-Long",
          "Beau Brieske",
          "Caleb Kilian",
          "Jackson Rutledge",
          "Ryan Pepiot",
          "Ryne Nelson",
          "Joey Estes",
          "Drey Jameson",
          "Alek Manoah",
          "Emerson Hancock",
          "Bobby Miller",
          "Graham Ashcraft",
          "Luis L. Ortiz",
          "Connor Phillips",
          "Louie Varland",
          "Eury PA©rez",
          "Brandon Pfaadt",
          "Joe Boyle",
          "Bryce Miller",
          "Chase Silseth",
          "Gavin Williams",
          "Tanner Bibee",
          "Bryan Woo",
          "Kodai Senga",
          "Clayton Kershaw",
          "Rich Hill",
          "Jon Lester",
          "Madison Bumgarner",
          "J.A. Happ",
          "Brett Anderson",
          "Wade Miley",
          "Patrick Corbin",
          "Mike Minor",
          "Chris Sale",
          "Robbie Ray",
          "Drew Smyly",
          "James Paxton",
          "Tyler Anderson",
          "Steven Matz",
          "Blake Snell",
          "Max Fried",
          "Alex Wood",
          "Hyun Jin Ryu",
          "Julio UrA­as",
          "Steven Brault",
          "Matthew Boyd",
          "Marco Gonzales",
          "Sean Manaea",
          "Carlos RodA3n",
          "Kyle Freeland",
          "John Means",
          "Ryan Yarbrough",
          "Jordan Montgomery",
          "Austin Gomber",
          "Framber Valdez",
          "Josh Rogers",
          "Dillon Peters",
          "Cole Irvin",
          "Reiver Sanmartin",
          "Daniel Castano",
          "Tucker Davidson",
          "Adrian Morejon",
          "Jhonathan Diaz",
          "David Peterson",
          "Bruce Zimmermann",
          "Yusei Kikuchi",
          "Jake Latz",
          "Shane McClanahan",
          "Daniel Lynch IV",
          "Trevor Rogers",
          "Angel Zerpa",
          "Reid Detmers",
          "Clayton Kershaw",
          "Rich Hill",
          "Madison Bumgarner",
          "Wade Miley",
          "Patrick Corbin",
          "Mike Minor",
          "Chris Sale",
          "Robbie Ray",
          "Drew Smyly",
          "Tyler Anderson",
          "Steven Matz",
          "Blake Snell",
          "Max Fried",
          "Alex Wood",
          "Hyun Jin Ryu",
          "Julio UrA­as",
          "Marco Gonzales",
          "Sean Manaea",
          "Carlos RodA3n",
          "Kyle Freeland",
          "John Means",
          "Ryan Yarbrough",
          "Jordan Montgomery",
          "Austin Gomber",
          "Framber Valdez",
          "Josh Rogers",
          "Dillon Peters",
          "Cole Irvin",
          "Reiver Sanmartin",
          "Daniel Castano",
          "Tucker Davidson",
          "Joey Wentz",
          "Jhonathan Diaz",
          "David Peterson",
          "Bruce Zimmermann",
          "Yusei Kikuchi",
          "Shane McClanahan",
          "Daniel Lynch IV",
          "Cole Ragans",
          "Trevor Rogers",
          "Angel Zerpa",
          "Tommy Henry",
          "Ethan Small",
          "Nick Lodolo",
          "Reid Detmers",
          "Ken Waldichuk",
          "Clayton Kershaw",
          "Rich Hill",
          "Madison Bumgarner",
          "Wade Miley",
          "Patrick Corbin",
          "Chris Sale",
          "Robbie Ray",
          "Drew Smyly",
          "James Paxton",
          "Tyler Anderson",
          "Steven Matz",
          "Blake Snell",
          "Max Fried",
          "Alex Wood",
          "Hyun Jin Ryu",
          "Julio UrA­as",
          "Matthew Boyd",
          "Marco Gonzales",
          "Sean Manaea",
          "Carlos RodA3n",
          "Kyle Freeland",
          "John Means",
          "Ryan Yarbrough",
          "Jordan Montgomery",
          "Austin Gomber",
          "Framber Valdez",
          "Cole Irvin",
          "Tucker Davidson",
          "Joey Wentz",
          "Adrian Morejon",
          "Jhonathan Diaz",
          "David Peterson",
          "Yusei Kikuchi",
          "Shane McClanahan",
          "Daniel Lynch IV",
          "Cole Ragans",
          "Trevor Rogers",
          "Angel Zerpa",
          "Michael Plassmeyer",
          "Drew Rom",
          "Brandon Williamson",
          "Tommy Henry",
          "Nick Lodolo",
          "Reid Detmers",
          "Jared Shuster",
          "Logan Allen",
          "Ken Waldichuk",
          "Kyle Harrison",
          "Jackson Wolf",
          "Andrew Abbott",
          "Dylan Dodd",
          "Jordan Wicks"
         ],
         "type": "scattergl",
         "x": [
          1.237807815447603,
          1.6885645263348918,
          2.715104025596716,
          2.2476346998686063,
          1.9120270907409664,
          3.163339673665198,
          2.1401029074235334,
          8.127036530519403,
          1.3338707784658383,
          5.418597201461725,
          6.974659934406133,
          3.0220581812928824,
          1.0833397964031972,
          -0.6208798007468991,
          1.3790609816386015,
          0.5494974619262479,
          -3.329025313698442,
          0.73387091029441,
          -3.9915793794288104,
          2.4320035665079223,
          1.1738412477759657,
          -0.7445401725853386,
          2.308177285546092,
          1.9681247617588224,
          5.529481413832829,
          0.7957649402407213,
          1.3952657950413603,
          4.917920869070345,
          7.7000376029464395,
          0.8470142914129858,
          1.0084942928389469,
          1.3361309856510108,
          0.23046629766773605,
          -5.697618210799728,
          5.70918534580497,
          -0.48859999388299047,
          3.77211167236683,
          3.053461824554511,
          2.293156853019442,
          2.219296196145696,
          7.453909703014579,
          0.6621287461982885,
          0.01704487864768247,
          2.622619527616333,
          4.492790775531023,
          3.739467214574314,
          1.7272267605619156,
          0.747958826389877,
          3.529848915112431,
          -1.032943151752989,
          4.290752247029082,
          -0.21725899140260227,
          -0.5607976972241683,
          1.4202391882721839,
          1.980015805519358,
          7.861524878171951,
          5.488348552163008,
          10.311225118523064,
          0.7594701299408165,
          1.8360754065706741,
          1.269796413933509,
          -1.0944516344829933,
          -0.6418882507023816,
          2.602477656113327,
          2.8913859874233645,
          0.20566970213445862,
          0.8336532167225467,
          -0.4814891337172603,
          -5.271523656323005,
          -4.310829302224852,
          3.3194207031865353,
          -2.384105450777407,
          0.5084668628082554,
          3.3193884076393485,
          0.568294191557982,
          1.8903558657926933,
          2.4116571411523617,
          3.1296465438341325,
          1.4613359720322274,
          -1.9558237825236362,
          2.3022400742760394,
          4.580870416080522,
          0.9011799310134058,
          -1.7505490518146647,
          2.478452760125217,
          2.7357360433376745,
          -1.2583908470782859,
          4.412730797511101,
          0.07961976788034429,
          -2.2773868648774567,
          -1.4649569064697792,
          2.568292665565785,
          -4.690050275631795,
          2.6649183087902992,
          3.0748917856018907,
          5.3516773629889896,
          0.5652947750179231,
          2.8990417739992376,
          -1.824203375130153,
          3.0478400975013322,
          1.9170698812359912,
          -0.5378571465724544,
          0.10290615110566577,
          -1.083660986267589,
          -0.16723058478533376,
          2.688803688177598,
          -0.1291359680181034,
          1.358258433634417,
          0.024442567441792688,
          -0.467618505486783,
          3.6375127298680385,
          0.08869659103727916,
          -2.8481063866470864,
          2.367119217461801,
          5.589768564065817,
          -2.0101179061804166,
          4.241581218781604,
          0.7559084536926521,
          4.236368357858575,
          -0.28564899690440154,
          1.7825805234263925,
          2.6299446106980806,
          2.2257703313312787,
          -1.1921993635193324,
          1.700116574188929,
          0.8432586506217955,
          -1.4207414988114342,
          -4.597964502639115,
          -1.2251681861785213,
          -0.27442751112765895,
          2.3946806984167615,
          7.537025636147276,
          -1.1313083824123122,
          -0.4559377248194095,
          3.7623923365541225,
          7.417774977624482,
          1.0486286072182005,
          0.5520084333375576,
          1.389882304875227,
          0.4621728162826282,
          -0.9337185206248181,
          1.5189315302522366,
          5.005742885746954,
          -0.8555325481029011,
          -19.14979022643126,
          -6.8827714102856,
          -15.959078418371876,
          -19.13048408560096,
          -2.3283343817539452,
          -7.973040540419409,
          4.266759220994366,
          -2.248141670570866,
          2.912166943312093,
          -7.581906047894705,
          -11.192684761827612,
          4.2314827430817665,
          -18.3348874830045,
          -2.1474105133272907,
          1.5139525998082766,
          -22.89456223963134,
          4.408725107824461,
          -13.824732332254845,
          -11.812433066726689,
          -11.463239517593978,
          -4.236491583192434,
          -7.826620694755464,
          3.174841344881319,
          -13.043241615550727,
          -15.30508648049572,
          -11.394694731958767,
          -11.47512372534544,
          -6.5561981281668595,
          -16.377741573196488,
          -16.611908844665415,
          -20.11527072840639,
          -7.418202647313569,
          -5.0103132210543535,
          1.3708370645440033,
          -16.888597806233406,
          -8.468169171067172,
          -14.028817546863419,
          -19.085671844724086,
          -14.372360688464752,
          -16.702926249108636,
          -17.242241966639728,
          -9.141149526945357,
          -0.15896078902134259,
          -11.489567740845374,
          0.1560569639866123,
          -16.04320632651172,
          -16.842294425578118,
          -12.216514132058872,
          -15.8327546146928,
          -7.956064083624585,
          -17.24706585472184,
          -17.922602170792725,
          -5.9563719232152605,
          -15.911328291915074,
          8.08111453720656,
          -3.915163436263155,
          -2.47496571331627,
          -9.645021317749151,
          -7.9749489843209105,
          4.280467988454216,
          -4.317932536136567,
          4.376513146482676,
          -9.381949277894853,
          -8.503893336153869,
          -17.0276412891585,
          -18.454139093970984,
          -0.30592436074791,
          3.065050337117004,
          1.11291549874569,
          -2.3029837906931134,
          4.020336248755091,
          -8.456640120455338,
          -10.547886192674698,
          -0.6851081516360147,
          -19.279731888484214,
          -21.921791903065326,
          -9.653482376425764,
          -9.812364061193458,
          3.3996282098813366,
          5.943545671285027,
          5.626710379859862,
          -3.603876617631683,
          -13.658339160390419,
          -11.219284714304877,
          -9.685473902869518,
          -4.236855492008853,
          -5.483823065596087,
          2.78992393005896,
          2.8279452114850847,
          9.667703051015051,
          -3.7024471476950365,
          -12.407603827948975,
          4.17800740431175,
          2.22681041569617,
          -0.6813409539584243,
          3.173904264205889,
          -6.385256154022036,
          -6.328139391682375,
          -0.025181454680570217,
          -2.0823370047129037,
          4.878401529876048,
          2.03551182204254,
          -0.18173037247446588,
          5.739694223537605,
          1.9077688487748852,
          -9.324604001624097,
          -2.627500057530373,
          2.4821703737699226,
          0.8195121487015191,
          2.497729783375248,
          0.7393580268243339,
          8.186745624369062,
          -8.088724171352307,
          -8.947275870280421,
          -0.514934592201143,
          -14.752449901063565,
          -14.000083726945133,
          -10.427958698143506,
          -15.945664282874148,
          -3.2208302848349675,
          -12.8142093432774,
          -12.276985520070149,
          -11.207416493782093,
          -12.243452614436645,
          -18.319722059219615,
          -10.498222264811545,
          -16.228041116062354,
          3.2372798956752176,
          -14.381817364895346,
          -9.166405028128185,
          -17.287187480282206,
          -15.012595279941161,
          -10.271507796576527,
          -4.136931719215639,
          -16.022656102893215,
          -10.043511853737005,
          1.1709364750224998,
          -20.399822080035435,
          -17.837890442102008,
          -7.545562007895382,
          -11.017536796602196,
          -5.141579019502649,
          -11.14589641624635,
          -5.28324580639485,
          -7.965025857851891,
          -16.880349427708243,
          -3.201102456961483,
          -12.033228956015169,
          -12.110748271674229,
          -1.1067296092150276,
          -7.378784228798127,
          -9.393532351278013,
          -12.665873844675108,
          -10.372765699175382,
          -4.861880560484975,
          -13.294553688182589,
          -5.867445305535225,
          -21.55200582234965,
          -14.703184689072549,
          -9.460807187923805,
          3.8575484096756676,
          -1.0367287268806022,
          -14.722675039246848,
          -9.2613003187213,
          -11.103969349051273,
          -13.483257916707519,
          -18.622694842964908,
          -23.350792464057,
          1.4862198068299788,
          -6.896029124635746,
          2.6779824017306155,
          6.614025797189207,
          1.3836577231880343,
          -18.305905614749822,
          -9.728875411410629,
          -19.102470125081766,
          -6.030652247568178,
          -18.269168570542856,
          -6.981086460167323,
          -15.711189301950334,
          3.4253562066007177,
          -2.054751868020925,
          -17.909091968989852,
          -0.31067027142501474,
          -6.211633602310603,
          -8.1230643533948,
          -3.505145367598131,
          2.7830992616495274,
          -3.499255579205323,
          2.1202191891141675,
          -3.154391959115095,
          2.697472549594105,
          -0.7482715789485707,
          1.9999082257334047,
          4.778583742726306,
          -3.9843308970363376,
          -3.340955744232316,
          -8.640162434728069,
          -11.839947454785714,
          -4.577973915903848,
          -5.707940895894334,
          -10.658726104717502,
          -4.951565766562351,
          -15.623911085395385,
          -0.35579606697581245,
          -4.986896899230696,
          -1.6360465417856347,
          1.687859680964392,
          4.55211431244413,
          2.5366984259081393,
          -7.242248487234968,
          -0.0030486793943620793,
          -11.88739079334642,
          -11.989718764528043,
          4.252981259202926,
          6.202681231704489,
          -4.477330893838257,
          4.450914236564789,
          1.3668973952553134,
          -0.596938791953659,
          -1.6579149594735354,
          -17.61275465309099,
          2.917173808322943,
          2.537262364584467,
          2.6195081855878026,
          -6.096611343852431,
          0.8554620852855744,
          -0.294049790093572,
          0.5104289311364444,
          -3.4681400372873257,
          -0.6138613862936149,
          -14.114439174632954,
          -13.842370709167753,
          -13.162918280225401,
          -3.194863321005172,
          -3.3311430584312824,
          -0.952013751193067,
          -11.744766355803984,
          -14.378997571888489,
          -13.103327391682598,
          -15.104101825797889,
          -18.503799468786788,
          -5.745163317267542,
          -15.640065194268303,
          -11.450283849320838,
          -4.501977407217174,
          -9.762951110600888,
          -18.214423184701545,
          5.266054339557384,
          -17.76622529417317,
          -6.140286954862441,
          -13.024866253191863,
          -22.018345389902915,
          -3.0772770255971125,
          -2.6586070555862373,
          -10.672239545561899,
          -17.87813979803005,
          -3.2258251915064786,
          -16.53739352785422,
          -15.391462150172124,
          -10.864696964367957,
          -6.249031719940839,
          7.172243157811469,
          -11.922306996750937,
          -0.5871445750090977,
          -13.10595093715173,
          2.399522183333752,
          -16.172245672008167,
          0.8423405467742934,
          -17.28744000133964,
          -8.181363153299474,
          0.2260821653840849,
          -1.8503111425981762,
          -6.375343389068208,
          -18.65349367845031,
          -17.29312452427317,
          -1.866086960474294,
          -2.0714851021492713,
          -8.860601429996347,
          -14.019730645647238,
          -16.32398399204907,
          0.3005780816805203,
          -1.1184594901271019,
          -20.253149903505513,
          -12.927591692738652,
          -17.13157597306738,
          -10.753457159848868,
          -11.857502334707629,
          1.0680070996654576,
          -0.1687405503516341,
          -4.151124899452944,
          -13.37025962572959,
          -2.487878855067683,
          1.7547456345019232,
          -4.654611018533833,
          -9.338555127456557,
          4.613432443697317,
          -11.973197803750079,
          -0.5977701594664008,
          -8.006285723479724,
          -13.469952473088277,
          -1.4675503033996253,
          -7.623662111890827,
          -6.056683055909139,
          -7.987342754723439,
          -17.56488381095772,
          -1.0652232556812045,
          -1.1632591859851,
          0.10181311098857827,
          3.4931285262225895,
          -0.7163903550546571,
          -9.843600388892444,
          2.8495714831443597,
          -15.601972977386161,
          -8.925814950559806,
          -19.084835686614532,
          0.04747507803369423,
          0.08461763645575306,
          1.2058790795417598,
          -1.4674108382616813,
          0.21914460658269277,
          4.412571561162094,
          1.6453568146749016,
          -0.97594988532287,
          -8.933871213738023,
          1.9409149821009324,
          2.6662376278127455,
          -3.431107407089943,
          1.685228412574285,
          -12.129614611104234,
          -9.362892237143654,
          -1.9375859809639022,
          1.0813538147785238,
          -2.6221316735797044,
          -8.07593687012453,
          -4.779587619982796,
          -1.1449161329233633,
          -10.820678690404314,
          -2.935452611151194,
          -5.330157317406355,
          -12.248276374564455,
          -6.765676897628026,
          -16.171547438480296,
          -12.326986334230618,
          -11.958902594474285,
          -8.165205281731865,
          -11.185837680995787,
          -9.19984425433957,
          -5.816999467330496,
          -14.82502208449041,
          -11.064222506022425,
          -12.305930345750987,
          -3.4358600785131403,
          -18.68836460891042,
          -6.921903919853395,
          0.5631009749902365,
          -13.954236476426395,
          -12.232639335929495,
          -10.37528658415254,
          -16.868166794808793,
          -10.88362160436315,
          -14.89214686450726,
          -19.094081544363327,
          1.4276996874214942,
          -6.289073457597588,
          -10.762793569820625,
          -15.132354785534943,
          -15.444137916377452,
          -8.861263628488988,
          -13.681458838011329,
          -7.521179655522092,
          -13.615590607844513,
          -8.786429852644753,
          -10.452318450654628,
          0.04073965929398736,
          -0.13418730597038156,
          -12.796279275542096,
          -0.23962074109022546,
          2.8899289402601656,
          0.17836537081563028,
          1.5046723775541442,
          5.376221376457396,
          -2.871028252581816,
          -1.4400248530777182,
          -11.052466858501347,
          2.616081374306561,
          -11.335472175220653,
          -3.4462842911184133,
          -12.39407251244342,
          1.2420330248435498,
          1.80157019846644,
          -12.806767146743352,
          -9.252748485961208,
          -10.017677779679758,
          -2.4129083851298683,
          -8.938084003800475,
          -5.458955633440466,
          0.7227123858744277,
          -14.261205984034767,
          -7.605042665449422,
          -15.068053845762874,
          -2.301759293066052,
          -11.21705940053324,
          -17.87666472950307,
          -8.468807378813066,
          0.27772945341363947,
          -16.809709485083822,
          -11.420354673130673,
          -9.2181637624898,
          -17.744316572335382,
          -13.116779946366567,
          0.29939212343501714,
          -0.49650008491536723,
          -15.503621360983068,
          -5.005466067692866,
          -18.88705614442379,
          2.6039010259150848,
          1.8112528156676986,
          -13.178790575287234,
          5.8026681282986745,
          0.6561693804101095,
          -0.2037340486363941,
          -0.3443625256793929,
          4.845205090111178,
          -5.78928594323312,
          -1.4609320789451827,
          -2.9332582408928296,
          -15.868919856219623,
          -8.920708321575063,
          -0.3915975392275233,
          -5.94195076443595,
          3.0223170675879407,
          -0.891336584822598,
          5.932978942348478,
          -8.523651438792436,
          -10.034339326331338,
          -0.9058350166630366,
          -12.750900634278885,
          -8.10172917980862,
          5.471186598263904,
          -9.929435823907681,
          -11.555074273607152,
          -8.493043223166099,
          6.096915369327935,
          -6.011099850029292,
          -7.341413539134516,
          -9.072528355180115,
          -5.557240759069565,
          -16.532125569765938,
          -7.928629633222326,
          0.3742922185570806,
          -3.019928865528873,
          -9.49560552649199,
          -3.9984258992389026,
          -1.9465379159646563,
          -2.3873376514105917,
          -2.7800512204520484,
          -10.77801376623819,
          -0.9913028730215144,
          -1.5833206422223192,
          -16.235174145496188,
          -9.628799231146669,
          -17.07974116049562,
          -3.164283071635212,
          7.131168275322257,
          -2.2961612920626084,
          3.002137516424512,
          6.647418115649572,
          -6.239106762243062,
          -13.595781979787336,
          -10.139252408596743,
          -2.3833324799789097,
          -7.677377480798687,
          -0.4459778887042543,
          2.0461089993685837,
          6.726543153897578,
          2.8554050724738933,
          -8.569000695516934,
          -4.940589971248172,
          -1.7465280717543623,
          -11.1369414700794,
          -0.3979181581324926,
          -8.682242482721126,
          -4.228922854993056,
          -0.35327213433893623,
          3.7215656628313822,
          -8.455868520644382,
          1.1850891791612672,
          -1.150546161577817
         ],
         "y": [
          -1.1706133313846845,
          0.7673012396049765,
          0.17657219892855675,
          0.8487271591436903,
          -0.9497667142205304,
          4.363761879071388,
          1.2952796995438753,
          7.124963710775395,
          -4.498833968589778,
          6.321565517194442,
          4.384288298394352,
          1.0443334041198626,
          1.2420628344850007,
          -2.7066963751321267,
          -0.613751519819362,
          -3.3761695531410645,
          -4.3006826757557,
          -0.08723677444457807,
          2.1047676733101697,
          0.4201326716231859,
          -1.4969587125475465,
          4.614603122165022,
          0.3776087955350279,
          1.1130414778104516,
          3.8921084688978684,
          0.575991749033651,
          0.11900082316345093,
          1.677254801041827,
          6.587947529048631,
          4.33584257269204,
          -0.5379080826705617,
          -4.063566199058153,
          2.3517338851714733,
          -0.20766552232930266,
          2.77145965272388,
          0.12314911239945887,
          5.810254895284022,
          2.029270060864003,
          1.2954387047221376,
          -2.2800662477224534,
          5.4207510165699775,
          -2.635809552691169,
          -5.926407334222555,
          -0.6944485860961792,
          -1.936675556712817,
          2.7227905346463457,
          7.167392646884881,
          4.365716873868032,
          2.9321647300800864,
          -1.4857945197289992,
          4.180790917706675,
          2.2020369547835643,
          -2.742735064308275,
          5.979054264216318,
          -1.9496199388272244,
          10.927601058499619,
          3.7378870062449825,
          7.392345587027764,
          1.009020836995186,
          3.2644429974855513,
          2.7655887620205815,
          -6.449946302915585,
          0.5697733286526512,
          2.0257762395383176,
          1.6068736918507944,
          -0.7431622270741282,
          3.139473471078299,
          -6.37294654616638,
          3.2993323103620846,
          0.9604694550622531,
          4.204567206298236,
          -4.8331556813215055,
          3.5181410320969997,
          -0.2289055234293186,
          -1.5189958998311222,
          3.0436521434796573,
          0.8881418559642592,
          2.7822538616838117,
          0.1212163589633161,
          -4.851423834631977,
          -0.39584430454670766,
          2.437555318015513,
          3.0447201509882125,
          2.8903228736720687,
          2.7944230271898656,
          1.6578177198965447,
          -0.0115840695856823,
          5.188033703139142,
          -3.0634242287761855,
          -3.330029950098534,
          0.5082149317637266,
          0.8026950317655456,
          -5.063568973393866,
          0.8874774725124998,
          0.3305394148649119,
          1.3271981349215343,
          0.3970054761829927,
          -3.3678819083506943,
          3.2708608522262352,
          -2.3926074185368735,
          -1.849475418101082,
          -3.2624011408212583,
          1.5323153599708792,
          -1.217379723286115,
          0.5294844463833441,
          -1.1031259577692791,
          -1.7108908017023492,
          -2.3987405182556945,
          5.443364204187655,
          1.079472628958897,
          2.2351380000105467,
          2.647687813040247,
          -1.1088857360419684,
          1.2372002235187058,
          1.1879333554138718,
          -1.2688236508581854,
          0.18440428245341348,
          -0.790552193242829,
          3.851534251068648,
          -3.836010948549227,
          0.8187898684446966,
          -3.486314083965169,
          0.8922477549918916,
          -1.3253138880436812,
          1.5218397172540081,
          1.026364370076718,
          2.118856202744457,
          0.31277387127242245,
          3.6281484737434386,
          2.9045043002191315,
          1.9184190049467,
          5.785007740278484,
          -0.2021615733947081,
          2.182717916871638,
          2.611947212590994,
          5.525528876454996,
          -0.07313391252574172,
          -0.33293635266575,
          -1.9112580014958052,
          3.282459137361972,
          0.9068756835308679,
          0.395189014332866,
          2.6798703788746683,
          1.0557044688669823,
          8.717052166807656,
          5.651402178359865,
          4.336773285550238,
          0.873139016932038,
          11.353578097552841,
          0.20481529121861888,
          3.655907232357755,
          3.8992291039006144,
          1.1066805413070686,
          6.113454229348246,
          10.602857295634507,
          6.335456335881363,
          2.2790728626842522,
          3.1921278752491036,
          3.5478245890130333,
          2.570160270346928,
          0.33942289032821965,
          -7.654880927482339,
          9.635182180779172,
          5.011341643188458,
          6.6734954655889895,
          9.846437354598608,
          2.0246222292191325,
          11.36691401336678,
          4.709376299159856,
          0.5847371075730228,
          5.320315816865019,
          1.6550858287956054,
          3.3020663740625267,
          3.7052079977612693,
          0.7222247326995725,
          13.58491953944247,
          3.006900597349638,
          1.4431212201373045,
          3.8758490725527057,
          4.465127828702387,
          9.758013776000247,
          -1.223302730639994,
          3.0990658450552333,
          6.687254642184943,
          0.11741759127829851,
          -2.534081588391497,
          7.830555169205464,
          5.484637030000828,
          4.560739159733755,
          5.412978996611266,
          3.967214398024077,
          7.674067247589373,
          5.148820109627985,
          7.548874201569761,
          6.467348870274793,
          1.6950323134204741,
          1.3756722549101088,
          0.03977247409000342,
          6.74595603367015,
          4.565680601520919,
          1.2446436245814703,
          4.233305741090916,
          6.44380061352168,
          4.471780363467814,
          7.9002486765753215,
          4.847951296175447,
          2.2633892752644154,
          1.4699772931188113,
          2.6801834711236463,
          4.54405841838967,
          1.9223217145084535,
          2.14735020538325,
          -0.7533362981734645,
          1.6540960537563154,
          2.9085111827617465,
          7.128424955566617,
          5.194084898565172,
          7.880646819873437,
          0.31949756902208043,
          2.3590919396852215,
          -0.09643499268691441,
          3.9759829463734677,
          4.430215169158512,
          4.595802534612211,
          6.132154086988559,
          -1.7385804267165978,
          -1.2958575735797693,
          6.70516239499575,
          6.478252605494545,
          6.56200765712938,
          5.684569431845774,
          3.054925881650749,
          1.9809290382888955,
          8.123216414708743,
          6.7846385760948875,
          1.3311193844325766,
          7.001603455582209,
          4.8027316241996605,
          -2.8191433357475284,
          4.557934338114129,
          3.468156686172134,
          3.604825111373264,
          0.40736544166903776,
          -1.334393592693683,
          4.462837945992913,
          3.0208214366017976,
          3.3285277072824595,
          3.053544086752237,
          6.012380660923826,
          2.2182040918631563,
          -4.569946628946032,
          1.1397614514174634,
          -2.4667783173962192,
          0.25152448846145936,
          2.2031343921296904,
          8.073444699465401,
          5.510666943413708,
          0.08214488688372745,
          5.428641728874957,
          11.039969231792796,
          10.03955143560753,
          5.119029027365888,
          1.0070897015695275,
          6.659022049989441,
          2.783243222785703,
          5.808011412163271,
          7.134927610507295,
          9.914103073228217,
          0.10039706881592869,
          2.315047190743696,
          6.549838781842881,
          6.167255779660799,
          2.105712904641844,
          -5.334559572724311,
          7.3089249207867635,
          8.086005209257271,
          6.090182431905363,
          6.976678446656987,
          6.648309363856188,
          3.97385535680967,
          3.1240749484045507,
          1.5064928876354104,
          1.9902640132851617,
          9.028643813488411,
          1.2381639232661072,
          2.965843203227945,
          3.348302172027152,
          4.018983774169932,
          8.082626654266159,
          0.3553286401275004,
          0.20466979706508936,
          11.426957665855731,
          1.7713000727627621,
          -4.790188557018162,
          7.15204659411658,
          2.9186166121626815,
          8.033906397646515,
          7.4735396805091465,
          7.723898605154086,
          1.305114313096058,
          5.323573563139696,
          4.3237397642844835,
          2.499987018705743,
          -0.1281793977308133,
          4.883487728788768,
          2.7774256332480958,
          7.477386339333394,
          7.5380758740068865,
          6.59555956325306,
          7.507025934543239,
          0.09036088746055186,
          4.155822603384372,
          1.8882126555535066,
          7.791290652770696,
          5.488183369962102,
          6.724303147908986,
          5.121592132613595,
          1.8262504586023667,
          7.450798493259132,
          4.37967622129584,
          3.191970279500238,
          3.136068005590417,
          4.139534290410553,
          5.026745214469633,
          4.660012372956754,
          2.8118590505477306,
          -2.6233853972460834,
          3.3329161637181706,
          7.866513474049633,
          7.6884958647866375,
          7.906861134738234,
          -1.504406465265941,
          2.5824752348519713,
          -0.4427324148988645,
          4.2859329823169565,
          6.433225345332555,
          4.474869980285185,
          -2.3813622882823102,
          5.089624942628959,
          0.8317235996056169,
          1.2882821607311743,
          6.351751230372304,
          4.379515993823441,
          5.73674884077003,
          1.6621951296716075,
          1.0450269229460623,
          8.873245685053591,
          4.941088095680371,
          -0.1630223645858137,
          2.8444189237577664,
          7.937583063688197,
          0.801905428958566,
          5.065093315072278,
          2.4676354443312176,
          5.890837612513176,
          -5.235045957070716,
          2.773780602452912,
          5.731258579167991,
          3.5047741890472923,
          9.424024084160378,
          5.123929378853899,
          4.774937075670726,
          -1.1436930454219085,
          -1.2075860071506188,
          -0.6914101338337696,
          2.1383909954933147,
          2.5416320729388624,
          -1.6358388868790832,
          6.000061772137205,
          6.125220130445936,
          -3.646793774586493,
          1.4369604982385722,
          0.2391170893993286,
          13.625632737097476,
          7.7232157655658025,
          11.34730121562213,
          4.616921016897349,
          3.85187008952126,
          9.169149263696688,
          5.638804296222271,
          3.618473235144849,
          11.75075168705613,
          4.7024723415508705,
          2.2913676240866088,
          10.070185362411387,
          3.3547720748686616,
          -6.013899589731896,
          6.418945578050377,
          8.562955314547306,
          8.348514553017468,
          7.4568250036549,
          7.763385696044498,
          7.3864379091152825,
          4.375542933315028,
          4.110535582626563,
          4.597717793591401,
          2.1450143288479433,
          8.56530601907677,
          0.746643018270557,
          4.128018628588081,
          5.569713802987751,
          9.125683813072301,
          -1.1034145308591288,
          7.484178095349322,
          -0.08069382821340798,
          6.614447246197588,
          6.76921582361495,
          5.1375477024835785,
          0.4578196786017854,
          8.77027167387706,
          2.9429534169110387,
          3.4457387941778026,
          4.429294308093155,
          7.624532745666759,
          -0.3135687631567388,
          4.300559320656276,
          -4.469887196228269,
          10.570846198520139,
          4.3880300092761635,
          7.69270669745919,
          3.174804298973019,
          3.569533802953704,
          0.7000711069074036,
          4.593174932740223,
          6.533430933515614,
          4.293419663470011,
          5.130239731858658,
          5.439293020122668,
          8.225699370108327,
          6.042757600993902,
          4.552426929957048,
          3.3030071904170866,
          3.878193551189729,
          6.138455281399142,
          3.042136642092995,
          -0.793048277305162,
          1.1950650848197233,
          4.252347583315119,
          2.870920139406272,
          0.16902259298947853,
          2.4354388195457735,
          3.5452649899070914,
          0.9220267057171129,
          6.705941633132901,
          1.0249899161237102,
          2.9043391390993,
          8.837731169600769,
          3.8144976429442963,
          1.6202877716637114,
          1.1139526245951459,
          3.319990664565577,
          5.714352726626649,
          1.6238135695857177,
          5.960821689405093,
          1.3637428811809518,
          4.544375743321349,
          5.240370152192236,
          2.3047571398522697,
          8.090854296427421,
          3.29874124380531,
          2.5522971641835235,
          3.9586016248847926,
          5.630801371912332,
          -2.719462575182573,
          -2.6539592603992963,
          6.896943553243243,
          3.6544769419119443,
          -3.958118442988638,
          9.549105433123676,
          1.505003297584964,
          2.1368792522011955,
          6.701624380805868,
          0.15785306975722582,
          2.9598187806073937,
          5.415265452827272,
          5.546730016137775,
          0.3579429572293193,
          2.4091258928782016,
          0.4528183420098591,
          4.072942480053945,
          -2.630462021122222,
          4.426648740102428,
          -1.0962319062309214,
          1.678972801443064,
          3.4568872235736468,
          2.8301308335619875,
          3.806510418331255,
          0.8111365192654878,
          6.657611384838716,
          11.646907972583097,
          9.237699982208394,
          10.173729784643033,
          7.450265665891983,
          8.65666836220809,
          10.776506170886433,
          6.053361738959604,
          -0.9419194603602018,
          1.209641184329657,
          6.4722204391148,
          -5.61777538523294,
          9.8677127193118,
          7.377019938916407,
          2.5463736935146404,
          4.690386800631339,
          3.1805466175354575,
          8.95315773701134,
          3.6311280714908225,
          3.959873385610185,
          3.9768872559414015,
          9.019172807927731,
          8.44563790961215,
          -0.4099200500388125,
          6.722021397513778,
          4.495907917397094,
          8.087251961800858,
          7.92980143656939,
          2.967709684087481,
          6.209891205269704,
          2.644814230314976,
          3.5950552473874278,
          9.56821848484086,
          -1.7735024391822727,
          1.7372596051714666,
          0.3673531413946532,
          -0.3708378815501854,
          2.288255551338317,
          4.265757014285544,
          4.784094966775828,
          4.93809892743124,
          1.763866003500368,
          1.837292463908614,
          4.419388146601805,
          0.5478421444475619,
          -0.29045952588765755,
          3.3536510207150663,
          0.02424300959235516,
          6.958086405672171,
          12.62945034332644,
          3.044912033665623,
          12.64258613131827,
          8.248487554049786,
          -1.325671138860876,
          4.729256610042211,
          5.527704191359087,
          5.89381507852559,
          3.0975876548749377,
          0.8963566408628184,
          2.8994472169664967,
          4.767929447621911,
          5.908915617244538,
          4.475020883422772,
          12.808150214455924,
          8.208381943463836,
          0.7704969278444073,
          10.361401877189575,
          0.1730847540527604,
          5.191309016289842,
          8.323437727327033,
          4.581906678315766,
          8.211112261044823,
          2.1906004919364532,
          2.4912419656896803,
          9.334534336806284,
          6.945545200308377,
          3.419891848328768,
          4.9804592344850285,
          3.8037977741235585,
          1.6280126583685544,
          3.092641068514421,
          6.019847994096393,
          4.3765658338593125,
          -0.1379890017957294,
          7.558717662395559,
          6.186843196455865,
          4.913966048432116,
          2.468623557516805,
          4.885283682389361,
          2.8733447042997615,
          3.78897084980643,
          5.063042550572085,
          0.952725712512676,
          1.5386848340347536,
          10.473856641016377,
          8.807001769113445,
          6.1070738108295615,
          10.15619384632969,
          1.1103547605098394,
          1.219943754000796,
          8.16362857812161,
          4.598704380129194,
          10.372224178782682,
          5.182811327682623,
          1.3232569073671936,
          1.6685036395123345,
          4.501549757308274,
          6.312948289421335,
          6.607948225765825,
          3.30377172872961,
          6.452081749732779,
          2.8593842045424016,
          4.026876034147022,
          9.526163514785205,
          1.164269474146237,
          4.862418447330955,
          8.736731531327242,
          8.488015616374955,
          9.569841062892143,
          6.242377638472625,
          0.9193588804239082,
          10.725928102011185,
          1.0156208696216453,
          0.41206956869420064,
          6.193757137052711,
          4.637807682032763,
          1.02963201574337,
          2.8439135060183163,
          -0.43448581687909826,
          -0.8677159347072315,
          1.535037937825891,
          1.8996024511004055,
          3.0838266678659854,
          6.714815729417517,
          5.256325039177669,
          3.5736049352885786,
          5.630099817114129,
          3.807514282154673,
          4.203998353869933,
          6.662509442247459,
          1.8318581774252127,
          1.8476122228285734,
          3.890513998867725,
          5.367325229851122,
          4.213523931118288
         ]
        },
        {
         "marker": {
          "color": "green",
          "opacity": 0.4,
          "size": 5
         },
         "mode": "markers",
         "name": "Middle Reliever",
         "text": [
          "Tommy Hunter",
          "Will Harris",
          "Pedro Strop",
          "Michael Pineda",
          "Jesse Chavez",
          "Dellin Betances",
          "Chris Archer",
          "Chase Anderson",
          "Craig Stammen",
          "Preston Guilmet",
          "Jay Jackson",
          "Nick Vincent",
          "Tanner Roark",
          "Kyle Gibson",
          "Juan Minaya",
          "Vince Velasquez",
          "A.J. Cole",
          "JosA© UreA±a",
          "Taijuan Walker",
          "Colin Rea",
          "DJ Johnson",
          "Jerad Eickhoff",
          "Adrian Houser",
          "Dylan Bundy",
          "Joe Musgrove",
          "Colten Brewer",
          "Joe Biagini",
          "Jesse Hahn",
          "FA©lix PeA±a",
          "Brandon Brennan",
          "Clay Holmes",
          "Corey Oswalt",
          "Robert Gsellman",
          "Alec Mills",
          "Michael Wacha",
          "James Hoyt",
          "Chi Chi GonzA¡lez",
          "Duane Underwood Jr.",
          "Keone Kela",
          "Zack Godley",
          "Yacksel RA­os",
          "Luke Farrell",
          "Drew Anderson",
          "Ashton Goudeau",
          "Justin Topa",
          "Wander Suero",
          "Keury Mella",
          "Zach Thompson",
          "Jake Reed",
          "Jesus Tinoco",
          "Reynaldo LA3pez",
          "Brent Honeywell",
          "Dan Altavilla",
          "Dusten Knight",
          "Trevor Williams",
          "Trevor Hildenberger",
          "Sean Reid-Foley",
          "Jack Flaherty",
          "Marcos DiplA¡n",
          "Justin Lawrence",
          "Drew Smith",
          "Ian Gibaut",
          "Cody Ponce",
          "Trent Thornton",
          "Cody Stashak",
          "James Kaprielian",
          "Eric Hanhold",
          "Jaime Barria",
          "Thomas Eshelman",
          "Phil Bickford",
          "Jake Woodford",
          "Freddy Peralta",
          "Miguel DA­az",
          "Beau Burrows",
          "Kyle Keller",
          "Zack Burdi",
          "Seranthony DomA­nguez",
          "Thomas Hatch",
          "Edgar GarcA­a",
          "Cal Quantrill",
          "Daulton Jefferies",
          "Tony Gonsolin",
          "Dane Dunning",
          "Michael Rucker",
          "Jason Foley",
          "Jimmy Lambert",
          "JD Hammer",
          "Sean Poppen",
          "Jordan Hicks",
          "Will Vest",
          "Justin Garza",
          "Keegan Thompson",
          "Michael King",
          "Brandon Bielak",
          "Griffin Canning",
          "Drew Carlton",
          "Gabe Klobosits",
          "Corbin Martin",
          "Tony Santillan",
          "Trevor Stephan",
          "John Schreiber",
          "Darren McCaughan",
          "Ronald BolaA±os",
          "Chris Paddack",
          "Ty Tice",
          "Zach Pop",
          "Mike Baumann",
          "Griffin Jax",
          "Cory Abbott",
          "RamA3n Rosso",
          "AndrA©s MuA±oz",
          "Antonio Santos",
          "Nick Sandlin",
          "J.C. MejA­a",
          "Jordan Holloway",
          "Oliver Ortega",
          "Humberto Castellanos",
          "Andre Jackson",
          "Reiss Knehr",
          "Elvis Peguero",
          "Angel RondA3n",
          "Paul Campbell",
          "Dylan Coleman",
          "Johan Oviedo",
          "Carlos HernA¡ndez",
          "Luis PatiA±o",
          "Spencer Howard",
          "Nick Snyder",
          "Randy Dobnak",
          "Josiah Gray",
          "Jonathan Stiever",
          "Andrew Wantz",
          "Drew Rasmussen",
          "Spencer Strider",
          "Tommy Hunter",
          "Jesse Chavez",
          "Chase Anderson",
          "Fernando Cruz",
          "Craig Stammen",
          "Jay Jackson",
          "Juan Minaya",
          "Casey Lawrence",
          "Vince Velasquez",
          "JosA© UreA±a",
          "Adrian Houser",
          "Mike Clevinger",
          "R.J. Alvarez",
          "Clay Holmes",
          "Tayler Scott",
          "Robert Gsellman",
          "Alec Mills",
          "Dereck RodrA­guez",
          "Chi Chi GonzA¡lez",
          "Duane Underwood Jr.",
          "Trevor Gott",
          "Luke Farrell",
          "Collin Wiles",
          "Ashton Goudeau",
          "Justin Topa",
          "Zach Thompson",
          "Jake Reed",
          "A.J. Ladwig",
          "Jesus Tinoco",
          "Reynaldo LA3pez",
          "Yonny Chirinos",
          "Dusten Knight",
          "Trevor Williams",
          "Sean Reid-Foley",
          "Jack Flaherty",
          "Marcos DiplA¡n",
          "Justin Lawrence",
          "Jose Cuas",
          "Drew Smith",
          "Ian Gibaut",
          "Trent Thornton",
          "Cody Stashak",
          "Jaime Barria",
          "Phil Bickford",
          "Anderson Espinoza",
          "Jake Woodford",
          "Freddy Peralta",
          "Miguel DA­az",
          "Seranthony DomA­nguez",
          "Ian Hamilton",
          "Cody Sedlock",
          "Michael Rucker",
          "Jason Foley",
          "Jimmy Lambert",
          "Sean Poppen",
          "Jordan Hicks",
          "Jason Alexander",
          "Matt Swarmer",
          "Will Vest",
          "Jacob Lemoine",
          "Keegan Thompson",
          "David McKay",
          "Michael King",
          "Brandon Bielak",
          "Drew Carlton",
          "Corbin Martin",
          "Tony Santillan",
          "Trevor Stephan",
          "Tyson Miller",
          "John Schreiber",
          "Ronald BolaA±os",
          "Zach Pop",
          "Mike Baumann",
          "Griffin Jax",
          "Cory Abbott",
          "Erich Uelmen",
          "AndrA©s MuA±oz",
          "Nick Sandlin",
          "Phoenix Sanders",
          "J.C. MejA­a",
          "Jordan Holloway",
          "Elvin Rodriguez",
          "Oliver Ortega",
          "Nick Duron",
          "Humberto Castellanos",
          "Andre Jackson",
          "Nicholas Padilla",
          "Sean Hjelle",
          "Reiss Knehr",
          "Elvis Peguero",
          "Javier Assad",
          "Max Castillo",
          "Angel RondA3n",
          "Easton McGee",
          "Dylan Coleman",
          "Johan Oviedo",
          "Carlos HernA¡ndez",
          "Spencer Howard",
          "Collin Snider",
          "Nick Snyder",
          "Brayan Bello",
          "Ronny Henriquez",
          "Josh Winder",
          "Andrew Wantz",
          "Garrett Hill",
          "Cody Morris",
          "Nash Walters",
          "Yennier Cano",
          "Bryan Hoeing",
          "Spencer Strider",
          "Tommy Hunter",
          "Zach McAllister",
          "Jesse Chavez",
          "Chase Anderson",
          "Fernando Cruz",
          "Jay Jackson",
          "Michael Tonkin",
          "Michael Mariot",
          "Casey Lawrence",
          "Colin Rea",
          "Adrian Houser",
          "Colten Brewer",
          "Matt Carasiti",
          "Clay Holmes",
          "Tayler Scott",
          "Alec Mills",
          "Dereck RodrA­guez",
          "Chi Chi GonzA¡lez",
          "Duane Underwood Jr.",
          "Ben Lively",
          "Yacksel RA­os",
          "Trevor Gott",
          "Justin Topa",
          "Wander Suero",
          "Jake Reed",
          "Reynaldo LA3pez",
          "Yonny Chirinos",
          "Brent Honeywell",
          "Brock Stewart",
          "Sean Reid-Foley",
          "Jack Flaherty",
          "Justin Lawrence",
          "Jose Cuas",
          "Drew Smith",
          "JosA© RodrA­guez",
          "Ian Gibaut",
          "Trent Thornton",
          "James Kaprielian",
          "Jaime Barria",
          "Michael Soroka",
          "Phil Bickford",
          "Hobie Harris",
          "Jake Woodford",
          "Miguel DA­az",
          "Zack Burdi",
          "Seranthony DomA­nguez",
          "Ian Hamilton",
          "Thomas Hatch",
          "Nick Hernandez",
          "Dane Dunning",
          "Michael Rucker",
          "Jason Foley",
          "Jimmy Lambert",
          "Jordan Hicks",
          "Will Vest",
          "Justin Garza",
          "Keegan Thompson",
          "Michael King",
          "Brandon Bielak",
          "Griffin Canning",
          "Drew Carlton",
          "Tony Santillan",
          "Trevor Stephan",
          "Tyson Miller",
          "John Schreiber",
          "Darren McCaughan",
          "Chris Paddack",
          "Zach Pop",
          "Mike Baumann",
          "Griffin Jax",
          "Cory Abbott",
          "Erich Uelmen",
          "AndrA©s MuA±oz",
          "Nick Sandlin",
          "J.C. MejA­a",
          "Elvin Rodriguez",
          "Oliver Ortega",
          "J.P. France",
          "Tommy Doyle",
          "Andre Jackson",
          "Nicholas Padilla",
          "Sean Hjelle",
          "Reiss Knehr",
          "Luis Medina",
          "Elvis Peguero",
          "Javier Assad",
          "George Soriano",
          "Max Castillo",
          "Dylan Coleman",
          "Carlos HernA¡ndez",
          "Luis PatiA±o",
          "Spencer Howard",
          "Collin Snider",
          "Hunter Stratton",
          "Josh Winder",
          "Randy VA¡squez",
          "Andrew Wantz",
          "Reese Olson",
          "Garrett Hill",
          "Jhony Brito",
          "Cody Morris",
          "Matt Waldron",
          "Levi Stoudt",
          "McKinley Moore",
          "Kevin Kelly",
          "Randy Wynne",
          "Jeff Lindgren",
          "Yennier Cano",
          "Darius Vines",
          "Bryan Hoeing",
          "Alec Marsh",
          "Karl Kauffmann",
          "Davis Daniel",
          "Garrett Acton",
          "Gavin Stone",
          "Emmet Sheehan",
          "AJ Smith-Shawver",
          "Mason Miller",
          "Orion Kerkering",
          "Ross Detwiler",
          "Luis AvilA¡n",
          "HA©ctor Santiago",
          "Derek Holland",
          "Scott Kazmir",
          "Fernando Abad",
          "MartA­n PA©rez",
          "Tommy Milone",
          "Aaron Loup",
          "JosA© Quintana",
          "Jesse Biddle",
          "Alberto Baldonado",
          "Adam Morgan",
          "Brent Suter",
          "Adam Conley",
          "Daniel Camarena",
          "Anthony Banda",
          "Sam Moll",
          "Tyler Webb",
          "Stephen Tarpley",
          "Lewis Thorpe",
          "Sam Howard",
          "Gabe Speier",
          "Justus Sheffield",
          "Justin Steele",
          "Tyler Alexander",
          "Logan Allen",
          "Travis Bergen",
          "Kolby Allard",
          "Miguel Del Pozo",
          "Kirby Snead",
          "Conner Menez",
          "JosA© Quijada",
          "Eric Lauer",
          "Joey Lucchesi",
          "Keegan Akin",
          "Devin Smeltzer",
          "JoJo Romero",
          "JosA© Suarez",
          "Sean Guenther",
          "Kyle Muller",
          "Anthony Kay",
          "Nick Margevicius",
          "Josh Fleming",
          "Jovani Moran",
          "Cristopher SA¡nchez",
          "Francisco PA©rez",
          "Thomas Szapucki",
          "Darien NAoA±ez",
          "Kris Bubic",
          "Tarik Skubal",
          "Packy Naughton",
          "Justin Bruihl",
          "Ryan Weathers",
          "Alex Vesia",
          "Sam Long",
          "Kwang Hyun Kim",
          "Hyeon-Jong Yang",
          "Ross Detwiler",
          "Tommy Milone",
          "Brian Moran",
          "Aaron Loup",
          "Brent Suter",
          "Ty Blach",
          "Anthony Banda",
          "Sam Moll",
          "Sam Howard",
          "Gabe Speier",
          "Justus Sheffield",
          "Tyler Alexander",
          "Logan Allen",
          "Kolby Allard",
          "Kirby Snead",
          "Conner Menez",
          "JosA© Quijada",
          "Keegan Akin",
          "Devin Smeltzer",
          "JoJo Romero",
          "JosA© Suarez",
          "Zach Logue",
          "Anthony Kay",
          "Josh Fleming",
          "Jovani Moran",
          "Kirk McCarty",
          "Cristopher SA¡nchez",
          "Francisco PA©rez",
          "Thomas Szapucki",
          "Bennett Sousa",
          "Kris Bubic",
          "Brendon Little",
          "DL Hall",
          "Matthew Liberatore",
          "Packy Naughton",
          "JP Sears",
          "Justin Bruihl",
          "Evan Lee",
          "Alex Vesia",
          "Cam Alldred",
          "Sam Long",
          "Nate Fisher",
          "Andrew Nardi",
          "Fernando Abad",
          "MartA­n PA©rez",
          "Aaron Loup",
          "Brent Suter",
          "Ty Blach",
          "Anthony Banda",
          "Sam Moll",
          "Gabe Speier",
          "Tyler Alexander",
          "Kolby Allard",
          "Kirby Snead",
          "JosA© Quijada",
          "Matt Krook",
          "Eric Lauer",
          "Keegan Akin",
          "Devin Smeltzer",
          "JoJo Romero",
          "JosA© Suarez",
          "Kyle Muller",
          "Zach Logue",
          "Anthony Kay",
          "Josh Fleming",
          "Jovani Moran",
          "Cristopher SA¡nchez",
          "Francisco PA©rez",
          "Bennett Sousa",
          "Hogan Harris",
          "DL Hall",
          "Matthew Liberatore",
          "Packy Naughton",
          "Robert Garcia",
          "Justin Bruihl",
          "Ryan Weathers",
          "Kody Funderburk",
          "Alex Vesia",
          "Joe Jacques",
          "Sam Long",
          "Andrew Nardi",
          "Brandon Walter",
          "Andrew Saalfrank",
          "Chris Murphy",
          "Anthony Veneziano",
          "Evan Justice",
          "Tommy Hunter",
          "Michael Pineda",
          "Jesse Chavez",
          "Chris Archer",
          "Chase Anderson",
          "Craig Stammen",
          "Jay Jackson",
          "Tanner Roark",
          "Kyle Gibson",
          "Vince Velasquez",
          "JosA© UreA±a",
          "Taijuan Walker",
          "Jerad Eickhoff",
          "Adrian Houser",
          "Dylan Bundy",
          "Joe Musgrove",
          "Corey Oswalt",
          "Robert Gsellman",
          "Alec Mills",
          "Michael Wacha",
          "Chi Chi GonzA¡lez",
          "Zack Godley",
          "Luke Farrell",
          "Drew Anderson",
          "Ashton Goudeau",
          "Zach Thompson",
          "Jake Reed",
          "Reynaldo LA3pez",
          "Brent Honeywell",
          "Trevor Williams",
          "Jack Flaherty",
          "Drew Smith",
          "Cody Ponce",
          "Trent Thornton",
          "James Kaprielian",
          "Jaime Barria",
          "Thomas Eshelman",
          "Jake Woodford",
          "Freddy Peralta",
          "Miguel DA­az",
          "Beau Burrows",
          "Thomas Hatch",
          "Cal Quantrill",
          "Daulton Jefferies",
          "Tony Gonsolin",
          "Dane Dunning",
          "Jimmy Lambert",
          "Keegan Thompson",
          "Michael King",
          "Brandon Bielak",
          "Griffin Canning",
          "Corbin Martin",
          "Tony Santillan",
          "Darren McCaughan",
          "Chris Paddack",
          "Griffin Jax",
          "Cory Abbott",
          "J.C. MejA­a",
          "Jordan Holloway",
          "Humberto Castellanos",
          "Reiss Knehr",
          "Paul Campbell",
          "Johan Oviedo",
          "Carlos HernA¡ndez",
          "Luis PatiA±o",
          "Spencer Howard",
          "Randy Dobnak",
          "Josiah Gray",
          "Drew Rasmussen",
          "Michael Pineda",
          "Jesse Chavez",
          "Chris Archer",
          "Chase Anderson",
          "Fernando Cruz",
          "Craig Stammen",
          "Kyle Gibson",
          "Vince Velasquez",
          "JosA© UreA±a",
          "Taijuan Walker",
          "Jerad Eickhoff",
          "Adrian Houser",
          "Mike Clevinger",
          "Dylan Bundy",
          "Joe Musgrove",
          "Alec Mills",
          "Michael Wacha",
          "Chi Chi GonzA¡lez",
          "Duane Underwood Jr.",
          "Luke Farrell",
          "Zach Thompson",
          "Jesus Tinoco",
          "Reynaldo LA3pez",
          "Yonny Chirinos",
          "Trevor Williams",
          "Jack Flaherty",
          "James Kaprielian",
          "Jaime Barria",
          "Jake Woodford",
          "Freddy Peralta",
          "Thomas Hatch",
          "Cal Quantrill",
          "Daulton Jefferies",
          "Tony Gonsolin",
          "Dane Dunning",
          "Jimmy Lambert",
          "Jordan Hicks",
          "Jason Alexander",
          "Matt Swarmer",
          "Will Vest",
          "Keegan Thompson",
          "Corbin Martin",
          "Tyson Miller",
          "Chris Paddack",
          "Mike Baumann",
          "Cory Abbott",
          "Elvin Rodriguez",
          "Humberto Castellanos",
          "Reiss Knehr",
          "Javier Assad",
          "Max Castillo",
          "Johan Oviedo",
          "Carlos HernA¡ndez",
          "Luis PatiA±o",
          "Spencer Howard",
          "Brayan Bello",
          "Josiah Gray",
          "Josh Winder",
          "Andrew Wantz",
          "Garrett Hill",
          "Drew Rasmussen",
          "Cody Morris",
          "Bryan Hoeing",
          "Spencer Strider",
          "Jesse Chavez",
          "Chase Anderson",
          "Fernando Cruz",
          "Kyle Gibson",
          "Vince Velasquez",
          "JosA© UreA±a",
          "Taijuan Walker",
          "Colin Rea",
          "Adrian Houser",
          "Mike Clevinger",
          "Joe Musgrove",
          "Tayler Scott",
          "Michael Wacha",
          "Ben Lively",
          "Yonny Chirinos",
          "Trevor Williams",
          "Jack Flaherty",
          "Jose Cuas",
          "Trent Thornton",
          "James Kaprielian",
          "Jaime Barria",
          "Michael Soroka",
          "Jake Woodford",
          "Freddy Peralta",
          "Miguel DA­az",
          "Ian Hamilton",
          "Thomas Hatch",
          "Cal Quantrill",
          "Tony Gonsolin",
          "Dane Dunning",
          "Jimmy Lambert",
          "Will Vest",
          "Justin Garza",
          "Michael King",
          "Brandon Bielak",
          "Griffin Canning",
          "John Schreiber",
          "J.P. France",
          "Andre Jackson",
          "Reiss Knehr",
          "Luis Medina",
          "Javier Assad",
          "George Soriano",
          "Easton McGee",
          "Dylan Coleman",
          "Johan Oviedo",
          "Carlos HernA¡ndez",
          "Luis PatiA±o",
          "Collin Snider",
          "Brayan Bello",
          "Josiah Gray",
          "Randy VA¡squez",
          "Andrew Wantz",
          "Reese Olson",
          "Drew Rasmussen",
          "Jhony Brito",
          "Matt Waldron",
          "Levi Stoudt",
          "Darius Vines",
          "Bryan Hoeing",
          "Alec Marsh",
          "Karl Kauffmann",
          "Spencer Strider",
          "Gavin Stone",
          "Emmet Sheehan",
          "AJ Smith-Shawver",
          "Mason Miller",
          "Ross Detwiler",
          "HA©ctor Santiago",
          "Derek Holland",
          "Scott Kazmir",
          "MartA­n PA©rez",
          "Tommy Milone",
          "Aaron Loup",
          "JosA© Quintana",
          "Brent Suter",
          "Lewis Thorpe",
          "Sam Howard",
          "Justus Sheffield",
          "Justin Steele",
          "Tyler Alexander",
          "Logan Allen",
          "Travis Bergen",
          "Kolby Allard",
          "Conner Menez",
          "Eric Lauer",
          "Joey Lucchesi",
          "Keegan Akin",
          "JosA© Suarez",
          "Kyle Muller",
          "Anthony Kay",
          "Nick Margevicius",
          "Josh Fleming",
          "Cristopher SA¡nchez",
          "Darien NAoA±ez",
          "Kris Bubic",
          "Tarik Skubal",
          "Packy Naughton",
          "Justin Bruihl",
          "Ryan Weathers",
          "Sam Long",
          "Kwang Hyun Kim",
          "Hyeon-Jong Yang",
          "MartA­n PA©rez",
          "JosA© Quintana",
          "Ty Blach",
          "Anthony Banda",
          "Gabe Speier",
          "Justus Sheffield",
          "Justin Steele",
          "Tyler Alexander",
          "Eric Lauer",
          "Keegan Akin",
          "Devin Smeltzer",
          "JosA© Suarez",
          "Kyle Muller",
          "Zach Logue",
          "Josh Fleming",
          "Kirk McCarty",
          "Cristopher SA¡nchez",
          "Thomas Szapucki",
          "Kris Bubic",
          "DL Hall",
          "Tarik Skubal",
          "Matthew Liberatore",
          "Packy Naughton",
          "JP Sears",
          "Ryan Weathers",
          "Evan Lee",
          "Sam Long",
          "MartA­n PA©rez",
          "Tommy Milone",
          "JosA© Quintana",
          "Brent Suter",
          "Ty Blach",
          "Sam Moll",
          "Justin Steele",
          "Tyler Alexander",
          "Kolby Allard",
          "Eric Lauer",
          "Joey Lucchesi",
          "Keegan Akin",
          "Devin Smeltzer",
          "JosA© Suarez",
          "Kyle Muller",
          "Josh Fleming",
          "Cristopher SA¡nchez",
          "Francisco PA©rez",
          "Kris Bubic",
          "Hogan Harris",
          "Tarik Skubal",
          "Matthew Liberatore",
          "JP Sears",
          "Ryan Weathers",
          "Alex Vesia",
          "Joe Jacques",
          "Sam Long"
         ],
         "type": "scattergl",
         "x": [
          2.5979633214780833,
          3.8798843942458685,
          3.2901324673438843,
          3.302855888289884,
          -0.9652084185195158,
          8.80303747844896,
          5.183585910818248,
          1.6165003473875668,
          -6.734379419136408,
          5.143097580073482,
          1.0427436848442253,
          1.1146879994923975,
          2.5117139835646953,
          5.479477616186466,
          0.28491864896477354,
          2.6488252670760466,
          1.2182719985573145,
          2.4876822543485586,
          1.3212929019756587,
          3.860003549243936,
          0.9219697762760357,
          6.797975515007826,
          1.838897710868821,
          4.197399933264029,
          -1.2247099088433149,
          14.553071969006291,
          3.922240598168486,
          9.666991752230913,
          11.042641277068077,
          5.739559340065635,
          -4.352483374495102,
          0.6197196747311114,
          1.1760787051995587,
          3.026505812135969,
          1.865789971680255,
          5.309278466542378,
          2.276044539291875,
          -1.7835881259712187,
          1.5637438133022847,
          18.128150598163817,
          1.7559409829005082,
          1.5151659106618236,
          1.0544222655131987,
          1.6193747407838592,
          7.524619060400327,
          0.2557667215268541,
          12.459507078901115,
          1.7507802959064798,
          2.1088040347149453,
          14.950138178527915,
          -0.9216822890613341,
          9.883475163404473,
          2.246439852864418,
          4.4517934521108495,
          0.7143805925779736,
          9.337150828377565,
          2.4579270360671823,
          0.7061764467174533,
          2.0625150632894327,
          6.085164783871907,
          -1.2436734355527883,
          4.790101041042236,
          0.41041075183375014,
          -1.6392484451867975,
          3.0999332359145857,
          1.4331420190607165,
          4.365034473115354,
          6.336936911985944,
          2.1353142974202766,
          -3.1103014374211155,
          1.6759328891581882,
          3.107369210102958,
          1.4541617049742237,
          6.556045579185535,
          3.171567887400978,
          5.695377510172671,
          1.2037149932640043,
          9.050940573367432,
          6.177937695430766,
          0.16476959519091475,
          1.3131007332270153,
          4.538004901556103,
          1.2478404037826152,
          1.7378288399131483,
          5.116675670405823,
          11.248837934419909,
          3.73226837623387,
          3.482355527529684,
          2.9391631202286224,
          2.329661680123354,
          2.3415290830780946,
          -0.8166359449928027,
          -2.5599932491208452,
          -0.7934804236340097,
          2.7213590497921105,
          10.035447549123866,
          3.849120015433141,
          5.143398348123166,
          -0.25217975491424055,
          -1.6965732116751704,
          2.5885234345728962,
          6.15568423892378,
          0.9889063502623578,
          0.40172955660972176,
          5.433884438111956,
          -0.6023169993332546,
          6.69017393772842,
          4.264645388588663,
          6.112172952376158,
          3.6735856963927684,
          8.228760902667503,
          3.0385226605218314,
          -0.8635212119247142,
          1.2931490094644935,
          -1.1147861913959054,
          4.9385462042541155,
          2.7500842047738208,
          3.1928744603613066,
          3.9018326094004396,
          12.175566993330639,
          5.097431733087755,
          1.1574096582210076,
          1.7708177980641844,
          2.14308641258834,
          -1.361318409591061,
          -0.3905072325719323,
          1.7403432039870288,
          6.511042302360449,
          3.184791587689354,
          1.5168008147291352,
          9.822168287632708,
          0.7243244011687372,
          -0.5303492612716333,
          6.0587304842751255,
          0.3412599889821886,
          -3.841938499802477,
          7.211452094006428,
          1.1331016428095189,
          -0.708371389725194,
          4.14035599494539,
          3.1187932235722644,
          3.239269866999998,
          -0.9250871454925415,
          4.877717385775205,
          2.2725148823503183,
          3.8479296714380395,
          8.540122820236562,
          -4.331633944402024,
          4.255171359638652,
          2.4917842387186826,
          3.091734193518993,
          4.725438404706039,
          4.074855994780303,
          -2.1520206991328314,
          -1.6911439313308478,
          6.1276800141967565,
          2.2959847283734143,
          3.718795877576578,
          5.531076133286847,
          1.484605466352916,
          3.863777718915201,
          6.255696660320988,
          0.9371580111426935,
          -6.051891148518933,
          1.7972712830398265,
          3.12267821861105,
          -2.453234979138125,
          3.439699589449369,
          0.4524884833157044,
          4.376366745224072,
          1.390541227883058,
          1.515529154021797,
          -2.242419281782728,
          -0.2704736613709373,
          -0.5524733748268142,
          1.021267528654489,
          -3.4898325387169606,
          -2.075462436025851,
          6.56037348926187,
          -1.1099910581439139,
          3.9438591916947816,
          1.8904170666099513,
          -3.6313594048335895,
          8.573921959826652,
          5.401949781086099,
          -1.8123424200972829,
          -1.5753962709131863,
          -1.1857261598000568,
          3.1542472377638995,
          -0.6351607845773634,
          4.544487158211976,
          5.727494948469236,
          -2.512541984215218,
          5.394143340977787,
          -3.6627353355193732,
          6.320017524087205,
          -5.540590891937861,
          2.722447457334194,
          2.7274041556434123,
          2.713802237716542,
          2.363048704386921,
          -5.359933290967079,
          1.9795507416091425,
          -5.717832489795277,
          4.7606851622967845,
          -0.05213793975980933,
          2.500955711203797,
          -6.211233685131536,
          1.6788798636482385,
          1.9275863617550255,
          -6.371567068356148,
          -2.051869767904481,
          1.911355451003317,
          9.498029127108907,
          4.344884415694795,
          4.310650305921846,
          1.3252466189776047,
          4.289714189719255,
          3.26575288236525,
          1.238110976015751,
          8.79974886324906,
          1.95363111910101,
          2.0975033993378487,
          4.999342728154837,
          0.9036618794886785,
          1.889560021433032,
          4.280982665026422,
          3.5967228090689995,
          -3.584466483348397,
          0.033222724198188364,
          0.09321275818207946,
          3.5971316154395505,
          1.6300353212328844,
          13.413016682802045,
          2.516387859125392,
          3.740660649331479,
          4.198071454637194,
          -1.0030477847635977,
          1.9538735486528176,
          0.15190778347532868,
          11.974191786863294,
          5.202125222921442,
          5.675011458640974,
          -1.0430137109422872,
          1.5927488028616916,
          4.9822838885011524,
          -1.0690815673625855,
          0.5721799793656592,
          -3.9600323916342925,
          0.10269881430341798,
          -3.049634947190001,
          5.6724551876969915,
          1.8574671266949208,
          2.3345259054172467,
          3.7392544513848747,
          6.126263634838182,
          4.07813341027865,
          -3.4747952207719406,
          4.865170724055673,
          8.719451161073474,
          9.302556079720766,
          3.6590441490036905,
          2.815041760478632,
          0.6990909979069266,
          13.602099383424333,
          -2.282063156024272,
          -4.8511223399205585,
          4.81978512157307,
          14.866285256176921,
          -5.734217342237625,
          0.561554621272181,
          -0.42969292142643023,
          -3.29543131453905,
          1.407855332753831,
          2.604960533788361,
          -3.7187842497832393,
          -1.59338846130217,
          -1.6234103946483645,
          4.469048159092425,
          -5.783293849467506,
          -0.48423313173097926,
          4.841335589515521,
          0.8762644614306636,
          0.056762303488180066,
          -2.3962976457773224,
          4.331170492631421,
          3.6500861080803846,
          -0.769201199338314,
          4.293851543762723,
          -2.3039762873543856,
          -2.0011393030370352,
          1.189475599681464,
          7.45106643883586,
          1.2772575944437004,
          0.840898692478943,
          -3.7905590332464763,
          0.9326445933948967,
          -3.883063632881343,
          -2.2242736915306427,
          3.70501247700833,
          0.6940644489101921,
          -4.406025797282316,
          4.08985208478782,
          1.8243264141111804,
          1.7428871720532706,
          7.354892850083389,
          -4.102672450330096,
          2.754634944427026,
          -1.3301784186190404,
          2.3810238312458467,
          0.8772805941804238,
          4.275058516957384,
          -2.9618354542939285,
          -6.851611652501328,
          1.2772255767815273,
          10.253887560574537,
          -3.8321272623514453,
          -2.945729556999786,
          3.2249774399942073,
          -2.219327297086514,
          1.9013560106496759,
          1.8918521115559446,
          4.854317007269664,
          -0.17673244054196502,
          4.535659374624562,
          2.5502162599715867,
          5.593515289252973,
          1.0214302609792225,
          -1.4636074329608508,
          -2.268293810718754,
          -0.3738221661492368,
          3.0991815927652304,
          5.033518232174346,
          -4.98530274180905,
          3.5003451542966277,
          6.861089756496606,
          4.471260217586934,
          1.6913775846921277,
          0.9689138210844352,
          1.2721207483137078,
          0.07501463925132618,
          0.03103152919380286,
          5.160191614886834,
          -2.8190395889202082,
          4.675084395996591,
          1.8044950798101664,
          4.84807816569575,
          9.003874848645603,
          -3.571750063634618,
          4.1749723464391275,
          7.118991968423258,
          -6.3328534515929205,
          4.213597593733255,
          0.6565818191831337,
          -0.3549980374319263,
          3.2596522889512927,
          3.2260416295773413,
          6.611394187985902,
          0.8909938679950314,
          -0.8221249506428638,
          2.2688493947756863,
          1.9912416475526729,
          1.6892094137869038,
          -1.663223742003943,
          8.223302412748136,
          0.8242694410523718,
          -1.0701228024789111,
          8.474018123057553,
          3.094375233379714,
          1.4374830840318409,
          2.7444327571573814,
          -4.682330021975237,
          0.5084478379611512,
          5.154186348641801,
          4.5375231794328945,
          1.1886997007093028,
          -4.530640095050817,
          0.4700078575201007,
          4.229261125895927,
          0.965092285756133,
          5.57166154345117,
          5.712494418085778,
          16.697649869586744,
          0.344304283346349,
          -0.35616202545083675,
          2.058579322057525,
          7.278513458192213,
          -0.3772909430950659,
          -1.026697723619289,
          1.063258992651291,
          4.598999787681777,
          0.3269382631892555,
          4.999499812120453,
          2.8996465398728564,
          2.04962687356383,
          0.8305473481836779,
          1.725490716714268,
          2.3288416018822247,
          0.4490910132220078,
          4.049854661431089,
          3.5495111828365684,
          -0.8096155376274088,
          4.335524922924844,
          2.0561888493196077,
          3.8005198918484253,
          3.0239086073322334,
          -2.3340446031560265,
          4.744079317836465,
          2.794242276683124,
          5.255755429211652,
          9.041772589223342,
          3.196599143492642,
          1.3718246254814,
          2.2322276439526982,
          3.5717363603424235,
          2.0311489133813283,
          0.08780633279237222,
          -1.5943136490046763,
          2.1835738204155377,
          3.51278432531419,
          2.791480276073027,
          1.008954298524416,
          3.3259681783798962,
          17.026400643548143,
          -2.3843783638037443,
          -2.6925639517527555,
          0.5623410779754783,
          2.2164179954061582,
          0.44872732494709616,
          10.78189142114936,
          2.719828110757678,
          3.534169965062525,
          0.023689609389396134,
          4.1403516324870555,
          2.562427543544513,
          1.953062132086171,
          6.040476934768198,
          -1.3728626305675198,
          -4.478656376384688,
          3.363720636149612,
          2.7297156979872677,
          -1.0717450397792827,
          6.295612805735247,
          5.630166649322421,
          2.017707193439332,
          -0.38153227443785404,
          -0.6302632782945498,
          3.1298571474115127,
          7.100264114539595,
          2.659877943560714,
          4.52873895444408,
          2.8141275415219775,
          15.30689079611435,
          -0.22168711227215213,
          2.3100868948062065,
          0.4276263785957891,
          1.6209704920188226,
          1.8572027114906589,
          6.068239849538576,
          -3.9799591970363095,
          3.131057656800491,
          0.9025577245444394,
          4.347248274640427,
          4.635471307593822,
          6.5024285561946655,
          -1.419267872701729,
          -2.096599461434224,
          -3.1651559672892504,
          4.81377488666846,
          3.7137321078018006,
          -3.2630136733854216,
          -4.023402765428575,
          -2.129959489299803,
          8.811703846868648,
          3.5901037232259565,
          2.7697223918826306,
          9.407763275934931,
          2.0688286576893753,
          0.7182874586067803,
          3.9727942923364568,
          -2.369593298926033,
          2.9708115689021737,
          3.6597163669480994,
          1.9728690919984382,
          4.205105418369346,
          0.8257595866397536,
          0.46540684023083945,
          0.5623210392165576,
          3.424413927060162,
          2.95949306950372,
          0.7182280999791274,
          -2.3212371946753563,
          1.636860602069511,
          1.9044933230602867,
          -0.4307669384819562,
          2.8267677454949593,
          5.6533557828062735,
          0.5674401678164915,
          -2.276680568857414,
          2.4554037482371394,
          -0.22945165922916796,
          -4.250888911960323,
          3.1254857699725864,
          3.6349433273716873,
          0.15693677358278615,
          6.409931523180671,
          7.348051953409125,
          2.4226319148137505,
          -6.248058716543067,
          2.3001829876626663,
          2.13137328565215,
          0.967826165183303,
          2.787589531384749,
          20.03529051182083,
          6.390062226032672,
          -13.674432083798981,
          -4.109206218010272,
          -1.291514443084959,
          -10.622233747843486,
          5.282901249438081,
          -9.363999137611321,
          -3.3490350402633906,
          -16.54085177258802,
          3.6234852582331074,
          6.3232174623900415,
          -5.5565836219402875,
          -7.326680351556829,
          -2.6661934062042665,
          5.191213055005873,
          9.286240702653512,
          8.15347769026713,
          4.950995258696809,
          -3.75112429995586,
          6.122880689001025,
          -0.4164054852805426,
          3.8862712663815047,
          -3.5129922584034907,
          -5.372306519104698,
          -1.3329767595456856,
          5.003798201786236,
          4.615040264740973,
          -7.058499170450645,
          -0.5730584109807059,
          3.550825578574734,
          0.1338041193885386,
          -14.054082428527959,
          3.4327043754730315,
          11.778511296418664,
          3.68751611534154,
          -8.176396612941229,
          4.055638488508681,
          -1.9146407018075287,
          -7.635367209759537,
          2.8979759734552095,
          3.4984396193324567,
          0.9051340857885559,
          1.5491623870131623,
          -1.3829971161331036,
          6.91261349875315,
          3.140521643835398,
          7.7149390631924435,
          -6.587206511175577,
          -1.602688119892269,
          3.868145062326802,
          1.7919040964982098,
          5.730826866452204,
          1.1813369087014078,
          3.8897182900677696,
          3.631084288821625,
          -0.054725703781770045,
          -2.2545714152892473,
          -3.658739192973615,
          0.3440300627741064,
          2.686401184732686,
          -2.6048168737178674,
          -3.018860698360109,
          1.4327347552327654,
          6.391176447074565,
          -3.864992007975825,
          0.9003074334425959,
          -0.15453954004664883,
          5.723554494129188,
          -10.954507220389422,
          -0.7089951065502902,
          -2.6535221697150746,
          -12.716926694955397,
          6.508286845142857,
          -4.627920441977035,
          -7.707749654121586,
          -8.899090797533225,
          -15.312746806965757,
          7.9591762024821815,
          -9.861144574006259,
          2.12932893843995,
          1.6931417044556687,
          3.4293874935971127,
          -4.534078270201722,
          3.4146442556988834,
          -3.6780656698936514,
          0.6463091830379885,
          -0.6787119660077351,
          -0.24801128338211248,
          -7.1106817788968915,
          5.029653276223258,
          3.0700610201875063,
          -5.108918044148952,
          5.852724005668789,
          -13.323763151949182,
          -0.12456457404509808,
          -11.664274266842847,
          -8.767520527312858,
          2.9279122191358526,
          3.3421778651483574,
          -0.1482471021782587,
          3.630755778452738,
          8.723515986703852,
          -3.348846412904574,
          5.954120500004543,
          7.793620870135635,
          -1.951724864148915,
          3.32506469762809,
          1.4740613338580515,
          3.553884410950327,
          0.49536364840144603,
          5.03644453787833,
          -0.35199776868643573,
          2.3492676000959776,
          -0.1938314084975243,
          2.735169691626241,
          3.6800218194205176,
          2.1857539501226606,
          -1.6456551729936435,
          -8.875253893216668,
          -1.1336248784353444,
          2.8377815476609354,
          0.5021263580352499,
          -12.038975154411391,
          1.3945813558943558,
          7.626437342717053,
          -9.365311707747589,
          1.3855686359667003,
          -3.4877386165001467,
          -1.411977204982972,
          -14.29263013742351,
          -1.838653099173899,
          1.7768603623945036,
          -12.750743634202621,
          -7.0600825075323055,
          -6.200873176887262,
          -10.764276364070051,
          -8.759424496224664,
          3.032321621900056,
          -10.442223441119419,
          -2.552044228229318,
          1.1233039864809526,
          -7.650983927998236,
          -9.526878334792855,
          6.2260711821267005,
          0.542828366000775,
          -1.7481253313963743,
          0.5418621814017311,
          2.0051605453273056,
          2.059020849838203,
          -13.731459625541493,
          5.010723653530134,
          2.8032210362132126,
          3.0238896323573936,
          -4.696602349414579,
          -5.27323003599236,
          -11.057935824164469,
          5.9967194796479895,
          1.8813409735350253,
          8.400171968270211,
          -3.0708551196178693,
          -1.5066489724273338,
          -8.686106231571353,
          5.27627140545107,
          -8.375827205923459,
          2.6036715545868208,
          10.189833437900331,
          -3.2925804121076507,
          -1.8445234095450957,
          5.4192065635473865,
          0.9438610444454665,
          11.700144315808876,
          -12.962882522725764,
          -2.643969581327898,
          4.841632023719308,
          4.272308099045338,
          -10.550781824588102,
          -11.05525450094012,
          0.7440460640496431,
          3.6776051154304326,
          -5.606789219701748,
          -4.716064664484987,
          -0.2973291848840947,
          1.0392258555262746,
          5.3381526911152175,
          1.618561111469708,
          2.8487299736422993,
          2.074978659395782,
          5.924454583362932,
          -16.58672193522598,
          4.009178920452333,
          -0.3699871259766158,
          2.9074426720424427,
          0.12195418924227212,
          5.53943124174106,
          3.079094465229083,
          1.1989086997388547,
          4.051292066675531,
          -5.623793576806274,
          0.9431488221112067,
          1.0940779851091473,
          1.2826165793695947,
          4.791823420337563,
          3.6385515243767426,
          -2.093317180729444,
          -0.742599888166317,
          -0.29956986674680053,
          -3.712992855172296,
          1.347682867232657,
          2.867829172997211,
          -4.148230100598976,
          4.0827435754660435,
          -7.974127665555508,
          0.6395258808542031,
          -2.5339673700587504,
          -3.639088793457592,
          -0.7415833067344968,
          0.8573168366657157,
          5.102815524942605,
          -1.9304479338756415,
          16.369925595026885,
          6.049715664697388,
          -4.006481004746027,
          -11.370277334938997,
          3.472845336548612,
          3.8511772101538067,
          -0.48629210622568364,
          0.5788102220154658,
          -5.419263286384991,
          2.921786607851652,
          -16.59083960646372,
          -11.917807832276353,
          6.553670871591568,
          16.232567150245057,
          2.2225521022456567,
          6.140519016924823,
          -8.402927717037416,
          -2.1716308067511876,
          -10.848850505153715,
          1.1240020835439897,
          -1.3120718091794055,
          -7.26083428168107,
          2.033946867764925,
          1.1261805176506965,
          2.2115145846324533,
          3.9791599797437396,
          3.14722002263482,
          19.19911440092748,
          -5.253389167584016,
          3.0960092421393886,
          -8.755845003608288,
          2.09589066054115,
          3.0148668707380275,
          -0.5440483896900932,
          6.623606640110646,
          6.264011832505388,
          0.16604847113814636,
          -5.642712267755131,
          3.6657627047965557,
          -3.3173521848249434,
          4.678345049497093,
          -0.9672085439002231,
          0.00906676573815428,
          -15.42059708030425,
          0.028387465239251355,
          1.6673009989652052,
          2.450357986507325,
          -0.8503101119528217,
          1.439778768052415,
          2.907187784169207,
          2.3533536757392226,
          1.0691450871476282,
          4.215149619155029,
          -5.82810650583667,
          8.080652432122097,
          -0.0233472756431214,
          1.989236264141549,
          -8.856222306405074,
          0.741469197161989,
          -11.01906580552132,
          0.7582928614554317,
          0.3220307592152764,
          11.36136795480696,
          4.883462805615542
         ],
         "y": [
          0.9572785780577711,
          0.8168393693766645,
          -4.993509891492711,
          -3.2192307422699686,
          -2.249061570370864,
          -0.4685317579439264,
          0.7951309350161446,
          3.328176778007604,
          -0.3341838049609526,
          -3.3774089924136534,
          -5.315839764447985,
          -1.8522733035870287,
          1.1390963274863042,
          6.2716637625540725,
          -3.170242759546473,
          -2.9161692792284177,
          -2.8979076602405245,
          -0.2694785677573541,
          -3.6586884850160497,
          1.0264806023366677,
          -3.5118044325247633,
          6.701758492198144,
          -0.705023446146347,
          0.9058455140540613,
          -2.5522741015694996,
          10.721711642320477,
          -1.7727372406634618,
          4.875590316722944,
          5.963845679396522,
          -0.5337402063160982,
          -4.632364413509667,
          -3.8273174167038126,
          0.49129705728837625,
          3.306472576820575,
          3.9021676522849154,
          -2.188223024825956,
          3.5945417516098113,
          2.850648827177511,
          -0.7952639668896396,
          22.359140168280728,
          -4.538025603460132,
          -1.1339290115478795,
          -0.24658846041861135,
          2.667814895232102,
          3.032795769637284,
          2.9076288435815387,
          8.403594453861263,
          2.429327404810903,
          -6.1023359593832724,
          13.004675573598613,
          -3.554365567275305,
          7.950508395423193,
          -7.17924199652462,
          1.4586032945654492,
          0.6686221605258603,
          1.4754622423885828,
          -2.7623556193688343,
          -6.616559699141458,
          0.5614265517283903,
          -1.0151035467885345,
          0.08474043553064198,
          -1.1624099462470965,
          2.7008715904035614,
          2.4146201470154267,
          -4.159964299917649,
          -0.16203512326591682,
          -0.8099063757981148,
          2.826329854359626,
          0.4214097681190438,
          -6.7476507968643205,
          1.758292993839801,
          -3.9407436935660423,
          -0.3626169659382363,
          3.9409755051533635,
          1.1271417585519,
          -0.7626575689048168,
          -8.90255128184337,
          5.812814831069879,
          0.7486978912405109,
          0.848235775434512,
          2.343742087461852,
          -2.1073598281675183,
          -1.164736343754113,
          0.468965385376788,
          -0.34552779874898515,
          6.3454907344821105,
          -3.3867552936679712,
          -0.8501075001624478,
          -3.0929125138599654,
          -0.6277226327643156,
          0.584766311149755,
          1.2219083400090225,
          -1.8168415490078271,
          2.569355384248228,
          -0.9258615618271886,
          5.527349409771826,
          -4.110935948519542,
          3.0790526636404083,
          -5.154087615579674,
          -4.642042124103962,
          -2.656146880965466,
          1.5643445315469033,
          -5.754561864618576,
          -0.8044354048183012,
          1.3751775625592755,
          -2.8581902566359227,
          2.9516503243822956,
          2.8773826590196077,
          5.022169980805168,
          -1.9962917202999133,
          -3.9258213790389136,
          0.013916828230651964,
          -8.604892568971627,
          -2.005333046394968,
          -3.7487517233119423,
          1.6663261962747247,
          0.5404117960221686,
          -0.6208690940426389,
          0.5847508407234256,
          6.374585818493015,
          1.049019166395626,
          1.5461518128076917,
          -7.133119372170175,
          -3.029065484443928,
          -1.182136659214592,
          -4.8524213217356476,
          -0.11693115825494269,
          -3.15352590337315,
          2.2860088962816594,
          -3.127096126472468,
          5.696614790569269,
          -2.77761752216156,
          -2.8648453091162702,
          -1.7657973751549108,
          1.0114484027184978,
          2.6862445352212436,
          9.476220085133265,
          -7.252764426111145,
          0.2919663498897826,
          -5.729920839856142,
          -3.6049439410251223,
          2.486324970234633,
          -0.25970731428751775,
          0.895707473548552,
          -0.5643047564528351,
          0.9168772720907414,
          2.5021692494216974,
          -8.11412988668722,
          -2.0868717175417384,
          1.468309986943661,
          3.8892026218396283,
          2.0646385342871296,
          -0.3267036556270659,
          1.392952926636892,
          -0.2700349939584931,
          1.874103824370955,
          0.2977642357791184,
          4.1840345936934025,
          -0.13215292144339325,
          3.3764484303265667,
          -1.2320326947332902,
          5.846867074592414,
          -3.2964137807633236,
          -3.310891071246575,
          -4.876683692851578,
          2.387666386842919,
          0.38885091448836195,
          -3.096326075878985,
          -6.425517193939387,
          -0.9308903195068292,
          -3.544526684136015,
          -1.839047112888208,
          -2.777082919139672,
          -2.812256908102663,
          -1.2950899173454131,
          -4.9888988747674885,
          0.0006452057647870343,
          -5.043735278569158,
          0.7717014603310554,
          0.8490241707922882,
          1.3328944317857359,
          -4.747097197250545,
          -5.749669014799985,
          2.341676113247649,
          1.6779599377504384,
          0.7773495675783376,
          -1.2992518413997347,
          -2.6048663376521204,
          -0.6872692967420019,
          -5.92189339804093,
          1.427073723994023,
          -1.3867934987352013,
          -1.6718794768200258,
          0.2205578951905452,
          -2.497619382605151,
          2.6980326090656854,
          -6.5004093367309155,
          0.31995931831425695,
          -2.133606826858618,
          0.1307373863479636,
          -3.3765517991632503,
          -9.823572257023732,
          -1.5047909962427597,
          -6.739213909064568,
          1.8270350851651191,
          -2.6689464817271396,
          -0.25263117136369323,
          -3.3523173672963087,
          -4.526720789230626,
          -2.44325282732244,
          -12.441816745930614,
          -7.489843716463547,
          -3.7042829580538927,
          5.174340308421443,
          -1.405985497374387,
          4.100629071268746,
          1.1662873878991393,
          -4.609873148317349,
          2.2129436128108844,
          -2.4480685189074327,
          1.921187236396973,
          0.3510225716052732,
          1.8593401441115007,
          -1.6145385716167384,
          -4.138844100700696,
          -0.8888439488724132,
          -2.4546556502271053,
          0.7722595170376452,
          -5.920405100514654,
          -2.2410320005797018,
          -3.943928655742706,
          -0.5047862076376568,
          -1.4652674787209028,
          5.227904807579502,
          -3.207633805953754,
          -2.2287816721205402,
          2.3694152359528764,
          -2.719911872966125,
          -0.7507962611687327,
          -0.7637980919714135,
          7.9700890986877395,
          0.8197454462884411,
          4.463991870417602,
          -8.222967809379815,
          4.304166794188051,
          1.9543689386370566,
          0.6425702440490807,
          -0.3279250732015143,
          -4.700885450320547,
          -5.160501006675306,
          -3.3037952572803695,
          1.213649069755742,
          1.668710895956494,
          -1.421688251419744,
          2.876568875018732,
          3.104218581761873,
          1.170446238145978,
          -6.863754855530696,
          -1.2560709846932416,
          8.812866210170682,
          6.471210569198811,
          3.4874588283546757,
          3.512007541640282,
          2.7989788185220688,
          3.198340894032771,
          1.2424522062129244,
          -3.0080188102961016,
          2.837548195621658,
          12.7326995136025,
          -3.5322810543868743,
          -1.3719775313312317,
          1.7466056280155526,
          -7.71866039624444,
          -7.639289917939464,
          -2.8606009353206563,
          -4.988029716875577,
          -2.4522698825625318,
          -0.3081735031949818,
          -0.022748831985126394,
          -3.6350324280245347,
          -2.6062505377762197,
          2.0965051487642152,
          2.584211979713505,
          -3.9831094214921374,
          -2.363387066183398,
          -1.056208858643387,
          2.9229591047362393,
          -6.2216995764946,
          -4.477342624735112,
          -3.149569312478767,
          -6.6204551385707,
          0.9250392545750342,
          0.23527675434760822,
          3.0719743496205245,
          1.7021572954731516,
          -3.6440970827633876,
          0.31054263540027316,
          -5.29263653296536,
          -5.181864079946056,
          0.9233121005925717,
          0.5007408207412842,
          -3.6029111774738762,
          2.5547608682315492,
          -2.0619918822928067,
          -2.041370621006283,
          0.5196679226024294,
          -7.527220743754599,
          0.7226620919915253,
          -3.7498631952523205,
          -4.285758350230278,
          -1.678143964587199,
          -3.0084092746419664,
          -2.30957257296307,
          -3.9686736865089527,
          1.1272096314380764,
          3.4594747771080097,
          -9.040132573982376,
          -7.334735688623546,
          -2.4376404829064686,
          -7.3029872663264195,
          -2.648686743764903,
          -0.9150800977538105,
          0.61623237780958,
          -1.2929534726653271,
          0.7200854987473732,
          0.7997447264567806,
          2.9634600556958355,
          1.0695889937123817,
          -5.2322650837606135,
          2.071775004673548,
          -1.0582162258835945,
          0.6475878813129311,
          -2.500066323241443,
          -2.9091249540299096,
          1.9356354550801405,
          1.0686432435386946,
          0.46804341985080067,
          -4.654048224035886,
          2.206314324619194,
          1.5747667876291582,
          -3.2430215080911786,
          -2.187138296428322,
          2.9286019254759386,
          -1.279561780666581,
          3.6136417612328344,
          -0.5611074544187596,
          -1.7430836913595216,
          1.8319523221319831,
          -4.217689263556308,
          -0.31583887408666184,
          1.1259064635191003,
          -6.064902284656749,
          2.1783937794664494,
          -0.6507528824267143,
          0.9071074182939768,
          3.938144677235107,
          -0.9584857880930084,
          0.13945172077597512,
          0.8735594109618571,
          -8.628911770953817,
          -5.8507428448663825,
          -3.6928247015662765,
          -10.121229499805192,
          0.33938276608163015,
          5.466574586150579,
          -0.2493422146585376,
          1.1744699580220452,
          6.81461221375588,
          2.7671752755833663,
          3.4095285822992665,
          1.500491841024614,
          -2.307389440215236,
          1.0126639356149676,
          -0.16977928026965589,
          -2.72122502608748,
          -2.370897254348686,
          0.6462125815006254,
          -2.849505122797622,
          2.2986160294599145,
          1.5950688251888376,
          -2.2940711746822324,
          4.789233620550587,
          9.774559936516253,
          -6.6132969707154245,
          -3.4781681891632696,
          -2.633231133236105,
          3.9320043246746086,
          -4.872489934161473,
          1.4052191331223083,
          -2.6392858472752168,
          -0.8743490984917562,
          3.667531531370908,
          1.6237995073414664,
          -3.699348397219924,
          -2.883029403991389,
          -5.051456007148828,
          0.13541336103149512,
          2.345153323642072,
          -1.1960920580288923,
          -2.2418668216217426,
          0.168378024388458,
          0.5335430167583949,
          0.6174215465521393,
          -0.8435616036259728,
          2.9657042156900846,
          0.43576235260859436,
          4.035327284371617,
          -1.8343594845243885,
          -1.559996334236376,
          -1.9475480278399726,
          5.607417725095346,
          -0.942476802306206,
          1.514834509848114,
          -4.95572909769543,
          -0.3810879260863331,
          -2.196243850928664,
          -1.7882480507771055,
          -7.366036013459556,
          3.249979655897141,
          -0.041738360519816706,
          3.6302118701183703,
          2.5170003958344886,
          2.8797263976158147,
          15.768429131555118,
          1.5032725835466318,
          1.1841940122886954,
          4.279562094828628,
          1.1875519725467636,
          -5.418413488156227,
          2.0667936615988647,
          -2.339370779249126,
          -0.7236210667932242,
          -0.32471742338127474,
          2.9934991192755054,
          3.921033171777606,
          -0.4437519917022867,
          0.6678341128861663,
          -6.211485101190816,
          -1.1058919293987617,
          1.0145690485068835,
          -1.9052677930305348,
          -3.6433272895592705,
          6.640589063451645,
          -1.0049997659689984,
          4.962105045549229,
          -5.415730593839647,
          2.0632925167341036,
          0.5467874976659224,
          2.8089445625273086,
          -2.6423847197688817,
          -2.3003933710287905,
          0.548576894722998,
          9.903001707662794,
          -4.081115096319265,
          2.4557033370580665,
          -0.6509863714129239,
          -2.777260397180786,
          -1.030242161078619,
          4.039252991283804,
          -7.437538691235081,
          -4.724062442718402,
          3.086775018573616,
          -1.2701637727909427,
          -1.8115212544867605,
          4.7837406479460824,
          0.9543408848055116,
          2.860414049088057,
          -0.2512405194688349,
          6.87741622698163,
          0.20264992102353835,
          -4.598160654436551,
          -5.623219274916641,
          0.5969716654177557,
          6.610514840342339,
          -2.0665679876654233,
          -3.8321537075283123,
          4.7692562356079,
          0.2793507062194945,
          -0.22317940929073732,
          3.8233561923572066,
          -4.289707987914679,
          1.4965225322355313,
          2.3476119600958825,
          3.389039678734927,
          0.48462918195926746,
          3.3634455032949506,
          -3.2366672774667213,
          -8.314154478426241,
          -0.07597797589058357,
          -5.6501954013629305,
          4.223876209454606,
          -3.125582331740395,
          -0.8464054201452651,
          -1.4893842764353853,
          -4.508473526697439,
          -0.6239348372705201,
          0.9161429632952262,
          -6.931428953071743,
          -4.224221659365575,
          -0.20987864523336372,
          1.2734491076840904,
          -7.333735139909387,
          1.3597493544398744,
          -1.5297252023091168,
          0.6899584801334013,
          -0.11844177202475951,
          0.6881782687349435,
          -1.1363837475877163,
          2.813775768803921,
          -0.7521388158196655,
          -2.323944995812297,
          6.6523979639587525,
          2.6716238884170322,
          11.178028324530251,
          6.432221734764365,
          5.777635566293663,
          4.053658491502706,
          5.516888053343034,
          2.5818092901521488,
          5.670319573754754,
          5.754129983345752,
          5.070462742416737,
          4.783379091091079,
          -0.03491718226763774,
          5.934903979324304,
          5.6232998382760035,
          6.256449072381554,
          8.055472985685281,
          1.5599201011318222,
          9.087396457995949,
          6.858453204469633,
          3.842943285725819,
          4.26326570802227,
          -0.5930116938508534,
          -0.028702250562133765,
          1.1636616502551862,
          3.5754397047507496,
          -0.6925799385803122,
          -4.472808672942164,
          6.5930107361466215,
          4.8381117288764885,
          3.8470129844200396,
          2.7821963536890744,
          5.8451203369178755,
          3.1079415701125654,
          -0.743379036041947,
          -1.7593651798038967,
          7.5271790053560785,
          2.860512705231263,
          3.3249419263780076,
          3.134395954184808,
          -2.8807682425149252,
          5.214293145642284,
          0.7671061208692616,
          4.613197115892433,
          2.0249353541015185,
          -2.191710486983572,
          2.4194322898527107,
          5.7102509614585735,
          -0.1592336328954856,
          5.472934520282913,
          5.500875850844088,
          4.250102918591361,
          1.683637578155208,
          5.909614555635532,
          3.268703372177542,
          3.88405574325119,
          2.021911743880806,
          3.3544236800510454,
          4.155674993836398,
          2.6422456062120103,
          1.8513996228032925,
          4.311415542673766,
          3.4879871006993377,
          2.5071459817205577,
          -2.6314881435792943,
          3.2591967031087385,
          4.868023771097043,
          3.719836206492954,
          2.7738626437186022,
          -10.599161203000047,
          1.4455151025542265,
          8.92213313507611,
          0.7839395874325056,
          4.172291890585848,
          2.39242089220333,
          4.99366043706742,
          6.682020147761252,
          5.285483450444254,
          7.555100474225778,
          4.773214153310824,
          8.88980177791155,
          6.662315396189194,
          2.4263026549744784,
          1.957782182452229,
          0.3825446162943475,
          8.758236410450689,
          -2.9292945578332144,
          -9.841631387085076,
          -6.0609973869285065,
          2.3220663216504462,
          1.442045938339299,
          6.329076776884263,
          1.451929414229422,
          2.2277329243830977,
          -1.0990767521267164,
          6.3459363233748824,
          9.282120097466704,
          4.854820976913445,
          -3.5291302859324687,
          7.386009594536558,
          -0.6165711595053465,
          -1.7655608252162722,
          3.561496101661924,
          0.7681169336652109,
          1.3990901568518894,
          5.8734234945068335,
          3.3981804413733157,
          6.5076053143903625,
          -0.14410207527090055,
          1.8248495770892246,
          1.3381646724316059,
          5.559539595546435,
          3.762526702335042,
          6.053267352373165,
          2.715036708809304,
          2.705386611826947,
          0.0986421800180589,
          1.9726060764038378,
          2.422979684085072,
          6.131531331543194,
          2.7143536607436825,
          7.503625622031239,
          2.5417978179932343,
          -7.785156032035437,
          2.703824449966352,
          1.4639271423085887,
          2.175445151267204,
          6.420656880737032,
          -5.8685874185900735,
          -1.389014630667211,
          6.584252882846865,
          -11.07649319857995,
          9.25565889914144,
          -1.5377713858519986,
          3.7503234831111607,
          5.455931700369555,
          1.9952866404793297,
          5.126835284219887,
          5.3345258826332715,
          2.9754766483834216,
          -3.767931465945201,
          5.762199855478859,
          4.708466017904011,
          0.5975654605480358,
          10.154244308328256,
          5.81606993948809,
          0.24117640006893948,
          -5.815264451313963,
          3.8497671688795276,
          0.13326600725483856,
          1.726012554879968,
          6.74838450598758,
          1.7973340699825568,
          -0.697685699135194,
          -4.976469745770697,
          1.7426578324299271,
          7.284076920404483,
          1.6715645357977504,
          5.880166381049581,
          1.0870248802013207,
          -3.961735356572801,
          7.617976958030606,
          -3.0946954161766635,
          5.3454435516981285,
          3.51399354344996,
          -1.1873381924242483,
          6.257624731134055,
          0.6435947179622883,
          9.31301080606922,
          5.090162984344428,
          2.9638037970885556,
          -1.3808952676876334,
          -1.6807226567163684,
          2.0477291462514158,
          6.822375610591999,
          -9.730817322641677,
          -0.5027443350152734,
          -4.7148934415397346,
          6.424092121103781,
          7.800412912401301,
          2.4010850105312627,
          -1.5256033283830202,
          2.3960341454669147,
          -2.6839055279609303,
          5.147104916639636,
          0.8339261761728537,
          3.660763703522723,
          -0.35171931172481313,
          1.6042920622969323,
          4.343823730379673,
          5.864647621302506,
          -2.60942039912546,
          6.889568220939431,
          -0.2790350938652043,
          2.1743569234437583,
          -1.8537490011489863,
          6.100292863313247,
          0.5015268982166964,
          -1.255363496939879,
          0.359915879905031,
          8.542642785029612,
          -2.7689028215105567,
          -2.2136748834172812,
          4.353088115073341,
          3.193944384224301,
          3.3699371936132176,
          -19.65537060282249,
          6.119096685129282,
          2.68683716867234,
          2.3494081905325936,
          4.678267607489019,
          -3.902199147641152,
          7.528554982899151,
          -2.344896823607459,
          3.112948321914241,
          2.3064199377495664,
          5.061663178767771,
          4.31995286841623,
          -0.20048255908495596,
          0.6571097716997137,
          1.077092629440498,
          5.704549216677701,
          13.396527121818483,
          1.126592722992736,
          6.794658014685868,
          4.087802934880102,
          4.431663310355616,
          -2.120902576032208,
          4.61855921620911,
          1.429628140266664,
          3.1990791389640023,
          2.134132998805777,
          7.420949967959627,
          5.140717211819122,
          7.7696266044828075,
          13.40228244060221,
          -6.791297946051251,
          2.9619582642396476,
          2.5939758270642077,
          5.8386623129201904,
          5.669245260580022,
          -6.402601860222311,
          3.9531517068691433,
          3.2571134310958936,
          0.9762382054346421,
          6.190328919060082,
          4.572079447326316,
          4.605934687031909,
          -0.5571550726240728,
          18.214644467258292,
          10.14450877700963,
          -0.14013417403567677,
          1.6488262330492067,
          3.9863179623348333,
          0.6495509998989322,
          1.9408797518804983,
          1.3634817650411533,
          3.9780461787261783,
          1.735936950027777,
          8.307437678489924,
          0.44837513006864466,
          4.096937370756698,
          -1.4223432629183828,
          7.4715917224987285,
          -12.67471029835149,
          2.8153074868523906,
          -2.183168604654289,
          2.749731746567987,
          6.457866200181619,
          5.197218356278593,
          -2.2440611860272712,
          -0.7194850391100287,
          5.9713034683656865,
          6.810928491492599,
          6.381439121588016,
          0.5120887434593024,
          4.284962356510044,
          -0.751663462973987,
          5.939262402044918,
          -3.1685098410668022,
          5.377706030524437,
          5.3600838467180045,
          2.809005811526463,
          -12.429324189514924,
          5.960354597980726,
          -0.670709923501904
         ]
        },
        {
         "marker": {
          "color": "orange",
          "opacity": 0.4,
          "size": 5
         },
         "mode": "markers",
         "name": "Setup Pitcher",
         "text": [],
         "type": "scattergl",
         "x": [],
         "y": []
        },
        {
         "marker": {
          "color": "purple",
          "opacity": 0.4,
          "size": 5
         },
         "mode": "markers",
         "name": "Long Reliever",
         "text": [],
         "type": "scattergl",
         "x": [],
         "y": []
        },
        {
         "marker": {
          "color": "red",
          "opacity": 0.4,
          "size": 5
         },
         "mode": "markers",
         "name": "Closer",
         "text": [],
         "type": "scattergl",
         "x": [],
         "y": []
        },
        {
         "line": {
          "color": "grey",
          "width": 0.2
         },
         "mode": "lines+text",
         "showlegend": false,
         "text": [
          null,
          "Age"
         ],
         "textposition": "bottom center",
         "type": "scatter",
         "x": [
          0,
          -4.549867798502712
         ],
         "y": [
          0,
          -1.1141975792517174
         ]
        },
        {
         "line": {
          "color": "grey",
          "width": 0.2
         },
         "mode": "lines+text",
         "showlegend": false,
         "text": [
          null,
          "G"
         ],
         "textposition": "bottom center",
         "type": "scatter",
         "x": [
          0,
          -20.360621573202618
         ],
         "y": [
          0,
          -14.95767030580714
         ]
        },
        {
         "line": {
          "color": "grey",
          "width": 0.2
         },
         "mode": "lines+text",
         "showlegend": false,
         "text": [
          null,
          "GS"
         ],
         "textposition": "bottom center",
         "type": "scatter",
         "x": [
          0,
          -29.398483064500265
         ],
         "y": [
          0,
          25.05025582303432
         ]
        },
        {
         "line": {
          "color": "grey",
          "width": 0.2
         },
         "mode": "lines+text",
         "showlegend": false,
         "text": [
          null,
          "IP"
         ],
         "textposition": "bottom center",
         "type": "scatter",
         "x": [
          0,
          -35.59917501981752
         ],
         "y": [
          0,
          14.87285766274051
         ]
        },
        {
         "line": {
          "color": "grey",
          "width": 0.2
         },
         "mode": "lines+text",
         "showlegend": false,
         "text": [
          null,
          "TBF"
         ],
         "textposition": "bottom center",
         "type": "scatter",
         "x": [
          0,
          -35.11374092950552
         ],
         "y": [
          0,
          16.051959671301333
         ]
        },
        {
         "line": {
          "color": "grey",
          "width": 0.2
         },
         "mode": "lines+text",
         "showlegend": false,
         "text": [
          null,
          "W"
         ],
         "textposition": "bottom center",
         "type": "scatter",
         "x": [
          0,
          -33.288663213385725
         ],
         "y": [
          0,
          8.523884549466649
         ]
        },
        {
         "line": {
          "color": "grey",
          "width": 0.2
         },
         "mode": "lines+text",
         "showlegend": false,
         "text": [
          null,
          "L"
         ],
         "textposition": "bottom center",
         "type": "scatter",
         "x": [
          0,
          -28.405793193615974
         ],
         "y": [
          0,
          17.57207624305919
         ]
        },
        {
         "line": {
          "color": "grey",
          "width": 0.2
         },
         "mode": "lines+text",
         "showlegend": false,
         "text": [
          null,
          "CG"
         ],
         "textposition": "bottom center",
         "type": "scatter",
         "x": [
          0,
          -14.429090888798841
         ],
         "y": [
          0,
          8.124587815278966
         ]
        },
        {
         "line": {
          "color": "grey",
          "width": 0.2
         },
         "mode": "lines+text",
         "showlegend": false,
         "text": [
          null,
          "ShO"
         ],
         "textposition": "bottom center",
         "type": "scatter",
         "x": [
          0,
          -12.77215348153556
         ],
         "y": [
          0,
          6.303984986254904
         ]
        },
        {
         "line": {
          "color": "grey",
          "width": 0.2
         },
         "mode": "lines+text",
         "showlegend": false,
         "text": [
          null,
          "SV"
         ],
         "textposition": "bottom center",
         "type": "scatter",
         "x": [
          0,
          -6.573928270728219
         ],
         "y": [
          0,
          -16.539056588237848
         ]
        },
        {
         "line": {
          "color": "grey",
          "width": 0.2
         },
         "mode": "lines+text",
         "showlegend": false,
         "text": [
          null,
          "BS"
         ],
         "textposition": "bottom center",
         "type": "scatter",
         "x": [
          0,
          -7.001515361658332
         ],
         "y": [
          0,
          -19.48249195552842
         ]
        },
        {
         "line": {
          "color": "grey",
          "width": 0.2
         },
         "mode": "lines+text",
         "showlegend": false,
         "text": [
          null,
          "HLD"
         ],
         "textposition": "bottom center",
         "type": "scatter",
         "x": [
          0,
          -7.514538608716722
         ],
         "y": [
          0,
          -19.935586900653288
         ]
        },
        {
         "line": {
          "color": "grey",
          "width": 0.2
         },
         "mode": "lines+text",
         "showlegend": false,
         "text": [
          null,
          "SD"
         ],
         "textposition": "bottom center",
         "type": "scatter",
         "x": [
          0,
          -9.44881072639272
         ],
         "y": [
          0,
          -24.575451839291105
         ]
        },
        {
         "line": {
          "color": "grey",
          "width": 0.2
         },
         "mode": "lines+text",
         "showlegend": false,
         "text": [
          null,
          "MD"
         ],
         "textposition": "bottom center",
         "type": "scatter",
         "x": [
          0,
          -5.264662204013937
         ],
         "y": [
          0,
          -20.393815000602025
         ]
        },
        {
         "line": {
          "color": "grey",
          "width": 0.2
         },
         "mode": "lines+text",
         "showlegend": false,
         "text": [
          null,
          "Pulls"
         ],
         "textposition": "bottom center",
         "type": "scatter",
         "x": [
          0,
          -23.075111872401056
         ],
         "y": [
          0,
          -8.250809337194093
         ]
        },
        {
         "line": {
          "color": "grey",
          "width": 0.2
         },
         "mode": "lines+text",
         "showlegend": false,
         "text": [
          null,
          "ERA"
         ],
         "textposition": "bottom center",
         "type": "scatter",
         "x": [
          0,
          16.810023286197154
         ],
         "y": [
          0,
          22.061899029998397
         ]
        },
        {
         "line": {
          "color": "grey",
          "width": 0.2
         },
         "mode": "lines+text",
         "showlegend": false,
         "text": [
          null,
          "R"
         ],
         "textposition": "bottom center",
         "type": "scatter",
         "x": [
          0,
          -30.64024094324201
         ],
         "y": [
          0,
          22.00175537319328
         ]
        },
        {
         "line": {
          "color": "grey",
          "width": 0.2
         },
         "mode": "lines+text",
         "showlegend": false,
         "text": [
          null,
          "ER"
         ],
         "textposition": "bottom center",
         "type": "scatter",
         "x": [
          0,
          -30.33183983600109
         ],
         "y": [
          0,
          22.717910300581945
         ]
        },
        {
         "line": {
          "color": "grey",
          "width": 0.2
         },
         "mode": "lines+text",
         "showlegend": false,
         "text": [
          null,
          "H"
         ],
         "textposition": "bottom center",
         "type": "scatter",
         "x": [
          0,
          -33.2469347366325
         ],
         "y": [
          0,
          20.18961860629233
         ]
        },
        {
         "line": {
          "color": "grey",
          "width": 0.2
         },
         "mode": "lines+text",
         "showlegend": false,
         "text": [
          null,
          "HR"
         ],
         "textposition": "bottom center",
         "type": "scatter",
         "x": [
          0,
          -29.390458789495927
         ],
         "y": [
          0,
          21.24306140892439
         ]
        },
        {
         "line": {
          "color": "grey",
          "width": 0.2
         },
         "mode": "lines+text",
         "showlegend": false,
         "text": [
          null,
          "SO"
         ],
         "textposition": "bottom center",
         "type": "scatter",
         "x": [
          0,
          -35.67700580969612
         ],
         "y": [
          0,
          8.643033522413894
         ]
        },
        {
         "line": {
          "color": "grey",
          "width": 0.2
         },
         "mode": "lines+text",
         "showlegend": false,
         "text": [
          null,
          "BB"
         ],
         "textposition": "bottom center",
         "type": "scatter",
         "x": [
          0,
          -30.431114230530667
         ],
         "y": [
          0,
          13.852425931087884
         ]
        },
        {
         "line": {
          "color": "grey",
          "width": 0.2
         },
         "mode": "lines+text",
         "showlegend": false,
         "text": [
          null,
          "IBB"
         ],
         "textposition": "bottom center",
         "type": "scatter",
         "x": [
          0,
          -9.380412322486286
         ],
         "y": [
          0,
          -8.089754046527691
         ]
        },
        {
         "line": {
          "color": "grey",
          "width": 0.2
         },
         "mode": "lines+text",
         "showlegend": false,
         "text": [
          null,
          "HBP"
         ],
         "textposition": "bottom center",
         "type": "scatter",
         "x": [
          0,
          -24.124335118916203
         ],
         "y": [
          0,
          10.472945989691853
         ]
        },
        {
         "line": {
          "color": "grey",
          "width": 0.2
         },
         "mode": "lines+text",
         "showlegend": false,
         "text": [
          null,
          "WP"
         ],
         "textposition": "bottom center",
         "type": "scatter",
         "x": [
          0,
          -21.899458105332684
         ],
         "y": [
          0,
          3.496116286011858
         ]
        },
        {
         "line": {
          "color": "grey",
          "width": 0.2
         },
         "mode": "lines+text",
         "showlegend": false,
         "text": [
          null,
          "BK"
         ],
         "textposition": "bottom center",
         "type": "scatter",
         "x": [
          0,
          -11.23954409100914
         ],
         "y": [
          0,
          2.451626295710546
         ]
        },
        {
         "line": {
          "color": "grey",
          "width": 0.2
         },
         "mode": "lines+text",
         "showlegend": false,
         "text": [
          null,
          "Events"
         ],
         "textposition": "bottom center",
         "type": "scatter",
         "x": [
          0,
          -34.36243253938294
         ],
         "y": [
          0,
          18.42764983970619
         ]
        },
        {
         "line": {
          "color": "grey",
          "width": 0.2
         },
         "mode": "lines+text",
         "showlegend": false,
         "text": [
          null,
          "GB"
         ],
         "textposition": "bottom center",
         "type": "scatter",
         "x": [
          0,
          -33.560446202715134
         ],
         "y": [
          0,
          17.342802702617238
         ]
        },
        {
         "line": {
          "color": "grey",
          "width": 0.2
         },
         "mode": "lines+text",
         "showlegend": false,
         "text": [
          null,
          "LD"
         ],
         "textposition": "bottom center",
         "type": "scatter",
         "x": [
          0,
          -33.361758926925404
         ],
         "y": [
          0,
          19.58900659344147
         ]
        },
        {
         "line": {
          "color": "grey",
          "width": 0.2
         },
         "mode": "lines+text",
         "showlegend": false,
         "text": [
          null,
          "FB"
         ],
         "textposition": "bottom center",
         "type": "scatter",
         "x": [
          0,
          -33.37366115798934
         ],
         "y": [
          0,
          17.78004795506369
         ]
        },
        {
         "line": {
          "color": "grey",
          "width": 0.2
         },
         "mode": "lines+text",
         "showlegend": false,
         "text": [
          null,
          "IFFB"
         ],
         "textposition": "bottom center",
         "type": "scatter",
         "x": [
          0,
          -30.224239245413255
         ],
         "y": [
          0,
          12.951418382131736
         ]
        },
        {
         "line": {
          "color": "grey",
          "width": 0.2
         },
         "mode": "lines+text",
         "showlegend": false,
         "text": [
          null,
          "BU"
         ],
         "textposition": "bottom center",
         "type": "scatter",
         "x": [
          0,
          -24.91836959091207
         ],
         "y": [
          0,
          12.321849423435069
         ]
        },
        {
         "line": {
          "color": "grey",
          "width": 0.2
         },
         "mode": "lines+text",
         "showlegend": false,
         "text": [
          null,
          "IFH"
         ],
         "textposition": "bottom center",
         "type": "scatter",
         "x": [
          0,
          -29.964102262937153
         ],
         "y": [
          0,
          14.440037773224416
         ]
        },
        {
         "line": {
          "color": "grey",
          "width": 0.2
         },
         "mode": "lines+text",
         "showlegend": false,
         "text": [
          null,
          "BUH"
         ],
         "textposition": "bottom center",
         "type": "scatter",
         "x": [
          0,
          -20.236008684440673
         ],
         "y": [
          0,
          11.31172448729099
         ]
        },
        {
         "line": {
          "color": "grey",
          "width": 0.2
         },
         "mode": "lines+text",
         "showlegend": false,
         "text": [
          null,
          "Balls"
         ],
         "textposition": "bottom center",
         "type": "scatter",
         "x": [
          0,
          -34.40096471177464
         ],
         "y": [
          0,
          15.946156934292999
         ]
        },
        {
         "line": {
          "color": "grey",
          "width": 0.2
         },
         "mode": "lines+text",
         "showlegend": false,
         "text": [
          null,
          "Strikes"
         ],
         "textposition": "bottom center",
         "type": "scatter",
         "x": [
          0,
          -35.40127473645452
         ],
         "y": [
          0,
          15.097074377738721
         ]
        },
        {
         "line": {
          "color": "grey",
          "width": 0.2
         },
         "mode": "lines+text",
         "showlegend": false,
         "text": [
          null,
          "Pitches"
         ],
         "textposition": "bottom center",
         "type": "scatter",
         "x": [
          0,
          -35.133289198628276
         ],
         "y": [
          0,
          15.433723799269089
         ]
        },
        {
         "line": {
          "color": "grey",
          "width": 0.2
         },
         "mode": "lines+text",
         "showlegend": false,
         "text": [
          null,
          "RS"
         ],
         "textposition": "bottom center",
         "type": "scatter",
         "x": [
          0,
          -33.77468468905865
         ],
         "y": [
          0,
          16.123038302058433
         ]
        },
        {
         "line": {
          "color": "grey",
          "width": 0.2
         },
         "mode": "lines+text",
         "showlegend": false,
         "text": [
          null,
          "RS_per_9"
         ],
         "textposition": "bottom center",
         "type": "scatter",
         "x": [
          0,
          -3.1214241791743906
         ],
         "y": [
          0,
          -0.05326142536943934
         ]
        },
        {
         "line": {
          "color": "grey",
          "width": 0.2
         },
         "mode": "lines+text",
         "showlegend": false,
         "text": [
          null,
          "K_pct"
         ],
         "textposition": "bottom center",
         "type": "scatter",
         "x": [
          0,
          -14.395493408651665
         ],
         "y": [
          0,
          -29.451366513593246
         ]
        },
        {
         "line": {
          "color": "grey",
          "width": 0.2
         },
         "mode": "lines+text",
         "showlegend": false,
         "text": [
          null,
          "BB_pct"
         ],
         "textposition": "bottom center",
         "type": "scatter",
         "x": [
          0,
          15.87716513102454
         ],
         "y": [
          0,
          6.143448731520808
         ]
        },
        {
         "line": {
          "color": "grey",
          "width": 0.2
         },
         "mode": "lines+text",
         "showlegend": false,
         "text": [
          null,
          "K_minus_BB_pct"
         ],
         "textposition": "bottom center",
         "type": "scatter",
         "x": [
          0,
          -19.78280103451105
         ],
         "y": [
          0,
          -25.965668292713357
         ]
        },
        {
         "line": {
          "color": "grey",
          "width": 0.2
         },
         "mode": "lines+text",
         "showlegend": false,
         "text": [
          null,
          "K_per_9"
         ],
         "textposition": "bottom center",
         "type": "scatter",
         "x": [
          0,
          -8.25894804898813
         ],
         "y": [
          0,
          -22.334845577763986
         ]
        },
        {
         "line": {
          "color": "grey",
          "width": 0.2
         },
         "mode": "lines+text",
         "showlegend": false,
         "text": [
          null,
          "BB_per_9"
         ],
         "textposition": "bottom center",
         "type": "scatter",
         "x": [
          0,
          17.222946573433315
         ],
         "y": [
          0,
          11.238470122858734
         ]
        },
        {
         "line": {
          "color": "grey",
          "width": 0.2
         },
         "mode": "lines+text",
         "showlegend": false,
         "text": [
          null,
          "K_to_BB"
         ],
         "textposition": "bottom center",
         "type": "scatter",
         "x": [
          0,
          -18.18240140845008
         ],
         "y": [
          0,
          -14.885850257318946
         ]
        },
        {
         "line": {
          "color": "grey",
          "width": 0.2
         },
         "mode": "lines+text",
         "showlegend": false,
         "text": [
          null,
          "H_per_9"
         ],
         "textposition": "bottom center",
         "type": "scatter",
         "x": [
          0,
          14.877493781656725
         ],
         "y": [
          0,
          23.543281074817685
         ]
        },
        {
         "line": {
          "color": "grey",
          "width": 0.2
         },
         "mode": "lines+text",
         "showlegend": false,
         "text": [
          null,
          "HR_per_9"
         ],
         "textposition": "bottom center",
         "type": "scatter",
         "x": [
          0,
          10.290920429458186
         ],
         "y": [
          0,
          16.671714843082714
         ]
        },
        {
         "line": {
          "color": "grey",
          "width": 0.2
         },
         "mode": "lines+text",
         "showlegend": false,
         "text": [
          null,
          "AVG"
         ],
         "textposition": "bottom center",
         "type": "scatter",
         "x": [
          0,
          13.968197428493479
         ],
         "y": [
          0,
          26.9482711668651
         ]
        },
        {
         "line": {
          "color": "grey",
          "width": 0.2
         },
         "mode": "lines+text",
         "showlegend": false,
         "text": [
          null,
          "WHIP"
         ],
         "textposition": "bottom center",
         "type": "scatter",
         "x": [
          0,
          19.752718235660716
         ],
         "y": [
          0,
          22.863797831636187
         ]
        },
        {
         "line": {
          "color": "grey",
          "width": 0.2
         },
         "mode": "lines+text",
         "showlegend": false,
         "text": [
          null,
          "BABIP"
         ],
         "textposition": "bottom center",
         "type": "scatter",
         "x": [
          0,
          8.142352316962123
         ],
         "y": [
          0,
          14.676791458078903
         ]
        },
        {
         "line": {
          "color": "grey",
          "width": 0.2
         },
         "mode": "lines+text",
         "showlegend": false,
         "text": [
          null,
          "LOB_pct"
         ],
         "textposition": "bottom center",
         "type": "scatter",
         "x": [
          0,
          -8.882704572204489
         ],
         "y": [
          0,
          -15.418621582330287
         ]
        },
        {
         "line": {
          "color": "grey",
          "width": 0.2
         },
         "mode": "lines+text",
         "showlegend": false,
         "text": [
          null,
          "GB_pct"
         ],
         "textposition": "bottom center",
         "type": "scatter",
         "x": [
          0,
          -2.8520581330362202
         ],
         "y": [
          0,
          -3.971606080849684
         ]
        },
        {
         "line": {
          "color": "grey",
          "width": 0.2
         },
         "mode": "lines+text",
         "showlegend": false,
         "text": [
          null,
          "LD_pct"
         ],
         "textposition": "bottom center",
         "type": "scatter",
         "x": [
          0,
          2.486376308391057
         ],
         "y": [
          0,
          7.766468494184334
         ]
        },
        {
         "line": {
          "color": "grey",
          "width": 0.2
         },
         "mode": "lines+text",
         "showlegend": false,
         "text": [
          null,
          "FB_pct"
         ],
         "textposition": "bottom center",
         "type": "scatter",
         "x": [
          0,
          1.1879060175312488
         ],
         "y": [
          0,
          -0.6810411747576708
         ]
        },
        {
         "line": {
          "color": "grey",
          "width": 0.2
         },
         "mode": "lines+text",
         "showlegend": false,
         "text": [
          null,
          "IFFB_pct"
         ],
         "textposition": "bottom center",
         "type": "scatter",
         "x": [
          0,
          -3.2215800212056402
         ],
         "y": [
          0,
          -3.761018469216767
         ]
        },
        {
         "line": {
          "color": "grey",
          "width": 0.2
         },
         "mode": "lines+text",
         "showlegend": false,
         "text": [
          null,
          "GB_to_FB"
         ],
         "textposition": "bottom center",
         "type": "scatter",
         "x": [
          0,
          0.43204695305780566
         ],
         "y": [
          0,
          -2.424212198170407
         ]
        },
        {
         "line": {
          "color": "grey",
          "width": 0.2
         },
         "mode": "lines+text",
         "showlegend": false,
         "text": [
          null,
          "HR_to_FB"
         ],
         "textposition": "bottom center",
         "type": "scatter",
         "x": [
          0,
          6.237309104107817
         ],
         "y": [
          0,
          12.674101009935821
         ]
        },
        {
         "line": {
          "color": "grey",
          "width": 0.2
         },
         "mode": "lines+text",
         "showlegend": false,
         "text": [
          null,
          "IFH_pct"
         ],
         "textposition": "bottom center",
         "type": "scatter",
         "x": [
          0,
          1.149333338912166
         ],
         "y": [
          0,
          1.5819142944958415
         ]
        },
        {
         "line": {
          "color": "grey",
          "width": 0.2
         },
         "mode": "lines+text",
         "showlegend": false,
         "text": [
          null,
          "BUH_pct"
         ],
         "textposition": "bottom center",
         "type": "scatter",
         "x": [
          0,
          -12.31316623045182
         ],
         "y": [
          0,
          5.491154828346764
         ]
        },
        {
         "line": {
          "color": "grey",
          "width": 0.2
         },
         "mode": "lines+text",
         "showlegend": false,
         "text": [
          null,
          "FIP"
         ],
         "textposition": "bottom center",
         "type": "scatter",
         "x": [
          0,
          17.839385209780243
         ],
         "y": [
          0,
          23.393226285090694
         ]
        },
        {
         "line": {
          "color": "grey",
          "width": 0.2
         },
         "mode": "lines+text",
         "showlegend": false,
         "text": [
          null,
          "xFIP"
         ],
         "textposition": "bottom center",
         "type": "scatter",
         "x": [
          0,
          20.468622411051978
         ],
         "y": [
          0,
          23.37971833474423
         ]
        },
        {
         "line": {
          "color": "grey",
          "width": 0.2
         },
         "mode": "lines+text",
         "showlegend": false,
         "text": [
          null,
          "SIERA"
         ],
         "textposition": "bottom center",
         "type": "scatter",
         "x": [
          0,
          18.498968287505377
         ],
         "y": [
          0,
          23.846670345124107
         ]
        },
        {
         "line": {
          "color": "grey",
          "width": 0.2
         },
         "mode": "lines+text",
         "showlegend": false,
         "text": [
          null,
          "tERA"
         ],
         "textposition": "bottom center",
         "type": "scatter",
         "x": [
          0,
          16.199420242890177
         ],
         "y": [
          0,
          21.79335379011338
         ]
        },
        {
         "line": {
          "color": "grey",
          "width": 0.2
         },
         "mode": "lines+text",
         "showlegend": false,
         "text": [
          null,
          "kwERA"
         ],
         "textposition": "bottom center",
         "type": "scatter",
         "x": [
          0,
          19.753163747436954
         ],
         "y": [
          0,
          25.90143512658387
         ]
        },
        {
         "line": {
          "color": "grey",
          "width": 0.2
         },
         "mode": "lines+text",
         "showlegend": false,
         "text": [
          null,
          "E_minus_F"
         ],
         "textposition": "bottom center",
         "type": "scatter",
         "x": [
          0,
          8.970844809850385
         ],
         "y": [
          0,
          11.78963991667234
         ]
        },
        {
         "line": {
          "color": "grey",
          "width": 0.2
         },
         "mode": "lines+text",
         "showlegend": false,
         "text": [
          null,
          "RAR"
         ],
         "textposition": "bottom center",
         "type": "scatter",
         "x": [
          0,
          -32.25820898636257
         ],
         "y": [
          0,
          2.064941622319187
         ]
        },
        {
         "line": {
          "color": "grey",
          "width": 0.2
         },
         "mode": "lines+text",
         "showlegend": false,
         "text": [
          null,
          "WAR"
         ],
         "textposition": "bottom center",
         "type": "scatter",
         "x": [
          0,
          -31.98684347853368
         ],
         "y": [
          0,
          2.212231466168559
         ]
        },
        {
         "line": {
          "color": "grey",
          "width": 0.2
         },
         "mode": "lines+text",
         "showlegend": false,
         "text": [
          null,
          "Dollars"
         ],
         "textposition": "bottom center",
         "type": "scatter",
         "x": [
          0,
          -31.986843622393568
         ],
         "y": [
          0,
          2.2122323692525936
         ]
        },
        {
         "line": {
          "color": "grey",
          "width": 0.2
         },
         "mode": "lines+text",
         "showlegend": false,
         "text": [
          null,
          "WPA"
         ],
         "textposition": "bottom center",
         "type": "scatter",
         "x": [
          0,
          -16.42609206706254
         ],
         "y": [
          0,
          -15.867124827309313
         ]
        },
        {
         "line": {
          "color": "grey",
          "width": 0.2
         },
         "mode": "lines+text",
         "showlegend": false,
         "text": [
          null,
          "RE24"
         ],
         "textposition": "bottom center",
         "type": "scatter",
         "x": [
          0,
          -19.10140186796652
         ],
         "y": [
          0,
          -16.811987351308613
         ]
        },
        {
         "line": {
          "color": "grey",
          "width": 0.2
         },
         "mode": "lines+text",
         "showlegend": false,
         "text": [
          null,
          "REW"
         ],
         "textposition": "bottom center",
         "type": "scatter",
         "x": [
          0,
          -19.10808896537815
         ],
         "y": [
          0,
          -16.838055838916656
         ]
        },
        {
         "line": {
          "color": "grey",
          "width": 0.2
         },
         "mode": "lines+text",
         "showlegend": false,
         "text": [
          null,
          "pLI"
         ],
         "textposition": "bottom center",
         "type": "scatter",
         "x": [
          0,
          -13.03030734266353
         ],
         "y": [
          0,
          -10.062742962484393
         ]
        },
        {
         "line": {
          "color": "grey",
          "width": 0.2
         },
         "mode": "lines+text",
         "showlegend": false,
         "text": [
          null,
          "inLI"
         ],
         "textposition": "bottom center",
         "type": "scatter",
         "x": [
          0,
          -15.88080150450271
         ],
         "y": [
          0,
          -11.606866870600657
         ]
        },
        {
         "line": {
          "color": "grey",
          "width": 0.2
         },
         "mode": "lines+text",
         "showlegend": false,
         "text": [
          null,
          "gmLI"
         ],
         "textposition": "bottom center",
         "type": "scatter",
         "x": [
          0,
          -12.551159075678132
         ],
         "y": [
          0,
          -14.358192774465268
         ]
        },
        {
         "line": {
          "color": "grey",
          "width": 0.2
         },
         "mode": "lines+text",
         "showlegend": false,
         "text": [
          null,
          "exLI"
         ],
         "textposition": "bottom center",
         "type": "scatter",
         "x": [
          0,
          -11.29087368341331
         ],
         "y": [
          0,
          -9.151476071773407
         ]
        },
        {
         "line": {
          "color": "grey",
          "width": 0.2
         },
         "mode": "lines+text",
         "showlegend": false,
         "text": [
          null,
          "WPA_to_LI"
         ],
         "textposition": "bottom center",
         "type": "scatter",
         "x": [
          0,
          -18.476246821994813
         ],
         "y": [
          0,
          -17.380649895070235
         ]
        },
        {
         "line": {
          "color": "grey",
          "width": 0.2
         },
         "mode": "lines+text",
         "showlegend": false,
         "text": [
          null,
          "Clutch"
         ],
         "textposition": "bottom center",
         "type": "scatter",
         "x": [
          0,
          -1.5414426678561068
         ],
         "y": [
          0,
          1.7750137446624508
         ]
        },
        {
         "line": {
          "color": "grey",
          "width": 0.2
         },
         "mode": "lines+text",
         "showlegend": false,
         "text": [
          null,
          "OSwing_pct"
         ],
         "textposition": "bottom center",
         "type": "scatter",
         "x": [
          0,
          -13.666673583746428
         ],
         "y": [
          0,
          -11.90075003460528
         ]
        },
        {
         "line": {
          "color": "grey",
          "width": 0.2
         },
         "mode": "lines+text",
         "showlegend": false,
         "text": [
          null,
          "ZSwing_pct"
         ],
         "textposition": "bottom center",
         "type": "scatter",
         "x": [
          0,
          -0.2674408315772952
         ],
         "y": [
          0,
          5.646957725783896
         ]
        },
        {
         "line": {
          "color": "grey",
          "width": 0.2
         },
         "mode": "lines+text",
         "showlegend": false,
         "text": [
          null,
          "Swing_pct"
         ],
         "textposition": "bottom center",
         "type": "scatter",
         "x": [
          0,
          -12.112423050151484
         ],
         "y": [
          0,
          -6.778337442022895
         ]
        },
        {
         "line": {
          "color": "grey",
          "width": 0.2
         },
         "mode": "lines+text",
         "showlegend": false,
         "text": [
          null,
          "OContact_pct"
         ],
         "textposition": "bottom center",
         "type": "scatter",
         "x": [
          0,
          3.6513935664056705
         ],
         "y": [
          0,
          16.787720885921022
         ]
        },
        {
         "line": {
          "color": "grey",
          "width": 0.2
         },
         "mode": "lines+text",
         "showlegend": false,
         "text": [
          null,
          "ZContact_pct"
         ],
         "textposition": "bottom center",
         "type": "scatter",
         "x": [
          0,
          6.345347162274949
         ],
         "y": [
          0,
          18.17934298528665
         ]
        },
        {
         "line": {
          "color": "grey",
          "width": 0.2
         },
         "mode": "lines+text",
         "showlegend": false,
         "text": [
          null,
          "Contact_pct"
         ],
         "textposition": "bottom center",
         "type": "scatter",
         "x": [
          0,
          8.022964071996217
         ],
         "y": [
          0,
          24.348063576658976
         ]
        },
        {
         "line": {
          "color": "grey",
          "width": 0.2
         },
         "mode": "lines+text",
         "showlegend": false,
         "text": [
          null,
          "Zone_pct"
         ],
         "textposition": "bottom center",
         "type": "scatter",
         "x": [
          0,
          -5.886453980142335
         ],
         "y": [
          0,
          -2.557317028287801
         ]
        },
        {
         "line": {
          "color": "grey",
          "width": 0.2
         },
         "mode": "lines+text",
         "showlegend": false,
         "text": [
          null,
          "FStrike_pct"
         ],
         "textposition": "bottom center",
         "type": "scatter",
         "x": [
          0,
          -9.785362271712088
         ],
         "y": [
          0,
          -3.387184716516367
         ]
        },
        {
         "line": {
          "color": "grey",
          "width": 0.2
         },
         "mode": "lines+text",
         "showlegend": false,
         "text": [
          null,
          "SwStr_pct"
         ],
         "textposition": "bottom center",
         "type": "scatter",
         "x": [
          0,
          -11.4662892682017
         ],
         "y": [
          0,
          -24.89298814384077
         ]
        },
        {
         "line": {
          "color": "grey",
          "width": 0.2
         },
         "mode": "lines+text",
         "showlegend": false,
         "text": [
          null,
          "CStr_pct"
         ],
         "textposition": "bottom center",
         "type": "scatter",
         "x": [
          0,
          -4.278836007904907
         ],
         "y": [
          0,
          -5.7793994458146
         ]
        },
        {
         "line": {
          "color": "grey",
          "width": 0.2
         },
         "mode": "lines+text",
         "showlegend": false,
         "text": [
          null,
          "CSW_pct"
         ],
         "textposition": "bottom center",
         "type": "scatter",
         "x": [
          0,
          -12.876801606928625
         ],
         "y": [
          0,
          -25.14475241202568
         ]
        },
        {
         "line": {
          "color": "grey",
          "width": 0.2
         },
         "mode": "lines+text",
         "showlegend": false,
         "text": [
          null,
          "ERA_minus"
         ],
         "textposition": "bottom center",
         "type": "scatter",
         "x": [
          0,
          16.73230080943596
         ],
         "y": [
          0,
          21.879845828566516
         ]
        },
        {
         "line": {
          "color": "grey",
          "width": 0.2
         },
         "mode": "lines+text",
         "showlegend": false,
         "text": [
          null,
          "FIP_minus"
         ],
         "textposition": "bottom center",
         "type": "scatter",
         "x": [
          0,
          17.78152739148858
         ],
         "y": [
          0,
          23.227976259851737
         ]
        },
        {
         "line": {
          "color": "grey",
          "width": 0.2
         },
         "mode": "lines+text",
         "showlegend": false,
         "text": [
          null,
          "xFIP_minus"
         ],
         "textposition": "bottom center",
         "type": "scatter",
         "x": [
          0,
          20.536972368042633
         ],
         "y": [
          0,
          23.427163848845915
         ]
        },
        {
         "line": {
          "color": "grey",
          "width": 0.2
         },
         "mode": "lines+text",
         "showlegend": false,
         "text": [
          null,
          "Pace"
         ],
         "textposition": "bottom center",
         "type": "scatter",
         "x": [
          0,
          -0.48710719411819925
         ],
         "y": [
          0,
          -7.797792753818163
         ]
        },
        {
         "line": {
          "color": "grey",
          "width": 0.2
         },
         "mode": "lines+text",
         "showlegend": false,
         "text": [
          null,
          "RA9_WAR"
         ],
         "textposition": "bottom center",
         "type": "scatter",
         "x": [
          0,
          -30.3364806668903
         ],
         "y": [
          0,
          -0.037414249563652156
         ]
        },
        {
         "line": {
          "color": "grey",
          "width": 0.2
         },
         "mode": "lines+text",
         "showlegend": false,
         "text": [
          null,
          "BIP_Wins"
         ],
         "textposition": "bottom center",
         "type": "scatter",
         "x": [
          0,
          -7.388103073211838
         ],
         "y": [
          0,
          -9.090787973901984
         ]
        },
        {
         "line": {
          "color": "grey",
          "width": 0.2
         },
         "mode": "lines+text",
         "showlegend": false,
         "text": [
          null,
          "LOB_Wins"
         ],
         "textposition": "bottom center",
         "type": "scatter",
         "x": [
          0,
          -2.784025669055027
         ],
         "y": [
          0,
          4.426963025002182
         ]
        },
        {
         "line": {
          "color": "grey",
          "width": 0.2
         },
         "mode": "lines+text",
         "showlegend": false,
         "text": [
          null,
          "FDP_Wins"
         ],
         "textposition": "bottom center",
         "type": "scatter",
         "x": [
          0,
          -8.12317306366024
         ],
         "y": [
          0,
          -4.078112593012019
         ]
        },
        {
         "line": {
          "color": "grey",
          "width": 0.2
         },
         "mode": "lines+text",
         "showlegend": false,
         "text": [
          null,
          "Pull_pct"
         ],
         "textposition": "bottom center",
         "type": "scatter",
         "x": [
          0,
          1.2164057341454906
         ],
         "y": [
          0,
          4.3029527196703565
         ]
        },
        {
         "line": {
          "color": "grey",
          "width": 0.2
         },
         "mode": "lines+text",
         "showlegend": false,
         "text": [
          null,
          "Cent_pct"
         ],
         "textposition": "bottom center",
         "type": "scatter",
         "x": [
          0,
          -0.07092296828777679
         ],
         "y": [
          0,
          0.8674449160868601
         ]
        },
        {
         "line": {
          "color": "grey",
          "width": 0.2
         },
         "mode": "lines+text",
         "showlegend": false,
         "text": [
          null,
          "Oppo_pct"
         ],
         "textposition": "bottom center",
         "type": "scatter",
         "x": [
          0,
          -1.2429676367692637
         ],
         "y": [
          0,
          -4.66666571980796
         ]
        },
        {
         "line": {
          "color": "grey",
          "width": 0.2
         },
         "mode": "lines+text",
         "showlegend": false,
         "text": [
          null,
          "Soft_pct"
         ],
         "textposition": "bottom center",
         "type": "scatter",
         "x": [
          0,
          -3.4204140941877017
         ],
         "y": [
          0,
          -7.949841489940304
         ]
        },
        {
         "line": {
          "color": "grey",
          "width": 0.2
         },
         "mode": "lines+text",
         "showlegend": false,
         "text": [
          null,
          "Med_pct"
         ],
         "textposition": "bottom center",
         "type": "scatter",
         "x": [
          0,
          -4.335425650368584
         ],
         "y": [
          0,
          -4.164035019746911
         ]
        },
        {
         "line": {
          "color": "grey",
          "width": 0.2
         },
         "mode": "lines+text",
         "showlegend": false,
         "text": [
          null,
          "Hard_pct"
         ],
         "textposition": "bottom center",
         "type": "scatter",
         "x": [
          0,
          7.175904842612872
         ],
         "y": [
          0,
          11.549920729240736
         ]
        },
        {
         "line": {
          "color": "grey",
          "width": 0.2
         },
         "mode": "lines+text",
         "showlegend": false,
         "text": [
          null,
          "TTO_pct"
         ],
         "textposition": "bottom center",
         "type": "scatter",
         "x": [
          0,
          0.14630598491155766
         ],
         "y": [
          0,
          -16.192649671576206
         ]
        },
        {
         "line": {
          "color": "grey",
          "width": 0.2
         },
         "mode": "lines+text",
         "showlegend": false,
         "text": [
          null,
          "FRM"
         ],
         "textposition": "bottom center",
         "type": "scatter",
         "x": [
          0,
          -3.3058523545670373
         ],
         "y": [
          0,
          -2.302098599045509
         ]
        },
        {
         "line": {
          "color": "grey",
          "width": 0.2
         },
         "mode": "lines+text",
         "showlegend": false,
         "text": [
          null,
          "K_pct_plus"
         ],
         "textposition": "bottom center",
         "type": "scatter",
         "x": [
          0,
          -14.458447751085913
         ],
         "y": [
          0,
          -29.515796975855277
         ]
        },
        {
         "line": {
          "color": "grey",
          "width": 0.2
         },
         "mode": "lines+text",
         "showlegend": false,
         "text": [
          null,
          "BB_pct_plus"
         ],
         "textposition": "bottom center",
         "type": "scatter",
         "x": [
          0,
          15.83384376365058
         ],
         "y": [
          0,
          6.0447873379248716
         ]
        },
        {
         "line": {
          "color": "grey",
          "width": 0.2
         },
         "mode": "lines+text",
         "showlegend": false,
         "text": [
          null,
          "K_per_9_plus"
         ],
         "textposition": "bottom center",
         "type": "scatter",
         "x": [
          0,
          -8.371904669034532
         ],
         "y": [
          0,
          -22.481414027207347
         ]
        },
        {
         "line": {
          "color": "grey",
          "width": 0.2
         },
         "mode": "lines+text",
         "showlegend": false,
         "text": [
          null,
          "BB_per_9_plus"
         ],
         "textposition": "bottom center",
         "type": "scatter",
         "x": [
          0,
          16.94945001713425
         ],
         "y": [
          0,
          10.838258389797469
         ]
        },
        {
         "line": {
          "color": "grey",
          "width": 0.2
         },
         "mode": "lines+text",
         "showlegend": false,
         "text": [
          null,
          "K_to_BB_plus"
         ],
         "textposition": "bottom center",
         "type": "scatter",
         "x": [
          0,
          -19.29892732261973
         ],
         "y": [
          0,
          -11.01695573619641
         ]
        },
        {
         "line": {
          "color": "grey",
          "width": 0.2
         },
         "mode": "lines+text",
         "showlegend": false,
         "text": [
          null,
          "H_per_9_plus"
         ],
         "textposition": "bottom center",
         "type": "scatter",
         "x": [
          0,
          14.679411284014314
         ],
         "y": [
          0,
          23.31733131225843
         ]
        },
        {
         "line": {
          "color": "grey",
          "width": 0.2
         },
         "mode": "lines+text",
         "showlegend": false,
         "text": [
          null,
          "HR_per_9_plus"
         ],
         "textposition": "bottom center",
         "type": "scatter",
         "x": [
          0,
          10.261900933986443
         ],
         "y": [
          0,
          16.633906112666587
         ]
        },
        {
         "line": {
          "color": "grey",
          "width": 0.2
         },
         "mode": "lines+text",
         "showlegend": false,
         "text": [
          null,
          "AVG_plus"
         ],
         "textposition": "bottom center",
         "type": "scatter",
         "x": [
          0,
          13.992720873185327
         ],
         "y": [
          0,
          26.928241672458412
         ]
        },
        {
         "line": {
          "color": "grey",
          "width": 0.2
         },
         "mode": "lines+text",
         "showlegend": false,
         "text": [
          null,
          "WHIP_plus"
         ],
         "textposition": "bottom center",
         "type": "scatter",
         "x": [
          0,
          19.441998725030533
         ],
         "y": [
          0,
          22.48417558687863
         ]
        },
        {
         "line": {
          "color": "grey",
          "width": 0.2
         },
         "mode": "lines+text",
         "showlegend": false,
         "text": [
          null,
          "BABIP_plus"
         ],
         "textposition": "bottom center",
         "type": "scatter",
         "x": [
          0,
          8.159227039485856
         ],
         "y": [
          0,
          14.680554633163135
         ]
        },
        {
         "line": {
          "color": "grey",
          "width": 0.2
         },
         "mode": "lines+text",
         "showlegend": false,
         "text": [
          null,
          "LOB_pct_plus"
         ],
         "textposition": "bottom center",
         "type": "scatter",
         "x": [
          0,
          -8.634367678354728
         ],
         "y": [
          0,
          -9.579070481996599
         ]
        },
        {
         "line": {
          "color": "grey",
          "width": 0.2
         },
         "mode": "lines+text",
         "showlegend": false,
         "text": [
          null,
          "GB_pct_plus"
         ],
         "textposition": "bottom center",
         "type": "scatter",
         "x": [
          0,
          -2.8970696529171978
         ],
         "y": [
          0,
          -4.0909170496419
         ]
        },
        {
         "line": {
          "color": "grey",
          "width": 0.2
         },
         "mode": "lines+text",
         "showlegend": false,
         "text": [
          null,
          "LD_pct_plus"
         ],
         "textposition": "bottom center",
         "type": "scatter",
         "x": [
          0,
          2.402550102016625
         ],
         "y": [
          0,
          7.583390286073986
         ]
        },
        {
         "line": {
          "color": "grey",
          "width": 0.2
         },
         "mode": "lines+text",
         "showlegend": false,
         "text": [
          null,
          "FB_pct_plus"
         ],
         "textposition": "bottom center",
         "type": "scatter",
         "x": [
          0,
          1.3596062451313975
         ],
         "y": [
          0,
          -0.4730346810503417
         ]
        },
        {
         "line": {
          "color": "grey",
          "width": 0.2
         },
         "mode": "lines+text",
         "showlegend": false,
         "text": [
          null,
          "HR_to_FB_pct_plus"
         ],
         "textposition": "bottom center",
         "type": "scatter",
         "x": [
          0,
          6.112403715065345
         ],
         "y": [
          0,
          12.74270737529534
         ]
        },
        {
         "line": {
          "color": "grey",
          "width": 0.2
         },
         "mode": "lines+text",
         "showlegend": false,
         "text": [
          null,
          "Pull_pct_plus"
         ],
         "textposition": "bottom center",
         "type": "scatter",
         "x": [
          0,
          1.2722416797022178
         ],
         "y": [
          0,
          4.367809771757688
         ]
        },
        {
         "line": {
          "color": "grey",
          "width": 0.2
         },
         "mode": "lines+text",
         "showlegend": false,
         "text": [
          null,
          "Cent_pct_plus"
         ],
         "textposition": "bottom center",
         "type": "scatter",
         "x": [
          0,
          -0.10724619172342771
         ],
         "y": [
          0,
          0.8274127035834713
         ]
        },
        {
         "line": {
          "color": "grey",
          "width": 0.2
         },
         "mode": "lines+text",
         "showlegend": false,
         "text": [
          null,
          "Oppo_pct_plus"
         ],
         "textposition": "bottom center",
         "type": "scatter",
         "x": [
          0,
          -1.2540508819918177
         ],
         "y": [
          0,
          -4.675012353540067
         ]
        },
        {
         "line": {
          "color": "grey",
          "width": 0.2
         },
         "mode": "lines+text",
         "showlegend": false,
         "text": [
          null,
          "Med_pct_plus"
         ],
         "textposition": "bottom center",
         "type": "scatter",
         "x": [
          0,
          -4.259611841904908
         ],
         "y": [
          0,
          -4.036016992840762
         ]
        },
        {
         "line": {
          "color": "grey",
          "width": 0.2
         },
         "mode": "lines+text",
         "showlegend": false,
         "text": [
          null,
          "Hard_pct_plus"
         ],
         "textposition": "bottom center",
         "type": "scatter",
         "x": [
          0,
          7.121380337711649
         ],
         "y": [
          0,
          11.458009410854455
         ]
        },
        {
         "line": {
          "color": "grey",
          "width": 0.2
         },
         "mode": "lines+text",
         "showlegend": false,
         "text": [
          null,
          "EV"
         ],
         "textposition": "bottom center",
         "type": "scatter",
         "x": [
          0,
          5.593682837537396
         ],
         "y": [
          0,
          12.536735641176078
         ]
        },
        {
         "line": {
          "color": "grey",
          "width": 0.2
         },
         "mode": "lines+text",
         "showlegend": false,
         "text": [
          null,
          "LA"
         ],
         "textposition": "bottom center",
         "type": "scatter",
         "x": [
          0,
          0.9943562610747642
         ],
         "y": [
          0,
          0.7574055820988825
         ]
        },
        {
         "line": {
          "color": "grey",
          "width": 0.2
         },
         "mode": "lines+text",
         "showlegend": false,
         "text": [
          null,
          "Barrels"
         ],
         "textposition": "bottom center",
         "type": "scatter",
         "x": [
          0,
          -30.96002285036539
         ],
         "y": [
          0,
          21.124532552221364
         ]
        },
        {
         "line": {
          "color": "grey",
          "width": 0.2
         },
         "mode": "lines+text",
         "showlegend": false,
         "text": [
          null,
          "Barrel_pct"
         ],
         "textposition": "bottom center",
         "type": "scatter",
         "x": [
          0,
          5.914645775394988
         ],
         "y": [
          0,
          10.129601437754891
         ]
        },
        {
         "line": {
          "color": "grey",
          "width": 0.2
         },
         "mode": "lines+text",
         "showlegend": false,
         "text": [
          null,
          "maxEV"
         ],
         "textposition": "bottom center",
         "type": "scatter",
         "x": [
          0,
          -15.16993407754308
         ],
         "y": [
          0,
          12.239830072621649
         ]
        },
        {
         "line": {
          "color": "grey",
          "width": 0.2
         },
         "mode": "lines+text",
         "showlegend": false,
         "text": [
          null,
          "HardHit"
         ],
         "textposition": "bottom center",
         "type": "scatter",
         "x": [
          0,
          -33.250656966195834
         ],
         "y": [
          0,
          19.612156278380677
         ]
        },
        {
         "line": {
          "color": "grey",
          "width": 0.2
         },
         "mode": "lines+text",
         "showlegend": false,
         "text": [
          null,
          "HardHit_pct"
         ],
         "textposition": "bottom center",
         "type": "scatter",
         "x": [
          0,
          6.296893482960607
         ],
         "y": [
          0,
          11.778384219565275
         ]
        },
        {
         "line": {
          "color": "grey",
          "width": 0.2
         },
         "mode": "lines+text",
         "showlegend": false,
         "text": [
          null,
          "FA_pct"
         ],
         "textposition": "bottom center",
         "type": "scatter",
         "x": [
          0,
          3.6751072622039906
         ],
         "y": [
          0,
          -2.783717095027104
         ]
        },
        {
         "line": {
          "color": "grey",
          "width": 0.2
         },
         "mode": "lines+text",
         "showlegend": false,
         "text": [
          null,
          "FAv"
         ],
         "textposition": "bottom center",
         "type": "scatter",
         "x": [
          0,
          -3.1119188097395907
         ],
         "y": [
          0,
          -8.28732539776927
         ]
        },
        {
         "line": {
          "color": "grey",
          "width": 0.2
         },
         "mode": "lines+text",
         "showlegend": false,
         "text": [
          null,
          "SL_pct"
         ],
         "textposition": "bottom center",
         "type": "scatter",
         "x": [
          0,
          3.392264989557416
         ],
         "y": [
          0,
          -16.302866830152233
         ]
        },
        {
         "line": {
          "color": "grey",
          "width": 0.2
         },
         "mode": "lines+text",
         "showlegend": false,
         "text": [
          null,
          "SLv"
         ],
         "textposition": "bottom center",
         "type": "scatter",
         "x": [
          0,
          -1.9574176880805747
         ],
         "y": [
          0,
          -9.212957147099639
         ]
        },
        {
         "line": {
          "color": "grey",
          "width": 0.2
         },
         "mode": "lines+text",
         "showlegend": false,
         "text": [
          null,
          "CT_pct"
         ],
         "textposition": "bottom center",
         "type": "scatter",
         "x": [
          0,
          -2.2849362397958686
         ],
         "y": [
          0,
          7.3454405726541925
         ]
        },
        {
         "line": {
          "color": "grey",
          "width": 0.2
         },
         "mode": "lines+text",
         "showlegend": false,
         "text": [
          null,
          "CTv"
         ],
         "textposition": "bottom center",
         "type": "scatter",
         "x": [
          0,
          -5.386482144733985
         ],
         "y": [
          0,
          11.146259671529377
         ]
        },
        {
         "line": {
          "color": "grey",
          "width": 0.2
         },
         "mode": "lines+text",
         "showlegend": false,
         "text": [
          null,
          "CB_pct"
         ],
         "textposition": "bottom center",
         "type": "scatter",
         "x": [
          0,
          -4.204805151983934
         ],
         "y": [
          0,
          10.137415906138985
         ]
        },
        {
         "line": {
          "color": "grey",
          "width": 0.2
         },
         "mode": "lines+text",
         "showlegend": false,
         "text": [
          null,
          "CBv"
         ],
         "textposition": "bottom center",
         "type": "scatter",
         "x": [
          0,
          -7.813861764648862
         ],
         "y": [
          0,
          18.095337287563492
         ]
        },
        {
         "line": {
          "color": "grey",
          "width": 0.2
         },
         "mode": "lines+text",
         "showlegend": false,
         "text": [
          null,
          "CH_pct"
         ],
         "textposition": "bottom center",
         "type": "scatter",
         "x": [
          0,
          -1.4240904582451905
         ],
         "y": [
          0,
          12.030385169256764
         ]
        },
        {
         "line": {
          "color": "grey",
          "width": 0.2
         },
         "mode": "lines+text",
         "showlegend": false,
         "text": [
          null,
          "CHv"
         ],
         "textposition": "bottom center",
         "type": "scatter",
         "x": [
          0,
          -5.274834225749007
         ],
         "y": [
          0,
          17.513832759232805
         ]
        },
        {
         "line": {
          "color": "grey",
          "width": 0.2
         },
         "mode": "lines+text",
         "showlegend": false,
         "text": [
          null,
          "SF_pct"
         ],
         "textposition": "bottom center",
         "type": "scatter",
         "x": [
          0,
          -2.3065737199236196
         ],
         "y": [
          0,
          -7.747513449578432
         ]
        },
        {
         "line": {
          "color": "grey",
          "width": 0.2
         },
         "mode": "lines+text",
         "showlegend": false,
         "text": [
          null,
          "SFv"
         ],
         "textposition": "bottom center",
         "type": "scatter",
         "x": [
          0,
          -3.251490057756176
         ],
         "y": [
          0,
          -5.793982011360541
         ]
        },
        {
         "line": {
          "color": "grey",
          "width": 0.2
         },
         "mode": "lines+text",
         "showlegend": false,
         "text": [
          null,
          "KN_pct"
         ],
         "textposition": "bottom center",
         "type": "scatter",
         "x": [
          0,
          1.7508832069031397
         ],
         "y": [
          0,
          2.1048277656545484
         ]
        },
        {
         "line": {
          "color": "grey",
          "width": 0.2
         },
         "mode": "lines+text",
         "showlegend": false,
         "text": [
          null,
          "KNv"
         ],
         "textposition": "bottom center",
         "type": "scatter",
         "x": [
          0,
          -0.6309708997562706
         ],
         "y": [
          0,
          1.4053716201405002
         ]
        },
        {
         "line": {
          "color": "grey",
          "width": 0.2
         },
         "mode": "lines+text",
         "showlegend": false,
         "text": [
          null,
          "XX_pct"
         ],
         "textposition": "bottom center",
         "type": "scatter",
         "x": [
          0,
          2.3488265093723992
         ],
         "y": [
          0,
          -4.370670828538512
         ]
        },
        {
         "line": {
          "color": "grey",
          "width": 0.2
         },
         "mode": "lines+text",
         "showlegend": false,
         "text": [
          null,
          "PO_pct"
         ],
         "textposition": "bottom center",
         "type": "scatter",
         "x": [
          0,
          0
         ],
         "y": [
          0,
          0
         ]
        },
        {
         "line": {
          "color": "grey",
          "width": 0.2
         },
         "mode": "lines+text",
         "showlegend": false,
         "text": [
          null,
          "wFB"
         ],
         "textposition": "bottom center",
         "type": "scatter",
         "x": [
          0,
          -11.16793578713085
         ],
         "y": [
          0,
          -15.545535068137397
         ]
        },
        {
         "line": {
          "color": "grey",
          "width": 0.2
         },
         "mode": "lines+text",
         "showlegend": false,
         "text": [
          null,
          "wSL"
         ],
         "textposition": "bottom center",
         "type": "scatter",
         "x": [
          0,
          -11.173358093441431
         ],
         "y": [
          0,
          -12.819329192333997
         ]
        },
        {
         "line": {
          "color": "grey",
          "width": 0.2
         },
         "mode": "lines+text",
         "showlegend": false,
         "text": [
          null,
          "wCT"
         ],
         "textposition": "bottom center",
         "type": "scatter",
         "x": [
          0,
          -5.018199075662132
         ],
         "y": [
          0,
          -4.802185526148741
         ]
        },
        {
         "line": {
          "color": "grey",
          "width": 0.2
         },
         "mode": "lines+text",
         "showlegend": false,
         "text": [
          null,
          "wCB"
         ],
         "textposition": "bottom center",
         "type": "scatter",
         "x": [
          0,
          -5.129633599060297
         ],
         "y": [
          0,
          -6.9001924150466705
         ]
        },
        {
         "line": {
          "color": "grey",
          "width": 0.2
         },
         "mode": "lines+text",
         "showlegend": false,
         "text": [
          null,
          "wCH"
         ],
         "textposition": "bottom center",
         "type": "scatter",
         "x": [
          0,
          -3.9369317916587705
         ],
         "y": [
          0,
          -7.315594965212144
         ]
        },
        {
         "line": {
          "color": "grey",
          "width": 0.2
         },
         "mode": "lines+text",
         "showlegend": false,
         "text": [
          null,
          "wSF"
         ],
         "textposition": "bottom center",
         "type": "scatter",
         "x": [
          0,
          -5.928951059873097
         ],
         "y": [
          0,
          -3.521006885260473
         ]
        },
        {
         "line": {
          "color": "grey",
          "width": 0.2
         },
         "mode": "lines+text",
         "showlegend": false,
         "text": [
          null,
          "wKN"
         ],
         "textposition": "bottom center",
         "type": "scatter",
         "x": [
          0,
          -1.7160073703717227
         ],
         "y": [
          0,
          -2.1715379859595934
         ]
        },
        {
         "line": {
          "color": "grey",
          "width": 0.2
         },
         "mode": "lines+text",
         "showlegend": false,
         "text": [
          null,
          "wFB_per_c"
         ],
         "textposition": "bottom center",
         "type": "scatter",
         "x": [
          0,
          -12.203330886187747
         ],
         "y": [
          0,
          -17.054405971345258
         ]
        },
        {
         "line": {
          "color": "grey",
          "width": 0.2
         },
         "mode": "lines+text",
         "showlegend": false,
         "text": [
          null,
          "wSL_per_c"
         ],
         "textposition": "bottom center",
         "type": "scatter",
         "x": [
          0,
          -8.058083790559502
         ],
         "y": [
          0,
          -12.62795280356786
         ]
        },
        {
         "line": {
          "color": "grey",
          "width": 0.2
         },
         "mode": "lines+text",
         "showlegend": false,
         "text": [
          null,
          "wCT_per_c"
         ],
         "textposition": "bottom center",
         "type": "scatter",
         "x": [
          0,
          -2.6740323587994648
         ],
         "y": [
          0,
          -4.911365234032011
         ]
        },
        {
         "line": {
          "color": "grey",
          "width": 0.2
         },
         "mode": "lines+text",
         "showlegend": false,
         "text": [
          null,
          "wCB_per_c"
         ],
         "textposition": "bottom center",
         "type": "scatter",
         "x": [
          0,
          -3.6338391609707688
         ],
         "y": [
          0,
          -7.378646604181291
         ]
        },
        {
         "line": {
          "color": "grey",
          "width": 0.2
         },
         "mode": "lines+text",
         "showlegend": false,
         "text": [
          null,
          "wCH_per_c"
         ],
         "textposition": "bottom center",
         "type": "scatter",
         "x": [
          0,
          -3.410136918305981
         ],
         "y": [
          0,
          -5.150088582533197
         ]
        },
        {
         "line": {
          "color": "grey",
          "width": 0.2
         },
         "mode": "lines+text",
         "showlegend": false,
         "text": [
          null,
          "wSF_per_c"
         ],
         "textposition": "bottom center",
         "type": "scatter",
         "x": [
          0,
          -2.196913903322527
         ],
         "y": [
          0,
          -1.394809398207397
         ]
        },
        {
         "line": {
          "color": "grey",
          "width": 0.2
         },
         "mode": "lines+text",
         "showlegend": false,
         "text": [
          null,
          "wKN_per_c"
         ],
         "textposition": "bottom center",
         "type": "scatter",
         "x": [
          0,
          -0.312955564217805
         ],
         "y": [
          0,
          -0.6041334076732878
         ]
        },
        {
         "line": {
          "color": "grey",
          "width": 0.2
         },
         "mode": "lines+text",
         "showlegend": false,
         "text": [
          null,
          "FA_pct_sc"
         ],
         "textposition": "bottom center",
         "type": "scatter",
         "x": [
          0,
          0.6016312157773467
         ],
         "y": [
          0,
          -5.249718599576941
         ]
        },
        {
         "line": {
          "color": "grey",
          "width": 0.2
         },
         "mode": "lines+text",
         "showlegend": false,
         "text": [
          null,
          "FC_pct_sc"
         ],
         "textposition": "bottom center",
         "type": "scatter",
         "x": [
          0,
          -2.3058669578636417
         ],
         "y": [
          0,
          7.628375762775652
         ]
        },
        {
         "line": {
          "color": "grey",
          "width": 0.2
         },
         "mode": "lines+text",
         "showlegend": false,
         "text": [
          null,
          "FS_pct_sc"
         ],
         "textposition": "bottom center",
         "type": "scatter",
         "x": [
          0,
          -3.6425033609410478
         ],
         "y": [
          0,
          -8.683577161112003
         ]
        },
        {
         "line": {
          "color": "grey",
          "width": 0.2
         },
         "mode": "lines+text",
         "showlegend": false,
         "text": [
          null,
          "FO_pct_sc"
         ],
         "textposition": "bottom center",
         "type": "scatter",
         "x": [
          0,
          -0.8902374614383649
         ],
         "y": [
          0,
          0.6678620862102407
         ]
        },
        {
         "line": {
          "color": "grey",
          "width": 0.2
         },
         "mode": "lines+text",
         "showlegend": false,
         "text": [
          null,
          "SI_pct_sc"
         ],
         "textposition": "bottom center",
         "type": "scatter",
         "x": [
          0,
          2.0231182485266013
         ],
         "y": [
          0,
          4.069181844044059
         ]
        },
        {
         "line": {
          "color": "grey",
          "width": 0.2
         },
         "mode": "lines+text",
         "showlegend": false,
         "text": [
          null,
          "SL_pct_sc"
         ],
         "textposition": "bottom center",
         "type": "scatter",
         "x": [
          0,
          3.1290775932536916
         ],
         "y": [
          0,
          -18.200538939519664
         ]
        },
        {
         "line": {
          "color": "grey",
          "width": 0.2
         },
         "mode": "lines+text",
         "showlegend": false,
         "text": [
          null,
          "CU_pct_sc"
         ],
         "textposition": "bottom center",
         "type": "scatter",
         "x": [
          0,
          -2.215969919717839
         ],
         "y": [
          0,
          13.171008629769279
         ]
        },
        {
         "line": {
          "color": "grey",
          "width": 0.2
         },
         "mode": "lines+text",
         "showlegend": false,
         "text": [
          null,
          "KC_pct_sc"
         ],
         "textposition": "bottom center",
         "type": "scatter",
         "x": [
          0,
          -3.587076086871616
         ],
         "y": [
          0,
          -0.25461402016311563
         ]
        },
        {
         "line": {
          "color": "grey",
          "width": 0.2
         },
         "mode": "lines+text",
         "showlegend": false,
         "text": [
          null,
          "EP_pct_sc"
         ],
         "textposition": "bottom center",
         "type": "scatter",
         "x": [
          0,
          -1.5998628949592344
         ],
         "y": [
          0,
          1.8764340746149952
         ]
        },
        {
         "line": {
          "color": "grey",
          "width": 0.2
         },
         "mode": "lines+text",
         "showlegend": false,
         "text": [
          null,
          "CH_pct_sc"
         ],
         "textposition": "bottom center",
         "type": "scatter",
         "x": [
          0,
          -0.9053777099909283
         ],
         "y": [
          0,
          12.251247907413546
         ]
        },
        {
         "line": {
          "color": "grey",
          "width": 0.2
         },
         "mode": "lines+text",
         "showlegend": false,
         "text": [
          null,
          "SC_pct_sc"
         ],
         "textposition": "bottom center",
         "type": "scatter",
         "x": [
          0,
          0.06333149452609038
         ],
         "y": [
          0,
          0.3924959271929537
         ]
        },
        {
         "line": {
          "color": "grey",
          "width": 0.2
         },
         "mode": "lines+text",
         "showlegend": false,
         "text": [
          null,
          "KN_pct_sc"
         ],
         "textposition": "bottom center",
         "type": "scatter",
         "x": [
          0,
          1.7346509304986724
         ],
         "y": [
          0,
          2.0734795900293617
         ]
        },
        {
         "line": {
          "color": "grey",
          "width": 0.2
         },
         "mode": "lines+text",
         "showlegend": false,
         "text": [
          null,
          "UN_pct_sc"
         ],
         "textposition": "bottom center",
         "type": "scatter",
         "x": [
          0,
          0
         ],
         "y": [
          0,
          0
         ]
        },
        {
         "line": {
          "color": "grey",
          "width": 0.2
         },
         "mode": "lines+text",
         "showlegend": false,
         "text": [
          null,
          "vFA_sc"
         ],
         "textposition": "bottom center",
         "type": "scatter",
         "x": [
          0,
          -5.420716793809088
         ],
         "y": [
          0,
          -2.900192051524106
         ]
        },
        {
         "line": {
          "color": "grey",
          "width": 0.2
         },
         "mode": "lines+text",
         "showlegend": false,
         "text": [
          null,
          "vFC_sc"
         ],
         "textposition": "bottom center",
         "type": "scatter",
         "x": [
          0,
          -5.451080676572618
         ],
         "y": [
          0,
          11.228873932986685
         ]
        },
        {
         "line": {
          "color": "grey",
          "width": 0.2
         },
         "mode": "lines+text",
         "showlegend": false,
         "text": [
          null,
          "vFS_sc"
         ],
         "textposition": "bottom center",
         "type": "scatter",
         "x": [
          0,
          -4.577694676246952
         ],
         "y": [
          0,
          -8.44758016004934
         ]
        },
        {
         "line": {
          "color": "grey",
          "width": 0.2
         },
         "mode": "lines+text",
         "showlegend": false,
         "text": [
          null,
          "vFO_sc"
         ],
         "textposition": "bottom center",
         "type": "scatter",
         "x": [
          0,
          -0.8137352204209068
         ],
         "y": [
          0,
          0.5757855997409972
         ]
        },
        {
         "line": {
          "color": "grey",
          "width": 0.2
         },
         "mode": "lines+text",
         "showlegend": false,
         "text": [
          null,
          "vSI_sc"
         ],
         "textposition": "bottom center",
         "type": "scatter",
         "x": [
          0,
          -4.827964297493883
         ],
         "y": [
          0,
          7.1392076129842374
         ]
        },
        {
         "line": {
          "color": "grey",
          "width": 0.2
         },
         "mode": "lines+text",
         "showlegend": false,
         "text": [
          null,
          "vSL_sc"
         ],
         "textposition": "bottom center",
         "type": "scatter",
         "x": [
          0,
          -1.6662673894707256
         ],
         "y": [
          0,
          -11.53872543870219
         ]
        },
        {
         "line": {
          "color": "grey",
          "width": 0.2
         },
         "mode": "lines+text",
         "showlegend": false,
         "text": [
          null,
          "vCU_sc"
         ],
         "textposition": "bottom center",
         "type": "scatter",
         "x": [
          0,
          -5.367762640009054
         ],
         "y": [
          0,
          19.724588350448336
         ]
        },
        {
         "line": {
          "color": "grey",
          "width": 0.2
         },
         "mode": "lines+text",
         "showlegend": false,
         "text": [
          null,
          "vKC_sc"
         ],
         "textposition": "bottom center",
         "type": "scatter",
         "x": [
          0,
          -5.821969233811675
         ],
         "y": [
          0,
          0.6877487368209221
         ]
        },
        {
         "line": {
          "color": "grey",
          "width": 0.2
         },
         "mode": "lines+text",
         "showlegend": false,
         "text": [
          null,
          "vEP_sc"
         ],
         "textposition": "bottom center",
         "type": "scatter",
         "x": [
          0,
          -1.5998628949592337
         ],
         "y": [
          0,
          1.8764340746149943
         ]
        },
        {
         "line": {
          "color": "grey",
          "width": 0.2
         },
         "mode": "lines+text",
         "showlegend": false,
         "text": [
          null,
          "vCH_sc"
         ],
         "textposition": "bottom center",
         "type": "scatter",
         "x": [
          0,
          -4.812808439067278
         ],
         "y": [
          0,
          18.114084940790157
         ]
        },
        {
         "line": {
          "color": "grey",
          "width": 0.2
         },
         "mode": "lines+text",
         "showlegend": false,
         "text": [
          null,
          "vSC_sc"
         ],
         "textposition": "bottom center",
         "type": "scatter",
         "x": [
          0,
          0.2985744441095129
         ],
         "y": [
          0,
          0.4075076642063201
         ]
        },
        {
         "line": {
          "color": "grey",
          "width": 0.2
         },
         "mode": "lines+text",
         "showlegend": false,
         "text": [
          null,
          "vKN_sc"
         ],
         "textposition": "bottom center",
         "type": "scatter",
         "x": [
          0,
          -0.010543731339971557
         ],
         "y": [
          0,
          1.4942609058624583
         ]
        },
        {
         "line": {
          "color": "grey",
          "width": 0.2
         },
         "mode": "lines+text",
         "showlegend": false,
         "text": [
          null,
          "FA_X_sc"
         ],
         "textposition": "bottom center",
         "type": "scatter",
         "x": [
          0,
          0.48582750593196544
         ],
         "y": [
          0,
          5.158362070847788
         ]
        },
        {
         "line": {
          "color": "grey",
          "width": 0.2
         },
         "mode": "lines+text",
         "showlegend": false,
         "text": [
          null,
          "FC_X_sc"
         ],
         "textposition": "bottom center",
         "type": "scatter",
         "x": [
          0,
          -2.38425612563372
         ],
         "y": [
          0,
          2.8836067173263378
         ]
        },
        {
         "line": {
          "color": "grey",
          "width": 0.2
         },
         "mode": "lines+text",
         "showlegend": false,
         "text": [
          null,
          "FS_X_sc"
         ],
         "textposition": "bottom center",
         "type": "scatter",
         "x": [
          0,
          4.696047393207424
         ],
         "y": [
          0,
          6.648932877364437
         ]
        },
        {
         "line": {
          "color": "grey",
          "width": 0.2
         },
         "mode": "lines+text",
         "showlegend": false,
         "text": [
          null,
          "FO_X_sc"
         ],
         "textposition": "bottom center",
         "type": "scatter",
         "x": [
          0,
          0.6751243183512963
         ],
         "y": [
          0,
          -0.48045005185319434
         ]
        },
        {
         "line": {
          "color": "grey",
          "width": 0.2
         },
         "mode": "lines+text",
         "showlegend": false,
         "text": [
          null,
          "SI_X_sc"
         ],
         "textposition": "bottom center",
         "type": "scatter",
         "x": [
          0,
          1.0184213024967317
         ],
         "y": [
          0,
          0.2451312916031443
         ]
        },
        {
         "line": {
          "color": "grey",
          "width": 0.2
         },
         "mode": "lines+text",
         "showlegend": false,
         "text": [
          null,
          "SL_X_sc"
         ],
         "textposition": "bottom center",
         "type": "scatter",
         "x": [
          0,
          -1.7164980244471912
         ],
         "y": [
          0,
          -3.136115240969292
         ]
        },
        {
         "line": {
          "color": "grey",
          "width": 0.2
         },
         "mode": "lines+text",
         "showlegend": false,
         "text": [
          null,
          "CU_X_sc"
         ],
         "textposition": "bottom center",
         "type": "scatter",
         "x": [
          0,
          -2.290158771878257
         ],
         "y": [
          0,
          4.698461848740769
         ]
        },
        {
         "line": {
          "color": "grey",
          "width": 0.2
         },
         "mode": "lines+text",
         "showlegend": false,
         "text": [
          null,
          "KC_X_sc"
         ],
         "textposition": "bottom center",
         "type": "scatter",
         "x": [
          0,
          -4.613561063780996
         ],
         "y": [
          0,
          -1.3052249220760854
         ]
        },
        {
         "line": {
          "color": "grey",
          "width": 0.2
         },
         "mode": "lines+text",
         "showlegend": false,
         "text": [
          null,
          "EP_X_sc"
         ],
         "textposition": "bottom center",
         "type": "scatter",
         "x": [
          0,
          -1.5998628949592337
         ],
         "y": [
          0,
          1.8764340746149943
         ]
        },
        {
         "line": {
          "color": "grey",
          "width": 0.2
         },
         "mode": "lines+text",
         "showlegend": false,
         "text": [
          null,
          "CH_X_sc"
         ],
         "textposition": "bottom center",
         "type": "scatter",
         "x": [
          0,
          0.43444223541662963
         ],
         "y": [
          0,
          -1.7977752874693416
         ]
        },
        {
         "line": {
          "color": "grey",
          "width": 0.2
         },
         "mode": "lines+text",
         "showlegend": false,
         "text": [
          null,
          "SC_X_sc"
         ],
         "textposition": "bottom center",
         "type": "scatter",
         "x": [
          0,
          -0.30962700992119346
         ],
         "y": [
          0,
          -0.4046260566663698
         ]
        },
        {
         "line": {
          "color": "grey",
          "width": 0.2
         },
         "mode": "lines+text",
         "showlegend": false,
         "text": [
          null,
          "KN_X_sc"
         ],
         "textposition": "bottom center",
         "type": "scatter",
         "x": [
          0,
          1.453054412977675
         ],
         "y": [
          0,
          -1.0358067952001981
         ]
        },
        {
         "line": {
          "color": "grey",
          "width": 0.2
         },
         "mode": "lines+text",
         "showlegend": false,
         "text": [
          null,
          "FA_Z_sc"
         ],
         "textposition": "bottom center",
         "type": "scatter",
         "x": [
          0,
          -4.708784890955503
         ],
         "y": [
          0,
          -1.484090209171124
         ]
        },
        {
         "line": {
          "color": "grey",
          "width": 0.2
         },
         "mode": "lines+text",
         "showlegend": false,
         "text": [
          null,
          "FC_Z_sc"
         ],
         "textposition": "bottom center",
         "type": "scatter",
         "x": [
          0,
          -4.883046664019696
         ],
         "y": [
          0,
          10.518427828502066
         ]
        },
        {
         "line": {
          "color": "grey",
          "width": 0.2
         },
         "mode": "lines+text",
         "showlegend": false,
         "text": [
          null,
          "FS_Z_sc"
         ],
         "textposition": "bottom center",
         "type": "scatter",
         "x": [
          0,
          -2.971233769837214
         ],
         "y": [
          0,
          -7.037437654638116
         ]
        },
        {
         "line": {
          "color": "grey",
          "width": 0.2
         },
         "mode": "lines+text",
         "showlegend": false,
         "text": [
          null,
          "FO_Z_sc"
         ],
         "textposition": "bottom center",
         "type": "scatter",
         "x": [
          0,
          -1.8076694235126378
         ],
         "y": [
          0,
          0.45289061756270216
         ]
        },
        {
         "line": {
          "color": "grey",
          "width": 0.2
         },
         "mode": "lines+text",
         "showlegend": false,
         "text": [
          null,
          "SI_Z_sc"
         ],
         "textposition": "bottom center",
         "type": "scatter",
         "x": [
          0,
          -5.7067691505642335
         ],
         "y": [
          0,
          8.827389851500653
         ]
        },
        {
         "line": {
          "color": "grey",
          "width": 0.2
         },
         "mode": "lines+text",
         "showlegend": false,
         "text": [
          null,
          "SL_Z_sc"
         ],
         "textposition": "bottom center",
         "type": "scatter",
         "x": [
          0,
          -2.5546865155683274
         ],
         "y": [
          0,
          -2.5160215466781732
         ]
        },
        {
         "line": {
          "color": "grey",
          "width": 0.2
         },
         "mode": "lines+text",
         "showlegend": false,
         "text": [
          null,
          "CU_Z_sc"
         ],
         "textposition": "bottom center",
         "type": "scatter",
         "x": [
          0,
          4.240354728056945
         ],
         "y": [
          0,
          -15.440209382984548
         ]
        },
        {
         "line": {
          "color": "grey",
          "width": 0.2
         },
         "mode": "lines+text",
         "showlegend": false,
         "text": [
          null,
          "KC_Z_sc"
         ],
         "textposition": "bottom center",
         "type": "scatter",
         "x": [
          0,
          5.924988679915576
         ],
         "y": [
          0,
          0.18111493959872915
         ]
        },
        {
         "line": {
          "color": "grey",
          "width": 0.2
         },
         "mode": "lines+text",
         "showlegend": false,
         "text": [
          null,
          "EP_Z_sc"
         ],
         "textposition": "bottom center",
         "type": "scatter",
         "x": [
          0,
          -1.5998628949592337
         ],
         "y": [
          0,
          1.8764340746149943
         ]
        },
        {
         "line": {
          "color": "grey",
          "width": 0.2
         },
         "mode": "lines+text",
         "showlegend": false,
         "text": [
          null,
          "CH_Z_sc"
         ],
         "textposition": "bottom center",
         "type": "scatter",
         "x": [
          0,
          -4.403716399043792
         ],
         "y": [
          0,
          14.246913800358637
         ]
        },
        {
         "line": {
          "color": "grey",
          "width": 0.2
         },
         "mode": "lines+text",
         "showlegend": false,
         "text": [
          null,
          "SC_Z_sc"
         ],
         "textposition": "bottom center",
         "type": "scatter",
         "x": [
          0,
          -0.14685940560233432
         ],
         "y": [
          0,
          -0.41139689092461174
         ]
        },
        {
         "line": {
          "color": "grey",
          "width": 0.2
         },
         "mode": "lines+text",
         "showlegend": false,
         "text": [
          null,
          "KN_Z_sc"
         ],
         "textposition": "bottom center",
         "type": "scatter",
         "x": [
          0,
          0.3197606490113468
         ],
         "y": [
          0,
          1.3683755195308487
         ]
        },
        {
         "line": {
          "color": "grey",
          "width": 0.2
         },
         "mode": "lines+text",
         "showlegend": false,
         "text": [
          null,
          "wFA_sc"
         ],
         "textposition": "bottom center",
         "type": "scatter",
         "x": [
          0,
          -9.596806601045847
         ],
         "y": [
          0,
          -13.836460688727739
         ]
        },
        {
         "line": {
          "color": "grey",
          "width": 0.2
         },
         "mode": "lines+text",
         "showlegend": false,
         "text": [
          null,
          "wFC_sc"
         ],
         "textposition": "bottom center",
         "type": "scatter",
         "x": [
          0,
          -6.217172554651951
         ],
         "y": [
          0,
          -4.2237788539310825
         ]
        },
        {
         "line": {
          "color": "grey",
          "width": 0.2
         },
         "mode": "lines+text",
         "showlegend": false,
         "text": [
          null,
          "wFS_sc"
         ],
         "textposition": "bottom center",
         "type": "scatter",
         "x": [
          0,
          -5.633823049128901
         ],
         "y": [
          0,
          -3.828023588680141
         ]
        },
        {
         "line": {
          "color": "grey",
          "width": 0.2
         },
         "mode": "lines+text",
         "showlegend": false,
         "text": [
          null,
          "wFO_sc"
         ],
         "textposition": "bottom center",
         "type": "scatter",
         "x": [
          0,
          -2.004086454205013
         ],
         "y": [
          0,
          0.6808369184384179
         ]
        },
        {
         "line": {
          "color": "grey",
          "width": 0.2
         },
         "mode": "lines+text",
         "showlegend": false,
         "text": [
          null,
          "wSI_sc"
         ],
         "textposition": "bottom center",
         "type": "scatter",
         "x": [
          0,
          -8.521291765659138
         ],
         "y": [
          0,
          -6.066601114549522
         ]
        },
        {
         "line": {
          "color": "grey",
          "width": 0.2
         },
         "mode": "lines+text",
         "showlegend": false,
         "text": [
          null,
          "wSL_sc"
         ],
         "textposition": "bottom center",
         "type": "scatter",
         "x": [
          0,
          -12.058947051051703
         ],
         "y": [
          0,
          -12.716960164655067
         ]
        },
        {
         "line": {
          "color": "grey",
          "width": 0.2
         },
         "mode": "lines+text",
         "showlegend": false,
         "text": [
          null,
          "wCU_sc"
         ],
         "textposition": "bottom center",
         "type": "scatter",
         "x": [
          0,
          -6.1737488009611985
         ],
         "y": [
          0,
          -5.359909484635588
         ]
        },
        {
         "line": {
          "color": "grey",
          "width": 0.2
         },
         "mode": "lines+text",
         "showlegend": false,
         "text": [
          null,
          "wKC_sc"
         ],
         "textposition": "bottom center",
         "type": "scatter",
         "x": [
          0,
          -1.3754367393213103
         ],
         "y": [
          0,
          -3.168939044205328
         ]
        },
        {
         "line": {
          "color": "grey",
          "width": 0.2
         },
         "mode": "lines+text",
         "showlegend": false,
         "text": [
          null,
          "wEP_sc"
         ],
         "textposition": "bottom center",
         "type": "scatter",
         "x": [
          0,
          -1.599862894959234
         ],
         "y": [
          0,
          1.8764340746149943
         ]
        },
        {
         "line": {
          "color": "grey",
          "width": 0.2
         },
         "mode": "lines+text",
         "showlegend": false,
         "text": [
          null,
          "wCH_sc"
         ],
         "textposition": "bottom center",
         "type": "scatter",
         "x": [
          0,
          -5.479629202735679
         ],
         "y": [
          0,
          -5.922001338913196
         ]
        },
        {
         "line": {
          "color": "grey",
          "width": 0.2
         },
         "mode": "lines+text",
         "showlegend": false,
         "text": [
          null,
          "wSC_sc"
         ],
         "textposition": "bottom center",
         "type": "scatter",
         "x": [
          0,
          0.07448854290084232
         ],
         "y": [
          0,
          -0.33499747500416865
         ]
        },
        {
         "line": {
          "color": "grey",
          "width": 0.2
         },
         "mode": "lines+text",
         "showlegend": false,
         "text": [
          null,
          "wKN_sc"
         ],
         "textposition": "bottom center",
         "type": "scatter",
         "x": [
          0,
          -1.7550591779584068
         ],
         "y": [
          0,
          -2.172919084016485
         ]
        },
        {
         "line": {
          "color": "grey",
          "width": 0.2
         },
         "mode": "lines+text",
         "showlegend": false,
         "text": [
          null,
          "wFA_per_c_sc"
         ],
         "textposition": "bottom center",
         "type": "scatter",
         "x": [
          0,
          -6.901375202728976
         ],
         "y": [
          0,
          -10.588801656658099
         ]
        },
        {
         "line": {
          "color": "grey",
          "width": 0.2
         },
         "mode": "lines+text",
         "showlegend": false,
         "text": [
          null,
          "wFC_per_c_sc"
         ],
         "textposition": "bottom center",
         "type": "scatter",
         "x": [
          0,
          -3.0579377073999323
         ],
         "y": [
          0,
          -5.156191265980966
         ]
        },
        {
         "line": {
          "color": "grey",
          "width": 0.2
         },
         "mode": "lines+text",
         "showlegend": false,
         "text": [
          null,
          "wFS_per_c_sc"
         ],
         "textposition": "bottom center",
         "type": "scatter",
         "x": [
          0,
          -1.6940775984878476
         ],
         "y": [
          0,
          -1.9671040943824896
         ]
        },
        {
         "line": {
          "color": "grey",
          "width": 0.2
         },
         "mode": "lines+text",
         "showlegend": false,
         "text": [
          null,
          "wFO_per_c_sc"
         ],
         "textposition": "bottom center",
         "type": "scatter",
         "x": [
          0,
          -1.2231138157457422
         ],
         "y": [
          0,
          0.2117018757723345
         ]
        },
        {
         "line": {
          "color": "grey",
          "width": 0.2
         },
         "mode": "lines+text",
         "showlegend": false,
         "text": [
          null,
          "wSI_per_c_sc"
         ],
         "textposition": "bottom center",
         "type": "scatter",
         "x": [
          0,
          -3.1767537561204757
         ],
         "y": [
          0,
          -5.7112866867289735
         ]
        },
        {
         "line": {
          "color": "grey",
          "width": 0.2
         },
         "mode": "lines+text",
         "showlegend": false,
         "text": [
          null,
          "wSL_per_c_sc"
         ],
         "textposition": "bottom center",
         "type": "scatter",
         "x": [
          0,
          -6.593186865594163
         ],
         "y": [
          0,
          -10.7905543327035
         ]
        },
        {
         "line": {
          "color": "grey",
          "width": 0.2
         },
         "mode": "lines+text",
         "showlegend": false,
         "text": [
          null,
          "wCU_per_c_sc"
         ],
         "textposition": "bottom center",
         "type": "scatter",
         "x": [
          0,
          -3.4488283505039923
         ],
         "y": [
          0,
          -6.027818538564424
         ]
        },
        {
         "line": {
          "color": "grey",
          "width": 0.2
         },
         "mode": "lines+text",
         "showlegend": false,
         "text": [
          null,
          "wKC_per_c_sc"
         ],
         "textposition": "bottom center",
         "type": "scatter",
         "x": [
          0,
          -0.8143206256475424
         ],
         "y": [
          0,
          -2.630751784667393
         ]
        },
        {
         "line": {
          "color": "grey",
          "width": 0.2
         },
         "mode": "lines+text",
         "showlegend": false,
         "text": [
          null,
          "wEP_per_c_sc"
         ],
         "textposition": "bottom center",
         "type": "scatter",
         "x": [
          0,
          -1.5998628949592333
         ],
         "y": [
          0,
          1.8764340746149943
         ]
        },
        {
         "line": {
          "color": "grey",
          "width": 0.2
         },
         "mode": "lines+text",
         "showlegend": false,
         "text": [
          null,
          "wCH_per_c_sc"
         ],
         "textposition": "bottom center",
         "type": "scatter",
         "x": [
          0,
          -3.60199469045719
         ],
         "y": [
          0,
          -4.13811979557559
         ]
        },
        {
         "line": {
          "color": "grey",
          "width": 0.2
         },
         "mode": "lines+text",
         "showlegend": false,
         "text": [
          null,
          "wSC_per_c_sc"
         ],
         "textposition": "bottom center",
         "type": "scatter",
         "x": [
          0,
          0.46403430247347044
         ],
         "y": [
          0,
          0.1306971501992432
         ]
        },
        {
         "line": {
          "color": "grey",
          "width": 0.2
         },
         "mode": "lines+text",
         "showlegend": false,
         "text": [
          null,
          "wKN_per_c_sc"
         ],
         "textposition": "bottom center",
         "type": "scatter",
         "x": [
          0,
          -2.590577585349843
         ],
         "y": [
          0,
          -1.7730492123752717
         ]
        },
        {
         "line": {
          "color": "grey",
          "width": 0.2
         },
         "mode": "lines+text",
         "showlegend": false,
         "text": [
          null,
          "OSwing_pct_sc"
         ],
         "textposition": "bottom center",
         "type": "scatter",
         "x": [
          0,
          -13.611170434406976
         ],
         "y": [
          0,
          -12.651958470658712
         ]
        },
        {
         "line": {
          "color": "grey",
          "width": 0.2
         },
         "mode": "lines+text",
         "showlegend": false,
         "text": [
          null,
          "ZSwing_pct_sc"
         ],
         "textposition": "bottom center",
         "type": "scatter",
         "x": [
          0,
          -0.8888413331375261
         ],
         "y": [
          0,
          4.176507936833968
         ]
        },
        {
         "line": {
          "color": "grey",
          "width": 0.2
         },
         "mode": "lines+text",
         "showlegend": false,
         "text": [
          null,
          "Swing_pct_sc"
         ],
         "textposition": "bottom center",
         "type": "scatter",
         "x": [
          0,
          -12.072408929047072
         ],
         "y": [
          0,
          -6.83608389556592
         ]
        },
        {
         "line": {
          "color": "grey",
          "width": 0.2
         },
         "mode": "lines+text",
         "showlegend": false,
         "text": [
          null,
          "OContact_pct_sc"
         ],
         "textposition": "bottom center",
         "type": "scatter",
         "x": [
          0,
          1.9198023021721178
         ],
         "y": [
          0,
          12.706467527852986
         ]
        },
        {
         "line": {
          "color": "grey",
          "width": 0.2
         },
         "mode": "lines+text",
         "showlegend": false,
         "text": [
          null,
          "ZContact_pct_sc"
         ],
         "textposition": "bottom center",
         "type": "scatter",
         "x": [
          0,
          7.065245064246
         ],
         "y": [
          0,
          20.676969773942794
         ]
        },
        {
         "line": {
          "color": "grey",
          "width": 0.2
         },
         "mode": "lines+text",
         "showlegend": false,
         "text": [
          null,
          "Contact_pct_sc"
         ],
         "textposition": "bottom center",
         "type": "scatter",
         "x": [
          0,
          8.046880138326367
         ],
         "y": [
          0,
          24.335509417012613
         ]
        },
        {
         "line": {
          "color": "grey",
          "width": 0.2
         },
         "mode": "lines+text",
         "showlegend": false,
         "text": [
          null,
          "Zone_pct_sc"
         ],
         "textposition": "bottom center",
         "type": "scatter",
         "x": [
          0,
          -6.908807237772484
         ],
         "y": [
          0,
          -2.4725493846509408
         ]
        },
        {
         "line": {
          "color": "grey",
          "width": 0.2
         },
         "mode": "lines+text",
         "showlegend": false,
         "text": [
          null,
          "botERA"
         ],
         "textposition": "bottom center",
         "type": "scatter",
         "x": [
          0,
          17.870452824547744
         ],
         "y": [
          0,
          18.358524429096878
         ]
        },
        {
         "line": {
          "color": "grey",
          "width": 0.2
         },
         "mode": "lines+text",
         "showlegend": false,
         "text": [
          null,
          "botOvr_CH"
         ],
         "textposition": "bottom center",
         "type": "scatter",
         "x": [
          0,
          -7.228968354637807
         ],
         "y": [
          0,
          16.064034290941553
         ]
        },
        {
         "line": {
          "color": "grey",
          "width": 0.2
         },
         "mode": "lines+text",
         "showlegend": false,
         "text": [
          null,
          "botStf_CH"
         ],
         "textposition": "bottom center",
         "type": "scatter",
         "x": [
          0,
          -5.239723246457209
         ],
         "y": [
          0,
          13.962260035706263
         ]
        },
        {
         "line": {
          "color": "grey",
          "width": 0.2
         },
         "mode": "lines+text",
         "showlegend": false,
         "text": [
          null,
          "botCmd_CH"
         ],
         "textposition": "bottom center",
         "type": "scatter",
         "x": [
          0,
          -7.083133399524669
         ],
         "y": [
          0,
          17.136036245410406
         ]
        },
        {
         "line": {
          "color": "grey",
          "width": 0.2
         },
         "mode": "lines+text",
         "showlegend": false,
         "text": [
          null,
          "botOvr_CU"
         ],
         "textposition": "bottom center",
         "type": "scatter",
         "x": [
          0,
          -7.667193968955405
         ],
         "y": [
          0,
          17.57268987819363
         ]
        },
        {
         "line": {
          "color": "grey",
          "width": 0.2
         },
         "mode": "lines+text",
         "showlegend": false,
         "text": [
          null,
          "botStf_CU"
         ],
         "textposition": "bottom center",
         "type": "scatter",
         "x": [
          0,
          -6.377579150744625
         ],
         "y": [
          0,
          17.068670823047203
         ]
        },
        {
         "line": {
          "color": "grey",
          "width": 0.2
         },
         "mode": "lines+text",
         "showlegend": false,
         "text": [
          null,
          "botCmd_CU"
         ],
         "textposition": "bottom center",
         "type": "scatter",
         "x": [
          0,
          -7.1830451505410755
         ],
         "y": [
          0,
          18.409560328561625
         ]
        },
        {
         "line": {
          "color": "grey",
          "width": 0.2
         },
         "mode": "lines+text",
         "showlegend": false,
         "text": [
          null,
          "botOvr_FA"
         ],
         "textposition": "bottom center",
         "type": "scatter",
         "x": [
          0,
          -11.032591308574686
         ],
         "y": [
          0,
          -9.070115163084822
         ]
        },
        {
         "line": {
          "color": "grey",
          "width": 0.2
         },
         "mode": "lines+text",
         "showlegend": false,
         "text": [
          null,
          "botStf_FA"
         ],
         "textposition": "bottom center",
         "type": "scatter",
         "x": [
          0,
          -6.650092830353715
         ],
         "y": [
          0,
          -12.246424139218899
         ]
        },
        {
         "line": {
          "color": "grey",
          "width": 0.2
         },
         "mode": "lines+text",
         "showlegend": false,
         "text": [
          null,
          "botCmd_FA"
         ],
         "textposition": "bottom center",
         "type": "scatter",
         "x": [
          0,
          -10.294669115089349
         ],
         "y": [
          0,
          -3.7984342467373367
         ]
        },
        {
         "line": {
          "color": "grey",
          "width": 0.2
         },
         "mode": "lines+text",
         "showlegend": false,
         "text": [
          null,
          "botOvr_SI"
         ],
         "textposition": "bottom center",
         "type": "scatter",
         "x": [
          0,
          -6.461373514327491
         ],
         "y": [
          0,
          4.652939992315923
         ]
        },
        {
         "line": {
          "color": "grey",
          "width": 0.2
         },
         "mode": "lines+text",
         "showlegend": false,
         "text": [
          null,
          "botStf_SI"
         ],
         "textposition": "bottom center",
         "type": "scatter",
         "x": [
          0,
          -5.000936388479726
         ],
         "y": [
          0,
          2.263155137115063
         ]
        },
        {
         "line": {
          "color": "grey",
          "width": 0.2
         },
         "mode": "lines+text",
         "showlegend": false,
         "text": [
          null,
          "botCmd_SI"
         ],
         "textposition": "bottom center",
         "type": "scatter",
         "x": [
          0,
          -6.309050564544989
         ],
         "y": [
          0,
          6.937555027724874
         ]
        },
        {
         "line": {
          "color": "grey",
          "width": 0.2
         },
         "mode": "lines+text",
         "showlegend": false,
         "text": [
          null,
          "botOvr_SL"
         ],
         "textposition": "bottom center",
         "type": "scatter",
         "x": [
          0,
          -5.927577276904924
         ],
         "y": [
          0,
          -14.187214640312487
         ]
        },
        {
         "line": {
          "color": "grey",
          "width": 0.2
         },
         "mode": "lines+text",
         "showlegend": false,
         "text": [
          null,
          "botStf_SL"
         ],
         "textposition": "bottom center",
         "type": "scatter",
         "x": [
          0,
          -3.8014933816545247
         ],
         "y": [
          0,
          -17.12010519328336
         ]
        },
        {
         "line": {
          "color": "grey",
          "width": 0.2
         },
         "mode": "lines+text",
         "showlegend": false,
         "text": [
          null,
          "botCmd_SL"
         ],
         "textposition": "bottom center",
         "type": "scatter",
         "x": [
          0,
          -5.3241257029144515
         ],
         "y": [
          0,
          -10.81315581595359
         ]
        },
        {
         "line": {
          "color": "grey",
          "width": 0.2
         },
         "mode": "lines+text",
         "showlegend": false,
         "text": [
          null,
          "botOvr_KC"
         ],
         "textposition": "bottom center",
         "type": "scatter",
         "x": [
          0,
          -6.117345472004495
         ],
         "y": [
          0,
          0.6680159531237341
         ]
        },
        {
         "line": {
          "color": "grey",
          "width": 0.2
         },
         "mode": "lines+text",
         "showlegend": false,
         "text": [
          null,
          "botStf_KC"
         ],
         "textposition": "bottom center",
         "type": "scatter",
         "x": [
          0,
          -6.073330560614375
         ],
         "y": [
          0,
          -0.20376762814901736
         ]
        },
        {
         "line": {
          "color": "grey",
          "width": 0.2
         },
         "mode": "lines+text",
         "showlegend": false,
         "text": [
          null,
          "botCmd_KC"
         ],
         "textposition": "bottom center",
         "type": "scatter",
         "x": [
          0,
          -5.998295177114198
         ],
         "y": [
          0,
          0.9072095597877765
         ]
        },
        {
         "line": {
          "color": "grey",
          "width": 0.2
         },
         "mode": "lines+text",
         "showlegend": false,
         "text": [
          null,
          "botOvr_FC"
         ],
         "textposition": "bottom center",
         "type": "scatter",
         "x": [
          0,
          -6.041517396092944
         ],
         "y": [
          0,
          10.399262725184974
         ]
        },
        {
         "line": {
          "color": "grey",
          "width": 0.2
         },
         "mode": "lines+text",
         "showlegend": false,
         "text": [
          null,
          "botStf_FC"
         ],
         "textposition": "bottom center",
         "type": "scatter",
         "x": [
          0,
          -5.813877961854775
         ],
         "y": [
          0,
          9.163964149453152
         ]
        },
        {
         "line": {
          "color": "grey",
          "width": 0.2
         },
         "mode": "lines+text",
         "showlegend": false,
         "text": [
          null,
          "botCmd_FC"
         ],
         "textposition": "bottom center",
         "type": "scatter",
         "x": [
          0,
          -5.861403141335243
         ],
         "y": [
          0,
          11.84924862167548
         ]
        },
        {
         "line": {
          "color": "grey",
          "width": 0.2
         },
         "mode": "lines+text",
         "showlegend": false,
         "text": [
          null,
          "botOvr_FS"
         ],
         "textposition": "bottom center",
         "type": "scatter",
         "x": [
          0,
          -5.04031983570875
         ],
         "y": [
          0,
          -9.072602686596241
         ]
        },
        {
         "line": {
          "color": "grey",
          "width": 0.2
         },
         "mode": "lines+text",
         "showlegend": false,
         "text": [
          null,
          "botStf_FS"
         ],
         "textposition": "bottom center",
         "type": "scatter",
         "x": [
          0,
          -4.570537953007826
         ],
         "y": [
          0,
          -9.219500409907358
         ]
        },
        {
         "line": {
          "color": "grey",
          "width": 0.2
         },
         "mode": "lines+text",
         "showlegend": false,
         "text": [
          null,
          "botCmd_FS"
         ],
         "textposition": "bottom center",
         "type": "scatter",
         "x": [
          0,
          -4.945222716717211
         ],
         "y": [
          0,
          -8.28634257611754
         ]
        },
        {
         "line": {
          "color": "grey",
          "width": 0.2
         },
         "mode": "lines+text",
         "showlegend": false,
         "text": [
          null,
          "botOvr"
         ],
         "textposition": "bottom center",
         "type": "scatter",
         "x": [
          0,
          -17.977845701103096
         ],
         "y": [
          0,
          -18.418292443083295
         ]
        },
        {
         "line": {
          "color": "grey",
          "width": 0.2
         },
         "mode": "lines+text",
         "showlegend": false,
         "text": [
          null,
          "botStf"
         ],
         "textposition": "bottom center",
         "type": "scatter",
         "x": [
          0,
          -6.476373154132778
         ],
         "y": [
          0,
          -25.854860902762688
         ]
        },
        {
         "line": {
          "color": "grey",
          "width": 0.2
         },
         "mode": "lines+text",
         "showlegend": false,
         "text": [
          null,
          "botCmd"
         ],
         "textposition": "bottom center",
         "type": "scatter",
         "x": [
          0,
          -16.151535536181562
         ],
         "y": [
          0,
          -6.353204953245766
         ]
        },
        {
         "line": {
          "color": "grey",
          "width": 0.2
         },
         "mode": "lines+text",
         "showlegend": false,
         "text": [
          null,
          "botxRV100"
         ],
         "textposition": "bottom center",
         "type": "scatter",
         "x": [
          0,
          18.07508685465915
         ],
         "y": [
          0,
          18.530296184740934
         ]
        },
        {
         "line": {
          "color": "grey",
          "width": 0.2
         },
         "mode": "lines+text",
         "showlegend": false,
         "text": [
          null,
          "Stf_plus_CH"
         ],
         "textposition": "bottom center",
         "type": "scatter",
         "x": [
          0,
          -5.267736307758795
         ],
         "y": [
          0,
          14.182809913153717
         ]
        },
        {
         "line": {
          "color": "grey",
          "width": 0.2
         },
         "mode": "lines+text",
         "showlegend": false,
         "text": [
          null,
          "Loc_plus_CH"
         ],
         "textposition": "bottom center",
         "type": "scatter",
         "x": [
          0,
          -5.979773812847794
         ],
         "y": [
          0,
          18.67933893949538
         ]
        },
        {
         "line": {
          "color": "grey",
          "width": 0.2
         },
         "mode": "lines+text",
         "showlegend": false,
         "text": [
          null,
          "Pit_plus_CH"
         ],
         "textposition": "bottom center",
         "type": "scatter",
         "x": [
          0,
          -6.083293758599407
         ],
         "y": [
          0,
          17.519115165015265
         ]
        },
        {
         "line": {
          "color": "grey",
          "width": 0.2
         },
         "mode": "lines+text",
         "showlegend": false,
         "text": [
          null,
          "Stf_plus_CU"
         ],
         "textposition": "bottom center",
         "type": "scatter",
         "x": [
          0,
          -6.402583181800709
         ],
         "y": [
          0,
          17.700315159862573
         ]
        },
        {
         "line": {
          "color": "grey",
          "width": 0.2
         },
         "mode": "lines+text",
         "showlegend": false,
         "text": [
          null,
          "Loc_plus_CU"
         ],
         "textposition": "bottom center",
         "type": "scatter",
         "x": [
          0,
          -6.457945951382868
         ],
         "y": [
          0,
          19.85879853485039
         ]
        },
        {
         "line": {
          "color": "grey",
          "width": 0.2
         },
         "mode": "lines+text",
         "showlegend": false,
         "text": [
          null,
          "Pit_plus_CU"
         ],
         "textposition": "bottom center",
         "type": "scatter",
         "x": [
          0,
          -6.5123326496672815
         ],
         "y": [
          0,
          19.34513732626289
         ]
        },
        {
         "line": {
          "color": "grey",
          "width": 0.2
         },
         "mode": "lines+text",
         "showlegend": false,
         "text": [
          null,
          "Stf_plus_FA"
         ],
         "textposition": "bottom center",
         "type": "scatter",
         "x": [
          0,
          -7.661991614641568
         ],
         "y": [
          0,
          -11.863439174886476
         ]
        },
        {
         "line": {
          "color": "grey",
          "width": 0.2
         },
         "mode": "lines+text",
         "showlegend": false,
         "text": [
          null,
          "Loc_plus_FA"
         ],
         "textposition": "bottom center",
         "type": "scatter",
         "x": [
          0,
          -9.217854907886556
         ],
         "y": [
          0,
          -3.731894216913365
         ]
        },
        {
         "line": {
          "color": "grey",
          "width": 0.2
         },
         "mode": "lines+text",
         "showlegend": false,
         "text": [
          null,
          "Pit_plus_FA"
         ],
         "textposition": "bottom center",
         "type": "scatter",
         "x": [
          0,
          -9.838481250916086
         ],
         "y": [
          0,
          -6.842894558569337
         ]
        },
        {
         "line": {
          "color": "grey",
          "width": 0.2
         },
         "mode": "lines+text",
         "showlegend": false,
         "text": [
          null,
          "Stf_plus_SI"
         ],
         "textposition": "bottom center",
         "type": "scatter",
         "x": [
          0,
          -5.67701780004549
         ],
         "y": [
          0,
          4.999951972372416
         ]
        },
        {
         "line": {
          "color": "grey",
          "width": 0.2
         },
         "mode": "lines+text",
         "showlegend": false,
         "text": [
          null,
          "Loc_plus_SI"
         ],
         "textposition": "bottom center",
         "type": "scatter",
         "x": [
          0,
          -5.878980719303101
         ],
         "y": [
          0,
          7.955066644739973
         ]
        },
        {
         "line": {
          "color": "grey",
          "width": 0.2
         },
         "mode": "lines+text",
         "showlegend": false,
         "text": [
          null,
          "Pit_plus_SI"
         ],
         "textposition": "bottom center",
         "type": "scatter",
         "x": [
          0,
          -6.03343328468234
         ],
         "y": [
          0,
          6.861298797985646
         ]
        },
        {
         "line": {
          "color": "grey",
          "width": 0.2
         },
         "mode": "lines+text",
         "showlegend": false,
         "text": [
          null,
          "Stf_plus_SL"
         ],
         "textposition": "bottom center",
         "type": "scatter",
         "x": [
          0,
          -3.593245687956387
         ],
         "y": [
          0,
          -15.40217265027554
         ]
        },
        {
         "line": {
          "color": "grey",
          "width": 0.2
         },
         "mode": "lines+text",
         "showlegend": false,
         "text": [
          null,
          "Loc_plus_SL"
         ],
         "textposition": "bottom center",
         "type": "scatter",
         "x": [
          0,
          -3.715222579863939
         ],
         "y": [
          0,
          -11.690957736034028
         ]
        },
        {
         "line": {
          "color": "grey",
          "width": 0.2
         },
         "mode": "lines+text",
         "showlegend": false,
         "text": [
          null,
          "Pit_plus_SL"
         ],
         "textposition": "bottom center",
         "type": "scatter",
         "x": [
          0,
          -4.023177239685884
         ],
         "y": [
          0,
          -13.700322611225676
         ]
        },
        {
         "line": {
          "color": "grey",
          "width": 0.2
         },
         "mode": "lines+text",
         "showlegend": false,
         "text": [
          null,
          "Stf_plus_KC"
         ],
         "textposition": "bottom center",
         "type": "scatter",
         "x": [
          0,
          -6.1174193946090085
         ],
         "y": [
          0,
          -0.15559428403298384
         ]
        },
        {
         "line": {
          "color": "grey",
          "width": 0.2
         },
         "mode": "lines+text",
         "showlegend": false,
         "text": [
          null,
          "Loc_plus_KC"
         ],
         "textposition": "bottom center",
         "type": "scatter",
         "x": [
          0,
          -6.175652564263153
         ],
         "y": [
          0,
          0.8876668132351235
         ]
        },
        {
         "line": {
          "color": "grey",
          "width": 0.2
         },
         "mode": "lines+text",
         "showlegend": false,
         "text": [
          null,
          "Pit_plus_KC"
         ],
         "textposition": "bottom center",
         "type": "scatter",
         "x": [
          0,
          -5.905563181451261
         ],
         "y": [
          0,
          0.7904845017481811
         ]
        },
        {
         "line": {
          "color": "grey",
          "width": 0.2
         },
         "mode": "lines+text",
         "showlegend": false,
         "text": [
          null,
          "Stf_plus_FC"
         ],
         "textposition": "bottom center",
         "type": "scatter",
         "x": [
          0,
          -6.131346256243485
         ],
         "y": [
          0,
          10.789334225397957
         ]
        },
        {
         "line": {
          "color": "grey",
          "width": 0.2
         },
         "mode": "lines+text",
         "showlegend": false,
         "text": [
          null,
          "Loc_plus_FC"
         ],
         "textposition": "bottom center",
         "type": "scatter",
         "x": [
          0,
          -5.744100240334419
         ],
         "y": [
          0,
          12.137924640789715
         ]
        },
        {
         "line": {
          "color": "grey",
          "width": 0.2
         },
         "mode": "lines+text",
         "showlegend": false,
         "text": [
          null,
          "Pit_plus_FC"
         ],
         "textposition": "bottom center",
         "type": "scatter",
         "x": [
          0,
          -5.9121987277526875
         ],
         "y": [
          0,
          11.508096330996848
         ]
        },
        {
         "line": {
          "color": "grey",
          "width": 0.2
         },
         "mode": "lines+text",
         "showlegend": false,
         "text": [
          null,
          "Stf_plus_FS"
         ],
         "textposition": "bottom center",
         "type": "scatter",
         "x": [
          0,
          -4.720909174422246
         ],
         "y": [
          0,
          -8.512717389788492
         ]
        },
        {
         "line": {
          "color": "grey",
          "width": 0.2
         },
         "mode": "lines+text",
         "showlegend": false,
         "text": [
          null,
          "Loc_plus_FS"
         ],
         "textposition": "bottom center",
         "type": "scatter",
         "x": [
          0,
          -4.789395631891517
         ],
         "y": [
          0,
          -8.378065739865013
         ]
        },
        {
         "line": {
          "color": "grey",
          "width": 0.2
         },
         "mode": "lines+text",
         "showlegend": false,
         "text": [
          null,
          "Pit_plus_FS"
         ],
         "textposition": "bottom center",
         "type": "scatter",
         "x": [
          0,
          -4.906414283606556
         ],
         "y": [
          0,
          -8.899070760710602
         ]
        },
        {
         "line": {
          "color": "grey",
          "width": 0.2
         },
         "mode": "lines+text",
         "showlegend": false,
         "text": [
          null,
          "Stf_plus_FO"
         ],
         "textposition": "bottom center",
         "type": "scatter",
         "x": [
          0,
          -0.9711621118086765
         ],
         "y": [
          0,
          0.6862960927072072
         ]
        },
        {
         "line": {
          "color": "grey",
          "width": 0.2
         },
         "mode": "lines+text",
         "showlegend": false,
         "text": [
          null,
          "Loc_plus_FO"
         ],
         "textposition": "bottom center",
         "type": "scatter",
         "x": [
          0,
          -1.0318465834847037
         ],
         "y": [
          0,
          0.6995985347481077
         ]
        },
        {
         "line": {
          "color": "grey",
          "width": 0.2
         },
         "mode": "lines+text",
         "showlegend": false,
         "text": [
          null,
          "Pit_plus_FO"
         ],
         "textposition": "bottom center",
         "type": "scatter",
         "x": [
          0,
          -0.9855601607367378
         ],
         "y": [
          0,
          0.6895043064449491
         ]
        },
        {
         "line": {
          "color": "grey",
          "width": 0.2
         },
         "mode": "lines+text",
         "showlegend": false,
         "text": [
          null,
          "Stuff_plus"
         ],
         "textposition": "bottom center",
         "type": "scatter",
         "x": [
          0,
          -10.234997470097882
         ],
         "y": [
          0,
          -25.049366066182756
         ]
        },
        {
         "line": {
          "color": "grey",
          "width": 0.2
         },
         "mode": "lines+text",
         "showlegend": false,
         "text": [
          null,
          "Location_plus"
         ],
         "textposition": "bottom center",
         "type": "scatter",
         "x": [
          0,
          -17.453857825916515
         ],
         "y": [
          0,
          -8.410655630477049
         ]
        },
        {
         "line": {
          "color": "grey",
          "width": 0.2
         },
         "mode": "lines+text",
         "showlegend": false,
         "text": [
          null,
          "Pitching_plus"
         ],
         "textposition": "bottom center",
         "type": "scatter",
         "x": [
          0,
          -19.080820877094283
         ],
         "y": [
          0,
          -22.027788145432506
         ]
        },
        {
         "line": {
          "color": "grey",
          "width": 0.2
         },
         "mode": "lines+text",
         "showlegend": false,
         "text": [
          null,
          "most_common_inning_SP"
         ],
         "textposition": "bottom center",
         "type": "scatter",
         "x": [
          0,
          -8.410808794623714
         ],
         "y": [
          0,
          18.21933006206778
         ]
        },
        {
         "line": {
          "color": "grey",
          "width": 0.2
         },
         "mode": "lines+text",
         "showlegend": false,
         "text": [
          null,
          "most_common_inning_RP"
         ],
         "textposition": "bottom center",
         "type": "scatter",
         "x": [
          0,
          15.071429617154724
         ],
         "y": [
          0,
          -21.976376784924707
         ]
        },
        {
         "line": {
          "color": "grey",
          "width": 0.2
         },
         "mode": "lines+text",
         "showlegend": false,
         "text": [
          null,
          "average_batters_faced_per_appearance_SP"
         ],
         "textposition": "bottom center",
         "type": "scatter",
         "x": [
          0,
          -11.51788052639897
         ],
         "y": [
          0,
          24.38372042027297
         ]
        },
        {
         "line": {
          "color": "grey",
          "width": 0.2
         },
         "mode": "lines+text",
         "showlegend": false,
         "text": [
          null,
          "average_innings_pitched_per_appearance_SP"
         ],
         "textposition": "bottom center",
         "type": "scatter",
         "x": [
          0,
          -15.552574353116958
         ],
         "y": [
          0,
          25.062628420630933
         ]
        },
        {
         "line": {
          "color": "grey",
          "width": 0.2
         },
         "mode": "lines+text",
         "showlegend": false,
         "text": [
          null,
          "average_batters_faced_per_appearance_RP"
         ],
         "textposition": "bottom center",
         "type": "scatter",
         "x": [
          0,
          13.86016777997015
         ],
         "y": [
          0,
          -2.3752617038787194
         ]
        },
        {
         "line": {
          "color": "grey",
          "width": 0.2
         },
         "mode": "lines+text",
         "showlegend": false,
         "text": [
          null,
          "average_innings_pitched_per_appearance_RP"
         ],
         "textposition": "bottom center",
         "type": "scatter",
         "x": [
          0,
          8.936293725970017
         ],
         "y": [
          0,
          0.904709437567438
         ]
        },
        {
         "line": {
          "color": "grey",
          "width": 0.2
         },
         "mode": "lines+text",
         "showlegend": false,
         "text": [
          null,
          "average_inning_SP"
         ],
         "textposition": "bottom center",
         "type": "scatter",
         "x": [
          0,
          -14.989002639722983
         ],
         "y": [
          0,
          24.88725990336124
         ]
        },
        {
         "line": {
          "color": "grey",
          "width": 0.2
         },
         "mode": "lines+text",
         "showlegend": false,
         "text": [
          null,
          "average_inning_RP"
         ],
         "textposition": "bottom center",
         "type": "scatter",
         "x": [
          0,
          15.730896882113852
         ],
         "y": [
          0,
          -21.985977764478058
         ]
        },
        {
         "line": {
          "color": "grey",
          "width": 0.2
         },
         "mode": "lines+text",
         "showlegend": false,
         "text": [
          null,
          "avg_inning_entry_SP"
         ],
         "textposition": "bottom center",
         "type": "scatter",
         "x": [
          0,
          -10.377868910258062
         ],
         "y": [
          0,
          21.988489309607044
         ]
        },
        {
         "line": {
          "color": "grey",
          "width": 0.2
         },
         "mode": "lines+text",
         "showlegend": false,
         "text": [
          null,
          "avg_inning_exit_SP"
         ],
         "textposition": "bottom center",
         "type": "scatter",
         "x": [
          0,
          -15.552574353116958
         ],
         "y": [
          0,
          25.062628420630933
         ]
        },
        {
         "line": {
          "color": "grey",
          "width": 0.2
         },
         "mode": "lines+text",
         "showlegend": false,
         "text": [
          null,
          "avg_inning_entry_RP"
         ],
         "textposition": "bottom center",
         "type": "scatter",
         "x": [
          0,
          15.431400050433968
         ],
         "y": [
          0,
          -22.866697629998153
         ]
        },
        {
         "line": {
          "color": "grey",
          "width": 0.2
         },
         "mode": "lines+text",
         "showlegend": false,
         "text": [
          null,
          "avg_inning_exit_RP"
         ],
         "textposition": "bottom center",
         "type": "scatter",
         "x": [
          0,
          16.10194826950949
         ],
         "y": [
          0,
          -19.330096983504223
         ]
        },
        {
         "line": {
          "color": "grey",
          "width": 0.2
         },
         "mode": "lines+text",
         "showlegend": false,
         "text": [
          null,
          "bad_walk_rate_SP"
         ],
         "textposition": "bottom center",
         "type": "scatter",
         "x": [
          0,
          -1.0208047891488146
         ],
         "y": [
          0,
          -1.2702599556286862
         ]
        },
        {
         "line": {
          "color": "grey",
          "width": 0.2
         },
         "mode": "lines+text",
         "showlegend": false,
         "text": [
          null,
          "leadoff_walk_rate_SP"
         ],
         "textposition": "bottom center",
         "type": "scatter",
         "x": [
          0,
          -0.497731234040811
         ],
         "y": [
          0,
          0.8771768775703612
         ]
        },
        {
         "line": {
          "color": "grey",
          "width": 0.2
         },
         "mode": "lines+text",
         "showlegend": false,
         "text": [
          null,
          "bad_walk_rate_RP"
         ],
         "textposition": "bottom center",
         "type": "scatter",
         "x": [
          0,
          1.3055678917770452
         ],
         "y": [
          0,
          -2.7996365945213735
         ]
        },
        {
         "line": {
          "color": "grey",
          "width": 0.2
         },
         "mode": "lines+text",
         "showlegend": false,
         "text": [
          null,
          "leadoff_walk_rate_RP"
         ],
         "textposition": "bottom center",
         "type": "scatter",
         "x": [
          0,
          2.110352804182936
         ],
         "y": [
          0,
          -2.565428429453797
         ]
        }
       ],
       "layout": {
        "height": 800,
        "hovermode": "closest",
        "legend": {
         "title": {
          "text": "Role"
         }
        },
        "template": {
         "data": {
          "bar": [
           {
            "error_x": {
             "color": "#2a3f5f"
            },
            "error_y": {
             "color": "#2a3f5f"
            },
            "marker": {
             "line": {
              "color": "#E5ECF6",
              "width": 0.5
             },
             "pattern": {
              "fillmode": "overlay",
              "size": 10,
              "solidity": 0.2
             }
            },
            "type": "bar"
           }
          ],
          "barpolar": [
           {
            "marker": {
             "line": {
              "color": "#E5ECF6",
              "width": 0.5
             },
             "pattern": {
              "fillmode": "overlay",
              "size": 10,
              "solidity": 0.2
             }
            },
            "type": "barpolar"
           }
          ],
          "carpet": [
           {
            "aaxis": {
             "endlinecolor": "#2a3f5f",
             "gridcolor": "white",
             "linecolor": "white",
             "minorgridcolor": "white",
             "startlinecolor": "#2a3f5f"
            },
            "baxis": {
             "endlinecolor": "#2a3f5f",
             "gridcolor": "white",
             "linecolor": "white",
             "minorgridcolor": "white",
             "startlinecolor": "#2a3f5f"
            },
            "type": "carpet"
           }
          ],
          "choropleth": [
           {
            "colorbar": {
             "outlinewidth": 0,
             "ticks": ""
            },
            "type": "choropleth"
           }
          ],
          "contour": [
           {
            "colorbar": {
             "outlinewidth": 0,
             "ticks": ""
            },
            "colorscale": [
             [
              0,
              "#0d0887"
             ],
             [
              0.1111111111111111,
              "#46039f"
             ],
             [
              0.2222222222222222,
              "#7201a8"
             ],
             [
              0.3333333333333333,
              "#9c179e"
             ],
             [
              0.4444444444444444,
              "#bd3786"
             ],
             [
              0.5555555555555556,
              "#d8576b"
             ],
             [
              0.6666666666666666,
              "#ed7953"
             ],
             [
              0.7777777777777778,
              "#fb9f3a"
             ],
             [
              0.8888888888888888,
              "#fdca26"
             ],
             [
              1,
              "#f0f921"
             ]
            ],
            "type": "contour"
           }
          ],
          "contourcarpet": [
           {
            "colorbar": {
             "outlinewidth": 0,
             "ticks": ""
            },
            "type": "contourcarpet"
           }
          ],
          "heatmap": [
           {
            "colorbar": {
             "outlinewidth": 0,
             "ticks": ""
            },
            "colorscale": [
             [
              0,
              "#0d0887"
             ],
             [
              0.1111111111111111,
              "#46039f"
             ],
             [
              0.2222222222222222,
              "#7201a8"
             ],
             [
              0.3333333333333333,
              "#9c179e"
             ],
             [
              0.4444444444444444,
              "#bd3786"
             ],
             [
              0.5555555555555556,
              "#d8576b"
             ],
             [
              0.6666666666666666,
              "#ed7953"
             ],
             [
              0.7777777777777778,
              "#fb9f3a"
             ],
             [
              0.8888888888888888,
              "#fdca26"
             ],
             [
              1,
              "#f0f921"
             ]
            ],
            "type": "heatmap"
           }
          ],
          "heatmapgl": [
           {
            "colorbar": {
             "outlinewidth": 0,
             "ticks": ""
            },
            "colorscale": [
             [
              0,
              "#0d0887"
             ],
             [
              0.1111111111111111,
              "#46039f"
             ],
             [
              0.2222222222222222,
              "#7201a8"
             ],
             [
              0.3333333333333333,
              "#9c179e"
             ],
             [
              0.4444444444444444,
              "#bd3786"
             ],
             [
              0.5555555555555556,
              "#d8576b"
             ],
             [
              0.6666666666666666,
              "#ed7953"
             ],
             [
              0.7777777777777778,
              "#fb9f3a"
             ],
             [
              0.8888888888888888,
              "#fdca26"
             ],
             [
              1,
              "#f0f921"
             ]
            ],
            "type": "heatmapgl"
           }
          ],
          "histogram": [
           {
            "marker": {
             "pattern": {
              "fillmode": "overlay",
              "size": 10,
              "solidity": 0.2
             }
            },
            "type": "histogram"
           }
          ],
          "histogram2d": [
           {
            "colorbar": {
             "outlinewidth": 0,
             "ticks": ""
            },
            "colorscale": [
             [
              0,
              "#0d0887"
             ],
             [
              0.1111111111111111,
              "#46039f"
             ],
             [
              0.2222222222222222,
              "#7201a8"
             ],
             [
              0.3333333333333333,
              "#9c179e"
             ],
             [
              0.4444444444444444,
              "#bd3786"
             ],
             [
              0.5555555555555556,
              "#d8576b"
             ],
             [
              0.6666666666666666,
              "#ed7953"
             ],
             [
              0.7777777777777778,
              "#fb9f3a"
             ],
             [
              0.8888888888888888,
              "#fdca26"
             ],
             [
              1,
              "#f0f921"
             ]
            ],
            "type": "histogram2d"
           }
          ],
          "histogram2dcontour": [
           {
            "colorbar": {
             "outlinewidth": 0,
             "ticks": ""
            },
            "colorscale": [
             [
              0,
              "#0d0887"
             ],
             [
              0.1111111111111111,
              "#46039f"
             ],
             [
              0.2222222222222222,
              "#7201a8"
             ],
             [
              0.3333333333333333,
              "#9c179e"
             ],
             [
              0.4444444444444444,
              "#bd3786"
             ],
             [
              0.5555555555555556,
              "#d8576b"
             ],
             [
              0.6666666666666666,
              "#ed7953"
             ],
             [
              0.7777777777777778,
              "#fb9f3a"
             ],
             [
              0.8888888888888888,
              "#fdca26"
             ],
             [
              1,
              "#f0f921"
             ]
            ],
            "type": "histogram2dcontour"
           }
          ],
          "mesh3d": [
           {
            "colorbar": {
             "outlinewidth": 0,
             "ticks": ""
            },
            "type": "mesh3d"
           }
          ],
          "parcoords": [
           {
            "line": {
             "colorbar": {
              "outlinewidth": 0,
              "ticks": ""
             }
            },
            "type": "parcoords"
           }
          ],
          "pie": [
           {
            "automargin": true,
            "type": "pie"
           }
          ],
          "scatter": [
           {
            "fillpattern": {
             "fillmode": "overlay",
             "size": 10,
             "solidity": 0.2
            },
            "type": "scatter"
           }
          ],
          "scatter3d": [
           {
            "line": {
             "colorbar": {
              "outlinewidth": 0,
              "ticks": ""
             }
            },
            "marker": {
             "colorbar": {
              "outlinewidth": 0,
              "ticks": ""
             }
            },
            "type": "scatter3d"
           }
          ],
          "scattercarpet": [
           {
            "marker": {
             "colorbar": {
              "outlinewidth": 0,
              "ticks": ""
             }
            },
            "type": "scattercarpet"
           }
          ],
          "scattergeo": [
           {
            "marker": {
             "colorbar": {
              "outlinewidth": 0,
              "ticks": ""
             }
            },
            "type": "scattergeo"
           }
          ],
          "scattergl": [
           {
            "marker": {
             "colorbar": {
              "outlinewidth": 0,
              "ticks": ""
             }
            },
            "type": "scattergl"
           }
          ],
          "scattermapbox": [
           {
            "marker": {
             "colorbar": {
              "outlinewidth": 0,
              "ticks": ""
             }
            },
            "type": "scattermapbox"
           }
          ],
          "scatterpolar": [
           {
            "marker": {
             "colorbar": {
              "outlinewidth": 0,
              "ticks": ""
             }
            },
            "type": "scatterpolar"
           }
          ],
          "scatterpolargl": [
           {
            "marker": {
             "colorbar": {
              "outlinewidth": 0,
              "ticks": ""
             }
            },
            "type": "scatterpolargl"
           }
          ],
          "scatterternary": [
           {
            "marker": {
             "colorbar": {
              "outlinewidth": 0,
              "ticks": ""
             }
            },
            "type": "scatterternary"
           }
          ],
          "surface": [
           {
            "colorbar": {
             "outlinewidth": 0,
             "ticks": ""
            },
            "colorscale": [
             [
              0,
              "#0d0887"
             ],
             [
              0.1111111111111111,
              "#46039f"
             ],
             [
              0.2222222222222222,
              "#7201a8"
             ],
             [
              0.3333333333333333,
              "#9c179e"
             ],
             [
              0.4444444444444444,
              "#bd3786"
             ],
             [
              0.5555555555555556,
              "#d8576b"
             ],
             [
              0.6666666666666666,
              "#ed7953"
             ],
             [
              0.7777777777777778,
              "#fb9f3a"
             ],
             [
              0.8888888888888888,
              "#fdca26"
             ],
             [
              1,
              "#f0f921"
             ]
            ],
            "type": "surface"
           }
          ],
          "table": [
           {
            "cells": {
             "fill": {
              "color": "#EBF0F8"
             },
             "line": {
              "color": "white"
             }
            },
            "header": {
             "fill": {
              "color": "#C8D4E3"
             },
             "line": {
              "color": "white"
             }
            },
            "type": "table"
           }
          ]
         },
         "layout": {
          "annotationdefaults": {
           "arrowcolor": "#2a3f5f",
           "arrowhead": 0,
           "arrowwidth": 1
          },
          "autotypenumbers": "strict",
          "coloraxis": {
           "colorbar": {
            "outlinewidth": 0,
            "ticks": ""
           }
          },
          "colorscale": {
           "diverging": [
            [
             0,
             "#8e0152"
            ],
            [
             0.1,
             "#c51b7d"
            ],
            [
             0.2,
             "#de77ae"
            ],
            [
             0.3,
             "#f1b6da"
            ],
            [
             0.4,
             "#fde0ef"
            ],
            [
             0.5,
             "#f7f7f7"
            ],
            [
             0.6,
             "#e6f5d0"
            ],
            [
             0.7,
             "#b8e186"
            ],
            [
             0.8,
             "#7fbc41"
            ],
            [
             0.9,
             "#4d9221"
            ],
            [
             1,
             "#276419"
            ]
           ],
           "sequential": [
            [
             0,
             "#0d0887"
            ],
            [
             0.1111111111111111,
             "#46039f"
            ],
            [
             0.2222222222222222,
             "#7201a8"
            ],
            [
             0.3333333333333333,
             "#9c179e"
            ],
            [
             0.4444444444444444,
             "#bd3786"
            ],
            [
             0.5555555555555556,
             "#d8576b"
            ],
            [
             0.6666666666666666,
             "#ed7953"
            ],
            [
             0.7777777777777778,
             "#fb9f3a"
            ],
            [
             0.8888888888888888,
             "#fdca26"
            ],
            [
             1,
             "#f0f921"
            ]
           ],
           "sequentialminus": [
            [
             0,
             "#0d0887"
            ],
            [
             0.1111111111111111,
             "#46039f"
            ],
            [
             0.2222222222222222,
             "#7201a8"
            ],
            [
             0.3333333333333333,
             "#9c179e"
            ],
            [
             0.4444444444444444,
             "#bd3786"
            ],
            [
             0.5555555555555556,
             "#d8576b"
            ],
            [
             0.6666666666666666,
             "#ed7953"
            ],
            [
             0.7777777777777778,
             "#fb9f3a"
            ],
            [
             0.8888888888888888,
             "#fdca26"
            ],
            [
             1,
             "#f0f921"
            ]
           ]
          },
          "colorway": [
           "#636efa",
           "#EF553B",
           "#00cc96",
           "#ab63fa",
           "#FFA15A",
           "#19d3f3",
           "#FF6692",
           "#B6E880",
           "#FF97FF",
           "#FECB52"
          ],
          "font": {
           "color": "#2a3f5f"
          },
          "geo": {
           "bgcolor": "white",
           "lakecolor": "white",
           "landcolor": "#E5ECF6",
           "showlakes": true,
           "showland": true,
           "subunitcolor": "white"
          },
          "hoverlabel": {
           "align": "left"
          },
          "hovermode": "closest",
          "mapbox": {
           "style": "light"
          },
          "paper_bgcolor": "white",
          "plot_bgcolor": "#E5ECF6",
          "polar": {
           "angularaxis": {
            "gridcolor": "white",
            "linecolor": "white",
            "ticks": ""
           },
           "bgcolor": "#E5ECF6",
           "radialaxis": {
            "gridcolor": "white",
            "linecolor": "white",
            "ticks": ""
           }
          },
          "scene": {
           "xaxis": {
            "backgroundcolor": "#E5ECF6",
            "gridcolor": "white",
            "gridwidth": 2,
            "linecolor": "white",
            "showbackground": true,
            "ticks": "",
            "zerolinecolor": "white"
           },
           "yaxis": {
            "backgroundcolor": "#E5ECF6",
            "gridcolor": "white",
            "gridwidth": 2,
            "linecolor": "white",
            "showbackground": true,
            "ticks": "",
            "zerolinecolor": "white"
           },
           "zaxis": {
            "backgroundcolor": "#E5ECF6",
            "gridcolor": "white",
            "gridwidth": 2,
            "linecolor": "white",
            "showbackground": true,
            "ticks": "",
            "zerolinecolor": "white"
           }
          },
          "shapedefaults": {
           "line": {
            "color": "#2a3f5f"
           }
          },
          "ternary": {
           "aaxis": {
            "gridcolor": "white",
            "linecolor": "white",
            "ticks": ""
           },
           "baxis": {
            "gridcolor": "white",
            "linecolor": "white",
            "ticks": ""
           },
           "bgcolor": "#E5ECF6",
           "caxis": {
            "gridcolor": "white",
            "linecolor": "white",
            "ticks": ""
           }
          },
          "title": {
           "x": 0.05
          },
          "xaxis": {
           "automargin": true,
           "gridcolor": "white",
           "linecolor": "white",
           "ticks": "",
           "title": {
            "standoff": 15
           },
           "zerolinecolor": "white",
           "zerolinewidth": 2
          },
          "yaxis": {
           "automargin": true,
           "gridcolor": "white",
           "linecolor": "white",
           "ticks": "",
           "title": {
            "standoff": 15
           },
           "zerolinecolor": "white",
           "zerolinewidth": 2
          }
         }
        },
        "title": {
         "text": "2 component PCA by Pitcher Role with Feature Loadings"
        },
        "width": 1000,
        "xaxis": {
         "title": {
          "text": "Principal Component 1"
         }
        },
        "yaxis": {
         "title": {
          "text": "Principal Component 2"
         }
        }
       }
      }
     },
     "metadata": {},
     "output_type": "display_data"
    }
   ],
   "source": [
    "import plotly.graph_objs as go\n",
    "import plotly.express as px\n",
    "from plotly.offline import iplot\n",
    "\n",
    "# Create a figure with specified layout size\n",
    "fig = go.Figure(layout=go.Layout(\n",
    "    title='2 component PCA by Pitcher Role with Feature Loadings',\n",
    "    xaxis_title='Principal Component 1',\n",
    "    yaxis_title='Principal Component 2',\n",
    "    legend_title='Role',\n",
    "    hovermode='closest',\n",
    "    width=1000,  # Width of the figure in pixels\n",
    "    height=800   # Height of the figure in pixels\n",
    "))\n",
    "\n",
    "for Role, color in [('Starting Pitcher', 'blue'), \n",
    "                    ('Middle Reliever', 'green'),\n",
    "                    ('Setup Pitcher', 'orange'),\n",
    "                    ('Long Reliever', 'purple'),\n",
    "                    ('Closer','red')]:   # Adjust roles and colors as needed\n",
    "    indicesToKeep = principalDf['classified_role'] == Role\n",
    "    fig.add_trace(go.Scattergl(\n",
    "        x=principalDf.loc[indicesToKeep, 'principal component 1'],\n",
    "        y=principalDf.loc[indicesToKeep, 'principal component 2'],\n",
    "        mode='markers',\n",
    "        marker=dict(color=color, size=5, opacity=0.4),  # Adjust the size of the dots here\n",
    "        name=Role,\n",
    "        text=principalDf.loc[indicesToKeep, 'Name']  # Assuming you have player names in the 'Player' column\n",
    "    ))\n",
    "# Add feature loadings as arrows\n",
    "for i, feature in enumerate(features):\n",
    "    fig.add_trace(go.Scatter(\n",
    "        x=[0, pca.components_[0, i] * 230],  # X start and end positions for arrow\n",
    "        y=[0, pca.components_[1, i] * 230],  # Y start and end positions for arrow\n",
    "        mode='lines+text',\n",
    "        text=[None, feature],  # Only label the end of the arrow\n",
    "        textposition=\"bottom center\",\n",
    "        line=dict(color='grey', width=0.2),\n",
    "        showlegend=False\n",
    "    ))\n",
    "\n",
    "# Show the figure\n",
    "iplot(fig)\n"
   ]
  },
  {
   "cell_type": "code",
   "execution_count": 16,
   "metadata": {},
   "outputs": [
    {
     "data": {
      "text/html": [
       "<div>\n",
       "<style scoped>\n",
       "    .dataframe tbody tr th:only-of-type {\n",
       "        vertical-align: middle;\n",
       "    }\n",
       "\n",
       "    .dataframe tbody tr th {\n",
       "        vertical-align: top;\n",
       "    }\n",
       "\n",
       "    .dataframe thead th {\n",
       "        text-align: right;\n",
       "    }\n",
       "</style>\n",
       "<table border=\"1\" class=\"dataframe\">\n",
       "  <thead>\n",
       "    <tr style=\"text-align: right;\">\n",
       "      <th></th>\n",
       "      <th>principal component 1</th>\n",
       "      <th>principal component 2</th>\n",
       "      <th>classified_role</th>\n",
       "      <th>Name</th>\n",
       "    </tr>\n",
       "  </thead>\n",
       "  <tbody>\n",
       "    <tr>\n",
       "      <th>0</th>\n",
       "      <td>4.918284</td>\n",
       "      <td>-0.979736</td>\n",
       "      <td>Setup/Closer Pitcher</td>\n",
       "      <td>NeftalA­ Feliz</td>\n",
       "    </tr>\n",
       "    <tr>\n",
       "      <th>1</th>\n",
       "      <td>2.597963</td>\n",
       "      <td>0.957279</td>\n",
       "      <td>Middle Reliever</td>\n",
       "      <td>Tommy Hunter</td>\n",
       "    </tr>\n",
       "    <tr>\n",
       "      <th>2</th>\n",
       "      <td>3.972256</td>\n",
       "      <td>-3.858869</td>\n",
       "      <td>Setup/Closer Pitcher</td>\n",
       "      <td>Matt Bush</td>\n",
       "    </tr>\n",
       "    <tr>\n",
       "      <th>3</th>\n",
       "      <td>-4.906447</td>\n",
       "      <td>-3.998267</td>\n",
       "      <td>Setup/Closer Pitcher</td>\n",
       "      <td>Adam Ottavino</td>\n",
       "    </tr>\n",
       "    <tr>\n",
       "      <th>4</th>\n",
       "      <td>0.663260</td>\n",
       "      <td>-1.440923</td>\n",
       "      <td>Setup/Closer Pitcher</td>\n",
       "      <td>Zack Greinke</td>\n",
       "    </tr>\n",
       "  </tbody>\n",
       "</table>\n",
       "</div>"
      ],
      "text/plain": [
       "   principal component 1  principal component 2       classified_role  \\\n",
       "0               4.918284              -0.979736  Setup/Closer Pitcher   \n",
       "1               2.597963               0.957279       Middle Reliever   \n",
       "2               3.972256              -3.858869  Setup/Closer Pitcher   \n",
       "3              -4.906447              -3.998267  Setup/Closer Pitcher   \n",
       "4               0.663260              -1.440923  Setup/Closer Pitcher   \n",
       "\n",
       "             Name  \n",
       "0  NeftalA­ Feliz  \n",
       "1    Tommy Hunter  \n",
       "2       Matt Bush  \n",
       "3   Adam Ottavino  \n",
       "4    Zack Greinke  "
      ]
     },
     "execution_count": 16,
     "metadata": {},
     "output_type": "execute_result"
    }
   ],
   "source": [
    "principalDf.head()"
   ]
  },
  {
   "cell_type": "code",
   "execution_count": 17,
   "metadata": {},
   "outputs": [
    {
     "data": {
      "text/plain": [
       "array(['Setup/Closer Pitcher', 'Middle Reliever', 'Starting Pitcher'],\n",
       "      dtype=object)"
      ]
     },
     "execution_count": 17,
     "metadata": {},
     "output_type": "execute_result"
    }
   ],
   "source": [
    "principalDf.classified_role.unique()"
   ]
  },
  {
   "cell_type": "code",
   "execution_count": 18,
   "metadata": {},
   "outputs": [],
   "source": [
    "import pandas as pd\n",
    "\n",
    "# Assuming 'principalDf' is your principal components DataFrame\n",
    "# First, we'll define the quadrants based on the principal components\n",
    "def define_quadrant(row):\n",
    "    if row['principal component 1'] >= 0 and row['principal component 2'] >= 0:\n",
    "        return 'Quadrant 1'\n",
    "    elif row['principal component 1'] < 0 and row['principal component 2'] >= 0:\n",
    "        return 'Quadrant 2'\n",
    "    elif row['principal component 1'] < 0 and row['principal component 2'] < 0:\n",
    "        return 'Quadrant 3'\n",
    "    else:\n",
    "        return 'Quadrant 4'\n",
    "    \n",
    "principalDf['Quadrant'] = principalDf.apply(define_quadrant, axis=1)\n",
    "\n",
    "# Next, we'll create a pivot table to calculate the counts of roles in each quadrant\n",
    "pivot_table = principalDf.pivot_table(index='Quadrant', columns='classified_role', aggfunc='size', fill_value=0)\n",
    "\n",
    "# Calculate the percentages of each role in each quadrant\n",
    "quadrant_role_percentages = pivot_table.div(pivot_table.sum(axis=1), axis=0) * 100\n"
   ]
  },
  {
   "cell_type": "code",
   "execution_count": 19,
   "metadata": {},
   "outputs": [
    {
     "data": {
      "image/png": "[encoded data removed]",
      "text/plain": [
       "<Figure size 1000x700 with 1 Axes>"
      ]
     },
     "metadata": {},
     "output_type": "display_data"
    }
   ],
   "source": [
    "# Plot the stacked bar chart and capture the returned axes\n",
    "ax = quadrant_role_percentages.plot(kind='bar', stacked=True, figsize=(10, 7))\n",
    "\n",
    "# Add labels and title\n",
    "ax.set_xlabel('Quadrant')\n",
    "ax.set_ylabel('Percentage')\n",
    "ax.set_title('Percentage of Different Roles in Each Quadrant')\n",
    "ax.legend(title='Role')\n",
    "\n",
    "# Adding percentage text on each bar\n",
    "for bars in ax.containers:\n",
    "    ax.bar_label(bars, fmt='%.4f%%', label_type='center')\n",
    "\n",
    "# Show the plot\n",
    "plt.tight_layout()\n",
    "plt.show()"
   ]
  },
  {
   "cell_type": "markdown",
   "metadata": {},
   "source": [
    "### Save the feature loadings to a DataFrame"
   ]
  },
  {
   "cell_type": "code",
   "execution_count": 20,
   "metadata": {},
   "outputs": [],
   "source": [
    "# Assuming pca is your PCA object and features is the list of feature names\n",
    "loadings = pd.DataFrame(pca.components_.T, columns=['PC1', 'PC2'], index=features)\n",
    "\n",
    "# Calculate the distance of each loading from the origin\n",
    "loadings['Distance'] = np.sqrt(loadings['PC1']**2 + loadings['PC2']**2)\n",
    "\n",
    "# Function to determine the quadrant\n",
    "def determine_quadrant(row):\n",
    "    if row['PC1'] >= 0 and row['PC2'] >= 0:\n",
    "        return 'Q1'\n",
    "    elif row['PC1'] < 0 and row['PC2'] >= 0:\n",
    "        return 'Q2'\n",
    "    elif row['PC1'] < 0 and row['PC2'] < 0:\n",
    "        return 'Q3'\n",
    "    elif row['PC1'] >= 0 and row['PC2'] < 0:\n",
    "        return 'Q4'\n",
    "    \n",
    "# Apply the function to the DataFrame to create a new 'Quadrant' column\n",
    "loadings['Quadrant'] = loadings.apply(determine_quadrant, axis=1)\n",
    "\n",
    "# Create DataFrames for each quadrant\n",
    "quadrants = {}\n",
    "for quadrant in ['Q1', 'Q2', 'Q3', 'Q4']:\n",
    "    quadrants[quadrant] = loadings[loadings['Quadrant'] == quadrant].sort_values('Distance', ascending=False)\n"
   ]
  },
  {
   "cell_type": "code",
   "execution_count": 21,
   "metadata": {},
   "outputs": [],
   "source": [
    "from src.desc import baseball_stats_definitions\n",
    "\n",
    "# map the stat names to the definitions\n",
    "quadrants['Q1']['Stat'] = quadrants['Q1'].index.map(baseball_stats_definitions)\n",
    "quadrants['Q2']['Stat'] = quadrants['Q2'].index.map(baseball_stats_definitions)\n",
    "quadrants['Q3']['Stat'] = quadrants['Q3'].index.map(baseball_stats_definitions)\n",
    "quadrants['Q4']['Stat'] = quadrants['Q4'].index.map(baseball_stats_definitions)\n",
    "\n",
    "# Look at quadrant \n",
    "quadrant1 = quadrants['Q1'] # Low RP and SP\n",
    "quadrant2 = quadrants['Q2'] # High SP and Low RP\n",
    "quadrant3 = quadrants['Q3'] # High RP and Low SP\n",
    "quadrant4 = quadrants['Q4'] # Low SP and High RP"
   ]
  },
  {
   "cell_type": "code",
   "execution_count": 22,
   "metadata": {},
   "outputs": [
    {
     "data": {
      "text/plain": [
       "0"
      ]
     },
     "execution_count": 22,
     "metadata": {},
     "output_type": "execute_result"
    }
   ],
   "source": [
    "principalDf.dropna(inplace=True)\n",
    "principalDf.Name.isnull().sum()"
   ]
  },
  {
   "cell_type": "code",
   "execution_count": 23,
   "metadata": {},
   "outputs": [],
   "source": [
    "# get player names for each quadrant\n",
    "q1 = principalDf[principalDf.Quadrant == 'Q1']\n",
    "q2 = principalDf[principalDf.Quadrant == 'Q2']\n",
    "q3 = principalDf[principalDf.Quadrant == 'Q3']\n",
    "q4 = principalDf[principalDf.Quadrant == 'Q4']"
   ]
  },
  {
   "cell_type": "code",
   "execution_count": 24,
   "metadata": {},
   "outputs": [],
   "source": [
    "from src.paths import QUADRANT_DATA_DIR\n",
    "# Save the quadrants data to xlsx file \n",
    "quadrant1.to_excel(QUADRANT_DATA_DIR / 'quadrant1_SP_RP_EQUAL.xlsx')\n",
    "quadrant2.to_excel(QUADRANT_DATA_DIR / 'quadrant2_SP_MAJORITY.xlsx')\n",
    "quadrant3.to_excel(QUADRANT_DATA_DIR / 'quadrant3_RP_MAJORITY.xlsx')\n",
    "quadrant4.to_excel(QUADRANT_DATA_DIR / 'quadrant4_RP_MAJORITY.xlsx')\n",
    "\n",
    "# Save the players in each quadrant to xlsx file\n",
    "q1.to_excel(QUADRANT_DATA_DIR / 'q1_players.xlsx')\n",
    "q2.to_excel(QUADRANT_DATA_DIR / 'q2_players.xlsx')\n",
    "q3.to_excel(QUADRANT_DATA_DIR / 'q3_players.xlsx')\n",
    "q4.to_excel(QUADRANT_DATA_DIR / 'q4_players.xlsx')\n",
    "\n",
    "# Save the principalDF\n",
    "principalDf.to_excel(QUADRANT_DATA_DIR / 'principalDf.xlsx')\n"
   ]
  },
  {
   "cell_type": "markdown",
   "metadata": {},
   "source": []
  },
  {
   "cell_type": "code",
   "execution_count": null,
   "metadata": {},
   "outputs": [],
   "source": []
  }
 ],
 "metadata": {
  "kernelspec": {
   "display_name": ".venv",
   "language": "python",
   "name": "python3"
  },
  "language_info": {
   "codemirror_mode": {
    "name": "ipython",
    "version": 3
   },
   "file_extension": ".py",
   "mimetype": "text/x-python",
   "name": "python",
   "nbconvert_exporter": "python",
   "pygments_lexer": "ipython3",
   "version": "3.11.4"
  }
 },
 "nbformat": 4,
 "nbformat_minor": 2
}
