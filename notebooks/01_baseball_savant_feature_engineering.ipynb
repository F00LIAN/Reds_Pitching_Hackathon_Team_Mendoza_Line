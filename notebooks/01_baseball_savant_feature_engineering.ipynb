{
 "cells": [
  {
   "cell_type": "markdown",
   "metadata": {},
   "source": [
    "### Import Baseball Savant Data and Remove Position Players who pitched. Also add new features for 2 out walks, 0-2/1-2 walks, and leadoff walks."
   ]
  },
  {
   "cell_type": "code",
   "execution_count": 1,
   "metadata": {},
   "outputs": [],
   "source": [
    "import pandas as pd\n",
    "import numpy as np\n",
    "import matplotlib.pyplot as plt\n",
    "import seaborn as sns\n",
    "import json\n",
    "import os\n",
    "import sys\n",
    "\n",
    "# reference main directory in existing folder\n",
    "current_dir = os.getcwd()\n",
    "parent_dir = os.path.dirname(current_dir)\n",
    "sys.path.append(parent_dir)\n",
    "\n",
    "import pandas as pd \n",
    "import numpy as np\n",
    "import matplotlib.pyplot as plt\n",
    "import plotly.express as px\n",
    "import plotly.graph_objects as go\n",
    "import plotly.io as pio\n",
    "import matplotlib.pyplot as plt\n",
    "from src.paths import RAW_DATA_DIR\n",
    "import plotly.express as px\n",
    "import plotly.graph_objects as go\n",
    "import plotly.io as pio\n",
    "\n",
    "# show all rows and columns\n",
    "pd.set_option('display.max_columns', None)\n",
    "pd.set_option('display.max_rows', None)\n",
    "pd.set_option('display.max_colwidth', None)\n",
    "\n",
    "# import data\n",
    "savant = pd.read_csv(RAW_DATA_DIR / 'savant_pitch_level.csv')\n",
    "data_dictionary = pd.read_excel(RAW_DATA_DIR / 'data_dictionary.xlsx')\n",
    "fangraph = pd.read_csv(RAW_DATA_DIR / 'fangraphs_season_level.csv')\n",
    "\n",
    "# External Data\n",
    "baseball_reference = pd.read_excel(RAW_DATA_DIR / 'sportsref_download.xlsx')"
   ]
  },
  {
   "cell_type": "code",
   "execution_count": 2,
   "metadata": {},
   "outputs": [
    {
     "data": {
      "text/plain": [
       "(889, 9)"
      ]
     },
     "execution_count": 2,
     "metadata": {},
     "output_type": "execute_result"
    }
   ],
   "source": [
    "baseball_reference.shape"
   ]
  },
  {
   "cell_type": "markdown",
   "metadata": {},
   "source": [
    "### 1. Import Baseball Reference Data to find all position players who pitched in from 2019-2023"
   ]
  },
  {
   "cell_type": "code",
   "execution_count": 3,
   "metadata": {},
   "outputs": [],
   "source": [
    "# exlude shohei ohtani from data\n",
    "baseball_reference = baseball_reference[baseball_reference['Name'] != 'Shohei Ohtani']"
   ]
  },
  {
   "cell_type": "code",
   "execution_count": 4,
   "metadata": {},
   "outputs": [],
   "source": [
    "import unicodedata\n",
    "\n",
    "def remove_accents(input_str):\n",
    "    nfkd_form = unicodedata.normalize('NFKD', input_str)\n",
    "    return \"\".join([c for c in nfkd_form if not unicodedata.combining(c)])\n",
    "\n",
    "baseball_reference['Name'] = baseball_reference['Name'].apply(remove_accents)\n",
    "savant.player_name = savant.player_name.apply(remove_accents)\n",
    "fangraph.Name = fangraph.Name.apply(remove_accents)\n",
    "\n"
   ]
  },
  {
   "cell_type": "code",
   "execution_count": 5,
   "metadata": {},
   "outputs": [],
   "source": [
    "baseball_reference_names = baseball_reference['Name']\n",
    "# get a list of names from baseball reference\n",
    "baseball_reference_names = baseball_reference['Name'].tolist()\n",
    "savant_names = savant['player_name']\n",
    "fangraph_names = fangraph['Name']\n",
    "# split the player_name into last name and first name from the comma and space\n",
    "savant['Last Name'] = savant['player_name'].str.split(', ').str[0]\n",
    "savant['First Name'] = savant['player_name'].str.split(', ').str[1]\n",
    "savant['Name'] = savant['First Name'] + ' ' + savant['Last Name']\n",
    "savant['player_name'] = savant['Name']\n",
    "#drop the Name column\n",
    "savant.drop(columns=['Name'], inplace=True)\n"
   ]
  },
  {
   "cell_type": "code",
   "execution_count": 6,
   "metadata": {},
   "outputs": [],
   "source": [
    "# Convert baseball_reference_names to a set for efficient lookup\n",
    "baseball_reference_name_set = set(baseball_reference_names)\n",
    "\n",
    "# Filter out names from savant and fangraph dataframes that are in baseball_reference_name_set\n",
    "filtered_savant = savant[~savant['player_name'].isin(baseball_reference_name_set)]\n",
    "filtered_fangraph = fangraph[~fangraph['Name'].isin(baseball_reference_name_set)]\n",
    "\n",
    "# Now, filtered_savant and filtered_fangraph contain rows where names are not in baseball_reference_names\n"
   ]
  },
  {
   "cell_type": "code",
   "execution_count": 7,
   "metadata": {},
   "outputs": [],
   "source": [
    "savant = filtered_savant\n",
    "fangraph = filtered_fangraph"
   ]
  },
  {
   "cell_type": "code",
   "execution_count": 8,
   "metadata": {},
   "outputs": [],
   "source": [
    "# examine pitcher and batter and des, ', des'\n",
    "temp = savant[['pitcher', 'home_team', 'away_team', 'player_name', 'batter', 'home_score', 'away_score', 'description', 'type', 'events', 'balls', 'strikes', 'game_date', 'game_year', 'game_pk', 'game_type', 'inning', 'outs_when_up', 'role_key', 'rp_indicator', 'sp_indicator', 'times_faced',  'inning_topbot', 'outs_when_up']]\n",
    "#temp_merge = pd.merge(temp, temp_fangraphs, on='pitcher', how='left')"
   ]
  },
  {
   "cell_type": "markdown",
   "metadata": {},
   "source": [
    "### 2. Sort the DataFrame by game date, game, then by inning, and create a top and bottom of the inning DataFrame"
   ]
  },
  {
   "cell_type": "code",
   "execution_count": 9,
   "metadata": {},
   "outputs": [],
   "source": [
    "def sort_baseball_innings(df):\n",
    "    \"\"\"\n",
    "    Sort the DataFrame by game date, game, then by inning, and within each inning,\n",
    "    ensure 'Top' comes before 'Bot'. Handles duplicate column names.\n",
    "\n",
    "    Args:\n",
    "    df (pd.DataFrame): The DataFrame containing baseball game data.\n",
    "\n",
    "    Returns:\n",
    "    pd.DataFrame: The sorted DataFrame.\n",
    "    \"\"\"\n",
    "    # Check for duplicate column names\n",
    "    if df.columns.duplicated().any():\n",
    "        df = df.loc[:, ~df.columns.duplicated()]\n",
    "\n",
    "    # Define a custom sort order for 'inning_topbot'\n",
    "    inning_topbot_order = {'Top': 0, 'Bot': 1}\n",
    "    \n",
    "    # Apply the custom sort order to create a new column for sorting\n",
    "    df['inning_topbot_sort'] = df['inning_topbot'].map(inning_topbot_order)\n",
    "    \n",
    "    # Sort by 'game_date', 'game_pk', 'inning', 'inning_topbot_sort', then 'outs_when_up'\n",
    "    df_sorted = df.sort_values(by=['game_date', 'game_pk', 'inning', 'inning_topbot_sort', 'outs_when_up'],\n",
    "                               ascending=[True, True, True, True, True])\n",
    "    \n",
    "    # Drop the temporary sort column\n",
    "    df_sorted = df_sorted.drop(columns=['inning_topbot_sort'])\n",
    "    \n",
    "    return df_sorted\n",
    "\n",
    "temp_sorted = sort_baseball_innings(temp)\n"
   ]
  },
  {
   "cell_type": "markdown",
   "metadata": {},
   "source": [
    "## 3. Create a new unique at bat identifier for each at bat and feature engineer bad walks: 2 out walks, 0-2/1-2 walks, and leadoff walks"
   ]
  },
  {
   "cell_type": "code",
   "execution_count": 10,
   "metadata": {},
   "outputs": [
    {
     "name": "stderr",
     "output_type": "stream",
     "text": [
      "C:\\Users\\Julian Sotelo\\AppData\\Local\\Temp\\ipykernel_28992\\3014452984.py:10: FutureWarning: ChainedAssignmentError: behaviour will change in pandas 3.0!\n",
      "You are setting values through chained assignment. Currently this works in certain cases, but when using Copy-on-Write (which will become the default behaviour in pandas 3.0) this will never work to update the original DataFrame or Series, because the intermediate object on which we are setting values will behave as a copy.\n",
      "A typical example is when you are setting values in a column of a DataFrame, like:\n",
      "\n",
      "df[\"col\"][row_indexer] = value\n",
      "\n",
      "Use `df.loc[row_indexer, \"col\"] = values` instead, to perform the assignment in a single step and ensure this keeps updating the original `df`.\n",
      "\n",
      "See the caveats in the documentation: https://pandas.pydata.org/pandas-docs/stable/user_guide/indexing.html#returning-a-view-versus-a-copy\n",
      "\n",
      "  df['new_at_bat'].iloc[0] = False\n",
      "C:\\Users\\Julian Sotelo\\AppData\\Local\\Temp\\ipykernel_28992\\3014452984.py:10: SettingWithCopyWarning: \n",
      "A value is trying to be set on a copy of a slice from a DataFrame\n",
      "\n",
      "See the caveats in the documentation: https://pandas.pydata.org/pandas-docs/stable/user_guide/indexing.html#returning-a-view-versus-a-copy\n",
      "  df['new_at_bat'].iloc[0] = False\n"
     ]
    }
   ],
   "source": [
    "def create_unique_at_bat_id(df):\n",
    "    \"\"\"\n",
    "    Adds a unique ID for each at-bat to the DataFrame. A new at-bat is indicated by a change in the 'batter' column value.\n",
    "    The unique ID will increment each time a new at-bat starts.\n",
    "    \"\"\"\n",
    "    # Detect changes in the 'batter' column to indicate a new at-bat\n",
    "    df['new_at_bat'] = df['batter'] != df['batter'].shift(1)\n",
    "\n",
    "    # Fill the initial row's NaN value after shifting with False\n",
    "    df['new_at_bat'].iloc[0] = False\n",
    "\n",
    "    # Create a unique at-bat ID that increments with each new at-bat\n",
    "    df['at_bat_id'] = df['new_at_bat'].cumsum()\n",
    "\n",
    "    # Drop the 'new_at_bat' helper column as it's no longer needed\n",
    "    df.drop(columns=['new_at_bat'], inplace=True)\n",
    "\n",
    "    return df\n",
    "\n",
    "def feature_engineer_walks(df):\n",
    "    \"\"\"\n",
    "    Adds binary features for 2-out walks, 0-2/1-2 walks, and leadoff walks.\n",
    "\n",
    "    Args:\n",
    "    df (pd.DataFrame): DataFrame containing pitch-by-pitch baseball data with a rolling count.\n",
    "\n",
    "    Returns:\n",
    "    pd.DataFrame: DataFrame with the added binary features.\n",
    "    \"\"\"\n",
    "    # Identify the last pitch of each at-bat\n",
    "    df['at_bat_end'] = df['balls'].shift(-1) == 0\n",
    "\n",
    "    # Check for walks with 2 outs\n",
    "    df['2_out_walk'] = ((df['outs_when_up'] == 2) & (df['events'] == 'walk') & df['at_bat_end']).astype(int)\n",
    "\n",
    "    # Check for walks with 0-2 or 1-2 counts\n",
    "    df['0_2_or_1_2_walk'] = ((df['strikes'] == 2) & (df['balls'] < 2) & (df['events'] == 'walk') & df['at_bat_end']).astype(int)\n",
    "\n",
    "    # Identify leadoff walks by checking if the walk is the first event in an inning\n",
    "    df['inning_leadoff'] = df.groupby(['game_pk', 'inning'])['at_bat_id'].transform('min')\n",
    "    df['leadoff_walk'] = (df['at_bat_id'] == df['inning_leadoff']) & (df['events'] == 'walk').astype(int)\n",
    "\n",
    "    # Drop the helper columns\n",
    "    df.drop(columns=['at_bat_end', 'inning_leadoff'], inplace=True)\n",
    "\n",
    "    return df\n",
    "\n",
    "# Assuming 'temp_sorted' is your DataFrame that includes the necessary columns\n",
    "# Apply the function to the dataframe\n",
    "temp_sorted = create_unique_at_bat_id(temp_sorted)  # Ensure each at-bat has a unique ID\n",
    "temp_sorted = feature_engineer_walks(temp_sorted)\n",
    "\n",
    "# Display the DataFrame to verify the new\n"
   ]
  },
  {
   "cell_type": "code",
   "execution_count": null,
   "metadata": {},
   "outputs": [],
   "source": []
  },
  {
   "cell_type": "markdown",
   "metadata": {},
   "source": [
    "## 4. Average Outing Metrics: Batters Faced per appearance and average innings pitched per appearance"
   ]
  },
  {
   "cell_type": "code",
   "execution_count": 11,
   "metadata": {},
   "outputs": [
    {
     "name": "stderr",
     "output_type": "stream",
     "text": [
      "C:\\Users\\Julian Sotelo\\AppData\\Local\\Temp\\ipykernel_28992\\3417247848.py:35: FutureWarning: Downcasting object dtype arrays on .fillna, .ffill, .bfill is deprecated and will change in a future version. Call result.infer_objects(copy=False) instead. To opt-in to the future behavior, set `pd.set_option('future.no_silent_downcasting', True)`\n",
      "  return average_outing_metrics.fillna(0)\n"
     ]
    }
   ],
   "source": [
    "def calculate_average_outing_metrics(df):\n",
    "    \"\"\"\n",
    "    Calculates the average number of batters faced and innings pitched per appearance for each pitcher\n",
    "    based on their role and season, with separate calculations for starting pitchers and relief pitchers.\n",
    "\n",
    "    Args:\n",
    "    df (pd.DataFrame): DataFrame containing baseball game data with pitcher IDs, role, season, and game_pk.\n",
    "\n",
    "    Returns:\n",
    "    pd.DataFrame: DataFrame with each pitcher's average batters faced per appearance and innings pitched per appearance,\n",
    "                  with separate columns for starting pitchers and relief pitchers.\n",
    "    \"\"\"\n",
    "    # Initialize DataFrames to hold average metrics for SP and RP\n",
    "    metrics_columns = ['average_batters_faced_per_appearance_SP', 'average_innings_pitched_per_appearance_SP',\n",
    "                       'average_batters_faced_per_appearance_RP', 'average_innings_pitched_per_appearance_RP']\n",
    "    average_outing_metrics = pd.DataFrame(columns=['pitcher', 'game_year'] + metrics_columns)\n",
    "\n",
    "    for role_key in ['SP', 'RP']:\n",
    "        # Group by 'pitcher', 'role_key', 'game_year', and 'game_pk' to count distinct batters faced per appearance\n",
    "        batters_faced_per_appearance = df[df['role_key'] == role_key].groupby(['pitcher', 'game_year', 'game_pk'])['batter'].nunique().reset_index(name='batters_faced')\n",
    "\n",
    "        # Group by 'pitcher', 'role_key', 'game_year', 'game_pk', and 'inning_topbot' to count distinct innings pitched per appearance\n",
    "        innings_pitched_per_appearance = df[df['role_key'] == role_key].groupby(['pitcher', 'game_year', 'game_pk', 'inning_topbot'])['inning'].nunique().groupby(['pitcher', 'game_year', 'game_pk']).sum().reset_index(name='innings_pitched')\n",
    "\n",
    "        # Calculate the average batters faced per appearance for each pitcher by role and season\n",
    "        average_batters_faced = batters_faced_per_appearance.groupby(['pitcher', 'game_year'])['batters_faced'].mean().reset_index(name=f'average_batters_faced_per_appearance_{role_key}')\n",
    "\n",
    "        # Calculate the average innings pitched per appearance for each pitcher by role and season\n",
    "        average_innings_pitched = innings_pitched_per_appearance.groupby(['pitcher', 'game_year'])['innings_pitched'].mean().reset_index(name=f'average_innings_pitched_per_appearance_{role_key}')\n",
    "\n",
    "        # Merge the two metrics into the average_outing_metrics DataFrame\n",
    "        role_metrics = pd.merge(average_batters_faced, average_innings_pitched, on=['pitcher', 'game_year'])\n",
    "        average_outing_metrics = average_outing_metrics.merge(role_metrics, on=['pitcher', 'game_year'], how='outer')\n",
    "\n",
    "    return average_outing_metrics.fillna(0)\n",
    "\n",
    "# Assuming temp_sorted is your DataFrame that includes the necessary columns\n",
    "# Calculate the average outing metrics\n",
    "average_outing_metrics = calculate_average_outing_metrics(temp_sorted)\n",
    "\n",
    "# Merge the calculated metrics back into the temp_sorted DataFrame\n",
    "temp_sorted = temp_sorted.merge(average_outing_metrics, on=['pitcher', 'game_year'], how='left')"
   ]
  },
  {
   "cell_type": "markdown",
   "metadata": {},
   "source": [
    "## 5. Average Inning a  pitcher pitches"
   ]
  },
  {
   "cell_type": "code",
   "execution_count": 13,
   "metadata": {},
   "outputs": [],
   "source": [
    "def average_inning_per_pitcher(df):\n",
    "    \"\"\"\n",
    "    Determines the average inning in which each pitcher typically pitches by role and season, with separate calculations for starting pitchers and relief pitchers.\n",
    "\n",
    "    Args:\n",
    "    df (pd.DataFrame): DataFrame containing baseball game data with pitcher IDs, role, season, and game_pk.\n",
    "\n",
    "    Returns:\n",
    "    pd.DataFrame: DataFrame with each pitcher, their role, season, and their average pitched inning for each role.\n",
    "    \"\"\"\n",
    "    # Initialize an empty DataFrame to store results\n",
    "    average_innings_df = pd.DataFrame()\n",
    "\n",
    "    for role_key in ['SP', 'RP']:\n",
    "        # Group by pitcher, role, season, and calculate the mean inning\n",
    "        role_average_innings = df[df['role_key'] == role_key].groupby(['pitcher', 'game_year'])['inning'].mean().reset_index(name=f'average_inning_{role_key}')\n",
    "\n",
    "        # Merge results into the main DataFrame\n",
    "        if average_innings_df.empty:\n",
    "            average_innings_df = role_average_innings\n",
    "        else:\n",
    "            average_innings_df = pd.merge(average_innings_df, role_average_innings, on=['pitcher', 'game_year'], how='outer')\n",
    "\n",
    "    return average_innings_df.fillna('NA')\n",
    "\n",
    "# Calculate the average inning per pitcher considering their role and season\n",
    "average_inning_per_pitcher_df = average_inning_per_pitcher(temp_sorted)\n",
    "\n",
    "# Merge the average inning per pitcher, role, and season back into the temp_sorted dataframe\n",
    "temp_sorted = temp_sorted.merge(average_inning_per_pitcher_df, on=['pitcher', 'game_year'], how='left')\n"
   ]
  },
  {
   "cell_type": "markdown",
   "metadata": {},
   "source": [
    "## 6. Average Inning Entry Exit"
   ]
  },
  {
   "cell_type": "code",
   "execution_count": 14,
   "metadata": {},
   "outputs": [
    {
     "name": "stderr",
     "output_type": "stream",
     "text": [
      "C:\\Users\\Julian Sotelo\\AppData\\Local\\Temp\\ipykernel_28992\\706176459.py:18: SettingWithCopyWarning: \n",
      "A value is trying to be set on a copy of a slice from a DataFrame.\n",
      "Try using .loc[row_indexer,col_indexer] = value instead\n",
      "\n",
      "See the caveats in the documentation: https://pandas.pydata.org/pandas-docs/stable/user_guide/indexing.html#returning-a-view-versus-a-copy\n",
      "  role_df['pitcher_start'] = role_df['pitcher'] != role_df['pitcher'].shift()\n",
      "C:\\Users\\Julian Sotelo\\AppData\\Local\\Temp\\ipykernel_28992\\706176459.py:19: SettingWithCopyWarning: \n",
      "A value is trying to be set on a copy of a slice from a DataFrame.\n",
      "Try using .loc[row_indexer,col_indexer] = value instead\n",
      "\n",
      "See the caveats in the documentation: https://pandas.pydata.org/pandas-docs/stable/user_guide/indexing.html#returning-a-view-versus-a-copy\n",
      "  role_df['pitcher_end'] = role_df['pitcher'] != role_df['pitcher'].shift(-1)\n",
      "C:\\Users\\Julian Sotelo\\AppData\\Local\\Temp\\ipykernel_28992\\706176459.py:18: SettingWithCopyWarning: \n",
      "A value is trying to be set on a copy of a slice from a DataFrame.\n",
      "Try using .loc[row_indexer,col_indexer] = value instead\n",
      "\n",
      "See the caveats in the documentation: https://pandas.pydata.org/pandas-docs/stable/user_guide/indexing.html#returning-a-view-versus-a-copy\n",
      "  role_df['pitcher_start'] = role_df['pitcher'] != role_df['pitcher'].shift()\n",
      "C:\\Users\\Julian Sotelo\\AppData\\Local\\Temp\\ipykernel_28992\\706176459.py:19: SettingWithCopyWarning: \n",
      "A value is trying to be set on a copy of a slice from a DataFrame.\n",
      "Try using .loc[row_indexer,col_indexer] = value instead\n",
      "\n",
      "See the caveats in the documentation: https://pandas.pydata.org/pandas-docs/stable/user_guide/indexing.html#returning-a-view-versus-a-copy\n",
      "  role_df['pitcher_end'] = role_df['pitcher'] != role_df['pitcher'].shift(-1)\n"
     ]
    },
    {
     "name": "stdout",
     "output_type": "stream",
     "text": [
      "     pitcher  game_year avg_inning_entry_SP avg_inning_exit_SP  \\\n",
      "0     608566       2021                 1.0            5.78125   \n",
      "23    477132       2021                 1.0           5.636364   \n",
      "136   592346       2021                 1.0                5.0   \n",
      "211   608349       2021                 1.0                1.5   \n",
      "215   622075       2021                  NA                 NA   \n",
      "\n",
      "    avg_inning_entry_RP avg_inning_exit_RP  \n",
      "0                    NA                 NA  \n",
      "23                   NA                 NA  \n",
      "136            5.333333                7.0  \n",
      "211            7.565217           7.695652  \n",
      "215              6.9375             7.1875  \n"
     ]
    }
   ],
   "source": [
    "def calculate_pitcher_inning_entry_exit(df):\n",
    "    \"\"\"\n",
    "    Calculates the average inning entry and exit for each pitcher by role and season based on pitch-by-pitch data,\n",
    "    with separate calculations for starting pitchers and relief pitchers.\n",
    "\n",
    "    Args:\n",
    "    df (pd.DataFrame): DataFrame containing pitch-by-pitch baseball game data.\n",
    "\n",
    "    Returns:\n",
    "    pd.DataFrame: DataFrame with each pitcher's average inning of entry and exit by role and season.\n",
    "    \"\"\"\n",
    "    # Initialize an empty DataFrame to store results\n",
    "    pitcher_inning_stats_df = pd.DataFrame()\n",
    "\n",
    "    for role_key in ['SP', 'RP']:\n",
    "        # Identify the rows where a new pitcher starts or an existing pitcher ends their appearance for the specific role\n",
    "        role_df = df[df['role_key'] == role_key]\n",
    "        role_df['pitcher_start'] = role_df['pitcher'] != role_df['pitcher'].shift()\n",
    "        role_df['pitcher_end'] = role_df['pitcher'] != role_df['pitcher'].shift(-1)\n",
    "\n",
    "        # Filter the dataset to get only the rows where pitchers start and end their appearance\n",
    "        start_innings = role_df[role_df['pitcher_start']].groupby(['pitcher', 'game_year', 'game_pk'])['inning'].first().reset_index()\n",
    "        end_innings = role_df[role_df['pitcher_end']].groupby(['pitcher', 'game_year', 'game_pk'])['inning'].last().reset_index()\n",
    "\n",
    "        # Calculate the average inning of entry and exit for each pitcher by role and season\n",
    "        avg_start_innings = start_innings.groupby(['pitcher', 'game_year'])['inning'].mean().reset_index(name=f'avg_inning_entry_{role_key}')\n",
    "        avg_end_innings = end_innings.groupby(['pitcher', 'game_year'])['inning'].mean().reset_index(name=f'avg_inning_exit_{role_key}')\n",
    "\n",
    "        # Merge role-specific stats into the main DataFrame\n",
    "        role_metrics = pd.merge(avg_start_innings, avg_end_innings, on=['pitcher', 'game_year'])\n",
    "        if pitcher_inning_stats_df.empty:\n",
    "            pitcher_inning_stats_df = role_metrics\n",
    "        else:\n",
    "            pitcher_inning_stats_df = pd.merge(pitcher_inning_stats_df, role_metrics, on=['pitcher', 'game_year'], how='outer')\n",
    "\n",
    "    return pitcher_inning_stats_df.fillna('NA')\n",
    "\n",
    "# Calculate the pitcher inning stats considering the pitcher's role and season\n",
    "pitcher_inning_stats = calculate_pitcher_inning_entry_exit(temp_sorted)\n",
    "\n",
    "# Merge the stats back into the original DataFrame with a consideration of the role and season\n",
    "temp_sorted = temp_sorted.merge(pitcher_inning_stats, on=['pitcher', 'game_year'], how='left')\n",
    "\n",
    "# Display the result\n",
    "print(temp_sorted[['pitcher', 'game_year', 'avg_inning_entry_SP', 'avg_inning_exit_SP', 'avg_inning_entry_RP', 'avg_inning_exit_RP']].drop_duplicates().head())\n"
   ]
  },
  {
   "cell_type": "markdown",
   "metadata": {},
   "source": [
    "## 7. Mode Inning Entry and Exit"
   ]
  },
  {
   "cell_type": "code",
   "execution_count": 15,
   "metadata": {},
   "outputs": [
    {
     "data": {
      "text/plain": [
       "\"\\n# Calculate the pitcher inning stats considering the pitcher's role and season\\npitcher_inning_stats = calculate_pitcher_inning_entry_exit(temp_sorted)\\n\\n# Merge the stats back into the original DataFrame with a consideration of the role and season\\ntemp_sorted = temp_sorted.merge(pitcher_inning_stats, on=['pitcher', 'game_year'], how='left')\""
      ]
     },
     "execution_count": 15,
     "metadata": {},
     "output_type": "execute_result"
    }
   ],
   "source": [
    "import pandas as pd\n",
    "from scipy.stats import mode\n",
    "\n",
    "def calculate_pitcher_inning_entry_exit(df):\n",
    "    \"\"\"\n",
    "    Calculates the mode inning entry and exit for each pitcher by role and season based on pitch-by-pitch data, \n",
    "    with separate calculations for starting pitchers and relief pitchers.\n",
    "\n",
    "    Args:\n",
    "    df (pd.DataFrame): DataFrame containing pitch-by-pitch baseball game data.\n",
    "\n",
    "    Returns:\n",
    "    pd.DataFrame: DataFrame with each pitcher's mode inning of entry and exit by role and season.\n",
    "    \"\"\"\n",
    "    # Initialize an empty DataFrame to store results\n",
    "    pitcher_inning_stats_df = pd.DataFrame()\n",
    "\n",
    "    for role_key in ['SP', 'RP']:\n",
    "        # Identify the rows where a new pitcher starts or an existing pitcher ends their appearance\n",
    "        role_df = df[df['role_key'] == role_key].copy()\n",
    "        role_df['pitcher_start'] = role_df['pitcher'] != role_df['pitcher'].shift()\n",
    "        role_df['pitcher_end'] = role_df['pitcher'] != role_df['pitcher'].shift(-1)\n",
    "\n",
    "        # Filter the dataset to get only the rows where pitchers start and end their appearance\n",
    "        start_innings = role_df[role_df['pitcher_start']].groupby(['pitcher', 'game_year', 'game_pk'])['inning'].first().reset_index()\n",
    "        end_innings = role_df[role_df['pitcher_end']].groupby(['pitcher', 'game_year', 'game_pk'])['inning'].last().reset_index()\n",
    "\n",
    "        # Custom function to calculate mode\n",
    "        def calculate_mode(series):\n",
    "            if series.empty:\n",
    "                return None\n",
    "            return mode(series)[0][0]\n",
    "\n",
    "        # Calculate the mode inning of entry and exit for each pitcher by role and season\n",
    "        mode_start_innings = start_innings.groupby(['pitcher', 'game_year'])['inning'].apply(calculate_mode).reset_index(name=f'mode_inning_entry_{role_key}')\n",
    "        mode_end_innings = end_innings.groupby(['pitcher', 'game_year'])['inning'].apply(calculate_mode).reset_index(name=f'mode_inning_exit_{role_key}')\n",
    "\n",
    "        # Merge results into the main DataFrame\n",
    "        role_metrics = pd.merge(mode_start_innings, mode_end_innings, on=['pitcher', 'game_year'])\n",
    "        if pitcher_inning_stats_df.empty:\n",
    "            pitcher_inning_stats_df = role_metrics\n",
    "        else:\n",
    "            pitcher_inning_stats_df = pd.merge(pitcher_inning_stats_df, role_metrics, on=['pitcher', 'game_year'], how='outer')\n",
    "\n",
    "    return pitcher_inning_stats_df.fillna('NA')\n",
    "\"\"\"\n",
    "# Calculate the pitcher inning stats considering the pitcher's role and season\n",
    "pitcher_inning_stats = calculate_pitcher_inning_entry_exit(temp_sorted)\n",
    "\n",
    "# Merge the stats back into the original DataFrame with a consideration of the role and season\n",
    "temp_sorted = temp_sorted.merge(pitcher_inning_stats, on=['pitcher', 'game_year'], how='left')\"\"\"\n"
   ]
  },
  {
   "cell_type": "markdown",
   "metadata": {},
   "source": [
    "## 8. Calculate Walk Rates per Year"
   ]
  },
  {
   "cell_type": "code",
   "execution_count": 16,
   "metadata": {},
   "outputs": [
    {
     "name": "stderr",
     "output_type": "stream",
     "text": [
      "C:\\Users\\Julian Sotelo\\AppData\\Local\\Temp\\ipykernel_28992\\3344310496.py:18: SettingWithCopyWarning: \n",
      "A value is trying to be set on a copy of a slice from a DataFrame.\n",
      "Try using .loc[row_indexer,col_indexer] = value instead\n",
      "\n",
      "See the caveats in the documentation: https://pandas.pydata.org/pandas-docs/stable/user_guide/indexing.html#returning-a-view-versus-a-copy\n",
      "  role_df['bad_walk'] = role_df['2_out_walk'] | role_df['0_2_or_1_2_walk']\n",
      "C:\\Users\\Julian Sotelo\\AppData\\Local\\Temp\\ipykernel_28992\\3344310496.py:18: SettingWithCopyWarning: \n",
      "A value is trying to be set on a copy of a slice from a DataFrame.\n",
      "Try using .loc[row_indexer,col_indexer] = value instead\n",
      "\n",
      "See the caveats in the documentation: https://pandas.pydata.org/pandas-docs/stable/user_guide/indexing.html#returning-a-view-versus-a-copy\n",
      "  role_df['bad_walk'] = role_df['2_out_walk'] | role_df['0_2_or_1_2_walk']\n"
     ]
    }
   ],
   "source": [
    "def calculate_walk_rates(df):\n",
    "    \"\"\"\n",
    "    Calculates the rates of \"bad walks\" and \"leadoff walks\" for each pitcher by role and season,\n",
    "    with separate calculations for starting pitchers and relief pitchers.\n",
    "\n",
    "    Args:\n",
    "    df (pd.DataFrame): DataFrame containing pitch-by-pitch baseball game data.\n",
    "\n",
    "    Returns:\n",
    "    pd.DataFrame: DataFrame with each pitcher's \"bad walk\" rate and \"leadoff walk\" rate by role and season.\n",
    "    \"\"\"\n",
    "    # Initialize an empty DataFrame to store results\n",
    "    walk_rates_df = pd.DataFrame()\n",
    "\n",
    "    for role_key in ['SP', 'RP']:\n",
    "        # Calculate the number of \"bad walks\" for each pitcher in the given role\n",
    "        role_df = df[df['role_key'] == role_key]\n",
    "        role_df['bad_walk'] = role_df['2_out_walk'] | role_df['0_2_or_1_2_walk']\n",
    "        bad_walks_per_pitcher = role_df.groupby(['pitcher', 'game_year'])['bad_walk'].sum()\n",
    "\n",
    "        # Calculate the number of leadoff walks for each pitcher in the given role\n",
    "        leadoff_walks_per_pitcher = role_df.groupby(['pitcher', 'game_year'])['leadoff_walk'].sum()\n",
    "\n",
    "        # Calculate the total number of batters faced by each pitcher in the given role\n",
    "        batters_faced_per_pitcher = role_df.groupby(['pitcher', 'game_year'])['at_bat_id'].nunique()\n",
    "\n",
    "        # Calculate the rate of bad walks and leadoff walks by role and season\n",
    "        bad_walk_rate_per_pitcher = bad_walks_per_pitcher / batters_faced_per_pitcher\n",
    "        leadoff_walk_rate_per_pitcher = leadoff_walks_per_pitcher / batters_faced_per_pitcher\n",
    "\n",
    "        # Create a DataFrame for the role-specific walk rates\n",
    "        role_walk_rates = pd.DataFrame({\n",
    "            'pitcher': bad_walk_rate_per_pitcher.index.get_level_values('pitcher'),\n",
    "            'game_year': bad_walk_rate_per_pitcher.index.get_level_values('game_year'),\n",
    "            f'bad_walk_rate_{role_key}': bad_walk_rate_per_pitcher.values,\n",
    "            f'leadoff_walk_rate_{role_key}': leadoff_walk_rate_per_pitcher.values\n",
    "        })\n",
    "\n",
    "        # Merge role-specific walk rates into the main DataFrame\n",
    "        if walk_rates_df.empty:\n",
    "            walk_rates_df = role_walk_rates\n",
    "        else:\n",
    "            walk_rates_df = pd.merge(walk_rates_df, role_walk_rates, on=['pitcher', 'game_year'], how='outer')\n",
    "\n",
    "    return walk_rates_df.fillna('NA')\n",
    "\n",
    "# Calculate the walk rates considering the pitcher's role and season\n",
    "walk_rates = calculate_walk_rates(temp_sorted)\n",
    "\n",
    "# Merge the walk rates back into the original DataFrame with a consideration of the role and season\n",
    "temp_sorted = temp_sorted.merge(walk_rates, on=['pitcher', 'game_year'], how='left')"
   ]
  },
  {
   "cell_type": "markdown",
   "metadata": {},
   "source": [
    "## 9. Find the most common inning a pitcher pitches in and create a new feature for that"
   ]
  },
  {
   "cell_type": "code",
   "execution_count": 17,
   "metadata": {},
   "outputs": [],
   "source": [
    "def most_common_inning_per_pitcher(df):\n",
    "    \"\"\"\n",
    "    Calculates the most common inning that each pitcher pitches by role and season, with separate columns for starting pitchers (SP) and relief pitchers (RP).\n",
    "\n",
    "    Args:\n",
    "    df (pd.DataFrame): DataFrame containing baseball game data.\n",
    "\n",
    "    Returns:\n",
    "    pd.DataFrame: DataFrame with each pitcher's most common inning by role and season.\n",
    "    \"\"\"\n",
    "    # Initialize an empty DataFrame to store results\n",
    "    most_common_innings_df = pd.DataFrame()\n",
    "\n",
    "    for role_key in ['SP', 'RP']:\n",
    "        # Group by pitcher, role, season, and inning, then count the number of appearances in each inning\n",
    "        inning_counts = df[df['role_key'] == role_key].groupby(['pitcher', 'game_year', 'inning']).size().reset_index(name='counts')\n",
    "\n",
    "        # Find the inning with the maximum count (mode) for each pitcher by role and season\n",
    "        most_common_innings = inning_counts.loc[inning_counts.groupby(['pitcher', 'game_year'])['counts'].idxmax()]\n",
    "\n",
    "        # Rename columns for clarity\n",
    "        most_common_innings.rename(columns={'inning': f'most_common_inning_{role_key}'}, inplace=True)\n",
    "        most_common_innings.drop('counts', axis=1, inplace=True)\n",
    "\n",
    "        # Merge results into the main DataFrame\n",
    "        if most_common_innings_df.empty:\n",
    "            most_common_innings_df = most_common_innings\n",
    "        else:\n",
    "            most_common_innings_df = pd.merge(most_common_innings_df, most_common_innings, on=['pitcher', 'game_year'], how='outer')\n",
    "\n",
    "    return most_common_innings_df.fillna('NA')\n",
    "\n",
    "# Calculate the most common inning per pitcher considering their role and season\n",
    "most_common_inning_df = most_common_inning_per_pitcher(temp_sorted)\n",
    "\n",
    "# Merge the most common inning data back into the original DataFrame\n",
    "temp_sorted = temp_sorted.merge(most_common_inning_df, on=['pitcher', 'game_year'], how='left')"
   ]
  },
  {
   "cell_type": "markdown",
   "metadata": {},
   "source": [
    "##### Ninth Inning Pitchers"
   ]
  },
  {
   "cell_type": "code",
   "execution_count": 19,
   "metadata": {},
   "outputs": [
    {
     "data": {
      "text/plain": [
       "(291, 4)"
      ]
     },
     "execution_count": 19,
     "metadata": {},
     "output_type": "execute_result"
    }
   ],
   "source": [
    "# FInd pitchers with the most common inning in the 9th inning\n",
    "ninth_inning_pitchers = temp_sorted[temp_sorted['most_common_inning_RP'] == 9]\n",
    "ninth_inning_pitchers = ninth_inning_pitchers[['pitcher', 'player_name', 'most_common_inning_RP', 'game_year']]\n",
    "ninth_inning_pitchers = ninth_inning_pitchers.drop_duplicates()\n",
    "ninth_inning_pitchers.shape"
   ]
  },
  {
   "cell_type": "markdown",
   "metadata": {},
   "source": [
    "##### Eighth Inning Pitchers"
   ]
  },
  {
   "cell_type": "code",
   "execution_count": 20,
   "metadata": {},
   "outputs": [
    {
     "data": {
      "text/html": [
       "<div>\n",
       "<style scoped>\n",
       "    .dataframe tbody tr th:only-of-type {\n",
       "        vertical-align: middle;\n",
       "    }\n",
       "\n",
       "    .dataframe tbody tr th {\n",
       "        vertical-align: top;\n",
       "    }\n",
       "\n",
       "    .dataframe thead th {\n",
       "        text-align: right;\n",
       "    }\n",
       "</style>\n",
       "<table border=\"1\" class=\"dataframe\">\n",
       "  <thead>\n",
       "    <tr style=\"text-align: right;\">\n",
       "      <th></th>\n",
       "      <th>pitcher</th>\n",
       "      <th>player_name</th>\n",
       "      <th>most_common_inning_RP</th>\n",
       "      <th>game_year</th>\n",
       "    </tr>\n",
       "  </thead>\n",
       "  <tbody>\n",
       "    <tr>\n",
       "      <th>211</th>\n",
       "      <td>608349</td>\n",
       "      <td>Corey Knebel</td>\n",
       "      <td>8.0</td>\n",
       "      <td>2021</td>\n",
       "    </tr>\n",
       "    <tr>\n",
       "      <th>215</th>\n",
       "      <td>622075</td>\n",
       "      <td>Yency Almonte</td>\n",
       "      <td>8.0</td>\n",
       "      <td>2021</td>\n",
       "    </tr>\n",
       "    <tr>\n",
       "      <th>521</th>\n",
       "      <td>656464</td>\n",
       "      <td>Kevin Ginkel</td>\n",
       "      <td>8.0</td>\n",
       "      <td>2021</td>\n",
       "    </tr>\n",
       "    <tr>\n",
       "      <th>564</th>\n",
       "      <td>641941</td>\n",
       "      <td>Emilio Pagan</td>\n",
       "      <td>8.0</td>\n",
       "      <td>2021</td>\n",
       "    </tr>\n",
       "    <tr>\n",
       "      <th>604</th>\n",
       "      <td>519141</td>\n",
       "      <td>Drew Pomeranz</td>\n",
       "      <td>8.0</td>\n",
       "      <td>2021</td>\n",
       "    </tr>\n",
       "  </tbody>\n",
       "</table>\n",
       "</div>"
      ],
      "text/plain": [
       "     pitcher    player_name most_common_inning_RP  game_year\n",
       "211   608349   Corey Knebel                   8.0       2021\n",
       "215   622075  Yency Almonte                   8.0       2021\n",
       "521   656464   Kevin Ginkel                   8.0       2021\n",
       "564   641941   Emilio Pagan                   8.0       2021\n",
       "604   519141  Drew Pomeranz                   8.0       2021"
      ]
     },
     "execution_count": 20,
     "metadata": {},
     "output_type": "execute_result"
    }
   ],
   "source": [
    "# FInd pitchers with the most common inning in the 8th inning\n",
    "eighth_inning_pitchers = temp_sorted[temp_sorted['most_common_inning_RP'] == 8]\n",
    "eighth_inning_pitchers = eighth_inning_pitchers[['pitcher', 'player_name', 'most_common_inning_RP', 'game_year']]\n",
    "eighth_inning_pitchers = eighth_inning_pitchers.drop_duplicates()\n",
    "eighth_inning_pitchers.head()\n"
   ]
  },
  {
   "cell_type": "markdown",
   "metadata": {},
   "source": [
    "##### Seventh Inning or Later"
   ]
  },
  {
   "cell_type": "code",
   "execution_count": 21,
   "metadata": {},
   "outputs": [
    {
     "data": {
      "text/plain": [
       "(550, 4)"
      ]
     },
     "execution_count": 21,
     "metadata": {},
     "output_type": "execute_result"
    }
   ],
   "source": [
    "# FInd pitchers with the most common inning in the 7th inning   \n",
    "seventh_inning_pitchers = temp_sorted[(temp_sorted['most_common_inning_RP'] == 7) & (temp_sorted['role_key'] == 'RP')]\n",
    "seventh_inning_pitchers = seventh_inning_pitchers[['pitcher', 'player_name', 'most_common_inning_RP', 'game_year']]\n",
    "seventh_inning_pitchers = seventh_inning_pitchers.drop_duplicates()\n",
    "seventh_inning_pitchers.shape"
   ]
  },
  {
   "cell_type": "markdown",
   "metadata": {},
   "source": [
    "##### Sixth Inning Relief Pitchers"
   ]
  },
  {
   "cell_type": "code",
   "execution_count": 22,
   "metadata": {},
   "outputs": [
    {
     "data": {
      "text/plain": [
       "(301, 4)"
      ]
     },
     "execution_count": 22,
     "metadata": {},
     "output_type": "execute_result"
    }
   ],
   "source": [
    "# FInd pitchers with the most common inning in the 6th inning   \n",
    "sixth_inning_pitchers = temp_sorted[(temp_sorted['most_common_inning_RP'] == 6) & (temp_sorted['role_key'] == 'RP')]\n",
    "sixth_inning_pitchers = sixth_inning_pitchers[['pitcher', 'player_name', 'most_common_inning_RP', 'game_year']]\n",
    "sixth_inning_pitchers = sixth_inning_pitchers.drop_duplicates()\n",
    "sixth_inning_pitchers.shape\n"
   ]
  },
  {
   "cell_type": "markdown",
   "metadata": {},
   "source": [
    "##### Fifth Inning Relief"
   ]
  },
  {
   "cell_type": "code",
   "execution_count": 23,
   "metadata": {},
   "outputs": [
    {
     "data": {
      "text/plain": [
       "(107, 5)"
      ]
     },
     "execution_count": 23,
     "metadata": {},
     "output_type": "execute_result"
    }
   ],
   "source": [
    "# FInd pitchers with the most common inning in the 5th inning   \n",
    "fifth_inning_pitchers = temp_sorted[(temp_sorted['most_common_inning_RP'] == 5) & (temp_sorted['role_key'] == 'RP')]\n",
    "fifth_inning_pitchers = fifth_inning_pitchers[['pitcher', 'role_key', 'player_name', 'most_common_inning_RP', 'game_year']]\n",
    "fifth_inning_pitchers = fifth_inning_pitchers.drop_duplicates()\n",
    "fifth_inning_pitchers.shape"
   ]
  },
  {
   "cell_type": "markdown",
   "metadata": {},
   "source": [
    "##### Fourth Inning Relief Pitchers"
   ]
  },
  {
   "cell_type": "code",
   "execution_count": 24,
   "metadata": {},
   "outputs": [
    {
     "data": {
      "text/plain": [
       "(63, 5)"
      ]
     },
     "execution_count": 24,
     "metadata": {},
     "output_type": "execute_result"
    }
   ],
   "source": [
    "# fourth inning relief pitchers \n",
    "fourth_inning_pitchers = temp_sorted[(temp_sorted['most_common_inning_RP'] == 4) & (temp_sorted['role_key'] == 'RP')]\n",
    "fourth_inning_pitchers = fourth_inning_pitchers[['pitcher', 'role_key', 'player_name', 'most_common_inning_RP', 'game_year']]\n",
    "fourth_inning_pitchers = fourth_inning_pitchers.drop_duplicates()\n",
    "fourth_inning_pitchers.shape"
   ]
  },
  {
   "cell_type": "code",
   "execution_count": 25,
   "metadata": {},
   "outputs": [
    {
     "data": {
      "text/html": [
       "<div>\n",
       "<style scoped>\n",
       "    .dataframe tbody tr th:only-of-type {\n",
       "        vertical-align: middle;\n",
       "    }\n",
       "\n",
       "    .dataframe tbody tr th {\n",
       "        vertical-align: top;\n",
       "    }\n",
       "\n",
       "    .dataframe thead th {\n",
       "        text-align: right;\n",
       "    }\n",
       "</style>\n",
       "<table border=\"1\" class=\"dataframe\">\n",
       "  <thead>\n",
       "    <tr style=\"text-align: right;\">\n",
       "      <th></th>\n",
       "      <th>pitcher</th>\n",
       "      <th>role_key</th>\n",
       "      <th>player_name</th>\n",
       "      <th>most_common_inning_RP</th>\n",
       "      <th>game_year</th>\n",
       "    </tr>\n",
       "  </thead>\n",
       "  <tbody>\n",
       "    <tr>\n",
       "      <th>121572</th>\n",
       "      <td>624586</td>\n",
       "      <td>RP</td>\n",
       "      <td>James Hoyt</td>\n",
       "      <td>4.0</td>\n",
       "      <td>2021</td>\n",
       "    </tr>\n",
       "    <tr>\n",
       "      <th>1498119</th>\n",
       "      <td>683769</td>\n",
       "      <td>RP</td>\n",
       "      <td>Hunter Gaddis</td>\n",
       "      <td>4.0</td>\n",
       "      <td>2023</td>\n",
       "    </tr>\n",
       "    <tr>\n",
       "      <th>1693414</th>\n",
       "      <td>666214</td>\n",
       "      <td>RP</td>\n",
       "      <td>Joey Wentz</td>\n",
       "      <td>4.0</td>\n",
       "      <td>2023</td>\n",
       "    </tr>\n",
       "    <tr>\n",
       "      <th>869213</th>\n",
       "      <td>642232</td>\n",
       "      <td>RP</td>\n",
       "      <td>Ryan Yarbrough</td>\n",
       "      <td>4.0</td>\n",
       "      <td>2022</td>\n",
       "    </tr>\n",
       "    <tr>\n",
       "      <th>62730</th>\n",
       "      <td>607229</td>\n",
       "      <td>RP</td>\n",
       "      <td>Robert Gsellman</td>\n",
       "      <td>4.0</td>\n",
       "      <td>2021</td>\n",
       "    </tr>\n",
       "  </tbody>\n",
       "</table>\n",
       "</div>"
      ],
      "text/plain": [
       "         pitcher role_key      player_name most_common_inning_RP  game_year\n",
       "121572    624586       RP       James Hoyt                   4.0       2021\n",
       "1498119   683769       RP    Hunter Gaddis                   4.0       2023\n",
       "1693414   666214       RP       Joey Wentz                   4.0       2023\n",
       "869213    642232       RP   Ryan Yarbrough                   4.0       2022\n",
       "62730     607229       RP  Robert Gsellman                   4.0       2021"
      ]
     },
     "execution_count": 25,
     "metadata": {},
     "output_type": "execute_result"
    }
   ],
   "source": [
    "# sample of the fourth inning relief pitchers\n",
    "fourth_inning_pitchers.sample(5)"
   ]
  },
  {
   "cell_type": "code",
   "execution_count": 26,
   "metadata": {},
   "outputs": [],
   "source": [
    "# find pitchers who pitched the most in the 4th inning\n",
    "sean_reid_foley = temp_sorted[(temp_sorted['pitcher'] == 656887) & (temp_sorted['role_key'] == 'RP')]\n",
    "cristopher_sanchez = temp_sorted[(temp_sorted['pitcher'] == 650911) & (temp_sorted['role_key'] == 'RP')]\n",
    "levi_stoudt = temp_sorted[(temp_sorted['pitcher'] == 686651) & (temp_sorted['role_key'] == 'RP')]\n",
    "mitch_keller = temp_sorted[(temp_sorted['pitcher'] == 656605) & (temp_sorted['role_key'] == 'RP')]\n",
    "josh_flemming = temp_sorted[(temp_sorted['pitcher'] == 676596) & (temp_sorted['role_key'] == 'RP')]"
   ]
  },
  {
   "cell_type": "markdown",
   "metadata": {},
   "source": [
    "##### Third Inning Relief Pitching"
   ]
  },
  {
   "cell_type": "code",
   "execution_count": 27,
   "metadata": {},
   "outputs": [
    {
     "data": {
      "text/plain": [
       "(24, 5)"
      ]
     },
     "execution_count": 27,
     "metadata": {},
     "output_type": "execute_result"
    }
   ],
   "source": [
    "# third inning relief pitchers\n",
    "third_inning_pitchers = temp_sorted[(temp_sorted['most_common_inning_RP'] == 3) & (temp_sorted['role_key'] == 'RP')]\n",
    "third_inning_pitchers = third_inning_pitchers[['pitcher', 'role_key', 'player_name', 'most_common_inning_RP', 'game_year']]\n",
    "third_inning_pitchers = third_inning_pitchers.drop_duplicates()\n",
    "third_inning_pitchers.shape"
   ]
  },
  {
   "cell_type": "code",
   "execution_count": 28,
   "metadata": {},
   "outputs": [
    {
     "data": {
      "text/html": [
       "<div>\n",
       "<style scoped>\n",
       "    .dataframe tbody tr th:only-of-type {\n",
       "        vertical-align: middle;\n",
       "    }\n",
       "\n",
       "    .dataframe tbody tr th {\n",
       "        vertical-align: top;\n",
       "    }\n",
       "\n",
       "    .dataframe thead th {\n",
       "        text-align: right;\n",
       "    }\n",
       "</style>\n",
       "<table border=\"1\" class=\"dataframe\">\n",
       "  <thead>\n",
       "    <tr style=\"text-align: right;\">\n",
       "      <th></th>\n",
       "      <th>pitcher</th>\n",
       "      <th>role_key</th>\n",
       "      <th>player_name</th>\n",
       "      <th>most_common_inning_RP</th>\n",
       "      <th>game_year</th>\n",
       "    </tr>\n",
       "  </thead>\n",
       "  <tbody>\n",
       "    <tr>\n",
       "      <th>1234076</th>\n",
       "      <td>674681</td>\n",
       "      <td>RP</td>\n",
       "      <td>Michael Plassmeyer</td>\n",
       "      <td>3.0</td>\n",
       "      <td>2022</td>\n",
       "    </tr>\n",
       "    <tr>\n",
       "      <th>770871</th>\n",
       "      <td>675921</td>\n",
       "      <td>RP</td>\n",
       "      <td>Spencer Howard</td>\n",
       "      <td>3.0</td>\n",
       "      <td>2022</td>\n",
       "    </tr>\n",
       "    <tr>\n",
       "      <th>666531</th>\n",
       "      <td>664337</td>\n",
       "      <td>RP</td>\n",
       "      <td>Miguel Yajure</td>\n",
       "      <td>3.0</td>\n",
       "      <td>2021</td>\n",
       "    </tr>\n",
       "    <tr>\n",
       "      <th>688543</th>\n",
       "      <td>456501</td>\n",
       "      <td>RP</td>\n",
       "      <td>Johnny Cueto</td>\n",
       "      <td>3.0</td>\n",
       "      <td>2021</td>\n",
       "    </tr>\n",
       "    <tr>\n",
       "      <th>170853</th>\n",
       "      <td>669145</td>\n",
       "      <td>RP</td>\n",
       "      <td>Bruce Zimmermann</td>\n",
       "      <td>3.0</td>\n",
       "      <td>2021</td>\n",
       "    </tr>\n",
       "  </tbody>\n",
       "</table>\n",
       "</div>"
      ],
      "text/plain": [
       "         pitcher role_key         player_name most_common_inning_RP  game_year\n",
       "1234076   674681       RP  Michael Plassmeyer                   3.0       2022\n",
       "770871    675921       RP      Spencer Howard                   3.0       2022\n",
       "666531    664337       RP       Miguel Yajure                   3.0       2021\n",
       "688543    456501       RP        Johnny Cueto                   3.0       2021\n",
       "170853    669145       RP    Bruce Zimmermann                   3.0       2021"
      ]
     },
     "execution_count": 28,
     "metadata": {},
     "output_type": "execute_result"
    }
   ],
   "source": [
    "# find pitchers who pitched in the third inning\n",
    "third_inning_pitchers.sample(5)"
   ]
  },
  {
   "cell_type": "code",
   "execution_count": 29,
   "metadata": {},
   "outputs": [],
   "source": [
    "michael_plassmeyer = temp_sorted[(temp_sorted['pitcher'] == 674681\t) & (temp_sorted['role_key'] == 'RP')]\n",
    "carson_fulmer = temp_sorted[(temp_sorted['pitcher'] == 608334) & (temp_sorted['role_key'] == 'RP')]\n",
    "adrian_sampson = temp_sorted[(temp_sorted['pitcher'] == 592716) & (temp_sorted['role_key'] == 'RP')]\n",
    "drew_smyly = temp_sorted[(temp_sorted['pitcher'] == 592767) & (temp_sorted['role_key'] == 'RP')]\n",
    "daniel_castano = temp_sorted[(temp_sorted['pitcher'] == 641447) & (temp_sorted['role_key'] == 'RP')]"
   ]
  },
  {
   "cell_type": "markdown",
   "metadata": {},
   "source": [
    "##### Second Inning Relief Pitching"
   ]
  },
  {
   "cell_type": "code",
   "execution_count": 30,
   "metadata": {},
   "outputs": [
    {
     "data": {
      "text/html": [
       "<div>\n",
       "<style scoped>\n",
       "    .dataframe tbody tr th:only-of-type {\n",
       "        vertical-align: middle;\n",
       "    }\n",
       "\n",
       "    .dataframe tbody tr th {\n",
       "        vertical-align: top;\n",
       "    }\n",
       "\n",
       "    .dataframe thead th {\n",
       "        text-align: right;\n",
       "    }\n",
       "</style>\n",
       "<table border=\"1\" class=\"dataframe\">\n",
       "  <thead>\n",
       "    <tr style=\"text-align: right;\">\n",
       "      <th></th>\n",
       "      <th>pitcher</th>\n",
       "      <th>role_key</th>\n",
       "      <th>player_name</th>\n",
       "      <th>most_common_inning_RP</th>\n",
       "      <th>game_year</th>\n",
       "    </tr>\n",
       "  </thead>\n",
       "  <tbody>\n",
       "    <tr>\n",
       "      <th>30169</th>\n",
       "      <td>643615</td>\n",
       "      <td>RP</td>\n",
       "      <td>T.J. Zeuch</td>\n",
       "      <td>2.0</td>\n",
       "      <td>2021</td>\n",
       "    </tr>\n",
       "    <tr>\n",
       "      <th>490215</th>\n",
       "      <td>448179</td>\n",
       "      <td>RP</td>\n",
       "      <td>Rich Hill</td>\n",
       "      <td>2.0</td>\n",
       "      <td>2021</td>\n",
       "    </tr>\n",
       "    <tr>\n",
       "      <th>668960</th>\n",
       "      <td>641712</td>\n",
       "      <td>RP</td>\n",
       "      <td>Dakota Hudson</td>\n",
       "      <td>2.0</td>\n",
       "      <td>2021</td>\n",
       "    </tr>\n",
       "    <tr>\n",
       "      <th>1305682</th>\n",
       "      <td>640455</td>\n",
       "      <td>RP</td>\n",
       "      <td>Sean Manaea</td>\n",
       "      <td>2.0</td>\n",
       "      <td>2022</td>\n",
       "    </tr>\n",
       "    <tr>\n",
       "      <th>1379063</th>\n",
       "      <td>571760</td>\n",
       "      <td>RP</td>\n",
       "      <td>Andrew Heaney</td>\n",
       "      <td>2.0</td>\n",
       "      <td>2022</td>\n",
       "    </tr>\n",
       "    <tr>\n",
       "      <th>1906734</th>\n",
       "      <td>622663</td>\n",
       "      <td>RP</td>\n",
       "      <td>Luis Severino</td>\n",
       "      <td>2.0</td>\n",
       "      <td>2023</td>\n",
       "    </tr>\n",
       "    <tr>\n",
       "      <th>2046545</th>\n",
       "      <td>682990</td>\n",
       "      <td>RP</td>\n",
       "      <td>Quinn Priester</td>\n",
       "      <td>2.0</td>\n",
       "      <td>2023</td>\n",
       "    </tr>\n",
       "  </tbody>\n",
       "</table>\n",
       "</div>"
      ],
      "text/plain": [
       "         pitcher role_key     player_name most_common_inning_RP  game_year\n",
       "30169     643615       RP      T.J. Zeuch                   2.0       2021\n",
       "490215    448179       RP       Rich Hill                   2.0       2021\n",
       "668960    641712       RP   Dakota Hudson                   2.0       2021\n",
       "1305682   640455       RP     Sean Manaea                   2.0       2022\n",
       "1379063   571760       RP   Andrew Heaney                   2.0       2022\n",
       "1906734   622663       RP   Luis Severino                   2.0       2023\n",
       "2046545   682990       RP  Quinn Priester                   2.0       2023"
      ]
     },
     "execution_count": 30,
     "metadata": {},
     "output_type": "execute_result"
    }
   ],
   "source": [
    "# second inning relief pitchers\n",
    "second_inning_pitchers = temp_sorted[(temp_sorted['most_common_inning_RP'] == 2) & (temp_sorted['role_key'] == 'RP')]\n",
    "second_inning_pitchers = second_inning_pitchers[['pitcher', 'role_key', 'player_name', 'most_common_inning_RP', 'game_year']]\n",
    "second_inning_pitchers = second_inning_pitchers.drop_duplicates()\n",
    "second_inning_pitchers"
   ]
  },
  {
   "cell_type": "code",
   "execution_count": 31,
   "metadata": {},
   "outputs": [],
   "source": [
    "# Find games that T.J. Zeuch pitched in but did not start\n",
    "tj_zeuch = temp_sorted[(temp_sorted['pitcher'] == 643615) & (temp_sorted['role_key'] == 'RP')]\n",
    "rich_hill = temp_sorted[(temp_sorted['pitcher'] == 448179) & (temp_sorted['role_key'] == 'RP')]\n",
    "dakota_hudson = temp_sorted[(temp_sorted['pitcher'] == 641712) & (temp_sorted['role_key'] == 'RP')]\n",
    "sean_manaea = temp_sorted[(temp_sorted['pitcher'] == 640455) & (temp_sorted['role_key'] == 'RP')]\n",
    "andrea_heaney = temp_sorted[(temp_sorted['pitcher'] == 571760) & (temp_sorted['role_key'] == 'RP')]\n",
    "luis_severino = temp_sorted[(temp_sorted['pitcher'] == 622663) & (temp_sorted['role_key'] == 'RP')]\n",
    "quinn_priester = temp_sorted[(temp_sorted['pitcher'] == 682990) & (temp_sorted['role_key'] == 'RP')]"
   ]
  },
  {
   "cell_type": "markdown",
   "metadata": {},
   "source": [
    "## Determine the Role for Relief Pitchers (Median)"
   ]
  },
  {
   "cell_type": "code",
   "execution_count": 32,
   "metadata": {},
   "outputs": [],
   "source": [
    "def classify_relief_pitchers(df):\n",
    "    \"\"\"\n",
    "    Classify relief pitchers based on their most common inning.\n",
    "\n",
    "    Args:\n",
    "    df (pd.DataFrame): DataFrame containing baseball game data with columns for most common inning.\n",
    "\n",
    "    Returns:\n",
    "    pd.Series: Series specifying the relief pitcher's role for each entry.\n",
    "    \"\"\"\n",
    "    # Function to determine the relief role\n",
    "    def get_relief_role(inning):\n",
    "        if inning in [2, 3, 4]:\n",
    "            return 'Long Reliever'\n",
    "        elif inning in [5, 6]:\n",
    "            return 'Middle Reliever'\n",
    "        elif inning in [7, 8]:\n",
    "            return 'Setup Pitcher'\n",
    "        elif inning == 9:\n",
    "            return 'Closer'\n",
    "        else:\n",
    "            return 'Starting Pitcher'\n",
    "\n",
    "    # Apply the function to each row in the DataFrame\n",
    "    return df['most_common_inning_RP'].apply(get_relief_role)\n",
    "\n",
    "# Assign the result to a new column in temp_sorted\n",
    "temp_sorted['classified_role'] = classify_relief_pitchers(temp_sorted)\n"
   ]
  },
  {
   "cell_type": "code",
   "execution_count": 34,
   "metadata": {},
   "outputs": [],
   "source": [
    "def classify_starting_pitchers(df):\n",
    "    # Convert 'average_inning_SP' to boolean\n",
    "    return df['average_inning_SP'].astype(bool)\n",
    "\n",
    "def classify_middle_relief_pitchers(df):\n",
    "    # Convert 'average_inning_RP' to numeric and check the range for middle relief\n",
    "    avg_inning_rp = pd.to_numeric(df['average_inning_RP'], errors='coerce')\n",
    "    return (df['role_key'] == 'RP') & avg_inning_rp.between(5, 7)\n",
    "\n",
    "def classify_setup_pitchers(df):\n",
    "    # Convert 'average_inning_RP' to numeric and check the range for setup pitchers\n",
    "    avg_inning_rp = pd.to_numeric(df['average_inning_RP'], errors='coerce')\n",
    "    return (df['role_key'] == 'RP') & avg_inning_rp.between(7, 8)\n",
    "\n",
    "def classify_closers(df):\n",
    "    # Convert 'average_inning_RP' to numeric and check for closers\n",
    "    avg_inning_rp = pd.to_numeric(df['average_inning_RP'], errors='coerce')\n",
    "    return (df['role_key'] == 'RP') & (avg_inning_rp >= 9)\n",
    "\n",
    "def classify_long_relief_pitchers(df):\n",
    "    # Convert 'average_innings_pitched_per_appearance_RP' to numeric and check for long relievers\n",
    "    avg_innings = pd.to_numeric(df['average_innings_pitched_per_appearance_RP_x'], errors='coerce')\n",
    "    return (df['role_key'] == 'RP') & (avg_innings > avg_innings.median())\n",
    "\n",
    "def classify_pitchers(df):\n",
    "    df['pitcher_role'] = 'Unknown'  # Default classification\n",
    "\n",
    "    df.loc[classify_starting_pitchers(df), 'pitcher_role'] = 'Starting Pitcher'\n",
    "    df.loc[classify_middle_relief_pitchers(df), 'pitcher_role'] = 'Middle Relief Pitcher'\n",
    "    df.loc[classify_setup_pitchers(df), 'pitcher_role'] = 'Setup Pitcher'\n",
    "    df.loc[classify_closers(df), 'pitcher_role'] = 'Closer'\n",
    "    df.loc[classify_long_relief_pitchers(df), 'pitcher_role'] = 'Long Reliever'\n",
    "\n",
    "    return df\n",
    "\n",
    "# Assuming temp_sorted is your DataFrame that includes the necessary columns\n",
    "#temp_sorted = classify_pitchers(temp_sorted)\n"
   ]
  },
  {
   "cell_type": "code",
   "execution_count": 36,
   "metadata": {},
   "outputs": [],
   "source": [
    "# remove all post fixes of _x and _y from column names\n",
    "temp_sorted.columns = temp_sorted.columns.str.replace('_x', '')\n",
    "#temp_sorted.columns = temp_sorted.columns.str.replace('_y', '')\n",
    "\n",
    "# drop all identical columns\n",
    "temp_sorted = temp_sorted.loc[:,~temp_sorted.columns.duplicated()]\n",
    "\n",
    "# return all columns are filled with 100% 0s\n",
    "temp_sorted.isin([0]).all()\n",
    "\n",
    "# drop all columns that are filled with 100% 0s\n",
    "temp_sorted = temp_sorted.loc[:, (temp_sorted != 0).any(axis=0)]\n",
    "temp_sorted.columns = temp_sorted.columns.str.replace('_y', '')\n",
    "temp_sorted = temp_sorted.loc[:,~temp_sorted.columns.duplicated()]\n",
    "\n",
    "# replace gamear with game_year\n",
    "\n",
    "temp_sorted.rename(columns={'gameear': 'game_year'}, inplace=True)"
   ]
  },
  {
   "cell_type": "markdown",
   "metadata": {},
   "source": [
    "## Save the DataFrame"
   ]
  },
  {
   "cell_type": "code",
   "execution_count": 37,
   "metadata": {},
   "outputs": [
    {
     "name": "stderr",
     "output_type": "stream",
     "text": [
      "C:\\Users\\Julian Sotelo\\AppData\\Local\\Temp\\ipykernel_28992\\3367328474.py:15: SettingWithCopyWarning: \n",
      "A value is trying to be set on a copy of a slice from a DataFrame\n",
      "\n",
      "See the caveats in the documentation: https://pandas.pydata.org/pandas-docs/stable/user_guide/indexing.html#returning-a-view-versus-a-copy\n",
      "  temp_sorted_test.drop_duplicates(subset=['pitcher'], inplace=True)\n"
     ]
    }
   ],
   "source": [
    "# Assuming temp_sorted and fangraph are your original DataFrames\n",
    "preferred_data = ['pitcher', 'player_name', 'most_common_inning_SP',\n",
    "       'most_common_inning_RP', 'average_batters_faced_per_appearance_SP',\n",
    "       'average_innings_pitched_per_appearance_SP',\n",
    "       'average_batters_faced_per_appearance_RP',\n",
    "       'average_innings_pitched_per_appearance_RP', 'average_inning_SP',\n",
    "       'average_inning_RP', 'avg_inning_entry_SP', 'avg_inning_exit_SP',\n",
    "       'avg_inning_entry_RP', 'avg_inning_exit_RP', 'bad_walk_rate_SP',\n",
    "       'leadoff_walk_rate_SP', 'bad_walk_rate_RP', 'leadoff_walk_rate_RP', 'classified_role']\n",
    "# pitcher role removed from the list\n",
    "\n",
    "temp_sorted_test = temp_sorted[preferred_data]\n",
    "\n",
    "# drop the duplicates from the pitcher column\n",
    "temp_sorted_test.drop_duplicates(subset=['pitcher'], inplace=True)"
   ]
  },
  {
   "cell_type": "code",
   "execution_count": 38,
   "metadata": {},
   "outputs": [],
   "source": [
    "from src.paths import CLEANED_DATA_DIR\n",
    "\n",
    "# rename the ID column to match the savant data\n",
    "fangraph = fangraph.rename(columns={'MLBAMID': 'pitcher'})\n",
    "\n",
    "# merge the fangraph data with the temp_sorted_test data\n",
    "fangraph_merged = pd.merge(fangraph, temp_sorted_test, on='pitcher', how='left')\n",
    "\n",
    "# save the fangraph_merged data to a csv file\n",
    "fangraph_merged.to_csv(CLEANED_DATA_DIR / 'fangraphs_engineered_merged.csv', index=False)"
   ]
  }
 ],
 "metadata": {
  "kernelspec": {
   "display_name": ".venv",
   "language": "python",
   "name": "python3"
  },
  "language_info": {
   "codemirror_mode": {
    "name": "ipython",
    "version": 3
   },
   "file_extension": ".py",
   "mimetype": "text/x-python",
   "name": "python",
   "nbconvert_exporter": "python",
   "pygments_lexer": "ipython3",
   "version": "3.11.4"
  }
 },
 "nbformat": 4,
 "nbformat_minor": 2
}
