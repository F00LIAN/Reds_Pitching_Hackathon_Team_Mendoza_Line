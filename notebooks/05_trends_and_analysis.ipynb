{
 "cells": [
  {
   "cell_type": "code",
   "execution_count": 25,
   "metadata": {},
   "outputs": [],
   "source": [
    "import pandas as pd\n",
    "import numpy as np\n",
    "import matplotlib.pyplot as plt\n",
    "import seaborn as sns\n",
    "import json\n",
    "import os\n",
    "import sys\n",
    "\n",
    "# reference main directory in existing folder\n",
    "current_dir = os.getcwd()\n",
    "parent_dir = os.path.dirname(current_dir)\n",
    "sys.path.append(parent_dir)\n",
    "\n",
    "import pandas as pd \n",
    "import sys\n",
    "import numpy as np\n",
    "import matplotlib.pyplot as plt\n",
    "import plotly.express as px\n",
    "import plotly.graph_objects as go\n",
    "import plotly.io as pio\n",
    "from sklearn.decomposition import PCA\n",
    "from sklearn.preprocessing import StandardScaler\n",
    "import matplotlib.pyplot as plt\n",
    "\n",
    "from src.paths import (RAW_DATA_DIR, CLEANED_DATA_DIR, SUGGESTED_CHANGES_DIR, MEAN_CATEGORIES_DIR, \n",
    "                       PLAYER_CATEGORIES_DIR, STREAMLIT_DIR)\n",
    "\n",
    "import plotly.express as px\n",
    "import plotly.graph_objects as go\n",
    "import plotly.io as pio\n",
    "from sklearn.decomposition import PCA\n",
    "from sklearn.preprocessing import StandardScaler\n",
    "\n",
    "import pandas as pd\n",
    "from scipy.spatial.distance import cosine\n",
    "\n",
    "# show all rows and columns\n",
    "pd.set_option('display.max_columns', None)\n",
    "pd.set_option('display.max_rows', None)\n",
    "pd.set_option('display.width', None)\n",
    "# display the max column width\n",
    "pd.set_option('display.max_colwidth', None)\n"
   ]
  },
  {
   "cell_type": "code",
   "execution_count": 26,
   "metadata": {},
   "outputs": [],
   "source": [
    "# Load All Means\n",
    "elite_mean_df = pd.read_csv(MEAN_CATEGORIES_DIR / 'elite_and_strong_mean.csv')\n",
    "suboptimal_mean_df = pd.read_csv(MEAN_CATEGORIES_DIR / 'suboptimal_mean.csv')\n",
    "elite_mean_by_role = pd.read_csv(MEAN_CATEGORIES_DIR / 'elite_means_by_role.csv')\n",
    "suboptimal_mean_by_role = pd.read_csv(MEAN_CATEGORIES_DIR / 'suboptimal_means_by_role.csv')\n",
    "\n",
    "# Load Suboptimal Players\n",
    "suboptimal_players = pd.read_csv(PLAYER_CATEGORIES_DIR / 'suboptimal_players.csv')\n",
    "elite_and_strong_players_df = pd.read_csv(PLAYER_CATEGORIES_DIR / 'elite_and_strong_players.csv')\n",
    "\n",
    "# Load Suggested Data\n",
    "suggested_roles_df = pd.read_csv(SUGGESTED_CHANGES_DIR / 'suggested_changes.csv')"
   ]
  },
  {
   "cell_type": "code",
   "execution_count": 27,
   "metadata": {},
   "outputs": [],
   "source": [
    "from src.const import *\n",
    "\n",
    "# rename Unnamed: 0 to Stat\n",
    "elite_mean_by_role.rename(columns={'Unnamed: 0': 'Stat'}, inplace=True)\n",
    "suboptimal_mean_by_role.rename(columns={'Unnamed: 0': 'Stat'}, inplace=True)\n"
   ]
  },
  {
   "cell_type": "code",
   "execution_count": 28,
   "metadata": {},
   "outputs": [
    {
     "data": {
      "text/html": [
       "<div>\n",
       "<style scoped>\n",
       "    .dataframe tbody tr th:only-of-type {\n",
       "        vertical-align: middle;\n",
       "    }\n",
       "\n",
       "    .dataframe tbody tr th {\n",
       "        vertical-align: top;\n",
       "    }\n",
       "\n",
       "    .dataframe thead th {\n",
       "        text-align: right;\n",
       "    }\n",
       "</style>\n",
       "<table border=\"1\" class=\"dataframe\">\n",
       "  <thead>\n",
       "    <tr style=\"text-align: right;\">\n",
       "      <th></th>\n",
       "      <th>classified_role</th>\n",
       "      <th>G</th>\n",
       "      <th>GS</th>\n",
       "      <th>IP</th>\n",
       "      <th>TBF</th>\n",
       "      <th>W</th>\n",
       "      <th>L</th>\n",
       "      <th>CG</th>\n",
       "      <th>ShO</th>\n",
       "      <th>SV</th>\n",
       "      <th>BS</th>\n",
       "      <th>HLD</th>\n",
       "      <th>SD</th>\n",
       "      <th>MD</th>\n",
       "      <th>Pulls</th>\n",
       "      <th>ERA</th>\n",
       "      <th>R</th>\n",
       "      <th>ER</th>\n",
       "      <th>H</th>\n",
       "      <th>HR</th>\n",
       "      <th>SO</th>\n",
       "      <th>BB</th>\n",
       "      <th>IBB</th>\n",
       "      <th>HBP</th>\n",
       "      <th>WP</th>\n",
       "      <th>BK</th>\n",
       "      <th>Events</th>\n",
       "      <th>GB</th>\n",
       "      <th>LD</th>\n",
       "      <th>FB</th>\n",
       "      <th>IFFB</th>\n",
       "      <th>BU</th>\n",
       "      <th>IFH</th>\n",
       "      <th>BUH</th>\n",
       "      <th>Balls</th>\n",
       "      <th>Strikes</th>\n",
       "      <th>Pitches</th>\n",
       "      <th>RS</th>\n",
       "      <th>RS_per_9</th>\n",
       "      <th>K_pct</th>\n",
       "      <th>BB_pct</th>\n",
       "      <th>K_minus_BB_pct</th>\n",
       "      <th>K_per_9</th>\n",
       "      <th>BB_per_9</th>\n",
       "      <th>K_to_BB</th>\n",
       "      <th>H_per_9</th>\n",
       "      <th>HR_per_9</th>\n",
       "      <th>AVG</th>\n",
       "      <th>WHIP</th>\n",
       "      <th>BABIP</th>\n",
       "      <th>LOB_pct</th>\n",
       "      <th>GB_pct</th>\n",
       "      <th>LD_pct</th>\n",
       "      <th>FB_pct</th>\n",
       "      <th>IFFB_pct</th>\n",
       "      <th>GB_to_FB</th>\n",
       "      <th>HR_to_FB</th>\n",
       "      <th>IFH_pct</th>\n",
       "      <th>BUH_pct</th>\n",
       "      <th>FIP</th>\n",
       "      <th>xFIP</th>\n",
       "      <th>SIERA</th>\n",
       "      <th>tERA</th>\n",
       "      <th>kwERA</th>\n",
       "      <th>E_minus_F</th>\n",
       "      <th>RAR</th>\n",
       "      <th>WAR</th>\n",
       "      <th>Dollars</th>\n",
       "      <th>WPA</th>\n",
       "      <th>RE24</th>\n",
       "      <th>REW</th>\n",
       "      <th>pLI</th>\n",
       "      <th>inLI</th>\n",
       "      <th>gmLI</th>\n",
       "      <th>exLI</th>\n",
       "      <th>WPA_to_LI</th>\n",
       "      <th>Clutch</th>\n",
       "      <th>OSwing_pct</th>\n",
       "      <th>ZSwing_pct</th>\n",
       "      <th>Swing_pct</th>\n",
       "      <th>OContact_pct</th>\n",
       "      <th>ZContact_pct</th>\n",
       "      <th>Contact_pct</th>\n",
       "      <th>Zone_pct</th>\n",
       "      <th>FStrike_pct</th>\n",
       "      <th>SwStr_pct</th>\n",
       "      <th>CStr_pct</th>\n",
       "      <th>CSW_pct</th>\n",
       "      <th>ERA_minus</th>\n",
       "      <th>FIP_minus</th>\n",
       "      <th>xFIP_minus</th>\n",
       "      <th>Pace</th>\n",
       "      <th>RA9_WAR</th>\n",
       "      <th>BIP_Wins</th>\n",
       "      <th>LOB_Wins</th>\n",
       "      <th>FDP_Wins</th>\n",
       "      <th>Pull_pct</th>\n",
       "      <th>Cent_pct</th>\n",
       "      <th>Oppo_pct</th>\n",
       "      <th>Soft_pct</th>\n",
       "      <th>Med_pct</th>\n",
       "      <th>Hard_pct</th>\n",
       "      <th>TTO_pct</th>\n",
       "      <th>FRM</th>\n",
       "      <th>K_pct_plus</th>\n",
       "      <th>BB_pct_plus</th>\n",
       "      <th>K_per_9_plus</th>\n",
       "      <th>BB_per_9_plus</th>\n",
       "      <th>K_to_BB_plus</th>\n",
       "      <th>H_per_9_plus</th>\n",
       "      <th>HR_per_9_plus</th>\n",
       "      <th>AVG_plus</th>\n",
       "      <th>WHIP_plus</th>\n",
       "      <th>BABIP_plus</th>\n",
       "      <th>LOB_pct_plus</th>\n",
       "      <th>GB_pct_plus</th>\n",
       "      <th>LD_pct_plus</th>\n",
       "      <th>FB_pct_plus</th>\n",
       "      <th>HR_to_FB_pct_plus</th>\n",
       "      <th>Pull_pct_plus</th>\n",
       "      <th>Cent_pct_plus</th>\n",
       "      <th>Oppo_pct_plus</th>\n",
       "      <th>Med_pct_plus</th>\n",
       "      <th>Hard_pct_plus</th>\n",
       "      <th>EV</th>\n",
       "      <th>LA</th>\n",
       "      <th>Barrels</th>\n",
       "      <th>Barrel_pct</th>\n",
       "      <th>maxEV</th>\n",
       "      <th>HardHit</th>\n",
       "      <th>HardHit_pct</th>\n",
       "      <th>FA_pct</th>\n",
       "      <th>FAv</th>\n",
       "      <th>wFB</th>\n",
       "      <th>wFB_per_c</th>\n",
       "      <th>FA_pct_sc</th>\n",
       "      <th>vFA_sc</th>\n",
       "      <th>FA_X_sc</th>\n",
       "      <th>FA_Z_sc</th>\n",
       "      <th>wFA_sc</th>\n",
       "      <th>wFA_per_c_sc</th>\n",
       "      <th>OSwing_pct_sc</th>\n",
       "      <th>ZSwing_pct_sc</th>\n",
       "      <th>Swing_pct_sc</th>\n",
       "      <th>OContact_pct_sc</th>\n",
       "      <th>ZContact_pct_sc</th>\n",
       "      <th>Contact_pct_sc</th>\n",
       "      <th>Zone_pct_sc</th>\n",
       "      <th>botERA</th>\n",
       "      <th>botOvr_FA</th>\n",
       "      <th>botStf_FA</th>\n",
       "      <th>botCmd_FA</th>\n",
       "      <th>botOvr</th>\n",
       "      <th>botStf</th>\n",
       "      <th>botCmd</th>\n",
       "      <th>botxRV100</th>\n",
       "      <th>Stf_plus_FA</th>\n",
       "      <th>Loc_plus_FA</th>\n",
       "      <th>Pit_plus_FA</th>\n",
       "      <th>Stuff_plus</th>\n",
       "      <th>Location_plus</th>\n",
       "      <th>Pitching_plus</th>\n",
       "      <th>average_batters_faced_per_appearance_SP</th>\n",
       "      <th>average_innings_pitched_per_appearance_SP</th>\n",
       "      <th>average_batters_faced_per_appearance_RP</th>\n",
       "      <th>average_innings_pitched_per_appearance_RP</th>\n",
       "      <th>z_total_score</th>\n",
       "    </tr>\n",
       "  </thead>\n",
       "  <tbody>\n",
       "    <tr>\n",
       "      <th>0</th>\n",
       "      <td>Middle Reliever</td>\n",
       "      <td>19.969697</td>\n",
       "      <td>5.492424</td>\n",
       "      <td>46.865909</td>\n",
       "      <td>198.818182</td>\n",
       "      <td>3.037879</td>\n",
       "      <td>2.575758</td>\n",
       "      <td>0.022727</td>\n",
       "      <td>0.007576</td>\n",
       "      <td>0.848485</td>\n",
       "      <td>0.621212</td>\n",
       "      <td>2.681818</td>\n",
       "      <td>4.674242</td>\n",
       "      <td>2.462121</td>\n",
       "      <td>16.333333</td>\n",
       "      <td>4.072056</td>\n",
       "      <td>22.553030</td>\n",
       "      <td>21.045455</td>\n",
       "      <td>43.189394</td>\n",
       "      <td>5.848485</td>\n",
       "      <td>45.439394</td>\n",
       "      <td>16.734848</td>\n",
       "      <td>0.500000</td>\n",
       "      <td>2.219697</td>\n",
       "      <td>1.560606</td>\n",
       "      <td>0.196970</td>\n",
       "      <td>134.424242</td>\n",
       "      <td>58.265152</td>\n",
       "      <td>26.257576</td>\n",
       "      <td>48.803030</td>\n",
       "      <td>4.871212</td>\n",
       "      <td>0.992424</td>\n",
       "      <td>3.522727</td>\n",
       "      <td>0.333333</td>\n",
       "      <td>280.734848</td>\n",
       "      <td>495.681818</td>\n",
       "      <td>776.416667</td>\n",
       "      <td>27.151515</td>\n",
       "      <td>5.190210</td>\n",
       "      <td>0.229958</td>\n",
       "      <td>0.089537</td>\n",
       "      <td>0.140419</td>\n",
       "      <td>8.708535</td>\n",
       "      <td>3.474662</td>\n",
       "      <td>2.999405</td>\n",
       "      <td>8.137700</td>\n",
       "      <td>1.121883</td>\n",
       "      <td>0.232446</td>\n",
       "      <td>1.290262</td>\n",
       "      <td>0.282607</td>\n",
       "      <td>0.736832</td>\n",
       "      <td>0.425883</td>\n",
       "      <td>0.196395</td>\n",
       "      <td>0.377722</td>\n",
       "      <td>0.101063</td>\n",
       "      <td>1.280071</td>\n",
       "      <td>0.117068</td>\n",
       "      <td>0.052678</td>\n",
       "      <td>0.178012</td>\n",
       "      <td>4.242375</td>\n",
       "      <td>4.366265</td>\n",
       "      <td>4.240895</td>\n",
       "      <td>4.311998</td>\n",
       "      <td>4.533750</td>\n",
       "      <td>-0.170319</td>\n",
       "      <td>5.605694</td>\n",
       "      <td>0.577028</td>\n",
       "      <td>4.616223</td>\n",
       "      <td>0.198193</td>\n",
       "      <td>2.336445</td>\n",
       "      <td>0.228879</td>\n",
       "      <td>0.910361</td>\n",
       "      <td>0.844379</td>\n",
       "      <td>0.942256</td>\n",
       "      <td>1.057915</td>\n",
       "      <td>0.178231</td>\n",
       "      <td>0.021999</td>\n",
       "      <td>0.315052</td>\n",
       "      <td>0.686692</td>\n",
       "      <td>0.471601</td>\n",
       "      <td>0.631897</td>\n",
       "      <td>0.853617</td>\n",
       "      <td>0.767718</td>\n",
       "      <td>0.420703</td>\n",
       "      <td>0.612597</td>\n",
       "      <td>0.109937</td>\n",
       "      <td>0.165835</td>\n",
       "      <td>0.275772</td>\n",
       "      <td>93.935250</td>\n",
       "      <td>97.904657</td>\n",
       "      <td>100.803539</td>\n",
       "      <td>18.701857</td>\n",
       "      <td>0.657837</td>\n",
       "      <td>0.058666</td>\n",
       "      <td>0.022143</td>\n",
       "      <td>0.080809</td>\n",
       "      <td>0.400070</td>\n",
       "      <td>0.350581</td>\n",
       "      <td>0.249344</td>\n",
       "      <td>0.160343</td>\n",
       "      <td>0.516370</td>\n",
       "      <td>0.323288</td>\n",
       "      <td>0.348441</td>\n",
       "      <td>0.048917</td>\n",
       "      <td>101.155249</td>\n",
       "      <td>104.183282</td>\n",
       "      <td>99.624888</td>\n",
       "      <td>105.114046</td>\n",
       "      <td>112.046800</td>\n",
       "      <td>95.401578</td>\n",
       "      <td>91.516244</td>\n",
       "      <td>94.592398</td>\n",
       "      <td>98.109685</td>\n",
       "      <td>95.749409</td>\n",
       "      <td>102.504866</td>\n",
       "      <td>100.234408</td>\n",
       "      <td>98.227708</td>\n",
       "      <td>100.828543</td>\n",
       "      <td>91.915087</td>\n",
       "      <td>97.358800</td>\n",
       "      <td>101.421616</td>\n",
       "      <td>102.471307</td>\n",
       "      <td>99.600457</td>\n",
       "      <td>99.050459</td>\n",
       "      <td>88.794928</td>\n",
       "      <td>12.739219</td>\n",
       "      <td>10.098485</td>\n",
       "      <td>0.075299</td>\n",
       "      <td>110.747573</td>\n",
       "      <td>51.954545</td>\n",
       "      <td>0.386527</td>\n",
       "      <td>0.490708</td>\n",
       "      <td>93.789252</td>\n",
       "      <td>1.191407</td>\n",
       "      <td>0.046898</td>\n",
       "      <td>0.316199</td>\n",
       "      <td>93.804475</td>\n",
       "      <td>-3.049857</td>\n",
       "      <td>8.538348</td>\n",
       "      <td>0.341301</td>\n",
       "      <td>-0.492114</td>\n",
       "      <td>0.280705</td>\n",
       "      <td>0.656249</td>\n",
       "      <td>0.471739</td>\n",
       "      <td>0.567139</td>\n",
       "      <td>0.849067</td>\n",
       "      <td>0.766670</td>\n",
       "      <td>0.508058</td>\n",
       "      <td>4.352644</td>\n",
       "      <td>49.043690</td>\n",
       "      <td>47.193565</td>\n",
       "      <td>50.038939</td>\n",
       "      <td>51.801722</td>\n",
       "      <td>49.641852</td>\n",
       "      <td>52.340329</td>\n",
       "      <td>0.014855</td>\n",
       "      <td>91.620171</td>\n",
       "      <td>100.295878</td>\n",
       "      <td>95.513711</td>\n",
       "      <td>97.322259</td>\n",
       "      <td>100.039616</td>\n",
       "      <td>99.266676</td>\n",
       "      <td>6.148899</td>\n",
       "      <td>3.141829</td>\n",
       "      <td>7.092888</td>\n",
       "      <td>2.593418</td>\n",
       "      <td>14.951337</td>\n",
       "    </tr>\n",
       "    <tr>\n",
       "      <th>1</th>\n",
       "      <td>Setup/Closer Pitcher</td>\n",
       "      <td>33.696000</td>\n",
       "      <td>2.444000</td>\n",
       "      <td>44.592000</td>\n",
       "      <td>187.600000</td>\n",
       "      <td>2.744000</td>\n",
       "      <td>2.420000</td>\n",
       "      <td>0.012000</td>\n",
       "      <td>0.008000</td>\n",
       "      <td>3.452000</td>\n",
       "      <td>1.632000</td>\n",
       "      <td>5.728000</td>\n",
       "      <td>10.272000</td>\n",
       "      <td>4.944000</td>\n",
       "      <td>23.988000</td>\n",
       "      <td>3.814553</td>\n",
       "      <td>20.264000</td>\n",
       "      <td>18.332000</td>\n",
       "      <td>38.608000</td>\n",
       "      <td>5.120000</td>\n",
       "      <td>47.232000</td>\n",
       "      <td>16.256000</td>\n",
       "      <td>0.688000</td>\n",
       "      <td>2.168000</td>\n",
       "      <td>1.676000</td>\n",
       "      <td>0.240000</td>\n",
       "      <td>121.944000</td>\n",
       "      <td>52.880000</td>\n",
       "      <td>23.340000</td>\n",
       "      <td>44.344000</td>\n",
       "      <td>4.744000</td>\n",
       "      <td>1.296000</td>\n",
       "      <td>3.436000</td>\n",
       "      <td>0.376000</td>\n",
       "      <td>263.844000</td>\n",
       "      <td>475.616000</td>\n",
       "      <td>739.460000</td>\n",
       "      <td>21.536000</td>\n",
       "      <td>4.282318</td>\n",
       "      <td>0.248993</td>\n",
       "      <td>0.091403</td>\n",
       "      <td>0.157588</td>\n",
       "      <td>9.451366</td>\n",
       "      <td>3.511849</td>\n",
       "      <td>3.190222</td>\n",
       "      <td>7.866813</td>\n",
       "      <td>0.994359</td>\n",
       "      <td>0.226344</td>\n",
       "      <td>1.264296</td>\n",
       "      <td>0.283817</td>\n",
       "      <td>0.740574</td>\n",
       "      <td>0.437162</td>\n",
       "      <td>0.191322</td>\n",
       "      <td>0.371516</td>\n",
       "      <td>0.105187</td>\n",
       "      <td>1.366928</td>\n",
       "      <td>0.112234</td>\n",
       "      <td>0.068656</td>\n",
       "      <td>0.159067</td>\n",
       "      <td>3.920891</td>\n",
       "      <td>4.140936</td>\n",
       "      <td>3.932052</td>\n",
       "      <td>3.926347</td>\n",
       "      <td>4.327702</td>\n",
       "      <td>-0.106338</td>\n",
       "      <td>5.502175</td>\n",
       "      <td>0.555641</td>\n",
       "      <td>4.445128</td>\n",
       "      <td>0.375350</td>\n",
       "      <td>3.526146</td>\n",
       "      <td>0.354196</td>\n",
       "      <td>1.068079</td>\n",
       "      <td>0.971472</td>\n",
       "      <td>1.077630</td>\n",
       "      <td>1.194561</td>\n",
       "      <td>0.309619</td>\n",
       "      <td>-0.065922</td>\n",
       "      <td>0.323889</td>\n",
       "      <td>0.676734</td>\n",
       "      <td>0.472670</td>\n",
       "      <td>0.602716</td>\n",
       "      <td>0.842229</td>\n",
       "      <td>0.746558</td>\n",
       "      <td>0.420827</td>\n",
       "      <td>0.617146</td>\n",
       "      <td>0.119266</td>\n",
       "      <td>0.167445</td>\n",
       "      <td>0.286708</td>\n",
       "      <td>88.226535</td>\n",
       "      <td>90.645950</td>\n",
       "      <td>95.580623</td>\n",
       "      <td>18.970364</td>\n",
       "      <td>0.618593</td>\n",
       "      <td>0.083251</td>\n",
       "      <td>-0.020299</td>\n",
       "      <td>0.062952</td>\n",
       "      <td>0.400342</td>\n",
       "      <td>0.344868</td>\n",
       "      <td>0.254792</td>\n",
       "      <td>0.166225</td>\n",
       "      <td>0.525641</td>\n",
       "      <td>0.308140</td>\n",
       "      <td>0.366450</td>\n",
       "      <td>-0.004443</td>\n",
       "      <td>109.678847</td>\n",
       "      <td>106.360652</td>\n",
       "      <td>108.257317</td>\n",
       "      <td>106.256465</td>\n",
       "      <td>120.513826</td>\n",
       "      <td>92.144192</td>\n",
       "      <td>81.122790</td>\n",
       "      <td>92.042517</td>\n",
       "      <td>96.086671</td>\n",
       "      <td>96.106560</td>\n",
       "      <td>102.983534</td>\n",
       "      <td>102.763248</td>\n",
       "      <td>95.596035</td>\n",
       "      <td>99.222811</td>\n",
       "      <td>88.158052</td>\n",
       "      <td>97.419548</td>\n",
       "      <td>99.720989</td>\n",
       "      <td>104.729938</td>\n",
       "      <td>101.411943</td>\n",
       "      <td>94.391055</td>\n",
       "      <td>88.295508</td>\n",
       "      <td>12.694134</td>\n",
       "      <td>8.952000</td>\n",
       "      <td>0.071269</td>\n",
       "      <td>110.488871</td>\n",
       "      <td>46.008000</td>\n",
       "      <td>0.371844</td>\n",
       "      <td>0.479533</td>\n",
       "      <td>94.265081</td>\n",
       "      <td>1.156233</td>\n",
       "      <td>0.185391</td>\n",
       "      <td>0.353451</td>\n",
       "      <td>94.314112</td>\n",
       "      <td>-2.035451</td>\n",
       "      <td>8.788655</td>\n",
       "      <td>0.848741</td>\n",
       "      <td>-0.100793</td>\n",
       "      <td>0.291940</td>\n",
       "      <td>0.645968</td>\n",
       "      <td>0.472760</td>\n",
       "      <td>0.542035</td>\n",
       "      <td>0.836025</td>\n",
       "      <td>0.745417</td>\n",
       "      <td>0.508635</td>\n",
       "      <td>4.142120</td>\n",
       "      <td>51.729379</td>\n",
       "      <td>51.540736</td>\n",
       "      <td>50.557321</td>\n",
       "      <td>54.065119</td>\n",
       "      <td>53.719932</td>\n",
       "      <td>51.844344</td>\n",
       "      <td>-0.125495</td>\n",
       "      <td>96.806689</td>\n",
       "      <td>100.291682</td>\n",
       "      <td>97.570685</td>\n",
       "      <td>104.216436</td>\n",
       "      <td>99.725843</td>\n",
       "      <td>101.469350</td>\n",
       "      <td>2.918825</td>\n",
       "      <td>1.385499</td>\n",
       "      <td>4.992033</td>\n",
       "      <td>1.491197</td>\n",
       "      <td>16.533265</td>\n",
       "    </tr>\n",
       "    <tr>\n",
       "      <th>2</th>\n",
       "      <td>Starting Pitcher</td>\n",
       "      <td>17.843750</td>\n",
       "      <td>15.632812</td>\n",
       "      <td>89.857812</td>\n",
       "      <td>375.445312</td>\n",
       "      <td>5.585938</td>\n",
       "      <td>4.460938</td>\n",
       "      <td>0.179688</td>\n",
       "      <td>0.117188</td>\n",
       "      <td>0.070312</td>\n",
       "      <td>0.039062</td>\n",
       "      <td>0.210938</td>\n",
       "      <td>0.687500</td>\n",
       "      <td>0.289062</td>\n",
       "      <td>17.046875</td>\n",
       "      <td>3.990812</td>\n",
       "      <td>41.695312</td>\n",
       "      <td>39.156250</td>\n",
       "      <td>82.257812</td>\n",
       "      <td>11.945312</td>\n",
       "      <td>89.703125</td>\n",
       "      <td>27.320312</td>\n",
       "      <td>0.179688</td>\n",
       "      <td>3.382812</td>\n",
       "      <td>2.687500</td>\n",
       "      <td>0.367188</td>\n",
       "      <td>255.039062</td>\n",
       "      <td>105.906250</td>\n",
       "      <td>50.640625</td>\n",
       "      <td>96.304688</td>\n",
       "      <td>9.515625</td>\n",
       "      <td>1.945312</td>\n",
       "      <td>6.812500</td>\n",
       "      <td>0.796875</td>\n",
       "      <td>513.093750</td>\n",
       "      <td>953.734375</td>\n",
       "      <td>1466.828125</td>\n",
       "      <td>49.437500</td>\n",
       "      <td>4.975779</td>\n",
       "      <td>0.230297</td>\n",
       "      <td>0.076280</td>\n",
       "      <td>0.154023</td>\n",
       "      <td>8.619681</td>\n",
       "      <td>2.893417</td>\n",
       "      <td>3.472689</td>\n",
       "      <td>8.134085</td>\n",
       "      <td>1.222897</td>\n",
       "      <td>0.233481</td>\n",
       "      <td>1.225278</td>\n",
       "      <td>0.277017</td>\n",
       "      <td>0.748347</td>\n",
       "      <td>0.421044</td>\n",
       "      <td>0.189058</td>\n",
       "      <td>0.389898</td>\n",
       "      <td>0.105198</td>\n",
       "      <td>1.213136</td>\n",
       "      <td>0.125272</td>\n",
       "      <td>0.066339</td>\n",
       "      <td>0.298958</td>\n",
       "      <td>4.200411</td>\n",
       "      <td>4.244635</td>\n",
       "      <td>4.209110</td>\n",
       "      <td>4.142182</td>\n",
       "      <td>4.370475</td>\n",
       "      <td>-0.209599</td>\n",
       "      <td>14.069176</td>\n",
       "      <td>1.445211</td>\n",
       "      <td>11.561684</td>\n",
       "      <td>0.474927</td>\n",
       "      <td>4.906537</td>\n",
       "      <td>0.495160</td>\n",
       "      <td>0.900105</td>\n",
       "      <td>0.862486</td>\n",
       "      <td>0.852712</td>\n",
       "      <td>1.008976</td>\n",
       "      <td>0.446452</td>\n",
       "      <td>0.065467</td>\n",
       "      <td>0.330316</td>\n",
       "      <td>0.694824</td>\n",
       "      <td>0.484932</td>\n",
       "      <td>0.639042</td>\n",
       "      <td>0.852013</td>\n",
       "      <td>0.767165</td>\n",
       "      <td>0.423082</td>\n",
       "      <td>0.628452</td>\n",
       "      <td>0.112882</td>\n",
       "      <td>0.162538</td>\n",
       "      <td>0.275417</td>\n",
       "      <td>92.887173</td>\n",
       "      <td>97.649404</td>\n",
       "      <td>98.044953</td>\n",
       "      <td>18.496472</td>\n",
       "      <td>1.604198</td>\n",
       "      <td>0.134067</td>\n",
       "      <td>0.024920</td>\n",
       "      <td>0.158988</td>\n",
       "      <td>0.408925</td>\n",
       "      <td>0.342818</td>\n",
       "      <td>0.248254</td>\n",
       "      <td>0.155198</td>\n",
       "      <td>0.528018</td>\n",
       "      <td>0.316780</td>\n",
       "      <td>0.338797</td>\n",
       "      <td>0.181133</td>\n",
       "      <td>101.197923</td>\n",
       "      <td>88.768676</td>\n",
       "      <td>98.535772</td>\n",
       "      <td>87.548718</td>\n",
       "      <td>130.847458</td>\n",
       "      <td>95.400441</td>\n",
       "      <td>99.780801</td>\n",
       "      <td>95.045982</td>\n",
       "      <td>93.204101</td>\n",
       "      <td>93.861602</td>\n",
       "      <td>104.103889</td>\n",
       "      <td>99.060985</td>\n",
       "      <td>94.564922</td>\n",
       "      <td>103.816353</td>\n",
       "      <td>98.540236</td>\n",
       "      <td>99.517803</td>\n",
       "      <td>99.176320</td>\n",
       "      <td>101.964810</td>\n",
       "      <td>101.842630</td>\n",
       "      <td>97.076938</td>\n",
       "      <td>88.874218</td>\n",
       "      <td>13.435152</td>\n",
       "      <td>20.828125</td>\n",
       "      <td>0.080209</td>\n",
       "      <td>112.229156</td>\n",
       "      <td>99.953125</td>\n",
       "      <td>0.387127</td>\n",
       "      <td>0.481382</td>\n",
       "      <td>93.764234</td>\n",
       "      <td>1.729231</td>\n",
       "      <td>0.216869</td>\n",
       "      <td>0.368910</td>\n",
       "      <td>93.837435</td>\n",
       "      <td>-1.763785</td>\n",
       "      <td>9.112799</td>\n",
       "      <td>0.880836</td>\n",
       "      <td>-0.544650</td>\n",
       "      <td>0.300914</td>\n",
       "      <td>0.660456</td>\n",
       "      <td>0.485266</td>\n",
       "      <td>0.584638</td>\n",
       "      <td>0.848391</td>\n",
       "      <td>0.766530</td>\n",
       "      <td>0.510310</td>\n",
       "      <td>4.144663</td>\n",
       "      <td>53.928628</td>\n",
       "      <td>49.718664</td>\n",
       "      <td>54.857246</td>\n",
       "      <td>54.037785</td>\n",
       "      <td>49.192241</td>\n",
       "      <td>55.828356</td>\n",
       "      <td>-0.123800</td>\n",
       "      <td>95.018076</td>\n",
       "      <td>102.753788</td>\n",
       "      <td>99.099995</td>\n",
       "      <td>99.009919</td>\n",
       "      <td>101.914969</td>\n",
       "      <td>101.301874</td>\n",
       "      <td>9.127582</td>\n",
       "      <td>5.333993</td>\n",
       "      <td>0.553571</td>\n",
       "      <td>0.237723</td>\n",
       "      <td>18.943801</td>\n",
       "    </tr>\n",
       "  </tbody>\n",
       "</table>\n",
       "</div>"
      ],
      "text/plain": [
       "        classified_role          G         GS         IP         TBF  \\\n",
       "0       Middle Reliever  19.969697   5.492424  46.865909  198.818182   \n",
       "1  Setup/Closer Pitcher  33.696000   2.444000  44.592000  187.600000   \n",
       "2      Starting Pitcher  17.843750  15.632812  89.857812  375.445312   \n",
       "\n",
       "          W         L        CG       ShO        SV        BS       HLD  \\\n",
       "0  3.037879  2.575758  0.022727  0.007576  0.848485  0.621212  2.681818   \n",
       "1  2.744000  2.420000  0.012000  0.008000  3.452000  1.632000  5.728000   \n",
       "2  5.585938  4.460938  0.179688  0.117188  0.070312  0.039062  0.210938   \n",
       "\n",
       "          SD        MD      Pulls       ERA          R         ER          H  \\\n",
       "0   4.674242  2.462121  16.333333  4.072056  22.553030  21.045455  43.189394   \n",
       "1  10.272000  4.944000  23.988000  3.814553  20.264000  18.332000  38.608000   \n",
       "2   0.687500  0.289062  17.046875  3.990812  41.695312  39.156250  82.257812   \n",
       "\n",
       "          HR         SO         BB       IBB       HBP        WP        BK  \\\n",
       "0   5.848485  45.439394  16.734848  0.500000  2.219697  1.560606  0.196970   \n",
       "1   5.120000  47.232000  16.256000  0.688000  2.168000  1.676000  0.240000   \n",
       "2  11.945312  89.703125  27.320312  0.179688  3.382812  2.687500  0.367188   \n",
       "\n",
       "       Events          GB         LD         FB      IFFB        BU       IFH  \\\n",
       "0  134.424242   58.265152  26.257576  48.803030  4.871212  0.992424  3.522727   \n",
       "1  121.944000   52.880000  23.340000  44.344000  4.744000  1.296000  3.436000   \n",
       "2  255.039062  105.906250  50.640625  96.304688  9.515625  1.945312  6.812500   \n",
       "\n",
       "        BUH       Balls     Strikes      Pitches         RS  RS_per_9  \\\n",
       "0  0.333333  280.734848  495.681818   776.416667  27.151515  5.190210   \n",
       "1  0.376000  263.844000  475.616000   739.460000  21.536000  4.282318   \n",
       "2  0.796875  513.093750  953.734375  1466.828125  49.437500  4.975779   \n",
       "\n",
       "      K_pct    BB_pct  K_minus_BB_pct   K_per_9  BB_per_9   K_to_BB   H_per_9  \\\n",
       "0  0.229958  0.089537        0.140419  8.708535  3.474662  2.999405  8.137700   \n",
       "1  0.248993  0.091403        0.157588  9.451366  3.511849  3.190222  7.866813   \n",
       "2  0.230297  0.076280        0.154023  8.619681  2.893417  3.472689  8.134085   \n",
       "\n",
       "   HR_per_9       AVG      WHIP     BABIP   LOB_pct    GB_pct    LD_pct  \\\n",
       "0  1.121883  0.232446  1.290262  0.282607  0.736832  0.425883  0.196395   \n",
       "1  0.994359  0.226344  1.264296  0.283817  0.740574  0.437162  0.191322   \n",
       "2  1.222897  0.233481  1.225278  0.277017  0.748347  0.421044  0.189058   \n",
       "\n",
       "     FB_pct  IFFB_pct  GB_to_FB  HR_to_FB   IFH_pct   BUH_pct       FIP  \\\n",
       "0  0.377722  0.101063  1.280071  0.117068  0.052678  0.178012  4.242375   \n",
       "1  0.371516  0.105187  1.366928  0.112234  0.068656  0.159067  3.920891   \n",
       "2  0.389898  0.105198  1.213136  0.125272  0.066339  0.298958  4.200411   \n",
       "\n",
       "       xFIP     SIERA      tERA     kwERA  E_minus_F        RAR       WAR  \\\n",
       "0  4.366265  4.240895  4.311998  4.533750  -0.170319   5.605694  0.577028   \n",
       "1  4.140936  3.932052  3.926347  4.327702  -0.106338   5.502175  0.555641   \n",
       "2  4.244635  4.209110  4.142182  4.370475  -0.209599  14.069176  1.445211   \n",
       "\n",
       "     Dollars       WPA      RE24       REW       pLI      inLI      gmLI  \\\n",
       "0   4.616223  0.198193  2.336445  0.228879  0.910361  0.844379  0.942256   \n",
       "1   4.445128  0.375350  3.526146  0.354196  1.068079  0.971472  1.077630   \n",
       "2  11.561684  0.474927  4.906537  0.495160  0.900105  0.862486  0.852712   \n",
       "\n",
       "       exLI  WPA_to_LI    Clutch  OSwing_pct  ZSwing_pct  Swing_pct  \\\n",
       "0  1.057915   0.178231  0.021999    0.315052    0.686692   0.471601   \n",
       "1  1.194561   0.309619 -0.065922    0.323889    0.676734   0.472670   \n",
       "2  1.008976   0.446452  0.065467    0.330316    0.694824   0.484932   \n",
       "\n",
       "   OContact_pct  ZContact_pct  Contact_pct  Zone_pct  FStrike_pct  SwStr_pct  \\\n",
       "0      0.631897      0.853617     0.767718  0.420703     0.612597   0.109937   \n",
       "1      0.602716      0.842229     0.746558  0.420827     0.617146   0.119266   \n",
       "2      0.639042      0.852013     0.767165  0.423082     0.628452   0.112882   \n",
       "\n",
       "   CStr_pct   CSW_pct  ERA_minus  FIP_minus  xFIP_minus       Pace   RA9_WAR  \\\n",
       "0  0.165835  0.275772  93.935250  97.904657  100.803539  18.701857  0.657837   \n",
       "1  0.167445  0.286708  88.226535  90.645950   95.580623  18.970364  0.618593   \n",
       "2  0.162538  0.275417  92.887173  97.649404   98.044953  18.496472  1.604198   \n",
       "\n",
       "   BIP_Wins  LOB_Wins  FDP_Wins  Pull_pct  Cent_pct  Oppo_pct  Soft_pct  \\\n",
       "0  0.058666  0.022143  0.080809  0.400070  0.350581  0.249344  0.160343   \n",
       "1  0.083251 -0.020299  0.062952  0.400342  0.344868  0.254792  0.166225   \n",
       "2  0.134067  0.024920  0.158988  0.408925  0.342818  0.248254  0.155198   \n",
       "\n",
       "    Med_pct  Hard_pct   TTO_pct       FRM  K_pct_plus  BB_pct_plus  \\\n",
       "0  0.516370  0.323288  0.348441  0.048917  101.155249   104.183282   \n",
       "1  0.525641  0.308140  0.366450 -0.004443  109.678847   106.360652   \n",
       "2  0.528018  0.316780  0.338797  0.181133  101.197923    88.768676   \n",
       "\n",
       "   K_per_9_plus  BB_per_9_plus  K_to_BB_plus  H_per_9_plus  HR_per_9_plus  \\\n",
       "0     99.624888     105.114046    112.046800     95.401578      91.516244   \n",
       "1    108.257317     106.256465    120.513826     92.144192      81.122790   \n",
       "2     98.535772      87.548718    130.847458     95.400441      99.780801   \n",
       "\n",
       "    AVG_plus  WHIP_plus  BABIP_plus  LOB_pct_plus  GB_pct_plus  LD_pct_plus  \\\n",
       "0  94.592398  98.109685   95.749409    102.504866   100.234408    98.227708   \n",
       "1  92.042517  96.086671   96.106560    102.983534   102.763248    95.596035   \n",
       "2  95.045982  93.204101   93.861602    104.103889    99.060985    94.564922   \n",
       "\n",
       "   FB_pct_plus  HR_to_FB_pct_plus  Pull_pct_plus  Cent_pct_plus  \\\n",
       "0   100.828543          91.915087      97.358800     101.421616   \n",
       "1    99.222811          88.158052      97.419548      99.720989   \n",
       "2   103.816353          98.540236      99.517803      99.176320   \n",
       "\n",
       "   Oppo_pct_plus  Med_pct_plus  Hard_pct_plus         EV         LA  \\\n",
       "0     102.471307     99.600457      99.050459  88.794928  12.739219   \n",
       "1     104.729938    101.411943      94.391055  88.295508  12.694134   \n",
       "2     101.964810    101.842630      97.076938  88.874218  13.435152   \n",
       "\n",
       "     Barrels  Barrel_pct       maxEV    HardHit  HardHit_pct    FA_pct  \\\n",
       "0  10.098485    0.075299  110.747573  51.954545     0.386527  0.490708   \n",
       "1   8.952000    0.071269  110.488871  46.008000     0.371844  0.479533   \n",
       "2  20.828125    0.080209  112.229156  99.953125     0.387127  0.481382   \n",
       "\n",
       "         FAv       wFB  wFB_per_c  FA_pct_sc     vFA_sc   FA_X_sc   FA_Z_sc  \\\n",
       "0  93.789252  1.191407   0.046898   0.316199  93.804475 -3.049857  8.538348   \n",
       "1  94.265081  1.156233   0.185391   0.353451  94.314112 -2.035451  8.788655   \n",
       "2  93.764234  1.729231   0.216869   0.368910  93.837435 -1.763785  9.112799   \n",
       "\n",
       "     wFA_sc  wFA_per_c_sc  OSwing_pct_sc  ZSwing_pct_sc  Swing_pct_sc  \\\n",
       "0  0.341301     -0.492114       0.280705       0.656249      0.471739   \n",
       "1  0.848741     -0.100793       0.291940       0.645968      0.472760   \n",
       "2  0.880836     -0.544650       0.300914       0.660456      0.485266   \n",
       "\n",
       "   OContact_pct_sc  ZContact_pct_sc  Contact_pct_sc  Zone_pct_sc    botERA  \\\n",
       "0         0.567139         0.849067        0.766670     0.508058  4.352644   \n",
       "1         0.542035         0.836025        0.745417     0.508635  4.142120   \n",
       "2         0.584638         0.848391        0.766530     0.510310  4.144663   \n",
       "\n",
       "   botOvr_FA  botStf_FA  botCmd_FA     botOvr     botStf     botCmd  \\\n",
       "0  49.043690  47.193565  50.038939  51.801722  49.641852  52.340329   \n",
       "1  51.729379  51.540736  50.557321  54.065119  53.719932  51.844344   \n",
       "2  53.928628  49.718664  54.857246  54.037785  49.192241  55.828356   \n",
       "\n",
       "   botxRV100  Stf_plus_FA  Loc_plus_FA  Pit_plus_FA  Stuff_plus  \\\n",
       "0   0.014855    91.620171   100.295878    95.513711   97.322259   \n",
       "1  -0.125495    96.806689   100.291682    97.570685  104.216436   \n",
       "2  -0.123800    95.018076   102.753788    99.099995   99.009919   \n",
       "\n",
       "   Location_plus  Pitching_plus  average_batters_faced_per_appearance_SP  \\\n",
       "0     100.039616      99.266676                                 6.148899   \n",
       "1      99.725843     101.469350                                 2.918825   \n",
       "2     101.914969     101.301874                                 9.127582   \n",
       "\n",
       "   average_innings_pitched_per_appearance_SP  \\\n",
       "0                                   3.141829   \n",
       "1                                   1.385499   \n",
       "2                                   5.333993   \n",
       "\n",
       "   average_batters_faced_per_appearance_RP  \\\n",
       "0                                 7.092888   \n",
       "1                                 4.992033   \n",
       "2                                 0.553571   \n",
       "\n",
       "   average_innings_pitched_per_appearance_RP  z_total_score  \n",
       "0                                   2.593418      14.951337  \n",
       "1                                   1.491197      16.533265  \n",
       "2                                   0.237723      18.943801  "
      ]
     },
     "execution_count": 28,
     "metadata": {},
     "output_type": "execute_result"
    }
   ],
   "source": [
    "elite_mean_df.head()"
   ]
  },
  {
   "cell_type": "code",
   "execution_count": 29,
   "metadata": {},
   "outputs": [],
   "source": [
    "# for subotptimal players attach the column 'Suggested Role' and similarity score\n",
    "suboptimal_players = suboptimal_players.merge(suggested_roles_df[['PlayerId', 'Suggested Role', 'Similarity Score', 'Positive Stats Within One Std Dev of Elite Mean',\n",
    "       'Negative Stats Within One Std Dev of Elite Mean']], on='PlayerId')"
   ]
  },
  {
   "cell_type": "code",
   "execution_count": 30,
   "metadata": {},
   "outputs": [],
   "source": [
    "# select chosen players, Daniel Lynch IV, Chase Silseth, and Jovani Moran\n",
    "chosen_players = suboptimal_players[suboptimal_players['Name'].isin(['Daniel Lynch IV', 'Chase Silseth', 'Jovani Moran'])]\n",
    "\n",
    "# drop the duplicates\n",
    "chosen_players = chosen_players.drop_duplicates(subset='Name')\n",
    "\n",
    "# rename classified_role to 'Current Role'\n",
    "chosen_players.rename(columns={'classified_role': 'Current Role'}, inplace=True)\n",
    "\n",
    "# Save to Streamlit Dir\n",
    "chosen_players.to_csv(STREAMLIT_DIR / 'chosen_players.csv', index=False)"
   ]
  },
  {
   "cell_type": "code",
   "execution_count": 17,
   "metadata": {},
   "outputs": [],
   "source": [
    "import re\n",
    "\n",
    "def parse_stats_column(stats_str):\n",
    "    \"\"\"\n",
    "    Parses a string of stats and z-scores and returns a list of tuples with metric names and z-scores.\n",
    "    \n",
    "    :param stats_str: String containing stats and z-scores in the format 'metric (z-score: value)'\n",
    "    :return: List of tuples [(metric1, z_score1), (metric2, z_score2), ...]\n",
    "    \"\"\"\n",
    "    # Regular expression pattern to match the metric names and z-scores\n",
    "    pattern = r'(\\w+)\\s\\(z-score:\\s([-\\d.]+)\\)'\n",
    "    return re.findall(pattern, stats_str)"
   ]
  },
  {
   "cell_type": "code",
   "execution_count": 15,
   "metadata": {},
   "outputs": [],
   "source": [
    "import plotly.graph_objects as go\n",
    "\n",
    "def visualize_stats(stats_str, player_name):\n",
    "    \"\"\"\n",
    "    Visualizes the stats and z-scores using a bar chart.\n",
    "    \n",
    "    :param stats_str: String containing stats and z-scores in the format 'metric (z-score: value)'\n",
    "    :param player_name: Name of the player to be used in the chart title\n",
    "    \"\"\"\n",
    "    # Parse the stats string to get metrics and their z-scores\n",
    "    stats = parse_stats_column(stats_str)\n",
    "    metrics, z_scores = zip(*stats)  # Unpack the list of tuples\n",
    "    z_scores = [float(z) for z in z_scores]  # Convert string z-scores to float\n",
    "\n",
    "    # Create the bar chart\n",
    "    fig = go.Figure(data=[\n",
    "        go.Bar(\n",
    "            x=metrics,\n",
    "            y=z_scores,\n",
    "            marker_color=['blue' if z >= 0 else 'red' for z in z_scores]\n",
    "        )\n",
    "    ])\n",
    "\n",
    "    # Update chart layout\n",
    "    fig.update_layout(\n",
    "        title=f'{player_name} Stats Within One Std Dev of Elite Mean',\n",
    "        xaxis_title='Metrics',\n",
    "        yaxis_title='Z-Score',\n",
    "        yaxis=dict(range=[min(z_scores) - 0.1, max(z_scores) + 0.1])  # Set y-axis range\n",
    "    )\n",
    "\n",
    "    # Display the figure\n",
    "    fig.show()"
   ]
  },
  {
   "cell_type": "code",
   "execution_count": 18,
   "metadata": {},
   "outputs": [
    {
     "data": {
      "application/vnd.plotly.v1+json": {
       "config": {
        "plotlyServerURL": "https://plot.ly"
       },
       "data": [
        {
         "marker": {
          "color": [
           "red",
           "red",
           "red",
           "red",
           "red",
           "red",
           "blue",
           "blue",
           "blue",
           "red",
           "blue",
           "red"
          ]
         },
         "type": "bar",
         "x": [
          "GS",
          "CG",
          "ShO",
          "BS",
          "BB",
          "IFH",
          "IFH_pct",
          "Clutch",
          "FDP_Wins",
          "TTO_pct",
          "FA_Z_sc",
          "botStf_FA"
         ],
         "y": [
          -0.43,
          -0.16,
          -0.16,
          -0.96,
          -0.83,
          -0.91,
          0.39,
          0.46,
          0.09,
          -0.72,
          0.61,
          -0.83
         ]
        }
       ],
       "layout": {
        "template": {
         "data": {
          "candlestick": [
           {
            "decreasing": {
             "line": {
              "color": "#000033"
             }
            },
            "increasing": {
             "line": {
              "color": "#000032"
             }
            },
            "type": "candlestick"
           }
          ],
          "contour": [
           {
            "colorscale": [
             [
              0,
              "#000011"
             ],
             [
              0.1111111111111111,
              "#000012"
             ],
             [
              0.2222222222222222,
              "#000013"
             ],
             [
              0.3333333333333333,
              "#000014"
             ],
             [
              0.4444444444444444,
              "#000015"
             ],
             [
              0.5555555555555556,
              "#000016"
             ],
             [
              0.6666666666666666,
              "#000017"
             ],
             [
              0.7777777777777778,
              "#000018"
             ],
             [
              0.8888888888888888,
              "#000019"
             ],
             [
              1,
              "#000020"
             ]
            ],
            "type": "contour"
           }
          ],
          "contourcarpet": [
           {
            "colorscale": [
             [
              0,
              "#000011"
             ],
             [
              0.1111111111111111,
              "#000012"
             ],
             [
              0.2222222222222222,
              "#000013"
             ],
             [
              0.3333333333333333,
              "#000014"
             ],
             [
              0.4444444444444444,
              "#000015"
             ],
             [
              0.5555555555555556,
              "#000016"
             ],
             [
              0.6666666666666666,
              "#000017"
             ],
             [
              0.7777777777777778,
              "#000018"
             ],
             [
              0.8888888888888888,
              "#000019"
             ],
             [
              1,
              "#000020"
             ]
            ],
            "type": "contourcarpet"
           }
          ],
          "heatmap": [
           {
            "colorscale": [
             [
              0,
              "#000011"
             ],
             [
              0.1111111111111111,
              "#000012"
             ],
             [
              0.2222222222222222,
              "#000013"
             ],
             [
              0.3333333333333333,
              "#000014"
             ],
             [
              0.4444444444444444,
              "#000015"
             ],
             [
              0.5555555555555556,
              "#000016"
             ],
             [
              0.6666666666666666,
              "#000017"
             ],
             [
              0.7777777777777778,
              "#000018"
             ],
             [
              0.8888888888888888,
              "#000019"
             ],
             [
              1,
              "#000020"
             ]
            ],
            "type": "heatmap"
           }
          ],
          "histogram2d": [
           {
            "colorscale": [
             [
              0,
              "#000011"
             ],
             [
              0.1111111111111111,
              "#000012"
             ],
             [
              0.2222222222222222,
              "#000013"
             ],
             [
              0.3333333333333333,
              "#000014"
             ],
             [
              0.4444444444444444,
              "#000015"
             ],
             [
              0.5555555555555556,
              "#000016"
             ],
             [
              0.6666666666666666,
              "#000017"
             ],
             [
              0.7777777777777778,
              "#000018"
             ],
             [
              0.8888888888888888,
              "#000019"
             ],
             [
              1,
              "#000020"
             ]
            ],
            "type": "histogram2d"
           }
          ],
          "icicle": [
           {
            "textfont": {
             "color": "white"
            },
            "type": "icicle"
           }
          ],
          "sankey": [
           {
            "textfont": {
             "color": "#000036"
            },
            "type": "sankey"
           }
          ],
          "scatter": [
           {
            "marker": {
             "line": {
              "width": 0
             }
            },
            "type": "scatter"
           }
          ],
          "table": [
           {
            "cells": {
             "fill": {
              "color": "#000038"
             },
             "font": {
              "color": "#000037"
             },
             "line": {
              "color": "#000039"
             }
            },
            "header": {
             "fill": {
              "color": "#000040"
             },
             "font": {
              "color": "#000036"
             },
             "line": {
              "color": "#000039"
             }
            },
            "type": "table"
           }
          ],
          "waterfall": [
           {
            "connector": {
             "line": {
              "color": "#000036",
              "width": 2
             }
            },
            "decreasing": {
             "marker": {
              "color": "#000033"
             }
            },
            "increasing": {
             "marker": {
              "color": "#000032"
             }
            },
            "totals": {
             "marker": {
              "color": "#000034"
             }
            },
            "type": "waterfall"
           }
          ]
         },
         "layout": {
          "coloraxis": {
           "colorscale": [
            [
             0,
             "#000011"
            ],
            [
             0.1111111111111111,
             "#000012"
            ],
            [
             0.2222222222222222,
             "#000013"
            ],
            [
             0.3333333333333333,
             "#000014"
            ],
            [
             0.4444444444444444,
             "#000015"
            ],
            [
             0.5555555555555556,
             "#000016"
            ],
            [
             0.6666666666666666,
             "#000017"
            ],
            [
             0.7777777777777778,
             "#000018"
            ],
            [
             0.8888888888888888,
             "#000019"
            ],
            [
             1,
             "#000020"
            ]
           ]
          },
          "colorscale": {
           "diverging": [
            [
             0,
             "#000021"
            ],
            [
             0.1,
             "#000022"
            ],
            [
             0.2,
             "#000023"
            ],
            [
             0.3,
             "#000024"
            ],
            [
             0.4,
             "#000025"
            ],
            [
             0.5,
             "#000026"
            ],
            [
             0.6,
             "#000027"
            ],
            [
             0.7,
             "#000028"
            ],
            [
             0.8,
             "#000029"
            ],
            [
             0.9,
             "#000030"
            ],
            [
             1,
             "#000031"
            ]
           ],
           "sequential": [
            [
             0,
             "#000011"
            ],
            [
             0.1111111111111111,
             "#000012"
            ],
            [
             0.2222222222222222,
             "#000013"
            ],
            [
             0.3333333333333333,
             "#000014"
            ],
            [
             0.4444444444444444,
             "#000015"
            ],
            [
             0.5555555555555556,
             "#000016"
            ],
            [
             0.6666666666666666,
             "#000017"
            ],
            [
             0.7777777777777778,
             "#000018"
            ],
            [
             0.8888888888888888,
             "#000019"
            ],
            [
             1,
             "#000020"
            ]
           ],
           "sequentialminus": [
            [
             0,
             "#000011"
            ],
            [
             0.1111111111111111,
             "#000012"
            ],
            [
             0.2222222222222222,
             "#000013"
            ],
            [
             0.3333333333333333,
             "#000014"
            ],
            [
             0.4444444444444444,
             "#000015"
            ],
            [
             0.5555555555555556,
             "#000016"
            ],
            [
             0.6666666666666666,
             "#000017"
            ],
            [
             0.7777777777777778,
             "#000018"
            ],
            [
             0.8888888888888888,
             "#000019"
            ],
            [
             1,
             "#000020"
            ]
           ]
          },
          "colorway": [
           "#000001",
           "#000002",
           "#000003",
           "#000004",
           "#000005",
           "#000006",
           "#000007",
           "#000008",
           "#000009",
           "#000010"
          ]
         }
        },
        "title": {
         "text": "Silsseth Stats Within One Std Dev of Elite Mean"
        },
        "xaxis": {
         "title": {
          "text": "Metrics"
         }
        },
        "yaxis": {
         "range": [
          -1.06,
          0.71
         ],
         "title": {
          "text": "Z-Score"
         }
        }
       }
      }
     },
     "metadata": {},
     "output_type": "display_data"
    }
   ],
   "source": [
    "# Example stats string from the screenshot\n",
    "stats_str = chosen_players.iloc[0]['Stats Within One Std Dev of Elite Mean']\n",
    "\n",
    "# Call the visualization function for a player\n",
    "visualize_stats(stats_str, \"Silsseth\")"
   ]
  },
  {
   "cell_type": "code",
   "execution_count": null,
   "metadata": {},
   "outputs": [],
   "source": [
    "\n",
    "\"\"\"   #st.write(f\"**Explanation:** {row['Explanation']}\")\n",
    "    st.write(f\"**Positive Stats Within One Std Dev of the Suggested Roles Elite Mean:** {row['Positive Stats Within One Std Dev of Elite Mean']}\")\n",
    "    st.write(f\"**Negative Stats Within One Std Dev of Suggested Roles Elite Mean** {row['Negative Stats Within One Std Dev of Elite Mean']}\")\n",
    "\n",
    "    st.write('Metric Selection')\n",
    "    # Create a dropdown for metric selection\n",
    "    metric_dict_options = combined_metrics_2\n",
    "    unique_key = f\"metric_select_{row['PlayerId']}\"\n",
    "    selected_metric = st.selectbox('Select a metric:', list(metric_dict_options.keys()), key=unique_key)\n",
    "    st.write(f\"You selected: {selected_metric}\")\n",
    "    \"\"\""
   ]
  }
 ],
 "metadata": {
  "kernelspec": {
   "display_name": ".venv",
   "language": "python",
   "name": "python3"
  },
  "language_info": {
   "codemirror_mode": {
    "name": "ipython",
    "version": 3
   },
   "file_extension": ".py",
   "mimetype": "text/x-python",
   "name": "python",
   "nbconvert_exporter": "python",
   "pygments_lexer": "ipython3",
   "version": "3.11.4"
  }
 },
 "nbformat": 4,
 "nbformat_minor": 2
}
